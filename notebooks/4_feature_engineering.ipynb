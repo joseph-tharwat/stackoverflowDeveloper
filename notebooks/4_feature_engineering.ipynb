{
 "cells": [
  {
   "cell_type": "code",
   "execution_count": 131,
   "metadata": {},
   "outputs": [],
   "source": [
    "import numpy as np\n",
    "import pandas as pd\n",
    "from collections import Counter\n",
    "from sklearn.manifold import TSNE\n",
    "from sklearn.preprocessing import StandardScaler\n",
    "import seaborn as sns\n",
    "import matplotlib.pyplot as plt\n",
    "import plotly.express as px\n",
    "from sklearn.cluster import AgglomerativeClustering\n",
    "from sklearn.metrics import silhouette_score\n",
    "from sklearn.model_selection import train_test_split\n",
    "from sklearn.multioutput import MultiOutputClassifier\n",
    "from sklearn.linear_model import LogisticRegression"
   ]
  },
  {
   "cell_type": "code",
   "execution_count": 3,
   "metadata": {},
   "outputs": [],
   "source": [
    "#working in local machine\n",
    "Data_PATH = r\"..\\data\\processed\\onehot_2.pkl\"\n",
    "#working in codespace\n",
    "# Data_PATH = r\"/workspaces/stackoverflowDeveloper/data/processed/onehot_2.pkl\"\n",
    "\n",
    "EXPORT_PATH = r\"..\\data\\processed\\onehot_2.pkl\"\n",
    "\n",
    "TECH_COL = [\"MiscTechWorkedWith\", \"NEWCollabToolsWorkedWith\", \"DatabaseWorkedWith\", \"WebframeWorkedWith\", \"LanguageWorkedWith\", \"PlatformWorkedWith\"]\n",
    "JOB_COL = \"DevType\"\n",
    "COL_READ = TECH_COL +[JOB_COL]"
   ]
  },
  {
   "cell_type": "markdown",
   "metadata": {},
   "source": [
    "# Load the data"
   ]
  },
  {
   "cell_type": "code",
   "execution_count": 4,
   "metadata": {},
   "outputs": [
    {
     "data": {
      "text/html": [
       "<div>\n",
       "<style scoped>\n",
       "    .dataframe tbody tr th:only-of-type {\n",
       "        vertical-align: middle;\n",
       "    }\n",
       "\n",
       "    .dataframe tbody tr th {\n",
       "        vertical-align: top;\n",
       "    }\n",
       "\n",
       "    .dataframe thead tr th {\n",
       "        text-align: left;\n",
       "    }\n",
       "</style>\n",
       "<table border=\"1\" class=\"dataframe\">\n",
       "  <thead>\n",
       "    <tr>\n",
       "      <th></th>\n",
       "      <th colspan=\"10\" halign=\"left\">MiscTechWorkedWith</th>\n",
       "      <th>...</th>\n",
       "      <th colspan=\"10\" halign=\"left\">DevType</th>\n",
       "    </tr>\n",
       "    <tr>\n",
       "      <th></th>\n",
       "      <th>.NET</th>\n",
       "      <th>.NET Core</th>\n",
       "      <th>Ansible</th>\n",
       "      <th>Apache Spark</th>\n",
       "      <th>Chef</th>\n",
       "      <th>Cordova</th>\n",
       "      <th>Flutter</th>\n",
       "      <th>Hadoop</th>\n",
       "      <th>Keras</th>\n",
       "      <th>Node.js</th>\n",
       "      <th>...</th>\n",
       "      <th>Developer, mobile</th>\n",
       "      <th>Educator</th>\n",
       "      <th>Engineer, data</th>\n",
       "      <th>Engineer, site reliability</th>\n",
       "      <th>Engineering manager</th>\n",
       "      <th>Marketing or sales professional</th>\n",
       "      <th>Product manager</th>\n",
       "      <th>Scientist</th>\n",
       "      <th>Senior executive/VP</th>\n",
       "      <th>System administrator</th>\n",
       "    </tr>\n",
       "  </thead>\n",
       "  <tbody>\n",
       "    <tr>\n",
       "      <th>0</th>\n",
       "      <td>1</td>\n",
       "      <td>1</td>\n",
       "      <td>0</td>\n",
       "      <td>0</td>\n",
       "      <td>0</td>\n",
       "      <td>0</td>\n",
       "      <td>0</td>\n",
       "      <td>0</td>\n",
       "      <td>0</td>\n",
       "      <td>0</td>\n",
       "      <td>...</td>\n",
       "      <td>0</td>\n",
       "      <td>0</td>\n",
       "      <td>0</td>\n",
       "      <td>0</td>\n",
       "      <td>0</td>\n",
       "      <td>0</td>\n",
       "      <td>0</td>\n",
       "      <td>0</td>\n",
       "      <td>0</td>\n",
       "      <td>0</td>\n",
       "    </tr>\n",
       "    <tr>\n",
       "      <th>1</th>\n",
       "      <td>0</td>\n",
       "      <td>0</td>\n",
       "      <td>0</td>\n",
       "      <td>0</td>\n",
       "      <td>0</td>\n",
       "      <td>0</td>\n",
       "      <td>0</td>\n",
       "      <td>0</td>\n",
       "      <td>0</td>\n",
       "      <td>0</td>\n",
       "      <td>...</td>\n",
       "      <td>1</td>\n",
       "      <td>0</td>\n",
       "      <td>0</td>\n",
       "      <td>0</td>\n",
       "      <td>0</td>\n",
       "      <td>0</td>\n",
       "      <td>0</td>\n",
       "      <td>0</td>\n",
       "      <td>0</td>\n",
       "      <td>0</td>\n",
       "    </tr>\n",
       "    <tr>\n",
       "      <th>2</th>\n",
       "      <td>0</td>\n",
       "      <td>0</td>\n",
       "      <td>0</td>\n",
       "      <td>0</td>\n",
       "      <td>0</td>\n",
       "      <td>0</td>\n",
       "      <td>0</td>\n",
       "      <td>0</td>\n",
       "      <td>0</td>\n",
       "      <td>0</td>\n",
       "      <td>...</td>\n",
       "      <td>0</td>\n",
       "      <td>0</td>\n",
       "      <td>0</td>\n",
       "      <td>0</td>\n",
       "      <td>0</td>\n",
       "      <td>0</td>\n",
       "      <td>0</td>\n",
       "      <td>0</td>\n",
       "      <td>0</td>\n",
       "      <td>0</td>\n",
       "    </tr>\n",
       "    <tr>\n",
       "      <th>3</th>\n",
       "      <td>0</td>\n",
       "      <td>0</td>\n",
       "      <td>0</td>\n",
       "      <td>0</td>\n",
       "      <td>0</td>\n",
       "      <td>0</td>\n",
       "      <td>0</td>\n",
       "      <td>0</td>\n",
       "      <td>0</td>\n",
       "      <td>0</td>\n",
       "      <td>...</td>\n",
       "      <td>0</td>\n",
       "      <td>0</td>\n",
       "      <td>0</td>\n",
       "      <td>0</td>\n",
       "      <td>0</td>\n",
       "      <td>0</td>\n",
       "      <td>0</td>\n",
       "      <td>0</td>\n",
       "      <td>0</td>\n",
       "      <td>0</td>\n",
       "    </tr>\n",
       "    <tr>\n",
       "      <th>4</th>\n",
       "      <td>0</td>\n",
       "      <td>0</td>\n",
       "      <td>1</td>\n",
       "      <td>0</td>\n",
       "      <td>0</td>\n",
       "      <td>0</td>\n",
       "      <td>0</td>\n",
       "      <td>0</td>\n",
       "      <td>0</td>\n",
       "      <td>0</td>\n",
       "      <td>...</td>\n",
       "      <td>0</td>\n",
       "      <td>0</td>\n",
       "      <td>0</td>\n",
       "      <td>0</td>\n",
       "      <td>0</td>\n",
       "      <td>0</td>\n",
       "      <td>0</td>\n",
       "      <td>0</td>\n",
       "      <td>0</td>\n",
       "      <td>0</td>\n",
       "    </tr>\n",
       "  </tbody>\n",
       "</table>\n",
       "<p>5 rows × 124 columns</p>\n",
       "</div>"
      ],
      "text/plain": [
       "  MiscTechWorkedWith                                                      \\\n",
       "                .NET .NET Core Ansible Apache Spark Chef Cordova Flutter   \n",
       "0                  1         1       0            0    0       0       0   \n",
       "1                  0         0       0            0    0       0       0   \n",
       "2                  0         0       0            0    0       0       0   \n",
       "3                  0         0       0            0    0       0       0   \n",
       "4                  0         0       1            0    0       0       0   \n",
       "\n",
       "                        ...           DevType                          \\\n",
       "  Hadoop Keras Node.js  ... Developer, mobile Educator Engineer, data   \n",
       "0      0     0       0  ...                 0        0              0   \n",
       "1      0     0       0  ...                 1        0              0   \n",
       "2      0     0       0  ...                 0        0              0   \n",
       "3      0     0       0  ...                 0        0              0   \n",
       "4      0     0       0  ...                 0        0              0   \n",
       "\n",
       "                                                  \\\n",
       "  Engineer, site reliability Engineering manager   \n",
       "0                          0                   0   \n",
       "1                          0                   0   \n",
       "2                          0                   0   \n",
       "3                          0                   0   \n",
       "4                          0                   0   \n",
       "\n",
       "                                                             \\\n",
       "  Marketing or sales professional Product manager Scientist   \n",
       "0                               0               0         0   \n",
       "1                               0               0         0   \n",
       "2                               0               0         0   \n",
       "3                               0               0         0   \n",
       "4                               0               0         0   \n",
       "\n",
       "                                            \n",
       "  Senior executive/VP System administrator  \n",
       "0                   0                    0  \n",
       "1                   0                    0  \n",
       "2                   0                    0  \n",
       "3                   0                    0  \n",
       "4                   0                    0  \n",
       "\n",
       "[5 rows x 124 columns]"
      ]
     },
     "execution_count": 4,
     "metadata": {},
     "output_type": "execute_result"
    }
   ],
   "source": [
    "df = pd.read_pickle(Data_PATH)\n",
    "df.head()"
   ]
  },
  {
   "cell_type": "code",
   "execution_count": 5,
   "metadata": {},
   "outputs": [
    {
     "data": {
      "text/plain": [
       "['.NET',\n",
       " '.NET Core',\n",
       " 'Ansible',\n",
       " 'Apache Spark',\n",
       " 'Chef',\n",
       " 'Cordova',\n",
       " 'Flutter',\n",
       " 'Hadoop',\n",
       " 'Keras',\n",
       " 'Node.js']"
      ]
     },
     "execution_count": 5,
     "metadata": {},
     "output_type": "execute_result"
    }
   ],
   "source": [
    "def get_skills_names(dataFrame):\n",
    "    #Make a skills list \n",
    "    skills = []\n",
    "    job_mask = dataFrame[(\"DevType\", \"Educator\")]==1  #Educator or any job as all jobs has the same columns\n",
    "    for tech_col in TECH_COL:\n",
    "        skills = skills + list(dataFrame.loc[job_mask][tech_col].columns)\n",
    "\n",
    "    return skills\n",
    "\n",
    "skills = get_skills_names(df)\n",
    "skills[:10]"
   ]
  },
  {
   "cell_type": "code",
   "execution_count": 6,
   "metadata": {},
   "outputs": [
    {
     "data": {
      "text/plain": [
       "['Academic researcher',\n",
       " 'Data or business analyst',\n",
       " 'Data scientist or machine learning specialist',\n",
       " 'Database administrator',\n",
       " 'Designer',\n",
       " 'DevOps specialist',\n",
       " 'Developer, QA or test',\n",
       " 'Developer, back-end',\n",
       " 'Developer, desktop or enterprise applications',\n",
       " 'Developer, embedded applications or devices']"
      ]
     },
     "execution_count": 6,
     "metadata": {},
     "output_type": "execute_result"
    }
   ],
   "source": [
    "jobs = list(df[\"DevType\"].columns)\n",
    "jobs[:10]"
   ]
  },
  {
   "cell_type": "code",
   "execution_count": 7,
   "metadata": {},
   "outputs": [
    {
     "data": {
      "text/plain": [
       "array([[ 1.88612836,  2.23463294, -0.21918963, ...,  1.11994429,\n",
       "        -0.36706528, -0.33665307],\n",
       "       [-0.53018661, -0.44750079, -0.21918963, ..., -0.89290155,\n",
       "        -0.36706528,  2.97041698],\n",
       "       [-0.53018661, -0.44750079, -0.21918963, ..., -0.89290155,\n",
       "        -0.36706528, -0.33665307],\n",
       "       ...,\n",
       "       [-0.53018661, -0.44750079, -0.21918963, ..., -0.89290155,\n",
       "        -0.36706528, -0.33665307],\n",
       "       [-0.53018661, -0.44750079, -0.21918963, ...,  1.11994429,\n",
       "        -0.36706528, -0.33665307],\n",
       "       [ 1.88612836,  2.23463294, -0.21918963, ...,  1.11994429,\n",
       "        -0.36706528, -0.33665307]])"
      ]
     },
     "execution_count": 7,
     "metadata": {},
     "output_type": "execute_result"
    }
   ],
   "source": [
    "df_skills = df.copy().drop(\"DevType\",axis=1)\n",
    "df_skills_scaled = StandardScaler().fit_transform(df_skills)\n",
    "df_skills_scaled"
   ]
  },
  {
   "cell_type": "code",
   "execution_count": 8,
   "metadata": {},
   "outputs": [
    {
     "data": {
      "text/plain": [
       "(64461, 101)"
      ]
     },
     "execution_count": 8,
     "metadata": {},
     "output_type": "execute_result"
    }
   ],
   "source": [
    "df_skills_scaled.shape"
   ]
  },
  {
   "cell_type": "markdown",
   "metadata": {},
   "source": [
    "# Use TSNE to visualize the data in 2d dimentions"
   ]
  },
  {
   "cell_type": "code",
   "execution_count": 9,
   "metadata": {},
   "outputs": [
    {
     "name": "stderr",
     "output_type": "stream",
     "text": [
      "c:\\Users\\jotha\\AppData\\Local\\Programs\\Python\\Python310\\lib\\site-packages\\joblib\\externals\\loky\\backend\\context.py:110: UserWarning: Could not find the number of physical cores for the following reason:\n",
      "[WinError 2] The system cannot find the file specified\n",
      "Returning the number of logical cores instead. You can silence this warning by setting LOKY_MAX_CPU_COUNT to the number of cores you want to use.\n",
      "  warnings.warn(\n",
      "  File \"c:\\Users\\jotha\\AppData\\Local\\Programs\\Python\\Python310\\lib\\site-packages\\joblib\\externals\\loky\\backend\\context.py\", line 199, in _count_physical_cores\n",
      "    cpu_info = subprocess.run(\n",
      "  File \"c:\\Users\\jotha\\AppData\\Local\\Programs\\Python\\Python310\\lib\\subprocess.py\", line 501, in run\n",
      "    with Popen(*popenargs, **kwargs) as process:\n",
      "  File \"c:\\Users\\jotha\\AppData\\Local\\Programs\\Python\\Python310\\lib\\subprocess.py\", line 969, in __init__\n",
      "    self._execute_child(args, executable, preexec_fn, close_fds,\n",
      "  File \"c:\\Users\\jotha\\AppData\\Local\\Programs\\Python\\Python310\\lib\\subprocess.py\", line 1438, in _execute_child\n",
      "    hp, ht, pid, tid = _winapi.CreateProcess(executable, args,\n"
     ]
    }
   ],
   "source": [
    "tsne = TSNE(n_components=2,\n",
    "            perplexity=3,\n",
    "            max_iter=10**10,\n",
    "            init=\"pca\",\n",
    "            learning_rate=0.01\n",
    "            )\n",
    "skills_tsne = tsne.fit_transform(df_skills_scaled.T)"
   ]
  },
  {
   "cell_type": "code",
   "execution_count": 10,
   "metadata": {},
   "outputs": [
    {
     "data": {
      "text/plain": [
       "(101, 2)"
      ]
     },
     "execution_count": 10,
     "metadata": {},
     "output_type": "execute_result"
    }
   ],
   "source": [
    "skills_tsne.shape"
   ]
  },
  {
   "cell_type": "code",
   "execution_count": 11,
   "metadata": {},
   "outputs": [
    {
     "data": {
      "text/html": [
       "<div>\n",
       "<style scoped>\n",
       "    .dataframe tbody tr th:only-of-type {\n",
       "        vertical-align: middle;\n",
       "    }\n",
       "\n",
       "    .dataframe tbody tr th {\n",
       "        vertical-align: top;\n",
       "    }\n",
       "\n",
       "    .dataframe thead th {\n",
       "        text-align: right;\n",
       "    }\n",
       "</style>\n",
       "<table border=\"1\" class=\"dataframe\">\n",
       "  <thead>\n",
       "    <tr style=\"text-align: right;\">\n",
       "      <th></th>\n",
       "      <th></th>\n",
       "      <th>x</th>\n",
       "      <th>y</th>\n",
       "    </tr>\n",
       "  </thead>\n",
       "  <tbody>\n",
       "    <tr>\n",
       "      <th rowspan=\"5\" valign=\"top\">MiscTechWorkedWith</th>\n",
       "      <th>.NET</th>\n",
       "      <td>-30.289360</td>\n",
       "      <td>4.617982</td>\n",
       "    </tr>\n",
       "    <tr>\n",
       "      <th>.NET Core</th>\n",
       "      <td>-33.536396</td>\n",
       "      <td>5.491649</td>\n",
       "    </tr>\n",
       "    <tr>\n",
       "      <th>Ansible</th>\n",
       "      <td>22.410908</td>\n",
       "      <td>5.028698</td>\n",
       "    </tr>\n",
       "    <tr>\n",
       "      <th>Apache Spark</th>\n",
       "      <td>24.061340</td>\n",
       "      <td>21.274773</td>\n",
       "    </tr>\n",
       "    <tr>\n",
       "      <th>Chef</th>\n",
       "      <td>26.616177</td>\n",
       "      <td>4.337327</td>\n",
       "    </tr>\n",
       "  </tbody>\n",
       "</table>\n",
       "</div>"
      ],
      "text/plain": [
       "                                         x          y\n",
       "MiscTechWorkedWith .NET         -30.289360   4.617982\n",
       "                   .NET Core    -33.536396   5.491649\n",
       "                   Ansible       22.410908   5.028698\n",
       "                   Apache Spark  24.061340  21.274773\n",
       "                   Chef          26.616177   4.337327"
      ]
     },
     "execution_count": 11,
     "metadata": {},
     "output_type": "execute_result"
    }
   ],
   "source": [
    "df_skills_tsne = pd.DataFrame(skills_tsne, index=df_skills.columns, columns=[\"x\",\"y\"])\n",
    "df_skills_tsne.head()"
   ]
  },
  {
   "cell_type": "code",
   "execution_count": 12,
   "metadata": {},
   "outputs": [
    {
     "data": {
      "application/vnd.plotly.v1+json": {
       "config": {
        "plotlyServerURL": "https://plot.ly"
       },
       "data": [
        {
         "hovertemplate": "x=%{x}<br>y=%{y}<br>text=%{text}<extra></extra>",
         "legendgroup": "",
         "marker": {
          "color": "#636efa",
          "symbol": "circle"
         },
         "mode": "markers+text",
         "name": "",
         "orientation": "v",
         "showlegend": false,
         "text": [
          ".NET",
          ".NET Core",
          "Ansible",
          "Apache Spark",
          "Chef",
          "Cordova",
          "Flutter",
          "Hadoop",
          "Keras",
          "Node.js",
          "Pandas",
          "Puppet",
          "React Native",
          "TensorFlow",
          "Teraform",
          "Torch/PyTorch",
          "Unity 3D",
          "Unreal Engine",
          "Xamarin",
          "Confluence",
          "Facebook Workplace",
          "Github",
          "Gitlab",
          "Google Suite (Docs, Meet, etc)",
          "Jira",
          "Microsoft Azure",
          "Microsoft Teams",
          "Slack",
          "Stack Overflow for Teams",
          "Trello",
          "Cassandra",
          "Couchbase",
          "DynamoDB",
          "Elasticsearch",
          "Firebase",
          "IBM DB2",
          "MariaDB",
          "Microsoft SQL Server",
          "MongoDB",
          "MySQL",
          "Oracle",
          "PostgreSQL",
          "Redis",
          "SQLite",
          "ASP.NET",
          "ASP.NET Core",
          "Angular",
          "Angular.js",
          "Django",
          "Drupal",
          "Express",
          "Flask",
          "Gatsby",
          "Laravel",
          "React.js",
          "Ruby on Rails",
          "Spring",
          "Symfony",
          "Vue.js",
          "jQuery",
          "Assembly",
          "Bash/Shell/PowerShell",
          "C",
          "C#",
          "C++",
          "Dart",
          "Go",
          "HTML/CSS",
          "Haskell",
          "Java",
          "JavaScript",
          "Julia",
          "Kotlin",
          "Objective-C",
          "PHP",
          "Perl",
          "Python",
          "R",
          "Ruby",
          "Rust",
          "SQL",
          "Scala",
          "Swift",
          "TypeScript",
          "VBA",
          "AWS",
          "Android",
          "Arduino",
          "Docker",
          "Google Cloud Platform",
          "Heroku",
          "IBM Cloud or Watson",
          "Kubernetes",
          "Linux",
          "MacOS",
          "Microsoft Azure",
          "Raspberry Pi",
          "Slack Apps and Integrations",
          "Windows",
          "WordPress",
          "iOS"
         ],
         "type": "scatter",
         "x": [
          -30.28936,
          -33.536396,
          22.410908,
          24.06134,
          26.616177,
          -9.428252,
          -5.0396395,
          23.942755,
          10.413033,
          -4.137024,
          9.030968,
          27.113096,
          -3.7807915,
          11.09225,
          21.234348,
          12.439589,
          -21.681845,
          -21.193716,
          -32.874874,
          15.582692,
          19.250362,
          15.222935,
          11.556369,
          17.228275,
          15.751676,
          -39.707275,
          -40.625328,
          16.587925,
          18.629835,
          15.864551,
          24.232216,
          24.318932,
          18.147018,
          19.80183,
          2.2962868,
          -7.6023364,
          -19.422335,
          -28.919691,
          -5.2811174,
          -17.667477,
          -5.2479763,
          15.428301,
          19.032522,
          0.08084784,
          -30.910023,
          -33.949387,
          -10.613535,
          -12.063812,
          4.7001038,
          -18.431005,
          -3.9347813,
          5.592581,
          -1.3885262,
          -15.950086,
          -3.2157595,
          30.671146,
          -3.3480127,
          -17.21507,
          -13.531643,
          -12.675868,
          -0.07661588,
          10.147281,
          -1.5025989,
          -30.53707,
          -2.2132974,
          -5.6185546,
          16.045677,
          -13.16716,
          9.333456,
          -3.996272,
          -12.537596,
          9.400366,
          -0.60737437,
          3.6267717,
          -17.606464,
          8.951873,
          6.303303,
          9.272876,
          30.60232,
          9.490092,
          -14.799252,
          24.214573,
          3.7426589,
          -10.1638155,
          -27.556889,
          17.89494,
          0.76122516,
          -6.3775687,
          16.6267,
          3.9951043,
          -2.5067084,
          -7.9658923,
          17.352943,
          11.127226,
          6.6924596,
          -39.28546,
          -6.8379498,
          18.696798,
          -28.30156,
          -19.539284,
          4.1116595
         ],
         "xaxis": "x",
         "y": [
          4.6179824,
          5.4916487,
          5.0286984,
          21.274773,
          4.3373265,
          -15.683529,
          -7.4345584,
          21.967901,
          29.874125,
          -27.814442,
          28.51206,
          4.8567605,
          -24.495962,
          29.728142,
          5.021335,
          30.306917,
          15.9250965,
          16.327301,
          7.512862,
          -5.7581434,
          -21.498629,
          -9.96272,
          6.2990994,
          -11.184822,
          -6.4504743,
          2.2272046,
          0.9598856,
          -10.021953,
          -21.666725,
          -12.572113,
          17.703358,
          16.136019,
          1.2535902,
          9.669034,
          -5.1823545,
          5.893605,
          -32.364857,
          2.619302,
          -29.733559,
          -33.29096,
          2.816603,
          4.855267,
          8.760228,
          -8.082036,
          3.3783698,
          4.749544,
          -17.897593,
          -17.440659,
          28.925554,
          -37.96875,
          -28.781563,
          30.159397,
          -25.812624,
          -34.40055,
          -25.887651,
          -5.5649676,
          1.6820611,
          -36.65476,
          -33.8971,
          -28.665855,
          17.830795,
          9.383034,
          17.720877,
          5.5656505,
          17.65487,
          -7.2380395,
          8.232125,
          -26.588797,
          20.520111,
          1.6562638,
          -27.07221,
          23.179344,
          -5.41524,
          -12.098284,
          -34.381565,
          10.456487,
          29.055595,
          26.515194,
          -4.9585514,
          19.639917,
          -25.548903,
          19.792477,
          -10.9430275,
          -18.661493,
          1.7221338,
          2.1163816,
          -6.57903,
          20.20995,
          6.203163,
          -3.5278153,
          -30.048641,
          6.596216,
          6.4755077,
          8.269999,
          -9.645639,
          2.8260188,
          20.65002,
          -8.954699,
          5.8964934,
          -35.14946,
          -10.1309595
         ],
         "yaxis": "y"
        }
       ],
       "layout": {
        "height": 1000,
        "legend": {
         "tracegroupgap": 0
        },
        "margin": {
         "t": 60
        },
        "template": {
         "data": {
          "bar": [
           {
            "error_x": {
             "color": "#2a3f5f"
            },
            "error_y": {
             "color": "#2a3f5f"
            },
            "marker": {
             "line": {
              "color": "#E5ECF6",
              "width": 0.5
             },
             "pattern": {
              "fillmode": "overlay",
              "size": 10,
              "solidity": 0.2
             }
            },
            "type": "bar"
           }
          ],
          "barpolar": [
           {
            "marker": {
             "line": {
              "color": "#E5ECF6",
              "width": 0.5
             },
             "pattern": {
              "fillmode": "overlay",
              "size": 10,
              "solidity": 0.2
             }
            },
            "type": "barpolar"
           }
          ],
          "carpet": [
           {
            "aaxis": {
             "endlinecolor": "#2a3f5f",
             "gridcolor": "white",
             "linecolor": "white",
             "minorgridcolor": "white",
             "startlinecolor": "#2a3f5f"
            },
            "baxis": {
             "endlinecolor": "#2a3f5f",
             "gridcolor": "white",
             "linecolor": "white",
             "minorgridcolor": "white",
             "startlinecolor": "#2a3f5f"
            },
            "type": "carpet"
           }
          ],
          "choropleth": [
           {
            "colorbar": {
             "outlinewidth": 0,
             "ticks": ""
            },
            "type": "choropleth"
           }
          ],
          "contour": [
           {
            "colorbar": {
             "outlinewidth": 0,
             "ticks": ""
            },
            "colorscale": [
             [
              0,
              "#0d0887"
             ],
             [
              0.1111111111111111,
              "#46039f"
             ],
             [
              0.2222222222222222,
              "#7201a8"
             ],
             [
              0.3333333333333333,
              "#9c179e"
             ],
             [
              0.4444444444444444,
              "#bd3786"
             ],
             [
              0.5555555555555556,
              "#d8576b"
             ],
             [
              0.6666666666666666,
              "#ed7953"
             ],
             [
              0.7777777777777778,
              "#fb9f3a"
             ],
             [
              0.8888888888888888,
              "#fdca26"
             ],
             [
              1,
              "#f0f921"
             ]
            ],
            "type": "contour"
           }
          ],
          "contourcarpet": [
           {
            "colorbar": {
             "outlinewidth": 0,
             "ticks": ""
            },
            "type": "contourcarpet"
           }
          ],
          "heatmap": [
           {
            "colorbar": {
             "outlinewidth": 0,
             "ticks": ""
            },
            "colorscale": [
             [
              0,
              "#0d0887"
             ],
             [
              0.1111111111111111,
              "#46039f"
             ],
             [
              0.2222222222222222,
              "#7201a8"
             ],
             [
              0.3333333333333333,
              "#9c179e"
             ],
             [
              0.4444444444444444,
              "#bd3786"
             ],
             [
              0.5555555555555556,
              "#d8576b"
             ],
             [
              0.6666666666666666,
              "#ed7953"
             ],
             [
              0.7777777777777778,
              "#fb9f3a"
             ],
             [
              0.8888888888888888,
              "#fdca26"
             ],
             [
              1,
              "#f0f921"
             ]
            ],
            "type": "heatmap"
           }
          ],
          "heatmapgl": [
           {
            "colorbar": {
             "outlinewidth": 0,
             "ticks": ""
            },
            "colorscale": [
             [
              0,
              "#0d0887"
             ],
             [
              0.1111111111111111,
              "#46039f"
             ],
             [
              0.2222222222222222,
              "#7201a8"
             ],
             [
              0.3333333333333333,
              "#9c179e"
             ],
             [
              0.4444444444444444,
              "#bd3786"
             ],
             [
              0.5555555555555556,
              "#d8576b"
             ],
             [
              0.6666666666666666,
              "#ed7953"
             ],
             [
              0.7777777777777778,
              "#fb9f3a"
             ],
             [
              0.8888888888888888,
              "#fdca26"
             ],
             [
              1,
              "#f0f921"
             ]
            ],
            "type": "heatmapgl"
           }
          ],
          "histogram": [
           {
            "marker": {
             "pattern": {
              "fillmode": "overlay",
              "size": 10,
              "solidity": 0.2
             }
            },
            "type": "histogram"
           }
          ],
          "histogram2d": [
           {
            "colorbar": {
             "outlinewidth": 0,
             "ticks": ""
            },
            "colorscale": [
             [
              0,
              "#0d0887"
             ],
             [
              0.1111111111111111,
              "#46039f"
             ],
             [
              0.2222222222222222,
              "#7201a8"
             ],
             [
              0.3333333333333333,
              "#9c179e"
             ],
             [
              0.4444444444444444,
              "#bd3786"
             ],
             [
              0.5555555555555556,
              "#d8576b"
             ],
             [
              0.6666666666666666,
              "#ed7953"
             ],
             [
              0.7777777777777778,
              "#fb9f3a"
             ],
             [
              0.8888888888888888,
              "#fdca26"
             ],
             [
              1,
              "#f0f921"
             ]
            ],
            "type": "histogram2d"
           }
          ],
          "histogram2dcontour": [
           {
            "colorbar": {
             "outlinewidth": 0,
             "ticks": ""
            },
            "colorscale": [
             [
              0,
              "#0d0887"
             ],
             [
              0.1111111111111111,
              "#46039f"
             ],
             [
              0.2222222222222222,
              "#7201a8"
             ],
             [
              0.3333333333333333,
              "#9c179e"
             ],
             [
              0.4444444444444444,
              "#bd3786"
             ],
             [
              0.5555555555555556,
              "#d8576b"
             ],
             [
              0.6666666666666666,
              "#ed7953"
             ],
             [
              0.7777777777777778,
              "#fb9f3a"
             ],
             [
              0.8888888888888888,
              "#fdca26"
             ],
             [
              1,
              "#f0f921"
             ]
            ],
            "type": "histogram2dcontour"
           }
          ],
          "mesh3d": [
           {
            "colorbar": {
             "outlinewidth": 0,
             "ticks": ""
            },
            "type": "mesh3d"
           }
          ],
          "parcoords": [
           {
            "line": {
             "colorbar": {
              "outlinewidth": 0,
              "ticks": ""
             }
            },
            "type": "parcoords"
           }
          ],
          "pie": [
           {
            "automargin": true,
            "type": "pie"
           }
          ],
          "scatter": [
           {
            "fillpattern": {
             "fillmode": "overlay",
             "size": 10,
             "solidity": 0.2
            },
            "type": "scatter"
           }
          ],
          "scatter3d": [
           {
            "line": {
             "colorbar": {
              "outlinewidth": 0,
              "ticks": ""
             }
            },
            "marker": {
             "colorbar": {
              "outlinewidth": 0,
              "ticks": ""
             }
            },
            "type": "scatter3d"
           }
          ],
          "scattercarpet": [
           {
            "marker": {
             "colorbar": {
              "outlinewidth": 0,
              "ticks": ""
             }
            },
            "type": "scattercarpet"
           }
          ],
          "scattergeo": [
           {
            "marker": {
             "colorbar": {
              "outlinewidth": 0,
              "ticks": ""
             }
            },
            "type": "scattergeo"
           }
          ],
          "scattergl": [
           {
            "marker": {
             "colorbar": {
              "outlinewidth": 0,
              "ticks": ""
             }
            },
            "type": "scattergl"
           }
          ],
          "scattermapbox": [
           {
            "marker": {
             "colorbar": {
              "outlinewidth": 0,
              "ticks": ""
             }
            },
            "type": "scattermapbox"
           }
          ],
          "scatterpolar": [
           {
            "marker": {
             "colorbar": {
              "outlinewidth": 0,
              "ticks": ""
             }
            },
            "type": "scatterpolar"
           }
          ],
          "scatterpolargl": [
           {
            "marker": {
             "colorbar": {
              "outlinewidth": 0,
              "ticks": ""
             }
            },
            "type": "scatterpolargl"
           }
          ],
          "scatterternary": [
           {
            "marker": {
             "colorbar": {
              "outlinewidth": 0,
              "ticks": ""
             }
            },
            "type": "scatterternary"
           }
          ],
          "surface": [
           {
            "colorbar": {
             "outlinewidth": 0,
             "ticks": ""
            },
            "colorscale": [
             [
              0,
              "#0d0887"
             ],
             [
              0.1111111111111111,
              "#46039f"
             ],
             [
              0.2222222222222222,
              "#7201a8"
             ],
             [
              0.3333333333333333,
              "#9c179e"
             ],
             [
              0.4444444444444444,
              "#bd3786"
             ],
             [
              0.5555555555555556,
              "#d8576b"
             ],
             [
              0.6666666666666666,
              "#ed7953"
             ],
             [
              0.7777777777777778,
              "#fb9f3a"
             ],
             [
              0.8888888888888888,
              "#fdca26"
             ],
             [
              1,
              "#f0f921"
             ]
            ],
            "type": "surface"
           }
          ],
          "table": [
           {
            "cells": {
             "fill": {
              "color": "#EBF0F8"
             },
             "line": {
              "color": "white"
             }
            },
            "header": {
             "fill": {
              "color": "#C8D4E3"
             },
             "line": {
              "color": "white"
             }
            },
            "type": "table"
           }
          ]
         },
         "layout": {
          "annotationdefaults": {
           "arrowcolor": "#2a3f5f",
           "arrowhead": 0,
           "arrowwidth": 1
          },
          "autotypenumbers": "strict",
          "coloraxis": {
           "colorbar": {
            "outlinewidth": 0,
            "ticks": ""
           }
          },
          "colorscale": {
           "diverging": [
            [
             0,
             "#8e0152"
            ],
            [
             0.1,
             "#c51b7d"
            ],
            [
             0.2,
             "#de77ae"
            ],
            [
             0.3,
             "#f1b6da"
            ],
            [
             0.4,
             "#fde0ef"
            ],
            [
             0.5,
             "#f7f7f7"
            ],
            [
             0.6,
             "#e6f5d0"
            ],
            [
             0.7,
             "#b8e186"
            ],
            [
             0.8,
             "#7fbc41"
            ],
            [
             0.9,
             "#4d9221"
            ],
            [
             1,
             "#276419"
            ]
           ],
           "sequential": [
            [
             0,
             "#0d0887"
            ],
            [
             0.1111111111111111,
             "#46039f"
            ],
            [
             0.2222222222222222,
             "#7201a8"
            ],
            [
             0.3333333333333333,
             "#9c179e"
            ],
            [
             0.4444444444444444,
             "#bd3786"
            ],
            [
             0.5555555555555556,
             "#d8576b"
            ],
            [
             0.6666666666666666,
             "#ed7953"
            ],
            [
             0.7777777777777778,
             "#fb9f3a"
            ],
            [
             0.8888888888888888,
             "#fdca26"
            ],
            [
             1,
             "#f0f921"
            ]
           ],
           "sequentialminus": [
            [
             0,
             "#0d0887"
            ],
            [
             0.1111111111111111,
             "#46039f"
            ],
            [
             0.2222222222222222,
             "#7201a8"
            ],
            [
             0.3333333333333333,
             "#9c179e"
            ],
            [
             0.4444444444444444,
             "#bd3786"
            ],
            [
             0.5555555555555556,
             "#d8576b"
            ],
            [
             0.6666666666666666,
             "#ed7953"
            ],
            [
             0.7777777777777778,
             "#fb9f3a"
            ],
            [
             0.8888888888888888,
             "#fdca26"
            ],
            [
             1,
             "#f0f921"
            ]
           ]
          },
          "colorway": [
           "#636efa",
           "#EF553B",
           "#00cc96",
           "#ab63fa",
           "#FFA15A",
           "#19d3f3",
           "#FF6692",
           "#B6E880",
           "#FF97FF",
           "#FECB52"
          ],
          "font": {
           "color": "#2a3f5f"
          },
          "geo": {
           "bgcolor": "white",
           "lakecolor": "white",
           "landcolor": "#E5ECF6",
           "showlakes": true,
           "showland": true,
           "subunitcolor": "white"
          },
          "hoverlabel": {
           "align": "left"
          },
          "hovermode": "closest",
          "mapbox": {
           "style": "light"
          },
          "paper_bgcolor": "white",
          "plot_bgcolor": "#E5ECF6",
          "polar": {
           "angularaxis": {
            "gridcolor": "white",
            "linecolor": "white",
            "ticks": ""
           },
           "bgcolor": "#E5ECF6",
           "radialaxis": {
            "gridcolor": "white",
            "linecolor": "white",
            "ticks": ""
           }
          },
          "scene": {
           "xaxis": {
            "backgroundcolor": "#E5ECF6",
            "gridcolor": "white",
            "gridwidth": 2,
            "linecolor": "white",
            "showbackground": true,
            "ticks": "",
            "zerolinecolor": "white"
           },
           "yaxis": {
            "backgroundcolor": "#E5ECF6",
            "gridcolor": "white",
            "gridwidth": 2,
            "linecolor": "white",
            "showbackground": true,
            "ticks": "",
            "zerolinecolor": "white"
           },
           "zaxis": {
            "backgroundcolor": "#E5ECF6",
            "gridcolor": "white",
            "gridwidth": 2,
            "linecolor": "white",
            "showbackground": true,
            "ticks": "",
            "zerolinecolor": "white"
           }
          },
          "shapedefaults": {
           "line": {
            "color": "#2a3f5f"
           }
          },
          "ternary": {
           "aaxis": {
            "gridcolor": "white",
            "linecolor": "white",
            "ticks": ""
           },
           "baxis": {
            "gridcolor": "white",
            "linecolor": "white",
            "ticks": ""
           },
           "bgcolor": "#E5ECF6",
           "caxis": {
            "gridcolor": "white",
            "linecolor": "white",
            "ticks": ""
           }
          },
          "title": {
           "x": 0.05
          },
          "xaxis": {
           "automargin": true,
           "gridcolor": "white",
           "linecolor": "white",
           "ticks": "",
           "title": {
            "standoff": 15
           },
           "zerolinecolor": "white",
           "zerolinewidth": 2
          },
          "yaxis": {
           "automargin": true,
           "gridcolor": "white",
           "linecolor": "white",
           "ticks": "",
           "title": {
            "standoff": 15
           },
           "zerolinecolor": "white",
           "zerolinewidth": 2
          }
         }
        },
        "title": {
         "text": "skills in 2 dimentions"
        },
        "width": 1000,
        "xaxis": {
         "anchor": "y",
         "domain": [
          0,
          1
         ],
         "title": {
          "text": "x"
         }
        },
        "yaxis": {
         "anchor": "x",
         "domain": [
          0,
          1
         ],
         "title": {
          "text": "y"
         }
        }
       }
      }
     },
     "metadata": {},
     "output_type": "display_data"
    }
   ],
   "source": [
    "# sns.scatterplot(x=df_skills_tsne[\"x\"], y=df_skills_tsne[\"y\"], hue=df_skills_tsne.droplevel(0).index)\n",
    "fig = px.scatter(data_frame=df_skills_tsne, x=\"x\", y=\"y\",text=df_skills_tsne.droplevel(0).index)\n",
    "fig.update_layout(title=\"skills in 2 dimentions\",\n",
    "                  width=1000,\n",
    "                  height=1000)"
   ]
  },
  {
   "cell_type": "markdown",
   "metadata": {},
   "source": [
    "# Feature(dimention) reduction...clustering"
   ]
  },
  {
   "cell_type": "code",
   "execution_count": 24,
   "metadata": {},
   "outputs": [
    {
     "name": "stdout",
     "output_type": "stream",
     "text": [
      "max score:  0.6557936\n",
      "best n_cluster  24\n"
     ]
    }
   ],
   "source": [
    "max_score = 0\n",
    "best_model = None\n",
    "best_n_clusters = 0\n",
    "scores = []\n",
    "for k in range(2,30):\n",
    "    cluster_model = AgglomerativeClustering(n_clusters=k)\n",
    "    clusters_labels = cluster_model.fit_predict(df_skills_tsne)\n",
    "    \n",
    "    score = silhouette_score(df_skills_tsne, clusters_labels)\n",
    "    scores.append(score)\n",
    "\n",
    "    if(np.max(scores) > max_score):\n",
    "        best_model = cluster_model\n",
    "        best_n_clusters = k\n",
    "        max_score = np.max(scores)\n",
    "         \n",
    "\n",
    "print(\"max score: \", max_score)\n",
    "print(\"best n_cluster \", best_n_clusters)"
   ]
  },
  {
   "cell_type": "code",
   "execution_count": 27,
   "metadata": {},
   "outputs": [
    {
     "data": {
      "image/png": "[encoded data removed]",
      "text/plain": [
       "<Figure size 640x480 with 1 Axes>"
      ]
     },
     "metadata": {},
     "output_type": "display_data"
    }
   ],
   "source": [
    "plt.plot(range(2,30), scores)\n",
    "plt.xlabel(\"n_clusters\")\n",
    "plt.ylabel(\"silhouette score\")\n",
    "plt.title(\"silhouette score vs n_cluster\")\n",
    "plt.show()"
   ]
  },
  {
   "cell_type": "code",
   "execution_count": 31,
   "metadata": {},
   "outputs": [
    {
     "data": {
      "application/vnd.plotly.v1+json": {
       "config": {
        "plotlyServerURL": "https://plot.ly"
       },
       "data": [
        {
         "hovertemplate": "x=%{x}<br>y=%{y}<br>text=%{text}<br>color=%{marker.color}<extra></extra>",
         "legendgroup": "",
         "marker": {
          "color": [
           0,
           0,
           3,
           18,
           3,
           13,
           20,
           18,
           4,
           5,
           4,
           3,
           5,
           4,
           3,
           4,
           21,
           21,
           0,
           2,
           14,
           2,
           6,
           2,
           2,
           15,
           15,
           2,
           14,
           2,
           18,
           18,
           22,
           8,
           12,
           1,
           7,
           0,
           5,
           7,
           1,
           8,
           8,
           12,
           0,
           0,
           13,
           13,
           10,
           7,
           5,
           10,
           5,
           7,
           5,
           23,
           1,
           7,
           7,
           16,
           19,
           6,
           19,
           0,
           19,
           20,
           8,
           16,
           17,
           1,
           16,
           17,
           12,
           9,
           7,
           6,
           10,
           4,
           23,
           17,
           16,
           18,
           9,
           13,
           0,
           22,
           12,
           11,
           8,
           12,
           5,
           1,
           8,
           6,
           9,
           15,
           11,
           2,
           0,
           7,
           9
          ],
          "coloraxis": "coloraxis",
          "symbol": "circle"
         },
         "mode": "markers+text",
         "name": "",
         "orientation": "v",
         "showlegend": false,
         "text": [
          ".NET",
          ".NET Core",
          "Ansible",
          "Apache Spark",
          "Chef",
          "Cordova",
          "Flutter",
          "Hadoop",
          "Keras",
          "Node.js",
          "Pandas",
          "Puppet",
          "React Native",
          "TensorFlow",
          "Teraform",
          "Torch/PyTorch",
          "Unity 3D",
          "Unreal Engine",
          "Xamarin",
          "Confluence",
          "Facebook Workplace",
          "Github",
          "Gitlab",
          "Google Suite (Docs, Meet, etc)",
          "Jira",
          "Microsoft Azure",
          "Microsoft Teams",
          "Slack",
          "Stack Overflow for Teams",
          "Trello",
          "Cassandra",
          "Couchbase",
          "DynamoDB",
          "Elasticsearch",
          "Firebase",
          "IBM DB2",
          "MariaDB",
          "Microsoft SQL Server",
          "MongoDB",
          "MySQL",
          "Oracle",
          "PostgreSQL",
          "Redis",
          "SQLite",
          "ASP.NET",
          "ASP.NET Core",
          "Angular",
          "Angular.js",
          "Django",
          "Drupal",
          "Express",
          "Flask",
          "Gatsby",
          "Laravel",
          "React.js",
          "Ruby on Rails",
          "Spring",
          "Symfony",
          "Vue.js",
          "jQuery",
          "Assembly",
          "Bash/Shell/PowerShell",
          "C",
          "C#",
          "C++",
          "Dart",
          "Go",
          "HTML/CSS",
          "Haskell",
          "Java",
          "JavaScript",
          "Julia",
          "Kotlin",
          "Objective-C",
          "PHP",
          "Perl",
          "Python",
          "R",
          "Ruby",
          "Rust",
          "SQL",
          "Scala",
          "Swift",
          "TypeScript",
          "VBA",
          "AWS",
          "Android",
          "Arduino",
          "Docker",
          "Google Cloud Platform",
          "Heroku",
          "IBM Cloud or Watson",
          "Kubernetes",
          "Linux",
          "MacOS",
          "Microsoft Azure",
          "Raspberry Pi",
          "Slack Apps and Integrations",
          "Windows",
          "WordPress",
          "iOS"
         ],
         "type": "scatter",
         "x": [
          -30.28936,
          -33.536396,
          22.410908,
          24.06134,
          26.616177,
          -9.428252,
          -5.0396395,
          23.942755,
          10.413033,
          -4.137024,
          9.030968,
          27.113096,
          -3.7807915,
          11.09225,
          21.234348,
          12.439589,
          -21.681845,
          -21.193716,
          -32.874874,
          15.582692,
          19.250362,
          15.222935,
          11.556369,
          17.228275,
          15.751676,
          -39.707275,
          -40.625328,
          16.587925,
          18.629835,
          15.864551,
          24.232216,
          24.318932,
          18.147018,
          19.80183,
          2.2962868,
          -7.6023364,
          -19.422335,
          -28.919691,
          -5.2811174,
          -17.667477,
          -5.2479763,
          15.428301,
          19.032522,
          0.08084784,
          -30.910023,
          -33.949387,
          -10.613535,
          -12.063812,
          4.7001038,
          -18.431005,
          -3.9347813,
          5.592581,
          -1.3885262,
          -15.950086,
          -3.2157595,
          30.671146,
          -3.3480127,
          -17.21507,
          -13.531643,
          -12.675868,
          -0.07661588,
          10.147281,
          -1.5025989,
          -30.53707,
          -2.2132974,
          -5.6185546,
          16.045677,
          -13.16716,
          9.333456,
          -3.996272,
          -12.537596,
          9.400366,
          -0.60737437,
          3.6267717,
          -17.606464,
          8.951873,
          6.303303,
          9.272876,
          30.60232,
          9.490092,
          -14.799252,
          24.214573,
          3.7426589,
          -10.1638155,
          -27.556889,
          17.89494,
          0.76122516,
          -6.3775687,
          16.6267,
          3.9951043,
          -2.5067084,
          -7.9658923,
          17.352943,
          11.127226,
          6.6924596,
          -39.28546,
          -6.8379498,
          18.696798,
          -28.30156,
          -19.539284,
          4.1116595
         ],
         "xaxis": "x",
         "y": [
          4.6179824,
          5.4916487,
          5.0286984,
          21.274773,
          4.3373265,
          -15.683529,
          -7.4345584,
          21.967901,
          29.874125,
          -27.814442,
          28.51206,
          4.8567605,
          -24.495962,
          29.728142,
          5.021335,
          30.306917,
          15.9250965,
          16.327301,
          7.512862,
          -5.7581434,
          -21.498629,
          -9.96272,
          6.2990994,
          -11.184822,
          -6.4504743,
          2.2272046,
          0.9598856,
          -10.021953,
          -21.666725,
          -12.572113,
          17.703358,
          16.136019,
          1.2535902,
          9.669034,
          -5.1823545,
          5.893605,
          -32.364857,
          2.619302,
          -29.733559,
          -33.29096,
          2.816603,
          4.855267,
          8.760228,
          -8.082036,
          3.3783698,
          4.749544,
          -17.897593,
          -17.440659,
          28.925554,
          -37.96875,
          -28.781563,
          30.159397,
          -25.812624,
          -34.40055,
          -25.887651,
          -5.5649676,
          1.6820611,
          -36.65476,
          -33.8971,
          -28.665855,
          17.830795,
          9.383034,
          17.720877,
          5.5656505,
          17.65487,
          -7.2380395,
          8.232125,
          -26.588797,
          20.520111,
          1.6562638,
          -27.07221,
          23.179344,
          -5.41524,
          -12.098284,
          -34.381565,
          10.456487,
          29.055595,
          26.515194,
          -4.9585514,
          19.639917,
          -25.548903,
          19.792477,
          -10.9430275,
          -18.661493,
          1.7221338,
          2.1163816,
          -6.57903,
          20.20995,
          6.203163,
          -3.5278153,
          -30.048641,
          6.596216,
          6.4755077,
          8.269999,
          -9.645639,
          2.8260188,
          20.65002,
          -8.954699,
          5.8964934,
          -35.14946,
          -10.1309595
         ],
         "yaxis": "y"
        }
       ],
       "layout": {
        "coloraxis": {
         "colorbar": {
          "title": {
           "text": "color"
          }
         },
         "colorscale": [
          [
           0,
           "#0d0887"
          ],
          [
           0.1111111111111111,
           "#46039f"
          ],
          [
           0.2222222222222222,
           "#7201a8"
          ],
          [
           0.3333333333333333,
           "#9c179e"
          ],
          [
           0.4444444444444444,
           "#bd3786"
          ],
          [
           0.5555555555555556,
           "#d8576b"
          ],
          [
           0.6666666666666666,
           "#ed7953"
          ],
          [
           0.7777777777777778,
           "#fb9f3a"
          ],
          [
           0.8888888888888888,
           "#fdca26"
          ],
          [
           1,
           "#f0f921"
          ]
         ]
        },
        "height": 1000,
        "legend": {
         "tracegroupgap": 0
        },
        "margin": {
         "t": 60
        },
        "template": {
         "data": {
          "bar": [
           {
            "error_x": {
             "color": "#2a3f5f"
            },
            "error_y": {
             "color": "#2a3f5f"
            },
            "marker": {
             "line": {
              "color": "#E5ECF6",
              "width": 0.5
             },
             "pattern": {
              "fillmode": "overlay",
              "size": 10,
              "solidity": 0.2
             }
            },
            "type": "bar"
           }
          ],
          "barpolar": [
           {
            "marker": {
             "line": {
              "color": "#E5ECF6",
              "width": 0.5
             },
             "pattern": {
              "fillmode": "overlay",
              "size": 10,
              "solidity": 0.2
             }
            },
            "type": "barpolar"
           }
          ],
          "carpet": [
           {
            "aaxis": {
             "endlinecolor": "#2a3f5f",
             "gridcolor": "white",
             "linecolor": "white",
             "minorgridcolor": "white",
             "startlinecolor": "#2a3f5f"
            },
            "baxis": {
             "endlinecolor": "#2a3f5f",
             "gridcolor": "white",
             "linecolor": "white",
             "minorgridcolor": "white",
             "startlinecolor": "#2a3f5f"
            },
            "type": "carpet"
           }
          ],
          "choropleth": [
           {
            "colorbar": {
             "outlinewidth": 0,
             "ticks": ""
            },
            "type": "choropleth"
           }
          ],
          "contour": [
           {
            "colorbar": {
             "outlinewidth": 0,
             "ticks": ""
            },
            "colorscale": [
             [
              0,
              "#0d0887"
             ],
             [
              0.1111111111111111,
              "#46039f"
             ],
             [
              0.2222222222222222,
              "#7201a8"
             ],
             [
              0.3333333333333333,
              "#9c179e"
             ],
             [
              0.4444444444444444,
              "#bd3786"
             ],
             [
              0.5555555555555556,
              "#d8576b"
             ],
             [
              0.6666666666666666,
              "#ed7953"
             ],
             [
              0.7777777777777778,
              "#fb9f3a"
             ],
             [
              0.8888888888888888,
              "#fdca26"
             ],
             [
              1,
              "#f0f921"
             ]
            ],
            "type": "contour"
           }
          ],
          "contourcarpet": [
           {
            "colorbar": {
             "outlinewidth": 0,
             "ticks": ""
            },
            "type": "contourcarpet"
           }
          ],
          "heatmap": [
           {
            "colorbar": {
             "outlinewidth": 0,
             "ticks": ""
            },
            "colorscale": [
             [
              0,
              "#0d0887"
             ],
             [
              0.1111111111111111,
              "#46039f"
             ],
             [
              0.2222222222222222,
              "#7201a8"
             ],
             [
              0.3333333333333333,
              "#9c179e"
             ],
             [
              0.4444444444444444,
              "#bd3786"
             ],
             [
              0.5555555555555556,
              "#d8576b"
             ],
             [
              0.6666666666666666,
              "#ed7953"
             ],
             [
              0.7777777777777778,
              "#fb9f3a"
             ],
             [
              0.8888888888888888,
              "#fdca26"
             ],
             [
              1,
              "#f0f921"
             ]
            ],
            "type": "heatmap"
           }
          ],
          "heatmapgl": [
           {
            "colorbar": {
             "outlinewidth": 0,
             "ticks": ""
            },
            "colorscale": [
             [
              0,
              "#0d0887"
             ],
             [
              0.1111111111111111,
              "#46039f"
             ],
             [
              0.2222222222222222,
              "#7201a8"
             ],
             [
              0.3333333333333333,
              "#9c179e"
             ],
             [
              0.4444444444444444,
              "#bd3786"
             ],
             [
              0.5555555555555556,
              "#d8576b"
             ],
             [
              0.6666666666666666,
              "#ed7953"
             ],
             [
              0.7777777777777778,
              "#fb9f3a"
             ],
             [
              0.8888888888888888,
              "#fdca26"
             ],
             [
              1,
              "#f0f921"
             ]
            ],
            "type": "heatmapgl"
           }
          ],
          "histogram": [
           {
            "marker": {
             "pattern": {
              "fillmode": "overlay",
              "size": 10,
              "solidity": 0.2
             }
            },
            "type": "histogram"
           }
          ],
          "histogram2d": [
           {
            "colorbar": {
             "outlinewidth": 0,
             "ticks": ""
            },
            "colorscale": [
             [
              0,
              "#0d0887"
             ],
             [
              0.1111111111111111,
              "#46039f"
             ],
             [
              0.2222222222222222,
              "#7201a8"
             ],
             [
              0.3333333333333333,
              "#9c179e"
             ],
             [
              0.4444444444444444,
              "#bd3786"
             ],
             [
              0.5555555555555556,
              "#d8576b"
             ],
             [
              0.6666666666666666,
              "#ed7953"
             ],
             [
              0.7777777777777778,
              "#fb9f3a"
             ],
             [
              0.8888888888888888,
              "#fdca26"
             ],
             [
              1,
              "#f0f921"
             ]
            ],
            "type": "histogram2d"
           }
          ],
          "histogram2dcontour": [
           {
            "colorbar": {
             "outlinewidth": 0,
             "ticks": ""
            },
            "colorscale": [
             [
              0,
              "#0d0887"
             ],
             [
              0.1111111111111111,
              "#46039f"
             ],
             [
              0.2222222222222222,
              "#7201a8"
             ],
             [
              0.3333333333333333,
              "#9c179e"
             ],
             [
              0.4444444444444444,
              "#bd3786"
             ],
             [
              0.5555555555555556,
              "#d8576b"
             ],
             [
              0.6666666666666666,
              "#ed7953"
             ],
             [
              0.7777777777777778,
              "#fb9f3a"
             ],
             [
              0.8888888888888888,
              "#fdca26"
             ],
             [
              1,
              "#f0f921"
             ]
            ],
            "type": "histogram2dcontour"
           }
          ],
          "mesh3d": [
           {
            "colorbar": {
             "outlinewidth": 0,
             "ticks": ""
            },
            "type": "mesh3d"
           }
          ],
          "parcoords": [
           {
            "line": {
             "colorbar": {
              "outlinewidth": 0,
              "ticks": ""
             }
            },
            "type": "parcoords"
           }
          ],
          "pie": [
           {
            "automargin": true,
            "type": "pie"
           }
          ],
          "scatter": [
           {
            "fillpattern": {
             "fillmode": "overlay",
             "size": 10,
             "solidity": 0.2
            },
            "type": "scatter"
           }
          ],
          "scatter3d": [
           {
            "line": {
             "colorbar": {
              "outlinewidth": 0,
              "ticks": ""
             }
            },
            "marker": {
             "colorbar": {
              "outlinewidth": 0,
              "ticks": ""
             }
            },
            "type": "scatter3d"
           }
          ],
          "scattercarpet": [
           {
            "marker": {
             "colorbar": {
              "outlinewidth": 0,
              "ticks": ""
             }
            },
            "type": "scattercarpet"
           }
          ],
          "scattergeo": [
           {
            "marker": {
             "colorbar": {
              "outlinewidth": 0,
              "ticks": ""
             }
            },
            "type": "scattergeo"
           }
          ],
          "scattergl": [
           {
            "marker": {
             "colorbar": {
              "outlinewidth": 0,
              "ticks": ""
             }
            },
            "type": "scattergl"
           }
          ],
          "scattermapbox": [
           {
            "marker": {
             "colorbar": {
              "outlinewidth": 0,
              "ticks": ""
             }
            },
            "type": "scattermapbox"
           }
          ],
          "scatterpolar": [
           {
            "marker": {
             "colorbar": {
              "outlinewidth": 0,
              "ticks": ""
             }
            },
            "type": "scatterpolar"
           }
          ],
          "scatterpolargl": [
           {
            "marker": {
             "colorbar": {
              "outlinewidth": 0,
              "ticks": ""
             }
            },
            "type": "scatterpolargl"
           }
          ],
          "scatterternary": [
           {
            "marker": {
             "colorbar": {
              "outlinewidth": 0,
              "ticks": ""
             }
            },
            "type": "scatterternary"
           }
          ],
          "surface": [
           {
            "colorbar": {
             "outlinewidth": 0,
             "ticks": ""
            },
            "colorscale": [
             [
              0,
              "#0d0887"
             ],
             [
              0.1111111111111111,
              "#46039f"
             ],
             [
              0.2222222222222222,
              "#7201a8"
             ],
             [
              0.3333333333333333,
              "#9c179e"
             ],
             [
              0.4444444444444444,
              "#bd3786"
             ],
             [
              0.5555555555555556,
              "#d8576b"
             ],
             [
              0.6666666666666666,
              "#ed7953"
             ],
             [
              0.7777777777777778,
              "#fb9f3a"
             ],
             [
              0.8888888888888888,
              "#fdca26"
             ],
             [
              1,
              "#f0f921"
             ]
            ],
            "type": "surface"
           }
          ],
          "table": [
           {
            "cells": {
             "fill": {
              "color": "#EBF0F8"
             },
             "line": {
              "color": "white"
             }
            },
            "header": {
             "fill": {
              "color": "#C8D4E3"
             },
             "line": {
              "color": "white"
             }
            },
            "type": "table"
           }
          ]
         },
         "layout": {
          "annotationdefaults": {
           "arrowcolor": "#2a3f5f",
           "arrowhead": 0,
           "arrowwidth": 1
          },
          "autotypenumbers": "strict",
          "coloraxis": {
           "colorbar": {
            "outlinewidth": 0,
            "ticks": ""
           }
          },
          "colorscale": {
           "diverging": [
            [
             0,
             "#8e0152"
            ],
            [
             0.1,
             "#c51b7d"
            ],
            [
             0.2,
             "#de77ae"
            ],
            [
             0.3,
             "#f1b6da"
            ],
            [
             0.4,
             "#fde0ef"
            ],
            [
             0.5,
             "#f7f7f7"
            ],
            [
             0.6,
             "#e6f5d0"
            ],
            [
             0.7,
             "#b8e186"
            ],
            [
             0.8,
             "#7fbc41"
            ],
            [
             0.9,
             "#4d9221"
            ],
            [
             1,
             "#276419"
            ]
           ],
           "sequential": [
            [
             0,
             "#0d0887"
            ],
            [
             0.1111111111111111,
             "#46039f"
            ],
            [
             0.2222222222222222,
             "#7201a8"
            ],
            [
             0.3333333333333333,
             "#9c179e"
            ],
            [
             0.4444444444444444,
             "#bd3786"
            ],
            [
             0.5555555555555556,
             "#d8576b"
            ],
            [
             0.6666666666666666,
             "#ed7953"
            ],
            [
             0.7777777777777778,
             "#fb9f3a"
            ],
            [
             0.8888888888888888,
             "#fdca26"
            ],
            [
             1,
             "#f0f921"
            ]
           ],
           "sequentialminus": [
            [
             0,
             "#0d0887"
            ],
            [
             0.1111111111111111,
             "#46039f"
            ],
            [
             0.2222222222222222,
             "#7201a8"
            ],
            [
             0.3333333333333333,
             "#9c179e"
            ],
            [
             0.4444444444444444,
             "#bd3786"
            ],
            [
             0.5555555555555556,
             "#d8576b"
            ],
            [
             0.6666666666666666,
             "#ed7953"
            ],
            [
             0.7777777777777778,
             "#fb9f3a"
            ],
            [
             0.8888888888888888,
             "#fdca26"
            ],
            [
             1,
             "#f0f921"
            ]
           ]
          },
          "colorway": [
           "#636efa",
           "#EF553B",
           "#00cc96",
           "#ab63fa",
           "#FFA15A",
           "#19d3f3",
           "#FF6692",
           "#B6E880",
           "#FF97FF",
           "#FECB52"
          ],
          "font": {
           "color": "#2a3f5f"
          },
          "geo": {
           "bgcolor": "white",
           "lakecolor": "white",
           "landcolor": "#E5ECF6",
           "showlakes": true,
           "showland": true,
           "subunitcolor": "white"
          },
          "hoverlabel": {
           "align": "left"
          },
          "hovermode": "closest",
          "mapbox": {
           "style": "light"
          },
          "paper_bgcolor": "white",
          "plot_bgcolor": "#E5ECF6",
          "polar": {
           "angularaxis": {
            "gridcolor": "white",
            "linecolor": "white",
            "ticks": ""
           },
           "bgcolor": "#E5ECF6",
           "radialaxis": {
            "gridcolor": "white",
            "linecolor": "white",
            "ticks": ""
           }
          },
          "scene": {
           "xaxis": {
            "backgroundcolor": "#E5ECF6",
            "gridcolor": "white",
            "gridwidth": 2,
            "linecolor": "white",
            "showbackground": true,
            "ticks": "",
            "zerolinecolor": "white"
           },
           "yaxis": {
            "backgroundcolor": "#E5ECF6",
            "gridcolor": "white",
            "gridwidth": 2,
            "linecolor": "white",
            "showbackground": true,
            "ticks": "",
            "zerolinecolor": "white"
           },
           "zaxis": {
            "backgroundcolor": "#E5ECF6",
            "gridcolor": "white",
            "gridwidth": 2,
            "linecolor": "white",
            "showbackground": true,
            "ticks": "",
            "zerolinecolor": "white"
           }
          },
          "shapedefaults": {
           "line": {
            "color": "#2a3f5f"
           }
          },
          "ternary": {
           "aaxis": {
            "gridcolor": "white",
            "linecolor": "white",
            "ticks": ""
           },
           "baxis": {
            "gridcolor": "white",
            "linecolor": "white",
            "ticks": ""
           },
           "bgcolor": "#E5ECF6",
           "caxis": {
            "gridcolor": "white",
            "linecolor": "white",
            "ticks": ""
           }
          },
          "title": {
           "x": 0.05
          },
          "xaxis": {
           "automargin": true,
           "gridcolor": "white",
           "linecolor": "white",
           "ticks": "",
           "title": {
            "standoff": 15
           },
           "zerolinecolor": "white",
           "zerolinewidth": 2
          },
          "yaxis": {
           "automargin": true,
           "gridcolor": "white",
           "linecolor": "white",
           "ticks": "",
           "title": {
            "standoff": 15
           },
           "zerolinecolor": "white",
           "zerolinewidth": 2
          }
         }
        },
        "title": {
         "text": "skills in 2 dimentions clusterd"
        },
        "width": 1000,
        "xaxis": {
         "anchor": "y",
         "domain": [
          0,
          1
         ],
         "title": {
          "text": "x"
         }
        },
        "yaxis": {
         "anchor": "x",
         "domain": [
          0,
          1
         ],
         "title": {
          "text": "y"
         }
        }
       }
      }
     },
     "metadata": {},
     "output_type": "display_data"
    }
   ],
   "source": [
    "fig = px.scatter(data_frame=df_skills_tsne, x=\"x\", y=\"y\",text=df_skills_tsne.droplevel(0).index, color=best_model.labels_)\n",
    "fig.update_layout(title=\"skills in 2 dimentions clusterd\",\n",
    "                  width=1000,\n",
    "                  height=1000)"
   ]
  },
  {
   "cell_type": "code",
   "execution_count": 63,
   "metadata": {},
   "outputs": [
    {
     "name": "stdout",
     "output_type": "stream",
     "text": [
      "0 :  ['.NET', '.NET Core', 'Xamarin', 'Microsoft SQL Server', 'ASP.NET', 'ASP.NET Core', 'C#', 'VBA', 'Windows']\n",
      "1 :  ['IBM DB2', 'Oracle', 'Spring', 'Java', 'IBM Cloud or Watson']\n",
      "2 :  ['Confluence', 'Github', 'Google Suite (Docs, Meet, etc)', 'Jira', 'Slack', 'Trello', 'Slack Apps and Integrations']\n",
      "3 :  ['Ansible', 'Chef', 'Puppet', 'Teraform']\n",
      "4 :  ['Keras', 'Pandas', 'TensorFlow', 'Torch/PyTorch', 'R']\n",
      "5 :  ['Node.js', 'React Native', 'MongoDB', 'Express', 'Gatsby', 'React.js', 'Heroku']\n",
      "6 :  ['Gitlab', 'Bash/Shell/PowerShell', 'Perl', 'Linux']\n",
      "7 :  ['MariaDB', 'MySQL', 'Drupal', 'Laravel', 'Symfony', 'Vue.js', 'PHP', 'WordPress']\n",
      "8 :  ['Elasticsearch', 'PostgreSQL', 'Redis', 'Go', 'Docker', 'Kubernetes']\n",
      "9 :  ['Objective-C', 'Swift', 'MacOS', 'iOS']\n",
      "10 :  ['Django', 'Flask', 'Python']\n",
      "11 :  ['Arduino', 'Raspberry Pi']\n",
      "12 :  ['Firebase', 'SQLite', 'Kotlin', 'Android', 'Google Cloud Platform']\n",
      "13 :  ['Cordova', 'Angular', 'Angular.js', 'TypeScript']\n",
      "14 :  ['Facebook Workplace', 'Stack Overflow for Teams']\n",
      "15 :  ['Microsoft Azure', 'Microsoft Teams', 'Microsoft Azure']\n",
      "16 :  ['jQuery', 'HTML/CSS', 'JavaScript', 'SQL']\n",
      "17 :  ['Haskell', 'Julia', 'Rust']\n",
      "18 :  ['Apache Spark', 'Hadoop', 'Cassandra', 'Couchbase', 'Scala']\n",
      "19 :  ['Assembly', 'C', 'C++']\n",
      "20 :  ['Flutter', 'Dart']\n",
      "21 :  ['Unity 3D', 'Unreal Engine']\n",
      "22 :  ['DynamoDB', 'AWS']\n",
      "23 :  ['Ruby on Rails', 'Ruby']\n"
     ]
    }
   ],
   "source": [
    "for skill_group , skills in df_skills_tsne.index.droplevel(0).groupby(best_model.labels_).items():\n",
    "    print(skill_group, \": \", list(skills))"
   ]
  },
  {
   "cell_type": "markdown",
   "metadata": {},
   "source": [
    "# create the new features"
   ]
  },
  {
   "cell_type": "code",
   "execution_count": 115,
   "metadata": {},
   "outputs": [
    {
     "data": {
      "text/plain": [
       "[0        7\n",
       " 1        0\n",
       " 2        0\n",
       " 3        0\n",
       " 4        1\n",
       "         ..\n",
       " 64456    0\n",
       " 64457    3\n",
       " 64458    0\n",
       " 64459    1\n",
       " 64460    6\n",
       " Name: 0, Length: 64461, dtype: int64,\n",
       " 0        1\n",
       " 1        0\n",
       " 2        0\n",
       " 3        0\n",
       " 4        0\n",
       "         ..\n",
       " 64456    0\n",
       " 64457    3\n",
       " 64458    0\n",
       " 64459    1\n",
       " 64460    2\n",
       " Name: 1, Length: 64461, dtype: int64,\n",
       " 0        4\n",
       " 1        4\n",
       " 2        0\n",
       " 3        0\n",
       " 4        5\n",
       "         ..\n",
       " 64456    0\n",
       " 64457    0\n",
       " 64458    0\n",
       " 64459    3\n",
       " 64460    1\n",
       " Name: 2, Length: 64461, dtype: int64,\n",
       " 0        0\n",
       " 1        0\n",
       " 2        0\n",
       " 3        0\n",
       " 4        1\n",
       "         ..\n",
       " 64456    0\n",
       " 64457    0\n",
       " 64458    0\n",
       " 64459    0\n",
       " 64460    0\n",
       " Name: 3, Length: 64461, dtype: int64,\n",
       " 0        0\n",
       " 1        0\n",
       " 2        0\n",
       " 3        0\n",
       " 4        0\n",
       "         ..\n",
       " 64456    0\n",
       " 64457    1\n",
       " 64458    0\n",
       " 64459    0\n",
       " 64460    0\n",
       " Name: 4, Length: 64461, dtype: int64,\n",
       " 0        0\n",
       " 1        1\n",
       " 2        0\n",
       " 3        0\n",
       " 4        0\n",
       "         ..\n",
       " 64456    0\n",
       " 64457    1\n",
       " 64458    0\n",
       " 64459    0\n",
       " 64460    0\n",
       " Name: 5, Length: 64461, dtype: int64,\n",
       " 0        0\n",
       " 1        1\n",
       " 2        0\n",
       " 3        0\n",
       " 4        1\n",
       "         ..\n",
       " 64456    0\n",
       " 64457    2\n",
       " 64458    0\n",
       " 64459    1\n",
       " 64460    1\n",
       " Name: 6, Length: 64461, dtype: int64,\n",
       " 0        0\n",
       " 1        0\n",
       " 2        0\n",
       " 3        0\n",
       " 4        1\n",
       "         ..\n",
       " 64456    0\n",
       " 64457    3\n",
       " 64458    0\n",
       " 64459    0\n",
       " 64460    2\n",
       " Name: 7, Length: 64461, dtype: int64,\n",
       " 0        1\n",
       " 1        0\n",
       " 2        0\n",
       " 3        0\n",
       " 4        3\n",
       "         ..\n",
       " 64456    0\n",
       " 64457    4\n",
       " 64458    0\n",
       " 64459    0\n",
       " 64460    0\n",
       " Name: 8, Length: 64461, dtype: int64,\n",
       " 0        0\n",
       " 1        2\n",
       " 2        2\n",
       " 3        0\n",
       " 4        1\n",
       "         ..\n",
       " 64456    0\n",
       " 64457    2\n",
       " 64458    0\n",
       " 64459    0\n",
       " 64460    0\n",
       " Name: 9, Length: 64461, dtype: int64,\n",
       " 0        0\n",
       " 1        0\n",
       " 2        1\n",
       " 3        0\n",
       " 4        0\n",
       "         ..\n",
       " 64456    0\n",
       " 64457    1\n",
       " 64458    0\n",
       " 64459    0\n",
       " 64460    0\n",
       " Name: 10, Length: 64461, dtype: int64,\n",
       " 0        0\n",
       " 1        0\n",
       " 2        0\n",
       " 3        0\n",
       " 4        0\n",
       "         ..\n",
       " 64456    0\n",
       " 64457    0\n",
       " 64458    0\n",
       " 64459    0\n",
       " 64460    2\n",
       " Name: 11, Length: 64461, dtype: int64,\n",
       " 0        0\n",
       " 1        0\n",
       " 2        0\n",
       " 3        0\n",
       " 4        1\n",
       "         ..\n",
       " 64456    0\n",
       " 64457    3\n",
       " 64458    0\n",
       " 64459    0\n",
       " 64460    1\n",
       " Name: 12, Length: 64461, dtype: int64,\n",
       " 0        0\n",
       " 1        0\n",
       " 2        0\n",
       " 3        0\n",
       " 4        0\n",
       "         ..\n",
       " 64456    0\n",
       " 64457    1\n",
       " 64458    0\n",
       " 64459    0\n",
       " 64460    2\n",
       " Name: 13, Length: 64461, dtype: int64,\n",
       " 0        0\n",
       " 1        0\n",
       " 2        0\n",
       " 3        0\n",
       " 4        0\n",
       "         ..\n",
       " 64456    0\n",
       " 64457    0\n",
       " 64458    0\n",
       " 64459    0\n",
       " 64460    0\n",
       " Name: 14, Length: 64461, dtype: int64,\n",
       " 0        2\n",
       " 1        0\n",
       " 2        0\n",
       " 3        0\n",
       " 4        0\n",
       "         ..\n",
       " 64456    0\n",
       " 64457    0\n",
       " 64458    0\n",
       " 64459    1\n",
       " 64460    0\n",
       " Name: 15, Length: 64461, dtype: int64,\n",
       " 0        2\n",
       " 1        1\n",
       " 2        0\n",
       " 3        0\n",
       " 4        2\n",
       "         ..\n",
       " 64456    0\n",
       " 64457    3\n",
       " 64458    0\n",
       " 64459    1\n",
       " 64460    4\n",
       " Name: 16, Length: 64461, dtype: int64,\n",
       " 0        0\n",
       " 1        0\n",
       " 2        0\n",
       " 3        0\n",
       " 4        0\n",
       "         ..\n",
       " 64456    0\n",
       " 64457    3\n",
       " 64458    0\n",
       " 64459    0\n",
       " 64460    0\n",
       " Name: 17, Length: 64461, dtype: int64,\n",
       " 0        0\n",
       " 1        0\n",
       " 2        0\n",
       " 3        0\n",
       " 4        0\n",
       "         ..\n",
       " 64456    0\n",
       " 64457    3\n",
       " 64458    0\n",
       " 64459    0\n",
       " 64460    0\n",
       " Name: 18, Length: 64461, dtype: int64,\n",
       " 0        0\n",
       " 1        0\n",
       " 2        0\n",
       " 3        0\n",
       " 4        0\n",
       "         ..\n",
       " 64456    0\n",
       " 64457    3\n",
       " 64458    0\n",
       " 64459    0\n",
       " 64460    0\n",
       " Name: 19, Length: 64461, dtype: int64,\n",
       " 0        0\n",
       " 1        0\n",
       " 2        0\n",
       " 3        0\n",
       " 4        0\n",
       "         ..\n",
       " 64456    0\n",
       " 64457    1\n",
       " 64458    0\n",
       " 64459    0\n",
       " 64460    0\n",
       " Name: 20, Length: 64461, dtype: int64,\n",
       " 0        0\n",
       " 1        0\n",
       " 2        0\n",
       " 3        0\n",
       " 4        0\n",
       "         ..\n",
       " 64456    0\n",
       " 64457    0\n",
       " 64458    0\n",
       " 64459    0\n",
       " 64460    0\n",
       " Name: 21, Length: 64461, dtype: int64,\n",
       " 0        0\n",
       " 1        0\n",
       " 2        0\n",
       " 3        0\n",
       " 4        1\n",
       "         ..\n",
       " 64456    0\n",
       " 64457    1\n",
       " 64458    0\n",
       " 64459    0\n",
       " 64460    0\n",
       " Name: 22, Length: 64461, dtype: int64,\n",
       " 0        0\n",
       " 1        0\n",
       " 2        0\n",
       " 3        0\n",
       " 4        2\n",
       "         ..\n",
       " 64456    0\n",
       " 64457    1\n",
       " 64458    0\n",
       " 64459    0\n",
       " 64460    0\n",
       " Name: 23, Length: 64461, dtype: int64]"
      ]
     },
     "execution_count": 115,
     "metadata": {},
     "output_type": "execute_result"
    }
   ],
   "source": [
    "features = []\n",
    "for skill_group , skills in df_skills_tsne.index.droplevel(0).groupby(best_model.labels_).items():\n",
    "    cluster = df_skills.droplevel(0, axis=1)[skills].sum(axis=1)\n",
    "    cluster.name = skill_group\n",
    "    features.append(cluster)\n",
    "\n",
    "features"
   ]
  },
  {
   "cell_type": "code",
   "execution_count": 120,
   "metadata": {},
   "outputs": [
    {
     "data": {
      "text/html": [
       "<div>\n",
       "<style scoped>\n",
       "    .dataframe tbody tr th:only-of-type {\n",
       "        vertical-align: middle;\n",
       "    }\n",
       "\n",
       "    .dataframe tbody tr th {\n",
       "        vertical-align: top;\n",
       "    }\n",
       "\n",
       "    .dataframe thead th {\n",
       "        text-align: right;\n",
       "    }\n",
       "</style>\n",
       "<table border=\"1\" class=\"dataframe\">\n",
       "  <thead>\n",
       "    <tr style=\"text-align: right;\">\n",
       "      <th></th>\n",
       "      <th>0</th>\n",
       "      <th>1</th>\n",
       "      <th>2</th>\n",
       "      <th>3</th>\n",
       "      <th>4</th>\n",
       "      <th>5</th>\n",
       "      <th>6</th>\n",
       "      <th>7</th>\n",
       "      <th>8</th>\n",
       "      <th>9</th>\n",
       "      <th>...</th>\n",
       "      <th>14</th>\n",
       "      <th>15</th>\n",
       "      <th>16</th>\n",
       "      <th>17</th>\n",
       "      <th>18</th>\n",
       "      <th>19</th>\n",
       "      <th>20</th>\n",
       "      <th>21</th>\n",
       "      <th>22</th>\n",
       "      <th>23</th>\n",
       "    </tr>\n",
       "  </thead>\n",
       "  <tbody>\n",
       "    <tr>\n",
       "      <th>0</th>\n",
       "      <td>7</td>\n",
       "      <td>1</td>\n",
       "      <td>4</td>\n",
       "      <td>0</td>\n",
       "      <td>0</td>\n",
       "      <td>0</td>\n",
       "      <td>0</td>\n",
       "      <td>0</td>\n",
       "      <td>1</td>\n",
       "      <td>0</td>\n",
       "      <td>...</td>\n",
       "      <td>0</td>\n",
       "      <td>2</td>\n",
       "      <td>2</td>\n",
       "      <td>0</td>\n",
       "      <td>0</td>\n",
       "      <td>0</td>\n",
       "      <td>0</td>\n",
       "      <td>0</td>\n",
       "      <td>0</td>\n",
       "      <td>0</td>\n",
       "    </tr>\n",
       "    <tr>\n",
       "      <th>1</th>\n",
       "      <td>0</td>\n",
       "      <td>0</td>\n",
       "      <td>4</td>\n",
       "      <td>0</td>\n",
       "      <td>0</td>\n",
       "      <td>1</td>\n",
       "      <td>1</td>\n",
       "      <td>0</td>\n",
       "      <td>0</td>\n",
       "      <td>2</td>\n",
       "      <td>...</td>\n",
       "      <td>0</td>\n",
       "      <td>0</td>\n",
       "      <td>1</td>\n",
       "      <td>0</td>\n",
       "      <td>0</td>\n",
       "      <td>0</td>\n",
       "      <td>0</td>\n",
       "      <td>0</td>\n",
       "      <td>0</td>\n",
       "      <td>0</td>\n",
       "    </tr>\n",
       "    <tr>\n",
       "      <th>2</th>\n",
       "      <td>0</td>\n",
       "      <td>0</td>\n",
       "      <td>0</td>\n",
       "      <td>0</td>\n",
       "      <td>0</td>\n",
       "      <td>0</td>\n",
       "      <td>0</td>\n",
       "      <td>0</td>\n",
       "      <td>0</td>\n",
       "      <td>2</td>\n",
       "      <td>...</td>\n",
       "      <td>0</td>\n",
       "      <td>0</td>\n",
       "      <td>0</td>\n",
       "      <td>0</td>\n",
       "      <td>0</td>\n",
       "      <td>0</td>\n",
       "      <td>0</td>\n",
       "      <td>0</td>\n",
       "      <td>0</td>\n",
       "      <td>0</td>\n",
       "    </tr>\n",
       "    <tr>\n",
       "      <th>3</th>\n",
       "      <td>0</td>\n",
       "      <td>0</td>\n",
       "      <td>0</td>\n",
       "      <td>0</td>\n",
       "      <td>0</td>\n",
       "      <td>0</td>\n",
       "      <td>0</td>\n",
       "      <td>0</td>\n",
       "      <td>0</td>\n",
       "      <td>0</td>\n",
       "      <td>...</td>\n",
       "      <td>0</td>\n",
       "      <td>0</td>\n",
       "      <td>0</td>\n",
       "      <td>0</td>\n",
       "      <td>0</td>\n",
       "      <td>0</td>\n",
       "      <td>0</td>\n",
       "      <td>0</td>\n",
       "      <td>0</td>\n",
       "      <td>0</td>\n",
       "    </tr>\n",
       "    <tr>\n",
       "      <th>4</th>\n",
       "      <td>1</td>\n",
       "      <td>0</td>\n",
       "      <td>5</td>\n",
       "      <td>1</td>\n",
       "      <td>0</td>\n",
       "      <td>0</td>\n",
       "      <td>1</td>\n",
       "      <td>1</td>\n",
       "      <td>3</td>\n",
       "      <td>1</td>\n",
       "      <td>...</td>\n",
       "      <td>0</td>\n",
       "      <td>0</td>\n",
       "      <td>2</td>\n",
       "      <td>0</td>\n",
       "      <td>0</td>\n",
       "      <td>0</td>\n",
       "      <td>0</td>\n",
       "      <td>0</td>\n",
       "      <td>1</td>\n",
       "      <td>2</td>\n",
       "    </tr>\n",
       "  </tbody>\n",
       "</table>\n",
       "<p>5 rows × 24 columns</p>\n",
       "</div>"
      ],
      "text/plain": [
       "   0   1   2   3   4   5   6   7   8   9   ...  14  15  16  17  18  19  20  \\\n",
       "0   7   1   4   0   0   0   0   0   1   0  ...   0   2   2   0   0   0   0   \n",
       "1   0   0   4   0   0   1   1   0   0   2  ...   0   0   1   0   0   0   0   \n",
       "2   0   0   0   0   0   0   0   0   0   2  ...   0   0   0   0   0   0   0   \n",
       "3   0   0   0   0   0   0   0   0   0   0  ...   0   0   0   0   0   0   0   \n",
       "4   1   0   5   1   0   0   1   1   3   1  ...   0   0   2   0   0   0   0   \n",
       "\n",
       "   21  22  23  \n",
       "0   0   0   0  \n",
       "1   0   0   0  \n",
       "2   0   0   0  \n",
       "3   0   0   0  \n",
       "4   0   1   2  \n",
       "\n",
       "[5 rows x 24 columns]"
      ]
     },
     "execution_count": 120,
     "metadata": {},
     "output_type": "execute_result"
    }
   ],
   "source": [
    "df_cluster = pd.concat(features ,axis=1)\n",
    "df_cluster.head()"
   ]
  },
  {
   "cell_type": "code",
   "execution_count": 127,
   "metadata": {},
   "outputs": [
    {
     "data": {
      "text/html": [
       "<div>\n",
       "<style scoped>\n",
       "    .dataframe tbody tr th:only-of-type {\n",
       "        vertical-align: middle;\n",
       "    }\n",
       "\n",
       "    .dataframe tbody tr th {\n",
       "        vertical-align: top;\n",
       "    }\n",
       "\n",
       "    .dataframe thead th {\n",
       "        text-align: right;\n",
       "    }\n",
       "</style>\n",
       "<table border=\"1\" class=\"dataframe\">\n",
       "  <thead>\n",
       "    <tr style=\"text-align: right;\">\n",
       "      <th></th>\n",
       "      <th>Academic researcher</th>\n",
       "      <th>Data or business analyst</th>\n",
       "      <th>Data scientist or machine learning specialist</th>\n",
       "      <th>Database administrator</th>\n",
       "      <th>Designer</th>\n",
       "      <th>DevOps specialist</th>\n",
       "      <th>Developer, QA or test</th>\n",
       "      <th>Developer, back-end</th>\n",
       "      <th>Developer, desktop or enterprise applications</th>\n",
       "      <th>Developer, embedded applications or devices</th>\n",
       "      <th>...</th>\n",
       "      <th>Developer, mobile</th>\n",
       "      <th>Educator</th>\n",
       "      <th>Engineer, data</th>\n",
       "      <th>Engineer, site reliability</th>\n",
       "      <th>Engineering manager</th>\n",
       "      <th>Marketing or sales professional</th>\n",
       "      <th>Product manager</th>\n",
       "      <th>Scientist</th>\n",
       "      <th>Senior executive/VP</th>\n",
       "      <th>System administrator</th>\n",
       "    </tr>\n",
       "  </thead>\n",
       "  <tbody>\n",
       "    <tr>\n",
       "      <th>0</th>\n",
       "      <td>0</td>\n",
       "      <td>0</td>\n",
       "      <td>0</td>\n",
       "      <td>0</td>\n",
       "      <td>0</td>\n",
       "      <td>0</td>\n",
       "      <td>0</td>\n",
       "      <td>0</td>\n",
       "      <td>1</td>\n",
       "      <td>0</td>\n",
       "      <td>...</td>\n",
       "      <td>0</td>\n",
       "      <td>0</td>\n",
       "      <td>0</td>\n",
       "      <td>0</td>\n",
       "      <td>0</td>\n",
       "      <td>0</td>\n",
       "      <td>0</td>\n",
       "      <td>0</td>\n",
       "      <td>0</td>\n",
       "      <td>0</td>\n",
       "    </tr>\n",
       "    <tr>\n",
       "      <th>1</th>\n",
       "      <td>0</td>\n",
       "      <td>0</td>\n",
       "      <td>0</td>\n",
       "      <td>0</td>\n",
       "      <td>0</td>\n",
       "      <td>0</td>\n",
       "      <td>0</td>\n",
       "      <td>0</td>\n",
       "      <td>0</td>\n",
       "      <td>0</td>\n",
       "      <td>...</td>\n",
       "      <td>1</td>\n",
       "      <td>0</td>\n",
       "      <td>0</td>\n",
       "      <td>0</td>\n",
       "      <td>0</td>\n",
       "      <td>0</td>\n",
       "      <td>0</td>\n",
       "      <td>0</td>\n",
       "      <td>0</td>\n",
       "      <td>0</td>\n",
       "    </tr>\n",
       "    <tr>\n",
       "      <th>2</th>\n",
       "      <td>0</td>\n",
       "      <td>0</td>\n",
       "      <td>0</td>\n",
       "      <td>0</td>\n",
       "      <td>0</td>\n",
       "      <td>0</td>\n",
       "      <td>0</td>\n",
       "      <td>0</td>\n",
       "      <td>0</td>\n",
       "      <td>0</td>\n",
       "      <td>...</td>\n",
       "      <td>0</td>\n",
       "      <td>0</td>\n",
       "      <td>0</td>\n",
       "      <td>0</td>\n",
       "      <td>0</td>\n",
       "      <td>0</td>\n",
       "      <td>0</td>\n",
       "      <td>0</td>\n",
       "      <td>0</td>\n",
       "      <td>0</td>\n",
       "    </tr>\n",
       "    <tr>\n",
       "      <th>3</th>\n",
       "      <td>0</td>\n",
       "      <td>0</td>\n",
       "      <td>0</td>\n",
       "      <td>0</td>\n",
       "      <td>0</td>\n",
       "      <td>0</td>\n",
       "      <td>0</td>\n",
       "      <td>0</td>\n",
       "      <td>0</td>\n",
       "      <td>0</td>\n",
       "      <td>...</td>\n",
       "      <td>0</td>\n",
       "      <td>0</td>\n",
       "      <td>0</td>\n",
       "      <td>0</td>\n",
       "      <td>0</td>\n",
       "      <td>0</td>\n",
       "      <td>0</td>\n",
       "      <td>0</td>\n",
       "      <td>0</td>\n",
       "      <td>0</td>\n",
       "    </tr>\n",
       "    <tr>\n",
       "      <th>4</th>\n",
       "      <td>0</td>\n",
       "      <td>0</td>\n",
       "      <td>0</td>\n",
       "      <td>0</td>\n",
       "      <td>0</td>\n",
       "      <td>0</td>\n",
       "      <td>0</td>\n",
       "      <td>0</td>\n",
       "      <td>0</td>\n",
       "      <td>0</td>\n",
       "      <td>...</td>\n",
       "      <td>0</td>\n",
       "      <td>0</td>\n",
       "      <td>0</td>\n",
       "      <td>0</td>\n",
       "      <td>0</td>\n",
       "      <td>0</td>\n",
       "      <td>0</td>\n",
       "      <td>0</td>\n",
       "      <td>0</td>\n",
       "      <td>0</td>\n",
       "    </tr>\n",
       "    <tr>\n",
       "      <th>...</th>\n",
       "      <td>...</td>\n",
       "      <td>...</td>\n",
       "      <td>...</td>\n",
       "      <td>...</td>\n",
       "      <td>...</td>\n",
       "      <td>...</td>\n",
       "      <td>...</td>\n",
       "      <td>...</td>\n",
       "      <td>...</td>\n",
       "      <td>...</td>\n",
       "      <td>...</td>\n",
       "      <td>...</td>\n",
       "      <td>...</td>\n",
       "      <td>...</td>\n",
       "      <td>...</td>\n",
       "      <td>...</td>\n",
       "      <td>...</td>\n",
       "      <td>...</td>\n",
       "      <td>...</td>\n",
       "      <td>...</td>\n",
       "      <td>...</td>\n",
       "    </tr>\n",
       "    <tr>\n",
       "      <th>64456</th>\n",
       "      <td>0</td>\n",
       "      <td>0</td>\n",
       "      <td>0</td>\n",
       "      <td>0</td>\n",
       "      <td>0</td>\n",
       "      <td>0</td>\n",
       "      <td>0</td>\n",
       "      <td>0</td>\n",
       "      <td>0</td>\n",
       "      <td>0</td>\n",
       "      <td>...</td>\n",
       "      <td>0</td>\n",
       "      <td>0</td>\n",
       "      <td>0</td>\n",
       "      <td>0</td>\n",
       "      <td>0</td>\n",
       "      <td>0</td>\n",
       "      <td>0</td>\n",
       "      <td>0</td>\n",
       "      <td>1</td>\n",
       "      <td>0</td>\n",
       "    </tr>\n",
       "    <tr>\n",
       "      <th>64457</th>\n",
       "      <td>0</td>\n",
       "      <td>0</td>\n",
       "      <td>0</td>\n",
       "      <td>0</td>\n",
       "      <td>0</td>\n",
       "      <td>0</td>\n",
       "      <td>0</td>\n",
       "      <td>0</td>\n",
       "      <td>0</td>\n",
       "      <td>0</td>\n",
       "      <td>...</td>\n",
       "      <td>0</td>\n",
       "      <td>0</td>\n",
       "      <td>0</td>\n",
       "      <td>0</td>\n",
       "      <td>0</td>\n",
       "      <td>0</td>\n",
       "      <td>0</td>\n",
       "      <td>0</td>\n",
       "      <td>0</td>\n",
       "      <td>0</td>\n",
       "    </tr>\n",
       "    <tr>\n",
       "      <th>64458</th>\n",
       "      <td>0</td>\n",
       "      <td>0</td>\n",
       "      <td>0</td>\n",
       "      <td>0</td>\n",
       "      <td>0</td>\n",
       "      <td>0</td>\n",
       "      <td>0</td>\n",
       "      <td>0</td>\n",
       "      <td>0</td>\n",
       "      <td>0</td>\n",
       "      <td>...</td>\n",
       "      <td>0</td>\n",
       "      <td>0</td>\n",
       "      <td>0</td>\n",
       "      <td>0</td>\n",
       "      <td>0</td>\n",
       "      <td>0</td>\n",
       "      <td>0</td>\n",
       "      <td>0</td>\n",
       "      <td>0</td>\n",
       "      <td>0</td>\n",
       "    </tr>\n",
       "    <tr>\n",
       "      <th>64459</th>\n",
       "      <td>0</td>\n",
       "      <td>0</td>\n",
       "      <td>0</td>\n",
       "      <td>0</td>\n",
       "      <td>0</td>\n",
       "      <td>0</td>\n",
       "      <td>0</td>\n",
       "      <td>0</td>\n",
       "      <td>0</td>\n",
       "      <td>0</td>\n",
       "      <td>...</td>\n",
       "      <td>0</td>\n",
       "      <td>0</td>\n",
       "      <td>0</td>\n",
       "      <td>0</td>\n",
       "      <td>0</td>\n",
       "      <td>0</td>\n",
       "      <td>0</td>\n",
       "      <td>0</td>\n",
       "      <td>0</td>\n",
       "      <td>0</td>\n",
       "    </tr>\n",
       "    <tr>\n",
       "      <th>64460</th>\n",
       "      <td>0</td>\n",
       "      <td>0</td>\n",
       "      <td>0</td>\n",
       "      <td>0</td>\n",
       "      <td>0</td>\n",
       "      <td>0</td>\n",
       "      <td>0</td>\n",
       "      <td>0</td>\n",
       "      <td>0</td>\n",
       "      <td>0</td>\n",
       "      <td>...</td>\n",
       "      <td>0</td>\n",
       "      <td>0</td>\n",
       "      <td>0</td>\n",
       "      <td>0</td>\n",
       "      <td>0</td>\n",
       "      <td>0</td>\n",
       "      <td>0</td>\n",
       "      <td>0</td>\n",
       "      <td>0</td>\n",
       "      <td>0</td>\n",
       "    </tr>\n",
       "  </tbody>\n",
       "</table>\n",
       "<p>64461 rows × 23 columns</p>\n",
       "</div>"
      ],
      "text/plain": [
       "       Academic researcher  Data or business analyst  \\\n",
       "0                        0                         0   \n",
       "1                        0                         0   \n",
       "2                        0                         0   \n",
       "3                        0                         0   \n",
       "4                        0                         0   \n",
       "...                    ...                       ...   \n",
       "64456                    0                         0   \n",
       "64457                    0                         0   \n",
       "64458                    0                         0   \n",
       "64459                    0                         0   \n",
       "64460                    0                         0   \n",
       "\n",
       "       Data scientist or machine learning specialist  Database administrator  \\\n",
       "0                                                  0                       0   \n",
       "1                                                  0                       0   \n",
       "2                                                  0                       0   \n",
       "3                                                  0                       0   \n",
       "4                                                  0                       0   \n",
       "...                                              ...                     ...   \n",
       "64456                                              0                       0   \n",
       "64457                                              0                       0   \n",
       "64458                                              0                       0   \n",
       "64459                                              0                       0   \n",
       "64460                                              0                       0   \n",
       "\n",
       "       Designer  DevOps specialist  Developer, QA or test  \\\n",
       "0             0                  0                      0   \n",
       "1             0                  0                      0   \n",
       "2             0                  0                      0   \n",
       "3             0                  0                      0   \n",
       "4             0                  0                      0   \n",
       "...         ...                ...                    ...   \n",
       "64456         0                  0                      0   \n",
       "64457         0                  0                      0   \n",
       "64458         0                  0                      0   \n",
       "64459         0                  0                      0   \n",
       "64460         0                  0                      0   \n",
       "\n",
       "       Developer, back-end  Developer, desktop or enterprise applications  \\\n",
       "0                        0                                              1   \n",
       "1                        0                                              0   \n",
       "2                        0                                              0   \n",
       "3                        0                                              0   \n",
       "4                        0                                              0   \n",
       "...                    ...                                            ...   \n",
       "64456                    0                                              0   \n",
       "64457                    0                                              0   \n",
       "64458                    0                                              0   \n",
       "64459                    0                                              0   \n",
       "64460                    0                                              0   \n",
       "\n",
       "       Developer, embedded applications or devices  ...  Developer, mobile  \\\n",
       "0                                                0  ...                  0   \n",
       "1                                                0  ...                  1   \n",
       "2                                                0  ...                  0   \n",
       "3                                                0  ...                  0   \n",
       "4                                                0  ...                  0   \n",
       "...                                            ...  ...                ...   \n",
       "64456                                            0  ...                  0   \n",
       "64457                                            0  ...                  0   \n",
       "64458                                            0  ...                  0   \n",
       "64459                                            0  ...                  0   \n",
       "64460                                            0  ...                  0   \n",
       "\n",
       "       Educator  Engineer, data  Engineer, site reliability  \\\n",
       "0             0               0                           0   \n",
       "1             0               0                           0   \n",
       "2             0               0                           0   \n",
       "3             0               0                           0   \n",
       "4             0               0                           0   \n",
       "...         ...             ...                         ...   \n",
       "64456         0               0                           0   \n",
       "64457         0               0                           0   \n",
       "64458         0               0                           0   \n",
       "64459         0               0                           0   \n",
       "64460         0               0                           0   \n",
       "\n",
       "       Engineering manager  Marketing or sales professional  Product manager  \\\n",
       "0                        0                                0                0   \n",
       "1                        0                                0                0   \n",
       "2                        0                                0                0   \n",
       "3                        0                                0                0   \n",
       "4                        0                                0                0   \n",
       "...                    ...                              ...              ...   \n",
       "64456                    0                                0                0   \n",
       "64457                    0                                0                0   \n",
       "64458                    0                                0                0   \n",
       "64459                    0                                0                0   \n",
       "64460                    0                                0                0   \n",
       "\n",
       "       Scientist  Senior executive/VP  System administrator  \n",
       "0              0                    0                     0  \n",
       "1              0                    0                     0  \n",
       "2              0                    0                     0  \n",
       "3              0                    0                     0  \n",
       "4              0                    0                     0  \n",
       "...          ...                  ...                   ...  \n",
       "64456          0                    1                     0  \n",
       "64457          0                    0                     0  \n",
       "64458          0                    0                     0  \n",
       "64459          0                    0                     0  \n",
       "64460          0                    0                     0  \n",
       "\n",
       "[64461 rows x 23 columns]"
      ]
     },
     "execution_count": 127,
     "metadata": {},
     "output_type": "execute_result"
    }
   ],
   "source": [
    "y = df[\"DevType\"]\n",
    "y"
   ]
  },
  {
   "cell_type": "markdown",
   "metadata": {},
   "source": [
    "# train the model"
   ]
  },
  {
   "cell_type": "code",
   "execution_count": null,
   "metadata": {},
   "outputs": [],
   "source": []
  }
 ],
 "metadata": {
  "kernelspec": {
   "display_name": "Python 3",
   "language": "python",
   "name": "python3"
  },
  "language_info": {
   "codemirror_mode": {
    "name": "ipython",
    "version": 3
   },
   "file_extension": ".py",
   "mimetype": "text/x-python",
   "name": "python",
   "nbconvert_exporter": "python",
   "pygments_lexer": "ipython3",
   "version": "3.10.5"
  }
 },
 "nbformat": 4,
 "nbformat_minor": 2
}
