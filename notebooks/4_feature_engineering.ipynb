{
 "cells": [
  {
   "cell_type": "code",
   "execution_count": 42,
   "metadata": {},
   "outputs": [],
   "source": [
    "import numpy as np\n",
    "import pandas as pd\n",
    "from collections import Counter\n",
    "from sklearn.manifold import TSNE\n",
    "from sklearn.preprocessing import StandardScaler\n",
    "import seaborn as sns\n",
    "import matplotlib.pyplot as plt\n",
    "import plotly.express as px"
   ]
  },
  {
   "cell_type": "code",
   "execution_count": 2,
   "metadata": {},
   "outputs": [],
   "source": [
    "#working in local machine\n",
    "Data_PATH = r\"..\\data\\processed\\onehot_2.pkl\"\n",
    "#working in codespace\n",
    "# Data_PATH = r\"/workspaces/stackoverflowDeveloper/data/processed/onehot_2.pkl\"\n",
    "\n",
    "EXPORT_PATH = r\"..\\data\\processed\\onehot_2.pkl\"\n",
    "\n",
    "TECH_COL = [\"MiscTechWorkedWith\", \"NEWCollabToolsWorkedWith\", \"DatabaseWorkedWith\", \"WebframeWorkedWith\", \"LanguageWorkedWith\", \"PlatformWorkedWith\"]\n",
    "JOB_COL = \"DevType\"\n",
    "COL_READ = TECH_COL +[JOB_COL]"
   ]
  },
  {
   "cell_type": "markdown",
   "metadata": {},
   "source": [
    "# Load the data"
   ]
  },
  {
   "cell_type": "code",
   "execution_count": 3,
   "metadata": {},
   "outputs": [
    {
     "data": {
      "text/html": [
       "<div>\n",
       "<style scoped>\n",
       "    .dataframe tbody tr th:only-of-type {\n",
       "        vertical-align: middle;\n",
       "    }\n",
       "\n",
       "    .dataframe tbody tr th {\n",
       "        vertical-align: top;\n",
       "    }\n",
       "\n",
       "    .dataframe thead tr th {\n",
       "        text-align: left;\n",
       "    }\n",
       "</style>\n",
       "<table border=\"1\" class=\"dataframe\">\n",
       "  <thead>\n",
       "    <tr>\n",
       "      <th></th>\n",
       "      <th colspan=\"10\" halign=\"left\">MiscTechWorkedWith</th>\n",
       "      <th>...</th>\n",
       "      <th colspan=\"10\" halign=\"left\">DevType</th>\n",
       "    </tr>\n",
       "    <tr>\n",
       "      <th></th>\n",
       "      <th>.NET</th>\n",
       "      <th>.NET Core</th>\n",
       "      <th>Ansible</th>\n",
       "      <th>Apache Spark</th>\n",
       "      <th>Chef</th>\n",
       "      <th>Cordova</th>\n",
       "      <th>Flutter</th>\n",
       "      <th>Hadoop</th>\n",
       "      <th>Keras</th>\n",
       "      <th>Node.js</th>\n",
       "      <th>...</th>\n",
       "      <th>Developer, mobile</th>\n",
       "      <th>Educator</th>\n",
       "      <th>Engineer, data</th>\n",
       "      <th>Engineer, site reliability</th>\n",
       "      <th>Engineering manager</th>\n",
       "      <th>Marketing or sales professional</th>\n",
       "      <th>Product manager</th>\n",
       "      <th>Scientist</th>\n",
       "      <th>Senior executive/VP</th>\n",
       "      <th>System administrator</th>\n",
       "    </tr>\n",
       "  </thead>\n",
       "  <tbody>\n",
       "    <tr>\n",
       "      <th>0</th>\n",
       "      <td>1</td>\n",
       "      <td>1</td>\n",
       "      <td>0</td>\n",
       "      <td>0</td>\n",
       "      <td>0</td>\n",
       "      <td>0</td>\n",
       "      <td>0</td>\n",
       "      <td>0</td>\n",
       "      <td>0</td>\n",
       "      <td>0</td>\n",
       "      <td>...</td>\n",
       "      <td>0</td>\n",
       "      <td>0</td>\n",
       "      <td>0</td>\n",
       "      <td>0</td>\n",
       "      <td>0</td>\n",
       "      <td>0</td>\n",
       "      <td>0</td>\n",
       "      <td>0</td>\n",
       "      <td>0</td>\n",
       "      <td>0</td>\n",
       "    </tr>\n",
       "    <tr>\n",
       "      <th>1</th>\n",
       "      <td>0</td>\n",
       "      <td>0</td>\n",
       "      <td>0</td>\n",
       "      <td>0</td>\n",
       "      <td>0</td>\n",
       "      <td>0</td>\n",
       "      <td>0</td>\n",
       "      <td>0</td>\n",
       "      <td>0</td>\n",
       "      <td>0</td>\n",
       "      <td>...</td>\n",
       "      <td>1</td>\n",
       "      <td>0</td>\n",
       "      <td>0</td>\n",
       "      <td>0</td>\n",
       "      <td>0</td>\n",
       "      <td>0</td>\n",
       "      <td>0</td>\n",
       "      <td>0</td>\n",
       "      <td>0</td>\n",
       "      <td>0</td>\n",
       "    </tr>\n",
       "    <tr>\n",
       "      <th>2</th>\n",
       "      <td>0</td>\n",
       "      <td>0</td>\n",
       "      <td>0</td>\n",
       "      <td>0</td>\n",
       "      <td>0</td>\n",
       "      <td>0</td>\n",
       "      <td>0</td>\n",
       "      <td>0</td>\n",
       "      <td>0</td>\n",
       "      <td>0</td>\n",
       "      <td>...</td>\n",
       "      <td>0</td>\n",
       "      <td>0</td>\n",
       "      <td>0</td>\n",
       "      <td>0</td>\n",
       "      <td>0</td>\n",
       "      <td>0</td>\n",
       "      <td>0</td>\n",
       "      <td>0</td>\n",
       "      <td>0</td>\n",
       "      <td>0</td>\n",
       "    </tr>\n",
       "    <tr>\n",
       "      <th>3</th>\n",
       "      <td>0</td>\n",
       "      <td>0</td>\n",
       "      <td>0</td>\n",
       "      <td>0</td>\n",
       "      <td>0</td>\n",
       "      <td>0</td>\n",
       "      <td>0</td>\n",
       "      <td>0</td>\n",
       "      <td>0</td>\n",
       "      <td>0</td>\n",
       "      <td>...</td>\n",
       "      <td>0</td>\n",
       "      <td>0</td>\n",
       "      <td>0</td>\n",
       "      <td>0</td>\n",
       "      <td>0</td>\n",
       "      <td>0</td>\n",
       "      <td>0</td>\n",
       "      <td>0</td>\n",
       "      <td>0</td>\n",
       "      <td>0</td>\n",
       "    </tr>\n",
       "    <tr>\n",
       "      <th>4</th>\n",
       "      <td>0</td>\n",
       "      <td>0</td>\n",
       "      <td>1</td>\n",
       "      <td>0</td>\n",
       "      <td>0</td>\n",
       "      <td>0</td>\n",
       "      <td>0</td>\n",
       "      <td>0</td>\n",
       "      <td>0</td>\n",
       "      <td>0</td>\n",
       "      <td>...</td>\n",
       "      <td>0</td>\n",
       "      <td>0</td>\n",
       "      <td>0</td>\n",
       "      <td>0</td>\n",
       "      <td>0</td>\n",
       "      <td>0</td>\n",
       "      <td>0</td>\n",
       "      <td>0</td>\n",
       "      <td>0</td>\n",
       "      <td>0</td>\n",
       "    </tr>\n",
       "  </tbody>\n",
       "</table>\n",
       "<p>5 rows × 124 columns</p>\n",
       "</div>"
      ],
      "text/plain": [
       "  MiscTechWorkedWith                                                      \\\n",
       "                .NET .NET Core Ansible Apache Spark Chef Cordova Flutter   \n",
       "0                  1         1       0            0    0       0       0   \n",
       "1                  0         0       0            0    0       0       0   \n",
       "2                  0         0       0            0    0       0       0   \n",
       "3                  0         0       0            0    0       0       0   \n",
       "4                  0         0       1            0    0       0       0   \n",
       "\n",
       "                        ...           DevType                          \\\n",
       "  Hadoop Keras Node.js  ... Developer, mobile Educator Engineer, data   \n",
       "0      0     0       0  ...                 0        0              0   \n",
       "1      0     0       0  ...                 1        0              0   \n",
       "2      0     0       0  ...                 0        0              0   \n",
       "3      0     0       0  ...                 0        0              0   \n",
       "4      0     0       0  ...                 0        0              0   \n",
       "\n",
       "                                                  \\\n",
       "  Engineer, site reliability Engineering manager   \n",
       "0                          0                   0   \n",
       "1                          0                   0   \n",
       "2                          0                   0   \n",
       "3                          0                   0   \n",
       "4                          0                   0   \n",
       "\n",
       "                                                             \\\n",
       "  Marketing or sales professional Product manager Scientist   \n",
       "0                               0               0         0   \n",
       "1                               0               0         0   \n",
       "2                               0               0         0   \n",
       "3                               0               0         0   \n",
       "4                               0               0         0   \n",
       "\n",
       "                                            \n",
       "  Senior executive/VP System administrator  \n",
       "0                   0                    0  \n",
       "1                   0                    0  \n",
       "2                   0                    0  \n",
       "3                   0                    0  \n",
       "4                   0                    0  \n",
       "\n",
       "[5 rows x 124 columns]"
      ]
     },
     "execution_count": 3,
     "metadata": {},
     "output_type": "execute_result"
    }
   ],
   "source": [
    "df = pd.read_pickle(Data_PATH)\n",
    "df.head()"
   ]
  },
  {
   "cell_type": "code",
   "execution_count": 4,
   "metadata": {},
   "outputs": [
    {
     "data": {
      "text/plain": [
       "['.NET',\n",
       " '.NET Core',\n",
       " 'Ansible',\n",
       " 'Apache Spark',\n",
       " 'Chef',\n",
       " 'Cordova',\n",
       " 'Flutter',\n",
       " 'Hadoop',\n",
       " 'Keras',\n",
       " 'Node.js']"
      ]
     },
     "execution_count": 4,
     "metadata": {},
     "output_type": "execute_result"
    }
   ],
   "source": [
    "def get_skills_names(dataFrame):\n",
    "    #Make a skills list \n",
    "    skills = []\n",
    "    job_mask = dataFrame[(\"DevType\", \"Educator\")]==1  #Educator or any job as all jobs has the same columns\n",
    "    for tech_col in TECH_COL:\n",
    "        skills = skills + list(dataFrame.loc[job_mask][tech_col].columns)\n",
    "\n",
    "    return skills\n",
    "\n",
    "skills = get_skills_names(df)\n",
    "skills[:10]"
   ]
  },
  {
   "cell_type": "code",
   "execution_count": 5,
   "metadata": {},
   "outputs": [
    {
     "data": {
      "text/plain": [
       "['Academic researcher',\n",
       " 'Data or business analyst',\n",
       " 'Data scientist or machine learning specialist',\n",
       " 'Database administrator',\n",
       " 'Designer',\n",
       " 'DevOps specialist',\n",
       " 'Developer, QA or test',\n",
       " 'Developer, back-end',\n",
       " 'Developer, desktop or enterprise applications',\n",
       " 'Developer, embedded applications or devices']"
      ]
     },
     "execution_count": 5,
     "metadata": {},
     "output_type": "execute_result"
    }
   ],
   "source": [
    "jobs = list(df[\"DevType\"].columns)\n",
    "jobs[:10]"
   ]
  },
  {
   "cell_type": "code",
   "execution_count": 6,
   "metadata": {},
   "outputs": [
    {
     "data": {
      "text/plain": [
       "array([[ 1.88612836,  2.23463294, -0.21918963, ...,  1.11994429,\n",
       "        -0.36706528, -0.33665307],\n",
       "       [-0.53018661, -0.44750079, -0.21918963, ..., -0.89290155,\n",
       "        -0.36706528,  2.97041698],\n",
       "       [-0.53018661, -0.44750079, -0.21918963, ..., -0.89290155,\n",
       "        -0.36706528, -0.33665307],\n",
       "       ...,\n",
       "       [-0.53018661, -0.44750079, -0.21918963, ..., -0.89290155,\n",
       "        -0.36706528, -0.33665307],\n",
       "       [-0.53018661, -0.44750079, -0.21918963, ...,  1.11994429,\n",
       "        -0.36706528, -0.33665307],\n",
       "       [ 1.88612836,  2.23463294, -0.21918963, ...,  1.11994429,\n",
       "        -0.36706528, -0.33665307]])"
      ]
     },
     "execution_count": 6,
     "metadata": {},
     "output_type": "execute_result"
    }
   ],
   "source": [
    "df_skills = df.copy().drop(\"DevType\",axis=1)\n",
    "df_skills_scaled = StandardScaler().fit_transform(df_skills)\n",
    "df_skills_scaled"
   ]
  },
  {
   "cell_type": "code",
   "execution_count": 7,
   "metadata": {},
   "outputs": [
    {
     "data": {
      "text/plain": [
       "(64461, 101)"
      ]
     },
     "execution_count": 7,
     "metadata": {},
     "output_type": "execute_result"
    }
   ],
   "source": [
    "df_skills_scaled.shape"
   ]
  },
  {
   "cell_type": "markdown",
   "metadata": {},
   "source": [
    "# Use TSNE to visualize the data in 2d dimentions"
   ]
  },
  {
   "cell_type": "code",
   "execution_count": 52,
   "metadata": {},
   "outputs": [],
   "source": [
    "tsne = TSNE(n_components=2,\n",
    "            perplexity=3,\n",
    "            max_iter=10**10,\n",
    "            init=\"pca\",\n",
    "            learning_rate=0.01\n",
    "            )\n",
    "skills_tsne = tsne.fit_transform(df_skills_scaled.T)"
   ]
  },
  {
   "cell_type": "code",
   "execution_count": 53,
   "metadata": {},
   "outputs": [
    {
     "data": {
      "text/plain": [
       "(101, 2)"
      ]
     },
     "execution_count": 53,
     "metadata": {},
     "output_type": "execute_result"
    }
   ],
   "source": [
    "skills_tsne.shape"
   ]
  },
  {
   "cell_type": "code",
   "execution_count": 54,
   "metadata": {},
   "outputs": [
    {
     "data": {
      "text/html": [
       "<div>\n",
       "<style scoped>\n",
       "    .dataframe tbody tr th:only-of-type {\n",
       "        vertical-align: middle;\n",
       "    }\n",
       "\n",
       "    .dataframe tbody tr th {\n",
       "        vertical-align: top;\n",
       "    }\n",
       "\n",
       "    .dataframe thead th {\n",
       "        text-align: right;\n",
       "    }\n",
       "</style>\n",
       "<table border=\"1\" class=\"dataframe\">\n",
       "  <thead>\n",
       "    <tr style=\"text-align: right;\">\n",
       "      <th></th>\n",
       "      <th></th>\n",
       "      <th>x</th>\n",
       "      <th>y</th>\n",
       "    </tr>\n",
       "  </thead>\n",
       "  <tbody>\n",
       "    <tr>\n",
       "      <th rowspan=\"5\" valign=\"top\">MiscTechWorkedWith</th>\n",
       "      <th>.NET</th>\n",
       "      <td>-28.451099</td>\n",
       "      <td>5.894094</td>\n",
       "    </tr>\n",
       "    <tr>\n",
       "      <th>.NET Core</th>\n",
       "      <td>-30.989491</td>\n",
       "      <td>8.044797</td>\n",
       "    </tr>\n",
       "    <tr>\n",
       "      <th>Ansible</th>\n",
       "      <td>22.282867</td>\n",
       "      <td>5.071269</td>\n",
       "    </tr>\n",
       "    <tr>\n",
       "      <th>Apache Spark</th>\n",
       "      <td>23.707905</td>\n",
       "      <td>21.706453</td>\n",
       "    </tr>\n",
       "    <tr>\n",
       "      <th>Chef</th>\n",
       "      <td>26.442413</td>\n",
       "      <td>4.329106</td>\n",
       "    </tr>\n",
       "  </tbody>\n",
       "</table>\n",
       "</div>"
      ],
      "text/plain": [
       "                                         x          y\n",
       "MiscTechWorkedWith .NET         -28.451099   5.894094\n",
       "                   .NET Core    -30.989491   8.044797\n",
       "                   Ansible       22.282867   5.071269\n",
       "                   Apache Spark  23.707905  21.706453\n",
       "                   Chef          26.442413   4.329106"
      ]
     },
     "execution_count": 54,
     "metadata": {},
     "output_type": "execute_result"
    }
   ],
   "source": [
    "df_skills_tsne = pd.DataFrame(skills_tsne, index=df_skills.columns, columns=[\"x\",\"y\"])\n",
    "df_skills_tsne.head()"
   ]
  },
  {
   "cell_type": "code",
   "execution_count": 55,
   "metadata": {},
   "outputs": [
    {
     "data": {
      "application/vnd.plotly.v1+json": {
       "config": {
        "plotlyServerURL": "https://plot.ly"
       },
       "data": [
        {
         "hovertemplate": "x=%{x}<br>y=%{y}<br>text=%{text}<extra></extra>",
         "legendgroup": "",
         "marker": {
          "color": "#636efa",
          "symbol": "circle"
         },
         "mode": "markers+text",
         "name": "",
         "orientation": "v",
         "showlegend": false,
         "text": [
          ".NET",
          ".NET Core",
          "Ansible",
          "Apache Spark",
          "Chef",
          "Cordova",
          "Flutter",
          "Hadoop",
          "Keras",
          "Node.js",
          "Pandas",
          "Puppet",
          "React Native",
          "TensorFlow",
          "Teraform",
          "Torch/PyTorch",
          "Unity 3D",
          "Unreal Engine",
          "Xamarin",
          "Confluence",
          "Facebook Workplace",
          "Github",
          "Gitlab",
          "Google Suite (Docs, Meet, etc)",
          "Jira",
          "Microsoft Azure",
          "Microsoft Teams",
          "Slack",
          "Stack Overflow for Teams",
          "Trello",
          "Cassandra",
          "Couchbase",
          "DynamoDB",
          "Elasticsearch",
          "Firebase",
          "IBM DB2",
          "MariaDB",
          "Microsoft SQL Server",
          "MongoDB",
          "MySQL",
          "Oracle",
          "PostgreSQL",
          "Redis",
          "SQLite",
          "ASP.NET",
          "ASP.NET Core",
          "Angular",
          "Angular.js",
          "Django",
          "Drupal",
          "Express",
          "Flask",
          "Gatsby",
          "Laravel",
          "React.js",
          "Ruby on Rails",
          "Spring",
          "Symfony",
          "Vue.js",
          "jQuery",
          "Assembly",
          "Bash/Shell/PowerShell",
          "C",
          "C#",
          "C++",
          "Dart",
          "Go",
          "HTML/CSS",
          "Haskell",
          "Java",
          "JavaScript",
          "Julia",
          "Kotlin",
          "Objective-C",
          "PHP",
          "Perl",
          "Python",
          "R",
          "Ruby",
          "Rust",
          "SQL",
          "Scala",
          "Swift",
          "TypeScript",
          "VBA",
          "AWS",
          "Android",
          "Arduino",
          "Docker",
          "Google Cloud Platform",
          "Heroku",
          "IBM Cloud or Watson",
          "Kubernetes",
          "Linux",
          "MacOS",
          "Microsoft Azure",
          "Raspberry Pi",
          "Slack Apps and Integrations",
          "Windows",
          "WordPress",
          "iOS"
         ],
         "type": "scatter",
         "x": [
          -28.4511,
          -30.98949,
          22.282867,
          23.707905,
          26.442413,
          -10.170089,
          -4.2795715,
          23.526428,
          10.681082,
          -4.7794657,
          9.138521,
          26.912607,
          -4.327752,
          11.343746,
          21.109371,
          12.724371,
          -20.143385,
          -19.653393,
          -29.66197,
          15.992083,
          19.242,
          15.536603,
          11.778307,
          17.50303,
          16.143353,
          -37.28513,
          -38.103104,
          16.89383,
          18.622625,
          16.113535,
          24.154652,
          24.370445,
          17.959541,
          20.103415,
          2.8430676,
          -7.3402686,
          -19.85373,
          -28.013378,
          -5.9450703,
          -18.097803,
          -5.0433025,
          15.546205,
          19.332579,
          0.6860011,
          -29.511427,
          -31.634924,
          -11.378227,
          -12.821554,
          4.8863015,
          -18.69673,
          -4.593822,
          5.9371276,
          -1.9943436,
          -16.343477,
          -3.8113844,
          30.83956,
          -3.1024783,
          -17.52258,
          -13.967898,
          -13.452601,
          0.048340157,
          10.492569,
          -1.3544958,
          -28.303185,
          -2.0490577,
          -4.841316,
          16.378487,
          -13.921698,
          9.102322,
          -3.7359586,
          -13.3014765,
          9.192328,
          -0.14661925,
          3.5811946,
          -17.99342,
          9.337426,
          6.4995656,
          9.150915,
          30.738672,
          9.25646,
          -15.528663,
          23.982988,
          3.8213627,
          -10.93542,
          -27.140543,
          17.779646,
          1.235949,
          -6.2926655,
          16.839787,
          4.604197,
          -3.1785429,
          -7.686291,
          17.601028,
          11.433076,
          6.8560634,
          -36.913902,
          -6.776929,
          19.027994,
          -26.124228,
          -19.89517,
          4.282021
         ],
         "xaxis": "x",
         "y": [
          5.894094,
          8.044797,
          5.071269,
          21.706453,
          4.329106,
          -15.005735,
          -7.504831,
          22.378448,
          30.881153,
          -26.597351,
          29.739634,
          4.8639064,
          -23.25667,
          30.70894,
          5.1417236,
          31.185709,
          16.491196,
          16.879745,
          9.735821,
          -5.966839,
          -21.622967,
          -10.121283,
          6.776501,
          -11.376927,
          -6.6548133,
          4.8359594,
          3.5120182,
          -10.205616,
          -21.764725,
          -12.73058,
          18.18161,
          16.634537,
          1.4733496,
          10.044118,
          -4.3548713,
          5.6502504,
          -31.848057,
          3.509592,
          -28.49343,
          -32.74482,
          2.5479348,
          5.26584,
          9.138778,
          -7.066621,
          5.010533,
          7.50262,
          -17.184917,
          -16.725529,
          30.678343,
          -37.413994,
          -27.558756,
          31.768618,
          -24.648531,
          -33.774826,
          -24.6676,
          -5.0780907,
          1.549313,
          -36.070724,
          -33.163143,
          -27.96924,
          18.384918,
          9.881584,
          18.136171,
          6.861382,
          17.997997,
          -7.2845597,
          8.496588,
          -25.89304,
          21.756308,
          1.4552757,
          -26.376513,
          24.398937,
          -4.4415913,
          -11.613287,
          -33.820465,
          10.989485,
          30.59429,
          27.76555,
          -4.484334,
          20.884096,
          -24.852007,
          20.249056,
          -10.483839,
          -17.945635,
          2.1457825,
          2.347375,
          -5.5968366,
          20.395002,
          6.499819,
          -2.8410754,
          -28.816282,
          6.354159,
          6.7021027,
          8.74386,
          -9.433785,
          5.4604244,
          20.797707,
          -9.195752,
          6.255196,
          -34.64548,
          -9.72387
         ],
         "yaxis": "y"
        }
       ],
       "layout": {
        "height": 1000,
        "legend": {
         "tracegroupgap": 0
        },
        "margin": {
         "t": 60
        },
        "template": {
         "data": {
          "bar": [
           {
            "error_x": {
             "color": "#2a3f5f"
            },
            "error_y": {
             "color": "#2a3f5f"
            },
            "marker": {
             "line": {
              "color": "#E5ECF6",
              "width": 0.5
             },
             "pattern": {
              "fillmode": "overlay",
              "size": 10,
              "solidity": 0.2
             }
            },
            "type": "bar"
           }
          ],
          "barpolar": [
           {
            "marker": {
             "line": {
              "color": "#E5ECF6",
              "width": 0.5
             },
             "pattern": {
              "fillmode": "overlay",
              "size": 10,
              "solidity": 0.2
             }
            },
            "type": "barpolar"
           }
          ],
          "carpet": [
           {
            "aaxis": {
             "endlinecolor": "#2a3f5f",
             "gridcolor": "white",
             "linecolor": "white",
             "minorgridcolor": "white",
             "startlinecolor": "#2a3f5f"
            },
            "baxis": {
             "endlinecolor": "#2a3f5f",
             "gridcolor": "white",
             "linecolor": "white",
             "minorgridcolor": "white",
             "startlinecolor": "#2a3f5f"
            },
            "type": "carpet"
           }
          ],
          "choropleth": [
           {
            "colorbar": {
             "outlinewidth": 0,
             "ticks": ""
            },
            "type": "choropleth"
           }
          ],
          "contour": [
           {
            "colorbar": {
             "outlinewidth": 0,
             "ticks": ""
            },
            "colorscale": [
             [
              0,
              "#0d0887"
             ],
             [
              0.1111111111111111,
              "#46039f"
             ],
             [
              0.2222222222222222,
              "#7201a8"
             ],
             [
              0.3333333333333333,
              "#9c179e"
             ],
             [
              0.4444444444444444,
              "#bd3786"
             ],
             [
              0.5555555555555556,
              "#d8576b"
             ],
             [
              0.6666666666666666,
              "#ed7953"
             ],
             [
              0.7777777777777778,
              "#fb9f3a"
             ],
             [
              0.8888888888888888,
              "#fdca26"
             ],
             [
              1,
              "#f0f921"
             ]
            ],
            "type": "contour"
           }
          ],
          "contourcarpet": [
           {
            "colorbar": {
             "outlinewidth": 0,
             "ticks": ""
            },
            "type": "contourcarpet"
           }
          ],
          "heatmap": [
           {
            "colorbar": {
             "outlinewidth": 0,
             "ticks": ""
            },
            "colorscale": [
             [
              0,
              "#0d0887"
             ],
             [
              0.1111111111111111,
              "#46039f"
             ],
             [
              0.2222222222222222,
              "#7201a8"
             ],
             [
              0.3333333333333333,
              "#9c179e"
             ],
             [
              0.4444444444444444,
              "#bd3786"
             ],
             [
              0.5555555555555556,
              "#d8576b"
             ],
             [
              0.6666666666666666,
              "#ed7953"
             ],
             [
              0.7777777777777778,
              "#fb9f3a"
             ],
             [
              0.8888888888888888,
              "#fdca26"
             ],
             [
              1,
              "#f0f921"
             ]
            ],
            "type": "heatmap"
           }
          ],
          "heatmapgl": [
           {
            "colorbar": {
             "outlinewidth": 0,
             "ticks": ""
            },
            "colorscale": [
             [
              0,
              "#0d0887"
             ],
             [
              0.1111111111111111,
              "#46039f"
             ],
             [
              0.2222222222222222,
              "#7201a8"
             ],
             [
              0.3333333333333333,
              "#9c179e"
             ],
             [
              0.4444444444444444,
              "#bd3786"
             ],
             [
              0.5555555555555556,
              "#d8576b"
             ],
             [
              0.6666666666666666,
              "#ed7953"
             ],
             [
              0.7777777777777778,
              "#fb9f3a"
             ],
             [
              0.8888888888888888,
              "#fdca26"
             ],
             [
              1,
              "#f0f921"
             ]
            ],
            "type": "heatmapgl"
           }
          ],
          "histogram": [
           {
            "marker": {
             "pattern": {
              "fillmode": "overlay",
              "size": 10,
              "solidity": 0.2
             }
            },
            "type": "histogram"
           }
          ],
          "histogram2d": [
           {
            "colorbar": {
             "outlinewidth": 0,
             "ticks": ""
            },
            "colorscale": [
             [
              0,
              "#0d0887"
             ],
             [
              0.1111111111111111,
              "#46039f"
             ],
             [
              0.2222222222222222,
              "#7201a8"
             ],
             [
              0.3333333333333333,
              "#9c179e"
             ],
             [
              0.4444444444444444,
              "#bd3786"
             ],
             [
              0.5555555555555556,
              "#d8576b"
             ],
             [
              0.6666666666666666,
              "#ed7953"
             ],
             [
              0.7777777777777778,
              "#fb9f3a"
             ],
             [
              0.8888888888888888,
              "#fdca26"
             ],
             [
              1,
              "#f0f921"
             ]
            ],
            "type": "histogram2d"
           }
          ],
          "histogram2dcontour": [
           {
            "colorbar": {
             "outlinewidth": 0,
             "ticks": ""
            },
            "colorscale": [
             [
              0,
              "#0d0887"
             ],
             [
              0.1111111111111111,
              "#46039f"
             ],
             [
              0.2222222222222222,
              "#7201a8"
             ],
             [
              0.3333333333333333,
              "#9c179e"
             ],
             [
              0.4444444444444444,
              "#bd3786"
             ],
             [
              0.5555555555555556,
              "#d8576b"
             ],
             [
              0.6666666666666666,
              "#ed7953"
             ],
             [
              0.7777777777777778,
              "#fb9f3a"
             ],
             [
              0.8888888888888888,
              "#fdca26"
             ],
             [
              1,
              "#f0f921"
             ]
            ],
            "type": "histogram2dcontour"
           }
          ],
          "mesh3d": [
           {
            "colorbar": {
             "outlinewidth": 0,
             "ticks": ""
            },
            "type": "mesh3d"
           }
          ],
          "parcoords": [
           {
            "line": {
             "colorbar": {
              "outlinewidth": 0,
              "ticks": ""
             }
            },
            "type": "parcoords"
           }
          ],
          "pie": [
           {
            "automargin": true,
            "type": "pie"
           }
          ],
          "scatter": [
           {
            "fillpattern": {
             "fillmode": "overlay",
             "size": 10,
             "solidity": 0.2
            },
            "type": "scatter"
           }
          ],
          "scatter3d": [
           {
            "line": {
             "colorbar": {
              "outlinewidth": 0,
              "ticks": ""
             }
            },
            "marker": {
             "colorbar": {
              "outlinewidth": 0,
              "ticks": ""
             }
            },
            "type": "scatter3d"
           }
          ],
          "scattercarpet": [
           {
            "marker": {
             "colorbar": {
              "outlinewidth": 0,
              "ticks": ""
             }
            },
            "type": "scattercarpet"
           }
          ],
          "scattergeo": [
           {
            "marker": {
             "colorbar": {
              "outlinewidth": 0,
              "ticks": ""
             }
            },
            "type": "scattergeo"
           }
          ],
          "scattergl": [
           {
            "marker": {
             "colorbar": {
              "outlinewidth": 0,
              "ticks": ""
             }
            },
            "type": "scattergl"
           }
          ],
          "scattermapbox": [
           {
            "marker": {
             "colorbar": {
              "outlinewidth": 0,
              "ticks": ""
             }
            },
            "type": "scattermapbox"
           }
          ],
          "scatterpolar": [
           {
            "marker": {
             "colorbar": {
              "outlinewidth": 0,
              "ticks": ""
             }
            },
            "type": "scatterpolar"
           }
          ],
          "scatterpolargl": [
           {
            "marker": {
             "colorbar": {
              "outlinewidth": 0,
              "ticks": ""
             }
            },
            "type": "scatterpolargl"
           }
          ],
          "scatterternary": [
           {
            "marker": {
             "colorbar": {
              "outlinewidth": 0,
              "ticks": ""
             }
            },
            "type": "scatterternary"
           }
          ],
          "surface": [
           {
            "colorbar": {
             "outlinewidth": 0,
             "ticks": ""
            },
            "colorscale": [
             [
              0,
              "#0d0887"
             ],
             [
              0.1111111111111111,
              "#46039f"
             ],
             [
              0.2222222222222222,
              "#7201a8"
             ],
             [
              0.3333333333333333,
              "#9c179e"
             ],
             [
              0.4444444444444444,
              "#bd3786"
             ],
             [
              0.5555555555555556,
              "#d8576b"
             ],
             [
              0.6666666666666666,
              "#ed7953"
             ],
             [
              0.7777777777777778,
              "#fb9f3a"
             ],
             [
              0.8888888888888888,
              "#fdca26"
             ],
             [
              1,
              "#f0f921"
             ]
            ],
            "type": "surface"
           }
          ],
          "table": [
           {
            "cells": {
             "fill": {
              "color": "#EBF0F8"
             },
             "line": {
              "color": "white"
             }
            },
            "header": {
             "fill": {
              "color": "#C8D4E3"
             },
             "line": {
              "color": "white"
             }
            },
            "type": "table"
           }
          ]
         },
         "layout": {
          "annotationdefaults": {
           "arrowcolor": "#2a3f5f",
           "arrowhead": 0,
           "arrowwidth": 1
          },
          "autotypenumbers": "strict",
          "coloraxis": {
           "colorbar": {
            "outlinewidth": 0,
            "ticks": ""
           }
          },
          "colorscale": {
           "diverging": [
            [
             0,
             "#8e0152"
            ],
            [
             0.1,
             "#c51b7d"
            ],
            [
             0.2,
             "#de77ae"
            ],
            [
             0.3,
             "#f1b6da"
            ],
            [
             0.4,
             "#fde0ef"
            ],
            [
             0.5,
             "#f7f7f7"
            ],
            [
             0.6,
             "#e6f5d0"
            ],
            [
             0.7,
             "#b8e186"
            ],
            [
             0.8,
             "#7fbc41"
            ],
            [
             0.9,
             "#4d9221"
            ],
            [
             1,
             "#276419"
            ]
           ],
           "sequential": [
            [
             0,
             "#0d0887"
            ],
            [
             0.1111111111111111,
             "#46039f"
            ],
            [
             0.2222222222222222,
             "#7201a8"
            ],
            [
             0.3333333333333333,
             "#9c179e"
            ],
            [
             0.4444444444444444,
             "#bd3786"
            ],
            [
             0.5555555555555556,
             "#d8576b"
            ],
            [
             0.6666666666666666,
             "#ed7953"
            ],
            [
             0.7777777777777778,
             "#fb9f3a"
            ],
            [
             0.8888888888888888,
             "#fdca26"
            ],
            [
             1,
             "#f0f921"
            ]
           ],
           "sequentialminus": [
            [
             0,
             "#0d0887"
            ],
            [
             0.1111111111111111,
             "#46039f"
            ],
            [
             0.2222222222222222,
             "#7201a8"
            ],
            [
             0.3333333333333333,
             "#9c179e"
            ],
            [
             0.4444444444444444,
             "#bd3786"
            ],
            [
             0.5555555555555556,
             "#d8576b"
            ],
            [
             0.6666666666666666,
             "#ed7953"
            ],
            [
             0.7777777777777778,
             "#fb9f3a"
            ],
            [
             0.8888888888888888,
             "#fdca26"
            ],
            [
             1,
             "#f0f921"
            ]
           ]
          },
          "colorway": [
           "#636efa",
           "#EF553B",
           "#00cc96",
           "#ab63fa",
           "#FFA15A",
           "#19d3f3",
           "#FF6692",
           "#B6E880",
           "#FF97FF",
           "#FECB52"
          ],
          "font": {
           "color": "#2a3f5f"
          },
          "geo": {
           "bgcolor": "white",
           "lakecolor": "white",
           "landcolor": "#E5ECF6",
           "showlakes": true,
           "showland": true,
           "subunitcolor": "white"
          },
          "hoverlabel": {
           "align": "left"
          },
          "hovermode": "closest",
          "mapbox": {
           "style": "light"
          },
          "paper_bgcolor": "white",
          "plot_bgcolor": "#E5ECF6",
          "polar": {
           "angularaxis": {
            "gridcolor": "white",
            "linecolor": "white",
            "ticks": ""
           },
           "bgcolor": "#E5ECF6",
           "radialaxis": {
            "gridcolor": "white",
            "linecolor": "white",
            "ticks": ""
           }
          },
          "scene": {
           "xaxis": {
            "backgroundcolor": "#E5ECF6",
            "gridcolor": "white",
            "gridwidth": 2,
            "linecolor": "white",
            "showbackground": true,
            "ticks": "",
            "zerolinecolor": "white"
           },
           "yaxis": {
            "backgroundcolor": "#E5ECF6",
            "gridcolor": "white",
            "gridwidth": 2,
            "linecolor": "white",
            "showbackground": true,
            "ticks": "",
            "zerolinecolor": "white"
           },
           "zaxis": {
            "backgroundcolor": "#E5ECF6",
            "gridcolor": "white",
            "gridwidth": 2,
            "linecolor": "white",
            "showbackground": true,
            "ticks": "",
            "zerolinecolor": "white"
           }
          },
          "shapedefaults": {
           "line": {
            "color": "#2a3f5f"
           }
          },
          "ternary": {
           "aaxis": {
            "gridcolor": "white",
            "linecolor": "white",
            "ticks": ""
           },
           "baxis": {
            "gridcolor": "white",
            "linecolor": "white",
            "ticks": ""
           },
           "bgcolor": "#E5ECF6",
           "caxis": {
            "gridcolor": "white",
            "linecolor": "white",
            "ticks": ""
           }
          },
          "title": {
           "x": 0.05
          },
          "xaxis": {
           "automargin": true,
           "gridcolor": "white",
           "linecolor": "white",
           "ticks": "",
           "title": {
            "standoff": 15
           },
           "zerolinecolor": "white",
           "zerolinewidth": 2
          },
          "yaxis": {
           "automargin": true,
           "gridcolor": "white",
           "linecolor": "white",
           "ticks": "",
           "title": {
            "standoff": 15
           },
           "zerolinecolor": "white",
           "zerolinewidth": 2
          }
         }
        },
        "title": {
         "text": "skills in 2 dimentions"
        },
        "width": 1000,
        "xaxis": {
         "anchor": "y",
         "domain": [
          0,
          1
         ],
         "title": {
          "text": "x"
         }
        },
        "yaxis": {
         "anchor": "x",
         "domain": [
          0,
          1
         ],
         "title": {
          "text": "y"
         }
        }
       }
      }
     },
     "metadata": {},
     "output_type": "display_data"
    }
   ],
   "source": [
    "# sns.scatterplot(x=df_skills_tsne[\"x\"], y=df_skills_tsne[\"y\"], hue=df_skills_tsne.droplevel(0).index)\n",
    "fig = px.scatter(data_frame=df_skills_tsne, x=\"x\", y=\"y\",text=df_skills_tsne.droplevel(0).index)\n",
    "fig.update_layout(title=\"skills in 2 dimentions\",\n",
    "                  width=1000,\n",
    "                  height=1000)"
   ]
  },
  {
   "cell_type": "markdown",
   "metadata": {},
   "source": [
    "# Feature(dimentionality) reduction...clustering"
   ]
  },
  {
   "cell_type": "code",
   "execution_count": null,
   "metadata": {},
   "outputs": [],
   "source": []
  },
  {
   "cell_type": "code",
   "execution_count": null,
   "metadata": {},
   "outputs": [],
   "source": []
  }
 ],
 "metadata": {
  "kernelspec": {
   "display_name": "Python 3",
   "language": "python",
   "name": "python3"
  },
  "language_info": {
   "codemirror_mode": {
    "name": "ipython",
    "version": 3
   },
   "file_extension": ".py",
   "mimetype": "text/x-python",
   "name": "python",
   "nbconvert_exporter": "python",
   "pygments_lexer": "ipython3",
   "version": "3.10.5"
  }
 },
 "nbformat": 4,
 "nbformat_minor": 2
}
