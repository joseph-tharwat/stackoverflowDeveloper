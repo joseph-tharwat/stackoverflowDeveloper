{
 "cells": [
  {
   "cell_type": "code",
   "execution_count": 40,
   "metadata": {},
   "outputs": [],
   "source": [
    "import pandas as pd\n",
    "from pandas import get_dummies\n",
    "import numpy as np\n",
    "from collections import Counter\n",
    "import matplotlib.pyplot as plt\n",
    "import seaborn as sns\n",
    "import plotly.graph_objects as go\n",
    "import plotly.express as px\n",
    "import nbformat\n",
    "import plotly.figure_factory as ff\n",
    "from sklearn.preprocessing import StandardScaler\n",
    "from sklearn.preprocessing import MultiLabelBinarizer"
   ]
  },
  {
   "cell_type": "code",
   "execution_count": 47,
   "metadata": {},
   "outputs": [],
   "source": [
    "#working in local machine\n",
    "Data_PATH = r\"..\\data\\processed\\preprocessed_1.csv.pkl\"\n",
    "#working in codespace\n",
    "# Data_PATH = r\"/workspaces/stackoverflowDeveloper/data/processed/preprocessed_1.csv.pkl\"\n",
    "\n",
    "EXPORT_PATH = r\"..\\data\\processed\\onehot_2.pkl\"\n",
    "\n",
    "TECH_COL = [\"MiscTechWorkedWith\", \"NEWCollabToolsWorkedWith\", \"DatabaseWorkedWith\", \"WebframeWorkedWith\", \"LanguageWorkedWith\", \"PlatformWorkedWith\"]\n",
    "JOB_COL = \"DevType\"\n",
    "COL_READ = TECH_COL +[JOB_COL]"
   ]
  },
  {
   "cell_type": "code",
   "execution_count": 7,
   "metadata": {},
   "outputs": [
    {
     "data": {
      "text/html": [
       "<div>\n",
       "<style scoped>\n",
       "    .dataframe tbody tr th:only-of-type {\n",
       "        vertical-align: middle;\n",
       "    }\n",
       "\n",
       "    .dataframe tbody tr th {\n",
       "        vertical-align: top;\n",
       "    }\n",
       "\n",
       "    .dataframe thead th {\n",
       "        text-align: right;\n",
       "    }\n",
       "</style>\n",
       "<table border=\"1\" class=\"dataframe\">\n",
       "  <thead>\n",
       "    <tr style=\"text-align: right;\">\n",
       "      <th></th>\n",
       "      <th>MiscTechWorkedWith</th>\n",
       "      <th>NEWCollabToolsWorkedWith</th>\n",
       "      <th>DatabaseWorkedWith</th>\n",
       "      <th>WebframeWorkedWith</th>\n",
       "      <th>LanguageWorkedWith</th>\n",
       "      <th>PlatformWorkedWith</th>\n",
       "      <th>DevType</th>\n",
       "    </tr>\n",
       "  </thead>\n",
       "  <tbody>\n",
       "    <tr>\n",
       "      <th>0</th>\n",
       "      <td>[.NET, .NET Core]</td>\n",
       "      <td>[Confluence, Jira, Slack, Microsoft Azure, Tre...</td>\n",
       "      <td>[Elasticsearch, Microsoft SQL Server, Oracle]</td>\n",
       "      <td>[ASP.NET, ASP.NET Core]</td>\n",
       "      <td>[C#, HTML/CSS, JavaScript]</td>\n",
       "      <td>[Windows]</td>\n",
       "      <td>[Developer, desktop or enterprise applications...</td>\n",
       "    </tr>\n",
       "    <tr>\n",
       "      <th>1</th>\n",
       "      <td>[React Native]</td>\n",
       "      <td>[Confluence, Jira, Github, Gitlab, Slack]</td>\n",
       "      <td>[]</td>\n",
       "      <td>[]</td>\n",
       "      <td>[JavaScript, Swift]</td>\n",
       "      <td>[iOS]</td>\n",
       "      <td>[Developer, full-stack, Developer, mobile]</td>\n",
       "    </tr>\n",
       "    <tr>\n",
       "      <th>2</th>\n",
       "      <td>[]</td>\n",
       "      <td>[]</td>\n",
       "      <td>[]</td>\n",
       "      <td>[]</td>\n",
       "      <td>[Objective-C, Python, Swift]</td>\n",
       "      <td>[]</td>\n",
       "      <td>[]</td>\n",
       "    </tr>\n",
       "    <tr>\n",
       "      <th>3</th>\n",
       "      <td>[]</td>\n",
       "      <td>[]</td>\n",
       "      <td>[]</td>\n",
       "      <td>[]</td>\n",
       "      <td>[]</td>\n",
       "      <td>[]</td>\n",
       "      <td>[]</td>\n",
       "    </tr>\n",
       "    <tr>\n",
       "      <th>4</th>\n",
       "      <td>[Ansible]</td>\n",
       "      <td>[Confluence, Jira, Github, Slack, Google Suite...</td>\n",
       "      <td>[MySQL, PostgreSQL, Redis, SQLite]</td>\n",
       "      <td>[Ruby on Rails]</td>\n",
       "      <td>[HTML/CSS, Ruby, SQL]</td>\n",
       "      <td>[AWS, Docker, Linux, MacOS, Windows]</td>\n",
       "      <td>[]</td>\n",
       "    </tr>\n",
       "  </tbody>\n",
       "</table>\n",
       "</div>"
      ],
      "text/plain": [
       "  MiscTechWorkedWith                           NEWCollabToolsWorkedWith  \\\n",
       "0  [.NET, .NET Core]  [Confluence, Jira, Slack, Microsoft Azure, Tre...   \n",
       "1     [React Native]          [Confluence, Jira, Github, Gitlab, Slack]   \n",
       "2                 []                                                 []   \n",
       "3                 []                                                 []   \n",
       "4          [Ansible]  [Confluence, Jira, Github, Slack, Google Suite...   \n",
       "\n",
       "                              DatabaseWorkedWith       WebframeWorkedWith  \\\n",
       "0  [Elasticsearch, Microsoft SQL Server, Oracle]  [ASP.NET, ASP.NET Core]   \n",
       "1                                             []                       []   \n",
       "2                                             []                       []   \n",
       "3                                             []                       []   \n",
       "4             [MySQL, PostgreSQL, Redis, SQLite]          [Ruby on Rails]   \n",
       "\n",
       "             LanguageWorkedWith                    PlatformWorkedWith  \\\n",
       "0    [C#, HTML/CSS, JavaScript]                             [Windows]   \n",
       "1           [JavaScript, Swift]                                 [iOS]   \n",
       "2  [Objective-C, Python, Swift]                                    []   \n",
       "3                            []                                    []   \n",
       "4         [HTML/CSS, Ruby, SQL]  [AWS, Docker, Linux, MacOS, Windows]   \n",
       "\n",
       "                                             DevType  \n",
       "0  [Developer, desktop or enterprise applications...  \n",
       "1         [Developer, full-stack, Developer, mobile]  \n",
       "2                                                 []  \n",
       "3                                                 []  \n",
       "4                                                 []  "
      ]
     },
     "execution_count": 7,
     "metadata": {},
     "output_type": "execute_result"
    }
   ],
   "source": [
    "df = pd.read_pickle(Data_PATH)\n",
    "df = df.filter(COL_READ)\n",
    "df.head()"
   ]
  },
  {
   "cell_type": "code",
   "execution_count": 8,
   "metadata": {},
   "outputs": [],
   "source": [
    "def frequency_visualize(data):\n",
    "    flattend_list = []\n",
    "    colun_names = list(data.columns)\n",
    "    for col_num in range(0,data.shape[1]):\n",
    "        temp = [item for sublist in data[colun_names[col_num]] for item in sublist]\n",
    "        flattend_list.append(temp)\n",
    "    \n",
    "    flattend_all_list = [item for sublist in flattend_list for item in sublist]\n",
    "    freq_languages = Counter(flattend_all_list)\n",
    "\n",
    "    language = list(freq_languages.keys())\n",
    "    frequancy = list(freq_languages.values())\n",
    "    plt.figure(figsize=(10, 20))\n",
    "    plt.barh(language, frequancy)\n",
    "\n"
   ]
  },
  {
   "cell_type": "code",
   "execution_count": 9,
   "metadata": {},
   "outputs": [
    {
     "data": {
      "image/png": "[encoded data removed]",
      "text/plain": [
       "<Figure size 1000x2000 with 1 Axes>"
      ]
     },
     "metadata": {},
     "output_type": "display_data"
    }
   ],
   "source": [
    "df_skills = df[TECH_COL]\n",
    "frequency_visualize(df_skills)"
   ]
  },
  {
   "cell_type": "code",
   "execution_count": 53,
   "metadata": {},
   "outputs": [
    {
     "data": {
      "text/plain": [
       "['Developer, desktop or enterprise applications',\n",
       " 'Developer, full-stack',\n",
       " 'Developer, mobile',\n",
       " 'Designer',\n",
       " 'Developer, front-end',\n",
       " 'Developer, back-end',\n",
       " 'Developer, QA or test',\n",
       " 'DevOps specialist',\n",
       " 'Developer, game or graphics',\n",
       " 'Database administrator']"
      ]
     },
     "execution_count": 53,
     "metadata": {},
     "output_type": "execute_result"
    }
   ],
   "source": [
    "def get_jobs_name(dataFrame):\n",
    "    flattend_list = [item for sublist in dataFrame[\"DevType\"] for item in sublist]\n",
    "    frequancy_jobs = Counter(flattend_list)\n",
    "    jobs = list(frequancy_jobs.keys())\n",
    "    return jobs\n",
    "\n",
    "jobs = get_jobs_name(df)\n",
    "jobs[:10]"
   ]
  },
  {
   "cell_type": "code",
   "execution_count": 33,
   "metadata": {},
   "outputs": [
    {
     "data": {
      "text/plain": [
       "{'Marketing or sales professional': 642,\n",
       " 'Senior executive/VP': 1320,\n",
       " 'Engineer, site reliability': 1940,\n",
       " 'Scientist': 2086,\n",
       " 'Product manager': 2497,\n",
       " 'Engineering manager': 2724,\n",
       " 'Developer, game or graphics': 2789,\n",
       " 'Educator': 2928,\n",
       " 'Academic researcher': 3552,\n",
       " 'Engineer, data': 3738,\n",
       " 'Developer, QA or test': 3947,\n",
       " 'Data scientist or machine learning specialist': 3988,\n",
       " 'Data or business analyst': 4024,\n",
       " 'Developer, embedded applications or devices': 4750,\n",
       " 'System administrator': 5242,\n",
       " 'Designer': 5321,\n",
       " 'Database administrator': 5722,\n",
       " 'DevOps specialist': 5969,\n",
       " 'Developer, mobile': 9482,\n",
       " 'Developer, desktop or enterprise applications': 11784,\n",
       " 'Developer, front-end': 18296,\n",
       " 'Developer, full-stack': 27125,\n",
       " 'Developer, back-end': 27228}"
      ]
     },
     "execution_count": 33,
     "metadata": {},
     "output_type": "execute_result"
    }
   ],
   "source": [
    "sorted_jobs_frequancy = dict(sorted(frequancy_jobs.items(), key=lambda item: item[1]))\n",
    "sorted_jobs_frequancy"
   ]
  },
  {
   "cell_type": "code",
   "execution_count": 34,
   "metadata": {},
   "outputs": [
    {
     "data": {
      "text/plain": [
       "<AxesSubplot: >"
      ]
     },
     "execution_count": 34,
     "metadata": {},
     "output_type": "execute_result"
    },
    {
     "data": {
      "image/png": "[encoded data removed]",
      "text/plain": [
       "<Figure size 640x480 with 1 Axes>"
      ]
     },
     "metadata": {},
     "output_type": "display_data"
    }
   ],
   "source": [
    "sns.barplot(x=sorted_jobs_frequancy.values(), y=sorted_jobs_frequancy.keys(), orient='h')"
   ]
  },
  {
   "cell_type": "markdown",
   "metadata": {},
   "source": [
    "# Convert to onehot encoding to vigualize them and get the relationship of them"
   ]
  },
  {
   "cell_type": "code",
   "execution_count": 12,
   "metadata": {},
   "outputs": [
    {
     "data": {
      "text/html": [
       "<div>\n",
       "<style scoped>\n",
       "    .dataframe tbody tr th:only-of-type {\n",
       "        vertical-align: middle;\n",
       "    }\n",
       "\n",
       "    .dataframe tbody tr th {\n",
       "        vertical-align: top;\n",
       "    }\n",
       "\n",
       "    .dataframe thead tr th {\n",
       "        text-align: left;\n",
       "    }\n",
       "</style>\n",
       "<table border=\"1\" class=\"dataframe\">\n",
       "  <thead>\n",
       "    <tr>\n",
       "      <th></th>\n",
       "      <th colspan=\"10\" halign=\"left\">MiscTechWorkedWith</th>\n",
       "      <th>...</th>\n",
       "      <th colspan=\"10\" halign=\"left\">DevType</th>\n",
       "    </tr>\n",
       "    <tr>\n",
       "      <th></th>\n",
       "      <th>.NET</th>\n",
       "      <th>.NET Core</th>\n",
       "      <th>Ansible</th>\n",
       "      <th>Apache Spark</th>\n",
       "      <th>Chef</th>\n",
       "      <th>Cordova</th>\n",
       "      <th>Flutter</th>\n",
       "      <th>Hadoop</th>\n",
       "      <th>Keras</th>\n",
       "      <th>Node.js</th>\n",
       "      <th>...</th>\n",
       "      <th>Developer, mobile</th>\n",
       "      <th>Educator</th>\n",
       "      <th>Engineer, data</th>\n",
       "      <th>Engineer, site reliability</th>\n",
       "      <th>Engineering manager</th>\n",
       "      <th>Marketing or sales professional</th>\n",
       "      <th>Product manager</th>\n",
       "      <th>Scientist</th>\n",
       "      <th>Senior executive/VP</th>\n",
       "      <th>System administrator</th>\n",
       "    </tr>\n",
       "  </thead>\n",
       "  <tbody>\n",
       "    <tr>\n",
       "      <th>0</th>\n",
       "      <td>1</td>\n",
       "      <td>1</td>\n",
       "      <td>0</td>\n",
       "      <td>0</td>\n",
       "      <td>0</td>\n",
       "      <td>0</td>\n",
       "      <td>0</td>\n",
       "      <td>0</td>\n",
       "      <td>0</td>\n",
       "      <td>0</td>\n",
       "      <td>...</td>\n",
       "      <td>0</td>\n",
       "      <td>0</td>\n",
       "      <td>0</td>\n",
       "      <td>0</td>\n",
       "      <td>0</td>\n",
       "      <td>0</td>\n",
       "      <td>0</td>\n",
       "      <td>0</td>\n",
       "      <td>0</td>\n",
       "      <td>0</td>\n",
       "    </tr>\n",
       "    <tr>\n",
       "      <th>1</th>\n",
       "      <td>0</td>\n",
       "      <td>0</td>\n",
       "      <td>0</td>\n",
       "      <td>0</td>\n",
       "      <td>0</td>\n",
       "      <td>0</td>\n",
       "      <td>0</td>\n",
       "      <td>0</td>\n",
       "      <td>0</td>\n",
       "      <td>0</td>\n",
       "      <td>...</td>\n",
       "      <td>1</td>\n",
       "      <td>0</td>\n",
       "      <td>0</td>\n",
       "      <td>0</td>\n",
       "      <td>0</td>\n",
       "      <td>0</td>\n",
       "      <td>0</td>\n",
       "      <td>0</td>\n",
       "      <td>0</td>\n",
       "      <td>0</td>\n",
       "    </tr>\n",
       "    <tr>\n",
       "      <th>2</th>\n",
       "      <td>0</td>\n",
       "      <td>0</td>\n",
       "      <td>0</td>\n",
       "      <td>0</td>\n",
       "      <td>0</td>\n",
       "      <td>0</td>\n",
       "      <td>0</td>\n",
       "      <td>0</td>\n",
       "      <td>0</td>\n",
       "      <td>0</td>\n",
       "      <td>...</td>\n",
       "      <td>0</td>\n",
       "      <td>0</td>\n",
       "      <td>0</td>\n",
       "      <td>0</td>\n",
       "      <td>0</td>\n",
       "      <td>0</td>\n",
       "      <td>0</td>\n",
       "      <td>0</td>\n",
       "      <td>0</td>\n",
       "      <td>0</td>\n",
       "    </tr>\n",
       "    <tr>\n",
       "      <th>3</th>\n",
       "      <td>0</td>\n",
       "      <td>0</td>\n",
       "      <td>0</td>\n",
       "      <td>0</td>\n",
       "      <td>0</td>\n",
       "      <td>0</td>\n",
       "      <td>0</td>\n",
       "      <td>0</td>\n",
       "      <td>0</td>\n",
       "      <td>0</td>\n",
       "      <td>...</td>\n",
       "      <td>0</td>\n",
       "      <td>0</td>\n",
       "      <td>0</td>\n",
       "      <td>0</td>\n",
       "      <td>0</td>\n",
       "      <td>0</td>\n",
       "      <td>0</td>\n",
       "      <td>0</td>\n",
       "      <td>0</td>\n",
       "      <td>0</td>\n",
       "    </tr>\n",
       "    <tr>\n",
       "      <th>4</th>\n",
       "      <td>0</td>\n",
       "      <td>0</td>\n",
       "      <td>1</td>\n",
       "      <td>0</td>\n",
       "      <td>0</td>\n",
       "      <td>0</td>\n",
       "      <td>0</td>\n",
       "      <td>0</td>\n",
       "      <td>0</td>\n",
       "      <td>0</td>\n",
       "      <td>...</td>\n",
       "      <td>0</td>\n",
       "      <td>0</td>\n",
       "      <td>0</td>\n",
       "      <td>0</td>\n",
       "      <td>0</td>\n",
       "      <td>0</td>\n",
       "      <td>0</td>\n",
       "      <td>0</td>\n",
       "      <td>0</td>\n",
       "      <td>0</td>\n",
       "    </tr>\n",
       "  </tbody>\n",
       "</table>\n",
       "<p>5 rows × 124 columns</p>\n",
       "</div>"
      ],
      "text/plain": [
       "  MiscTechWorkedWith                                                      \\\n",
       "                .NET .NET Core Ansible Apache Spark Chef Cordova Flutter   \n",
       "0                  1         1       0            0    0       0       0   \n",
       "1                  0         0       0            0    0       0       0   \n",
       "2                  0         0       0            0    0       0       0   \n",
       "3                  0         0       0            0    0       0       0   \n",
       "4                  0         0       1            0    0       0       0   \n",
       "\n",
       "                        ...           DevType                          \\\n",
       "  Hadoop Keras Node.js  ... Developer, mobile Educator Engineer, data   \n",
       "0      0     0       0  ...                 0        0              0   \n",
       "1      0     0       0  ...                 1        0              0   \n",
       "2      0     0       0  ...                 0        0              0   \n",
       "3      0     0       0  ...                 0        0              0   \n",
       "4      0     0       0  ...                 0        0              0   \n",
       "\n",
       "                                                  \\\n",
       "  Engineer, site reliability Engineering manager   \n",
       "0                          0                   0   \n",
       "1                          0                   0   \n",
       "2                          0                   0   \n",
       "3                          0                   0   \n",
       "4                          0                   0   \n",
       "\n",
       "                                                             \\\n",
       "  Marketing or sales professional Product manager Scientist   \n",
       "0                               0               0         0   \n",
       "1                               0               0         0   \n",
       "2                               0               0         0   \n",
       "3                               0               0         0   \n",
       "4                               0               0         0   \n",
       "\n",
       "                                            \n",
       "  Senior executive/VP System administrator  \n",
       "0                   0                    0  \n",
       "1                   0                    0  \n",
       "2                   0                    0  \n",
       "3                   0                    0  \n",
       "4                   0                    0  \n",
       "\n",
       "[5 rows x 124 columns]"
      ]
     },
     "execution_count": 12,
     "metadata": {},
     "output_type": "execute_result"
    }
   ],
   "source": [
    "df2 = df.copy()\n",
    "dfs_encoded ={}\n",
    "for col in COL_READ:\n",
    "    mlb = MultiLabelBinarizer()\n",
    "    df_encodded = pd.DataFrame(mlb.fit_transform(df[col]), columns = mlb.classes_, index=df[col].index)\n",
    "    dfs_encoded[col] = df_encodded\n",
    "\n",
    "df2 = pd.concat(dfs_encoded, axis=1)\n",
    "df2.head()"
   ]
  },
  {
   "cell_type": "code",
   "execution_count": 13,
   "metadata": {},
   "outputs": [
    {
     "data": {
      "text/plain": [
       "(64461, 124)"
      ]
     },
     "execution_count": 13,
     "metadata": {},
     "output_type": "execute_result"
    }
   ],
   "source": [
    "df2.shape"
   ]
  },
  {
   "cell_type": "code",
   "execution_count": 48,
   "metadata": {},
   "outputs": [],
   "source": [
    "df2.to_pickle(EXPORT_PATH)"
   ]
  },
  {
   "cell_type": "markdown",
   "metadata": {},
   "source": [
    "# Treemap to visualize the frequency of each skill"
   ]
  },
  {
   "cell_type": "code",
   "execution_count": 14,
   "metadata": {},
   "outputs": [
    {
     "data": {
      "text/html": [
       "<div>\n",
       "<style scoped>\n",
       "    .dataframe tbody tr th:only-of-type {\n",
       "        vertical-align: middle;\n",
       "    }\n",
       "\n",
       "    .dataframe tbody tr th {\n",
       "        vertical-align: top;\n",
       "    }\n",
       "\n",
       "    .dataframe thead th {\n",
       "        text-align: right;\n",
       "    }\n",
       "</style>\n",
       "<table border=\"1\" class=\"dataframe\">\n",
       "  <thead>\n",
       "    <tr style=\"text-align: right;\">\n",
       "      <th></th>\n",
       "      <th>level_0</th>\n",
       "      <th>level_1</th>\n",
       "      <th>0</th>\n",
       "    </tr>\n",
       "  </thead>\n",
       "  <tbody>\n",
       "    <tr>\n",
       "      <th>0</th>\n",
       "      <td>MiscTechWorkedWith</td>\n",
       "      <td>.NET</td>\n",
       "      <td>14144</td>\n",
       "    </tr>\n",
       "    <tr>\n",
       "      <th>1</th>\n",
       "      <td>MiscTechWorkedWith</td>\n",
       "      <td>.NET Core</td>\n",
       "      <td>10755</td>\n",
       "    </tr>\n",
       "    <tr>\n",
       "      <th>2</th>\n",
       "      <td>MiscTechWorkedWith</td>\n",
       "      <td>Ansible</td>\n",
       "      <td>2955</td>\n",
       "    </tr>\n",
       "    <tr>\n",
       "      <th>3</th>\n",
       "      <td>MiscTechWorkedWith</td>\n",
       "      <td>Apache Spark</td>\n",
       "      <td>2089</td>\n",
       "    </tr>\n",
       "    <tr>\n",
       "      <th>4</th>\n",
       "      <td>MiscTechWorkedWith</td>\n",
       "      <td>Chef</td>\n",
       "      <td>733</td>\n",
       "    </tr>\n",
       "  </tbody>\n",
       "</table>\n",
       "</div>"
      ],
      "text/plain": [
       "              level_0       level_1      0\n",
       "0  MiscTechWorkedWith          .NET  14144\n",
       "1  MiscTechWorkedWith     .NET Core  10755\n",
       "2  MiscTechWorkedWith       Ansible   2955\n",
       "3  MiscTechWorkedWith  Apache Spark   2089\n",
       "4  MiscTechWorkedWith          Chef    733"
      ]
     },
     "execution_count": 14,
     "metadata": {},
     "output_type": "execute_result"
    }
   ],
   "source": [
    "df_skills_onehot = df2.copy()\n",
    "df_skills_onehot = df_skills_onehot.drop(\"DevType\", axis=1)\n",
    "df_skills_frequency = df_skills_onehot.sum().reset_index()\n",
    "df_skills_frequency.head()"
   ]
  },
  {
   "cell_type": "code",
   "execution_count": 15,
   "metadata": {},
   "outputs": [
    {
     "data": {
      "text/html": [
       "<div>\n",
       "<style scoped>\n",
       "    .dataframe tbody tr th:only-of-type {\n",
       "        vertical-align: middle;\n",
       "    }\n",
       "\n",
       "    .dataframe tbody tr th {\n",
       "        vertical-align: top;\n",
       "    }\n",
       "\n",
       "    .dataframe thead th {\n",
       "        text-align: right;\n",
       "    }\n",
       "</style>\n",
       "<table border=\"1\" class=\"dataframe\">\n",
       "  <thead>\n",
       "    <tr style=\"text-align: right;\">\n",
       "      <th></th>\n",
       "      <th>skill_group</th>\n",
       "      <th>skill</th>\n",
       "      <th>frequency</th>\n",
       "    </tr>\n",
       "  </thead>\n",
       "  <tbody>\n",
       "    <tr>\n",
       "      <th>0</th>\n",
       "      <td>MiscTechWorkedWith</td>\n",
       "      <td>.NET</td>\n",
       "      <td>14144</td>\n",
       "    </tr>\n",
       "    <tr>\n",
       "      <th>1</th>\n",
       "      <td>MiscTechWorkedWith</td>\n",
       "      <td>.NET Core</td>\n",
       "      <td>10755</td>\n",
       "    </tr>\n",
       "    <tr>\n",
       "      <th>2</th>\n",
       "      <td>MiscTechWorkedWith</td>\n",
       "      <td>Ansible</td>\n",
       "      <td>2955</td>\n",
       "    </tr>\n",
       "    <tr>\n",
       "      <th>3</th>\n",
       "      <td>MiscTechWorkedWith</td>\n",
       "      <td>Apache Spark</td>\n",
       "      <td>2089</td>\n",
       "    </tr>\n",
       "    <tr>\n",
       "      <th>4</th>\n",
       "      <td>MiscTechWorkedWith</td>\n",
       "      <td>Chef</td>\n",
       "      <td>733</td>\n",
       "    </tr>\n",
       "  </tbody>\n",
       "</table>\n",
       "</div>"
      ],
      "text/plain": [
       "          skill_group         skill  frequency\n",
       "0  MiscTechWorkedWith          .NET      14144\n",
       "1  MiscTechWorkedWith     .NET Core      10755\n",
       "2  MiscTechWorkedWith       Ansible       2955\n",
       "3  MiscTechWorkedWith  Apache Spark       2089\n",
       "4  MiscTechWorkedWith          Chef        733"
      ]
     },
     "execution_count": 15,
     "metadata": {},
     "output_type": "execute_result"
    }
   ],
   "source": [
    "df_skills_frequency.columns = [\"skill_group\", \"skill\", \"frequency\"]\n",
    "df_skills_frequency.head()"
   ]
  },
  {
   "cell_type": "code",
   "execution_count": 25,
   "metadata": {},
   "outputs": [
    {
     "data": {
      "application/vnd.plotly.v1+json": {
       "config": {
        "plotlyServerURL": "https://plot.ly"
       },
       "data": [
        {
         "branchvalues": "total",
         "customdata": [
          [
           14144
          ],
          [
           10755
          ],
          [
           9258
          ],
          [
           8082
          ],
          [
           14389
          ],
          [
           14101
          ],
          [
           10617
          ],
          [
           6826
          ],
          [
           2955
          ],
          [
           2089
          ],
          [
           5712
          ],
          [
           3553
          ],
          [
           18980
          ],
          [
           12487
          ],
          [
           18041
          ],
          [
           13707
          ],
          [
           1654
          ],
          [
           733
          ],
          [
           17122
          ],
          [
           2419
          ],
          [
           937
          ],
          [
           2280
          ],
          [
           6014
          ],
          [
           18851
          ],
          [
           1369
          ],
          [
           3497
          ],
          [
           6817
          ],
          [
           8961
          ],
          [
           1580
          ],
          [
           7128
          ],
          [
           6005
          ],
          [
           2897
          ],
          [
           1703
          ],
          [
           43786
          ],
          [
           19545
          ],
          [
           5038
          ],
          [
           7569
          ],
          [
           21952
          ],
          [
           36181
          ],
          [
           1798
          ],
          [
           1222
          ],
          [
           5974
          ],
          [
           876
          ],
          [
           1421
          ],
          [
           23074
          ],
          [
           38822
          ],
          [
           25222
          ],
          [
           519
          ],
          [
           2504
          ],
          [
           4468
          ],
          [
           6178
          ],
          [
           4680
          ],
          [
           29600
          ],
          [
           12898
          ],
          [
           8312
          ],
          [
           7849
          ],
          [
           7830
          ],
          [
           16336
          ],
          [
           13518
          ],
          [
           13086
          ],
          [
           27559
          ],
          [
           20741
          ],
          [
           2340
          ],
          [
           8155
          ],
          [
           15007
          ],
          [
           6253
          ],
          [
           1796
          ],
          [
           17892
          ],
          [
           945
          ],
          [
           25287
          ],
          [
           3288
          ],
          [
           8010
          ],
          [
           4626
          ],
          [
           15167
          ],
          [
           9056
          ],
          [
           4046
          ],
          [
           2944
          ],
          [
           2929
          ],
          [
           31413
          ],
          [
           15434
          ],
          [
           2052
          ],
          [
           28018
          ],
          [
           3922
          ],
          [
           6941
          ],
          [
           3057
          ],
          [
           3397
          ],
          [
           1851
          ],
          [
           4652
          ],
          [
           2518
          ],
          [
           1872
          ],
          [
           15655
          ],
          [
           14578
          ],
          [
           4413
          ],
          [
           1316
          ],
          [
           3499
          ],
          [
           7322
          ],
          [
           28595
          ],
          [
           7654
          ],
          [
           2357
          ],
          [
           6562
          ],
          [
           18316
          ],
          [
           15214.337475598031
          ],
          [
           22845.057860307497
          ],
          [
           10034.034504984053
          ],
          [
           25324.856140777683
          ],
          [
           16945.23439886751
          ],
          [
           10072.249707037981
          ]
         ],
         "domain": {
          "x": [
           0,
           1
          ],
          "y": [
           0,
           1
          ]
         },
         "hovertemplate": "labels=%{label}<br>frequency_sum=%{value}<br>parent=%{parent}<br>id=%{id}<br>frequency=%{color}<extra></extra>",
         "ids": [
          "MiscTechWorkedWith/.NET",
          "MiscTechWorkedWith/.NET Core",
          "WebframeWorkedWith/ASP.NET",
          "WebframeWorkedWith/ASP.NET Core",
          "PlatformWorkedWith/AWS",
          "PlatformWorkedWith/Android",
          "WebframeWorkedWith/Angular",
          "WebframeWorkedWith/Angular.js",
          "MiscTechWorkedWith/Ansible",
          "MiscTechWorkedWith/Apache Spark",
          "PlatformWorkedWith/Arduino",
          "LanguageWorkedWith/Assembly",
          "LanguageWorkedWith/Bash/Shell/PowerShell",
          "LanguageWorkedWith/C",
          "LanguageWorkedWith/C#",
          "LanguageWorkedWith/C++",
          "DatabaseWorkedWith/Cassandra",
          "MiscTechWorkedWith/Chef",
          "NEWCollabToolsWorkedWith/Confluence",
          "MiscTechWorkedWith/Cordova",
          "DatabaseWorkedWith/Couchbase",
          "LanguageWorkedWith/Dart",
          "WebframeWorkedWith/Django",
          "PlatformWorkedWith/Docker",
          "WebframeWorkedWith/Drupal",
          "DatabaseWorkedWith/DynamoDB",
          "DatabaseWorkedWith/Elasticsearch",
          "WebframeWorkedWith/Express",
          "NEWCollabToolsWorkedWith/Facebook Workplace",
          "DatabaseWorkedWith/Firebase",
          "WebframeWorkedWith/Flask",
          "MiscTechWorkedWith/Flutter",
          "WebframeWorkedWith/Gatsby",
          "NEWCollabToolsWorkedWith/Github",
          "NEWCollabToolsWorkedWith/Gitlab",
          "LanguageWorkedWith/Go",
          "PlatformWorkedWith/Google Cloud Platform",
          "NEWCollabToolsWorkedWith/Google Suite (Docs, Meet, etc)",
          "LanguageWorkedWith/HTML/CSS",
          "MiscTechWorkedWith/Hadoop",
          "LanguageWorkedWith/Haskell",
          "PlatformWorkedWith/Heroku",
          "PlatformWorkedWith/IBM Cloud or Watson",
          "DatabaseWorkedWith/IBM DB2",
          "LanguageWorkedWith/Java",
          "LanguageWorkedWith/JavaScript",
          "NEWCollabToolsWorkedWith/Jira",
          "LanguageWorkedWith/Julia",
          "MiscTechWorkedWith/Keras",
          "LanguageWorkedWith/Kotlin",
          "PlatformWorkedWith/Kubernetes",
          "WebframeWorkedWith/Laravel",
          "PlatformWorkedWith/Linux",
          "PlatformWorkedWith/MacOS",
          "DatabaseWorkedWith/MariaDB",
          "NEWCollabToolsWorkedWith/Microsoft Azure",
          "PlatformWorkedWith/Microsoft Azure",
          "DatabaseWorkedWith/Microsoft SQL Server",
          "NEWCollabToolsWorkedWith/Microsoft Teams",
          "DatabaseWorkedWith/MongoDB",
          "DatabaseWorkedWith/MySQL",
          "MiscTechWorkedWith/Node.js",
          "LanguageWorkedWith/Objective-C",
          "DatabaseWorkedWith/Oracle",
          "LanguageWorkedWith/PHP",
          "MiscTechWorkedWith/Pandas",
          "LanguageWorkedWith/Perl",
          "DatabaseWorkedWith/PostgreSQL",
          "MiscTechWorkedWith/Puppet",
          "LanguageWorkedWith/Python",
          "LanguageWorkedWith/R",
          "PlatformWorkedWith/Raspberry Pi",
          "MiscTechWorkedWith/React Native",
          "WebframeWorkedWith/React.js",
          "DatabaseWorkedWith/Redis",
          "LanguageWorkedWith/Ruby",
          "WebframeWorkedWith/Ruby on Rails",
          "LanguageWorkedWith/Rust",
          "LanguageWorkedWith/SQL",
          "DatabaseWorkedWith/SQLite",
          "LanguageWorkedWith/Scala",
          "NEWCollabToolsWorkedWith/Slack",
          "PlatformWorkedWith/Slack Apps and Integrations",
          "WebframeWorkedWith/Spring",
          "NEWCollabToolsWorkedWith/Stack Overflow for Teams",
          "LanguageWorkedWith/Swift",
          "WebframeWorkedWith/Symfony",
          "MiscTechWorkedWith/TensorFlow",
          "MiscTechWorkedWith/Teraform",
          "MiscTechWorkedWith/Torch/PyTorch",
          "NEWCollabToolsWorkedWith/Trello",
          "LanguageWorkedWith/TypeScript",
          "MiscTechWorkedWith/Unity 3D",
          "MiscTechWorkedWith/Unreal Engine",
          "LanguageWorkedWith/VBA",
          "WebframeWorkedWith/Vue.js",
          "PlatformWorkedWith/Windows",
          "PlatformWorkedWith/WordPress",
          "MiscTechWorkedWith/Xamarin",
          "PlatformWorkedWith/iOS",
          "WebframeWorkedWith/jQuery",
          "DatabaseWorkedWith",
          "LanguageWorkedWith",
          "MiscTechWorkedWith",
          "NEWCollabToolsWorkedWith",
          "PlatformWorkedWith",
          "WebframeWorkedWith"
         ],
         "labels": [
          ".NET",
          ".NET Core",
          "ASP.NET",
          "ASP.NET Core",
          "AWS",
          "Android",
          "Angular",
          "Angular.js",
          "Ansible",
          "Apache Spark",
          "Arduino",
          "Assembly",
          "Bash/Shell/PowerShell",
          "C",
          "C#",
          "C++",
          "Cassandra",
          "Chef",
          "Confluence",
          "Cordova",
          "Couchbase",
          "Dart",
          "Django",
          "Docker",
          "Drupal",
          "DynamoDB",
          "Elasticsearch",
          "Express",
          "Facebook Workplace",
          "Firebase",
          "Flask",
          "Flutter",
          "Gatsby",
          "Github",
          "Gitlab",
          "Go",
          "Google Cloud Platform",
          "Google Suite (Docs, Meet, etc)",
          "HTML/CSS",
          "Hadoop",
          "Haskell",
          "Heroku",
          "IBM Cloud or Watson",
          "IBM DB2",
          "Java",
          "JavaScript",
          "Jira",
          "Julia",
          "Keras",
          "Kotlin",
          "Kubernetes",
          "Laravel",
          "Linux",
          "MacOS",
          "MariaDB",
          "Microsoft Azure",
          "Microsoft Azure",
          "Microsoft SQL Server",
          "Microsoft Teams",
          "MongoDB",
          "MySQL",
          "Node.js",
          "Objective-C",
          "Oracle",
          "PHP",
          "Pandas",
          "Perl",
          "PostgreSQL",
          "Puppet",
          "Python",
          "R",
          "Raspberry Pi",
          "React Native",
          "React.js",
          "Redis",
          "Ruby",
          "Ruby on Rails",
          "Rust",
          "SQL",
          "SQLite",
          "Scala",
          "Slack",
          "Slack Apps and Integrations",
          "Spring",
          "Stack Overflow for Teams",
          "Swift",
          "Symfony",
          "TensorFlow",
          "Teraform",
          "Torch/PyTorch",
          "Trello",
          "TypeScript",
          "Unity 3D",
          "Unreal Engine",
          "VBA",
          "Vue.js",
          "Windows",
          "WordPress",
          "Xamarin",
          "iOS",
          "jQuery",
          "DatabaseWorkedWith",
          "LanguageWorkedWith",
          "MiscTechWorkedWith",
          "NEWCollabToolsWorkedWith",
          "PlatformWorkedWith",
          "WebframeWorkedWith"
         ],
         "marker": {
          "coloraxis": "coloraxis",
          "colors": [
           14144,
           10755,
           9258,
           8082,
           14389,
           14101,
           10617,
           6826,
           2955,
           2089,
           5712,
           3553,
           18980,
           12487,
           18041,
           13707,
           1654,
           733,
           17122,
           2419,
           937,
           2280,
           6014,
           18851,
           1369,
           3497,
           6817,
           8961,
           1580,
           7128,
           6005,
           2897,
           1703,
           43786,
           19545,
           5038,
           7569,
           21952,
           36181,
           1798,
           1222,
           5974,
           876,
           1421,
           23074,
           38822,
           25222,
           519,
           2504,
           4468,
           6178,
           4680,
           29600,
           12898,
           8312,
           7849,
           7830,
           16336,
           13518,
           13086,
           27559,
           20741,
           2340,
           8155,
           15007,
           6253,
           1796,
           17892,
           945,
           25287,
           3288,
           8010,
           4626,
           15167,
           9056,
           4046,
           2944,
           2929,
           31413,
           15434,
           2052,
           28018,
           3922,
           6941,
           3057,
           3397,
           1851,
           4652,
           2518,
           1872,
           15655,
           14578,
           4413,
           1316,
           3499,
           7322,
           28595,
           7654,
           2357,
           6562,
           18316,
           15214.337475598031,
           22845.057860307497,
           10034.034504984053,
           25324.856140777683,
           16945.23439886751,
           10072.249707037981
          ]
         },
         "name": "",
         "parents": [
          "MiscTechWorkedWith",
          "MiscTechWorkedWith",
          "WebframeWorkedWith",
          "WebframeWorkedWith",
          "PlatformWorkedWith",
          "PlatformWorkedWith",
          "WebframeWorkedWith",
          "WebframeWorkedWith",
          "MiscTechWorkedWith",
          "MiscTechWorkedWith",
          "PlatformWorkedWith",
          "LanguageWorkedWith",
          "LanguageWorkedWith",
          "LanguageWorkedWith",
          "LanguageWorkedWith",
          "LanguageWorkedWith",
          "DatabaseWorkedWith",
          "MiscTechWorkedWith",
          "NEWCollabToolsWorkedWith",
          "MiscTechWorkedWith",
          "DatabaseWorkedWith",
          "LanguageWorkedWith",
          "WebframeWorkedWith",
          "PlatformWorkedWith",
          "WebframeWorkedWith",
          "DatabaseWorkedWith",
          "DatabaseWorkedWith",
          "WebframeWorkedWith",
          "NEWCollabToolsWorkedWith",
          "DatabaseWorkedWith",
          "WebframeWorkedWith",
          "MiscTechWorkedWith",
          "WebframeWorkedWith",
          "NEWCollabToolsWorkedWith",
          "NEWCollabToolsWorkedWith",
          "LanguageWorkedWith",
          "PlatformWorkedWith",
          "NEWCollabToolsWorkedWith",
          "LanguageWorkedWith",
          "MiscTechWorkedWith",
          "LanguageWorkedWith",
          "PlatformWorkedWith",
          "PlatformWorkedWith",
          "DatabaseWorkedWith",
          "LanguageWorkedWith",
          "LanguageWorkedWith",
          "NEWCollabToolsWorkedWith",
          "LanguageWorkedWith",
          "MiscTechWorkedWith",
          "LanguageWorkedWith",
          "PlatformWorkedWith",
          "WebframeWorkedWith",
          "PlatformWorkedWith",
          "PlatformWorkedWith",
          "DatabaseWorkedWith",
          "NEWCollabToolsWorkedWith",
          "PlatformWorkedWith",
          "DatabaseWorkedWith",
          "NEWCollabToolsWorkedWith",
          "DatabaseWorkedWith",
          "DatabaseWorkedWith",
          "MiscTechWorkedWith",
          "LanguageWorkedWith",
          "DatabaseWorkedWith",
          "LanguageWorkedWith",
          "MiscTechWorkedWith",
          "LanguageWorkedWith",
          "DatabaseWorkedWith",
          "MiscTechWorkedWith",
          "LanguageWorkedWith",
          "LanguageWorkedWith",
          "PlatformWorkedWith",
          "MiscTechWorkedWith",
          "WebframeWorkedWith",
          "DatabaseWorkedWith",
          "LanguageWorkedWith",
          "WebframeWorkedWith",
          "LanguageWorkedWith",
          "LanguageWorkedWith",
          "DatabaseWorkedWith",
          "LanguageWorkedWith",
          "NEWCollabToolsWorkedWith",
          "PlatformWorkedWith",
          "WebframeWorkedWith",
          "NEWCollabToolsWorkedWith",
          "LanguageWorkedWith",
          "WebframeWorkedWith",
          "MiscTechWorkedWith",
          "MiscTechWorkedWith",
          "MiscTechWorkedWith",
          "NEWCollabToolsWorkedWith",
          "LanguageWorkedWith",
          "MiscTechWorkedWith",
          "MiscTechWorkedWith",
          "LanguageWorkedWith",
          "WebframeWorkedWith",
          "PlatformWorkedWith",
          "PlatformWorkedWith",
          "MiscTechWorkedWith",
          "PlatformWorkedWith",
          "WebframeWorkedWith",
          "",
          "",
          "",
          "",
          "",
          ""
         ],
         "type": "treemap",
         "values": [
          14144,
          10755,
          9258,
          8082,
          14389,
          14101,
          10617,
          6826,
          2955,
          2089,
          5712,
          3553,
          18980,
          12487,
          18041,
          13707,
          1654,
          733,
          17122,
          2419,
          937,
          2280,
          6014,
          18851,
          1369,
          3497,
          6817,
          8961,
          1580,
          7128,
          6005,
          2897,
          1703,
          43786,
          19545,
          5038,
          7569,
          21952,
          36181,
          1798,
          1222,
          5974,
          876,
          1421,
          23074,
          38822,
          25222,
          519,
          2504,
          4468,
          6178,
          4680,
          29600,
          12898,
          8312,
          7849,
          7830,
          16336,
          13518,
          13086,
          27559,
          20741,
          2340,
          8155,
          15007,
          6253,
          1796,
          17892,
          945,
          25287,
          3288,
          8010,
          4626,
          15167,
          9056,
          4046,
          2944,
          2929,
          31413,
          15434,
          2052,
          28018,
          3922,
          6941,
          3057,
          3397,
          1851,
          4652,
          2518,
          1872,
          15655,
          14578,
          4413,
          1316,
          3499,
          7322,
          28595,
          7654,
          2357,
          6562,
          18316,
          137284,
          288004,
          89987,
          197304,
          178721,
          116056
         ]
        }
       ],
       "layout": {
        "coloraxis": {
         "colorbar": {
          "title": {
           "text": "frequency"
          }
         },
         "colorscale": [
          [
           0,
           "#440154"
          ],
          [
           0.1111111111111111,
           "#482878"
          ],
          [
           0.2222222222222222,
           "#3e4989"
          ],
          [
           0.3333333333333333,
           "#31688e"
          ],
          [
           0.4444444444444444,
           "#26828e"
          ],
          [
           0.5555555555555556,
           "#1f9e89"
          ],
          [
           0.6666666666666666,
           "#35b779"
          ],
          [
           0.7777777777777778,
           "#6ece58"
          ],
          [
           0.8888888888888888,
           "#b5de2b"
          ],
          [
           1,
           "#fde725"
          ]
         ]
        },
        "height": 700,
        "legend": {
         "tracegroupgap": 0
        },
        "margin": {
         "t": 60
        },
        "template": {
         "data": {
          "bar": [
           {
            "error_x": {
             "color": "#2a3f5f"
            },
            "error_y": {
             "color": "#2a3f5f"
            },
            "marker": {
             "line": {
              "color": "#E5ECF6",
              "width": 0.5
             },
             "pattern": {
              "fillmode": "overlay",
              "size": 10,
              "solidity": 0.2
             }
            },
            "type": "bar"
           }
          ],
          "barpolar": [
           {
            "marker": {
             "line": {
              "color": "#E5ECF6",
              "width": 0.5
             },
             "pattern": {
              "fillmode": "overlay",
              "size": 10,
              "solidity": 0.2
             }
            },
            "type": "barpolar"
           }
          ],
          "carpet": [
           {
            "aaxis": {
             "endlinecolor": "#2a3f5f",
             "gridcolor": "white",
             "linecolor": "white",
             "minorgridcolor": "white",
             "startlinecolor": "#2a3f5f"
            },
            "baxis": {
             "endlinecolor": "#2a3f5f",
             "gridcolor": "white",
             "linecolor": "white",
             "minorgridcolor": "white",
             "startlinecolor": "#2a3f5f"
            },
            "type": "carpet"
           }
          ],
          "choropleth": [
           {
            "colorbar": {
             "outlinewidth": 0,
             "ticks": ""
            },
            "type": "choropleth"
           }
          ],
          "contour": [
           {
            "colorbar": {
             "outlinewidth": 0,
             "ticks": ""
            },
            "colorscale": [
             [
              0,
              "#0d0887"
             ],
             [
              0.1111111111111111,
              "#46039f"
             ],
             [
              0.2222222222222222,
              "#7201a8"
             ],
             [
              0.3333333333333333,
              "#9c179e"
             ],
             [
              0.4444444444444444,
              "#bd3786"
             ],
             [
              0.5555555555555556,
              "#d8576b"
             ],
             [
              0.6666666666666666,
              "#ed7953"
             ],
             [
              0.7777777777777778,
              "#fb9f3a"
             ],
             [
              0.8888888888888888,
              "#fdca26"
             ],
             [
              1,
              "#f0f921"
             ]
            ],
            "type": "contour"
           }
          ],
          "contourcarpet": [
           {
            "colorbar": {
             "outlinewidth": 0,
             "ticks": ""
            },
            "type": "contourcarpet"
           }
          ],
          "heatmap": [
           {
            "colorbar": {
             "outlinewidth": 0,
             "ticks": ""
            },
            "colorscale": [
             [
              0,
              "#0d0887"
             ],
             [
              0.1111111111111111,
              "#46039f"
             ],
             [
              0.2222222222222222,
              "#7201a8"
             ],
             [
              0.3333333333333333,
              "#9c179e"
             ],
             [
              0.4444444444444444,
              "#bd3786"
             ],
             [
              0.5555555555555556,
              "#d8576b"
             ],
             [
              0.6666666666666666,
              "#ed7953"
             ],
             [
              0.7777777777777778,
              "#fb9f3a"
             ],
             [
              0.8888888888888888,
              "#fdca26"
             ],
             [
              1,
              "#f0f921"
             ]
            ],
            "type": "heatmap"
           }
          ],
          "heatmapgl": [
           {
            "colorbar": {
             "outlinewidth": 0,
             "ticks": ""
            },
            "colorscale": [
             [
              0,
              "#0d0887"
             ],
             [
              0.1111111111111111,
              "#46039f"
             ],
             [
              0.2222222222222222,
              "#7201a8"
             ],
             [
              0.3333333333333333,
              "#9c179e"
             ],
             [
              0.4444444444444444,
              "#bd3786"
             ],
             [
              0.5555555555555556,
              "#d8576b"
             ],
             [
              0.6666666666666666,
              "#ed7953"
             ],
             [
              0.7777777777777778,
              "#fb9f3a"
             ],
             [
              0.8888888888888888,
              "#fdca26"
             ],
             [
              1,
              "#f0f921"
             ]
            ],
            "type": "heatmapgl"
           }
          ],
          "histogram": [
           {
            "marker": {
             "pattern": {
              "fillmode": "overlay",
              "size": 10,
              "solidity": 0.2
             }
            },
            "type": "histogram"
           }
          ],
          "histogram2d": [
           {
            "colorbar": {
             "outlinewidth": 0,
             "ticks": ""
            },
            "colorscale": [
             [
              0,
              "#0d0887"
             ],
             [
              0.1111111111111111,
              "#46039f"
             ],
             [
              0.2222222222222222,
              "#7201a8"
             ],
             [
              0.3333333333333333,
              "#9c179e"
             ],
             [
              0.4444444444444444,
              "#bd3786"
             ],
             [
              0.5555555555555556,
              "#d8576b"
             ],
             [
              0.6666666666666666,
              "#ed7953"
             ],
             [
              0.7777777777777778,
              "#fb9f3a"
             ],
             [
              0.8888888888888888,
              "#fdca26"
             ],
             [
              1,
              "#f0f921"
             ]
            ],
            "type": "histogram2d"
           }
          ],
          "histogram2dcontour": [
           {
            "colorbar": {
             "outlinewidth": 0,
             "ticks": ""
            },
            "colorscale": [
             [
              0,
              "#0d0887"
             ],
             [
              0.1111111111111111,
              "#46039f"
             ],
             [
              0.2222222222222222,
              "#7201a8"
             ],
             [
              0.3333333333333333,
              "#9c179e"
             ],
             [
              0.4444444444444444,
              "#bd3786"
             ],
             [
              0.5555555555555556,
              "#d8576b"
             ],
             [
              0.6666666666666666,
              "#ed7953"
             ],
             [
              0.7777777777777778,
              "#fb9f3a"
             ],
             [
              0.8888888888888888,
              "#fdca26"
             ],
             [
              1,
              "#f0f921"
             ]
            ],
            "type": "histogram2dcontour"
           }
          ],
          "mesh3d": [
           {
            "colorbar": {
             "outlinewidth": 0,
             "ticks": ""
            },
            "type": "mesh3d"
           }
          ],
          "parcoords": [
           {
            "line": {
             "colorbar": {
              "outlinewidth": 0,
              "ticks": ""
             }
            },
            "type": "parcoords"
           }
          ],
          "pie": [
           {
            "automargin": true,
            "type": "pie"
           }
          ],
          "scatter": [
           {
            "fillpattern": {
             "fillmode": "overlay",
             "size": 10,
             "solidity": 0.2
            },
            "type": "scatter"
           }
          ],
          "scatter3d": [
           {
            "line": {
             "colorbar": {
              "outlinewidth": 0,
              "ticks": ""
             }
            },
            "marker": {
             "colorbar": {
              "outlinewidth": 0,
              "ticks": ""
             }
            },
            "type": "scatter3d"
           }
          ],
          "scattercarpet": [
           {
            "marker": {
             "colorbar": {
              "outlinewidth": 0,
              "ticks": ""
             }
            },
            "type": "scattercarpet"
           }
          ],
          "scattergeo": [
           {
            "marker": {
             "colorbar": {
              "outlinewidth": 0,
              "ticks": ""
             }
            },
            "type": "scattergeo"
           }
          ],
          "scattergl": [
           {
            "marker": {
             "colorbar": {
              "outlinewidth": 0,
              "ticks": ""
             }
            },
            "type": "scattergl"
           }
          ],
          "scattermapbox": [
           {
            "marker": {
             "colorbar": {
              "outlinewidth": 0,
              "ticks": ""
             }
            },
            "type": "scattermapbox"
           }
          ],
          "scatterpolar": [
           {
            "marker": {
             "colorbar": {
              "outlinewidth": 0,
              "ticks": ""
             }
            },
            "type": "scatterpolar"
           }
          ],
          "scatterpolargl": [
           {
            "marker": {
             "colorbar": {
              "outlinewidth": 0,
              "ticks": ""
             }
            },
            "type": "scatterpolargl"
           }
          ],
          "scatterternary": [
           {
            "marker": {
             "colorbar": {
              "outlinewidth": 0,
              "ticks": ""
             }
            },
            "type": "scatterternary"
           }
          ],
          "surface": [
           {
            "colorbar": {
             "outlinewidth": 0,
             "ticks": ""
            },
            "colorscale": [
             [
              0,
              "#0d0887"
             ],
             [
              0.1111111111111111,
              "#46039f"
             ],
             [
              0.2222222222222222,
              "#7201a8"
             ],
             [
              0.3333333333333333,
              "#9c179e"
             ],
             [
              0.4444444444444444,
              "#bd3786"
             ],
             [
              0.5555555555555556,
              "#d8576b"
             ],
             [
              0.6666666666666666,
              "#ed7953"
             ],
             [
              0.7777777777777778,
              "#fb9f3a"
             ],
             [
              0.8888888888888888,
              "#fdca26"
             ],
             [
              1,
              "#f0f921"
             ]
            ],
            "type": "surface"
           }
          ],
          "table": [
           {
            "cells": {
             "fill": {
              "color": "#EBF0F8"
             },
             "line": {
              "color": "white"
             }
            },
            "header": {
             "fill": {
              "color": "#C8D4E3"
             },
             "line": {
              "color": "white"
             }
            },
            "type": "table"
           }
          ]
         },
         "layout": {
          "annotationdefaults": {
           "arrowcolor": "#2a3f5f",
           "arrowhead": 0,
           "arrowwidth": 1
          },
          "autotypenumbers": "strict",
          "coloraxis": {
           "colorbar": {
            "outlinewidth": 0,
            "ticks": ""
           }
          },
          "colorscale": {
           "diverging": [
            [
             0,
             "#8e0152"
            ],
            [
             0.1,
             "#c51b7d"
            ],
            [
             0.2,
             "#de77ae"
            ],
            [
             0.3,
             "#f1b6da"
            ],
            [
             0.4,
             "#fde0ef"
            ],
            [
             0.5,
             "#f7f7f7"
            ],
            [
             0.6,
             "#e6f5d0"
            ],
            [
             0.7,
             "#b8e186"
            ],
            [
             0.8,
             "#7fbc41"
            ],
            [
             0.9,
             "#4d9221"
            ],
            [
             1,
             "#276419"
            ]
           ],
           "sequential": [
            [
             0,
             "#0d0887"
            ],
            [
             0.1111111111111111,
             "#46039f"
            ],
            [
             0.2222222222222222,
             "#7201a8"
            ],
            [
             0.3333333333333333,
             "#9c179e"
            ],
            [
             0.4444444444444444,
             "#bd3786"
            ],
            [
             0.5555555555555556,
             "#d8576b"
            ],
            [
             0.6666666666666666,
             "#ed7953"
            ],
            [
             0.7777777777777778,
             "#fb9f3a"
            ],
            [
             0.8888888888888888,
             "#fdca26"
            ],
            [
             1,
             "#f0f921"
            ]
           ],
           "sequentialminus": [
            [
             0,
             "#0d0887"
            ],
            [
             0.1111111111111111,
             "#46039f"
            ],
            [
             0.2222222222222222,
             "#7201a8"
            ],
            [
             0.3333333333333333,
             "#9c179e"
            ],
            [
             0.4444444444444444,
             "#bd3786"
            ],
            [
             0.5555555555555556,
             "#d8576b"
            ],
            [
             0.6666666666666666,
             "#ed7953"
            ],
            [
             0.7777777777777778,
             "#fb9f3a"
            ],
            [
             0.8888888888888888,
             "#fdca26"
            ],
            [
             1,
             "#f0f921"
            ]
           ]
          },
          "colorway": [
           "#636efa",
           "#EF553B",
           "#00cc96",
           "#ab63fa",
           "#FFA15A",
           "#19d3f3",
           "#FF6692",
           "#B6E880",
           "#FF97FF",
           "#FECB52"
          ],
          "font": {
           "color": "#2a3f5f"
          },
          "geo": {
           "bgcolor": "white",
           "lakecolor": "white",
           "landcolor": "#E5ECF6",
           "showlakes": true,
           "showland": true,
           "subunitcolor": "white"
          },
          "hoverlabel": {
           "align": "left"
          },
          "hovermode": "closest",
          "mapbox": {
           "style": "light"
          },
          "paper_bgcolor": "white",
          "plot_bgcolor": "#E5ECF6",
          "polar": {
           "angularaxis": {
            "gridcolor": "white",
            "linecolor": "white",
            "ticks": ""
           },
           "bgcolor": "#E5ECF6",
           "radialaxis": {
            "gridcolor": "white",
            "linecolor": "white",
            "ticks": ""
           }
          },
          "scene": {
           "xaxis": {
            "backgroundcolor": "#E5ECF6",
            "gridcolor": "white",
            "gridwidth": 2,
            "linecolor": "white",
            "showbackground": true,
            "ticks": "",
            "zerolinecolor": "white"
           },
           "yaxis": {
            "backgroundcolor": "#E5ECF6",
            "gridcolor": "white",
            "gridwidth": 2,
            "linecolor": "white",
            "showbackground": true,
            "ticks": "",
            "zerolinecolor": "white"
           },
           "zaxis": {
            "backgroundcolor": "#E5ECF6",
            "gridcolor": "white",
            "gridwidth": 2,
            "linecolor": "white",
            "showbackground": true,
            "ticks": "",
            "zerolinecolor": "white"
           }
          },
          "shapedefaults": {
           "line": {
            "color": "#2a3f5f"
           }
          },
          "ternary": {
           "aaxis": {
            "gridcolor": "white",
            "linecolor": "white",
            "ticks": ""
           },
           "baxis": {
            "gridcolor": "white",
            "linecolor": "white",
            "ticks": ""
           },
           "bgcolor": "#E5ECF6",
           "caxis": {
            "gridcolor": "white",
            "linecolor": "white",
            "ticks": ""
           }
          },
          "title": {
           "x": 0.05
          },
          "xaxis": {
           "automargin": true,
           "gridcolor": "white",
           "linecolor": "white",
           "ticks": "",
           "title": {
            "standoff": 15
           },
           "zerolinecolor": "white",
           "zerolinewidth": 2
          },
          "yaxis": {
           "automargin": true,
           "gridcolor": "white",
           "linecolor": "white",
           "ticks": "",
           "title": {
            "standoff": 15
           },
           "zerolinecolor": "white",
           "zerolinewidth": 2
          }
         }
        },
        "width": 1400
       }
      }
     },
     "metadata": {},
     "output_type": "display_data"
    }
   ],
   "source": [
    "#sort according to frequancy\n",
    "df_skills_frequency.sort_values(by=\"frequency\", ascending=False)\n",
    "\n",
    "fig = px.treemap(df_skills_frequency, values=\"frequency\", path=[\"skill_group\",\"skill\"], color=\"frequency\", color_continuous_scale='Viridis')\n",
    "fig.update_layout(width=1400, height=700)\n",
    "fig.show()"
   ]
  },
  {
   "cell_type": "markdown",
   "metadata": {},
   "source": [
    "# Heatmap to visualize the precentage of each skill in each job"
   ]
  },
  {
   "cell_type": "code",
   "execution_count": 17,
   "metadata": {},
   "outputs": [],
   "source": [
    "#Make the percentage matrix\n",
    "skills_percentage_matrix = []\n",
    "for job in jobs:\n",
    "    job_mask = df2[(\"DevType\", job)]==1\n",
    "    job_skills_percentage = []\n",
    "    for tech_col in TECH_COL:\n",
    "        job_skills_percentage = job_skills_percentage + list(df2.loc[job_mask][tech_col].mean()*100)\n",
    "    skills_percentage_matrix.append(job_skills_percentage)"
   ]
  },
  {
   "cell_type": "code",
   "execution_count": 52,
   "metadata": {},
   "outputs": [
    {
     "data": {
      "text/plain": [
       "['.NET',\n",
       " '.NET Core',\n",
       " 'Ansible',\n",
       " 'Apache Spark',\n",
       " 'Chef',\n",
       " 'Cordova',\n",
       " 'Flutter',\n",
       " 'Hadoop',\n",
       " 'Keras',\n",
       " 'Node.js']"
      ]
     },
     "execution_count": 52,
     "metadata": {},
     "output_type": "execute_result"
    }
   ],
   "source": [
    "def get_skills_names(dataFrame):\n",
    "    #Make a skills list \n",
    "    skills = []\n",
    "    job_mask = dataFrame[(\"DevType\", \"Educator\")]==1  #Educator or any job as all jobs has the same columns\n",
    "    for tech_col in TECH_COL:\n",
    "        skills = skills + list(dataFrame.loc[job_mask][tech_col].columns)\n",
    "\n",
    "    return skills\n",
    "\n",
    "skills = get_skills_names(df2)[:10]"
   ]
  },
  {
   "cell_type": "code",
   "execution_count": 19,
   "metadata": {},
   "outputs": [
    {
     "data": {
      "application/vnd.plotly.v1+json": {
       "config": {
        "plotlyServerURL": "https://plot.ly"
       },
       "data": [
        {
         "colorscale": [
          [
           0,
           "#440154"
          ],
          [
           0.1111111111111111,
           "#482878"
          ],
          [
           0.2222222222222222,
           "#3e4989"
          ],
          [
           0.3333333333333333,
           "#31688e"
          ],
          [
           0.4444444444444444,
           "#26828e"
          ],
          [
           0.5555555555555556,
           "#1f9e89"
          ],
          [
           0.6666666666666666,
           "#35b779"
          ],
          [
           0.7777777777777778,
           "#6ece58"
          ],
          [
           0.8888888888888888,
           "#b5de2b"
          ],
          [
           1,
           "#fde725"
          ]
         ],
         "type": "heatmap",
         "x": [
          ".NET",
          ".NET Core",
          "Ansible",
          "Apache Spark",
          "Chef",
          "Cordova",
          "Flutter",
          "Hadoop",
          "Keras",
          "Node.js",
          "Pandas",
          "Puppet",
          "React Native",
          "TensorFlow",
          "Teraform",
          "Torch/PyTorch",
          "Unity 3D",
          "Unreal Engine",
          "Xamarin",
          "Confluence",
          "Facebook Workplace",
          "Github",
          "Gitlab",
          "Google Suite (Docs, Meet, etc)",
          "Jira",
          "Microsoft Azure",
          "Microsoft Teams",
          "Slack",
          "Stack Overflow for Teams",
          "Trello",
          "Cassandra",
          "Couchbase",
          "DynamoDB",
          "Elasticsearch",
          "Firebase",
          "IBM DB2",
          "MariaDB",
          "Microsoft SQL Server",
          "MongoDB",
          "MySQL",
          "Oracle",
          "PostgreSQL",
          "Redis",
          "SQLite",
          "ASP.NET",
          "ASP.NET Core",
          "Angular",
          "Angular.js",
          "Django",
          "Drupal",
          "Express",
          "Flask",
          "Gatsby",
          "Laravel",
          "React.js",
          "Ruby on Rails",
          "Spring",
          "Symfony",
          "Vue.js",
          "jQuery",
          "Assembly",
          "Bash/Shell/PowerShell",
          "C",
          "C#",
          "C++",
          "Dart",
          "Go",
          "HTML/CSS",
          "Haskell",
          "Java",
          "JavaScript",
          "Julia",
          "Kotlin",
          "Objective-C",
          "PHP",
          "Perl",
          "Python",
          "R",
          "Ruby",
          "Rust",
          "SQL",
          "Scala",
          "Swift",
          "TypeScript",
          "VBA",
          "AWS",
          "Android",
          "Arduino",
          "Docker",
          "Google Cloud Platform",
          "Heroku",
          "IBM Cloud or Watson",
          "Kubernetes",
          "Linux",
          "MacOS",
          "Microsoft Azure",
          "Raspberry Pi",
          "Slack Apps and Integrations",
          "Windows",
          "WordPress",
          "iOS"
         ],
         "y": [
          "Developer, desktop or enterprise applications",
          "Developer, full-stack",
          "Developer, mobile",
          "Designer",
          "Developer, front-end",
          "Developer, back-end",
          "Developer, QA or test",
          "DevOps specialist",
          "Developer, game or graphics",
          "Database administrator",
          "Developer, embedded applications or devices",
          "Engineer, data",
          "Educator",
          "System administrator",
          "Engineering manager",
          "Product manager",
          "Data or business analyst",
          "Academic researcher",
          "Data scientist or machine learning specialist",
          "Scientist",
          "Senior executive/VP",
          "Engineer, site reliability",
          "Marketing or sales professional"
         ],
         "z": [
          [
           45.58723693143245,
           33.29938900203666,
           4.2175831636116765,
           2.842837746096402,
           1.2983706720977597,
           5.609300746775289,
           4.760692464358452,
           2.6476578411405294,
           2.6391717583163614,
           33.71520706042091,
           6.916157501697216,
           1.7566191446028514,
           7.4168363883231505,
           5.872369314324508,
           3.250169721656483,
           2.096062457569586,
           8.630346232179226,
           2.774949083503055,
           8.621860149355058,
           31.54276985743381,
           2.5288526816021726,
           69.73014256619145,
           32.56958587915818,
           32.56958587915818,
           45.23930753564155,
           21.98744059742023,
           32.73930753564155,
           41.35268160217244,
           4.9813306177868295,
           24.151391717583166,
           2.7155465037338766,
           2.197895451459606,
           5.18499660556687,
           11.074338085539715,
           10.140868974881196,
           3.920570264765784,
           14.850644942294636,
           45.13747454175153,
           20.38357094365241,
           43.73727087576375,
           20.08655804480652,
           29.14969450101833,
           13.441955193482688,
           31.551255940257978,
           28.615071283095723,
           25.19517990495587,
           22.284453496266124,
           14.867617107942973,
           7.781737949762389,
           2.3167006109979633,
           12.81398506449423,
           7.73082145281738,
           1.8584521384928716,
           6.839782756279702,
           21.452817379497624,
           3.513238289205703,
           15.08825526137135,
           2.842837746096402,
           11.617447386286491,
           35.429395790902916,
           6.737949762389681,
           36.21011541072641,
           22.87847929395791,
           51.332315003394434,
           28.131364562118126,
           3.699932111337407,
           7.909029192124915,
           61.31194840461644,
           1.8499660556687034,
           40.73319755600815,
           65.69925322471147,
           0.721317040054311,
           6.907671418873049,
           5.066191446028514,
           22.174134419551937,
           3.699932111337407,
           36.10828241683639,
           3.63204344874406,
           5.337746096401901,
           5.371690427698574,
           62.02477936184657,
           3.054989816700611,
           5.762050237610318,
           28.301086218601494,
           10.123896809232859,
           21.486761710794298,
           26.196537678207736,
           10.36999321113374,
           30.99966055668703,
           11.023421588594704,
           7.484725050916497,
           1.4511201629327901,
           9.971147318397827,
           49.45689069925322,
           19.20400543109301,
           20.621181262729124,
           15.08825526137135,
           5.974202308214529,
           68.77970128988458,
           12.08418194161575,
           12.415139171758316
          ],
          [
           29.423041474654376,
           24.287557603686636,
           5.393548387096774,
           2.790783410138249,
           1.4414746543778802,
           6.016589861751152,
           5.172350230414747,
           2.3483870967741938,
           2.6764976958525346,
           47.34009216589862,
           7.498617511520737,
           1.7253456221198158,
           10.694930875576036,
           5.7695852534562215,
           4.748387096774193,
           1.9649769585253458,
           6.473732718894009,
           1.824884792626728,
           5.131797235023042,
           32.07741935483871,
           2.5732718894009214,
           75.39539170506913,
           35.52073732718894,
           39.34746543778802,
           48.24700460829493,
           17.51889400921659,
           26.65437788018433,
           52.73364055299539,
           4.925345622119816,
           30.348387096774193,
           2.79815668202765,
           1.9944700460829492,
           7.472811059907834,
           14.381566820276499,
           13.12442396313364,
           2.647004608294931,
           17.142857142857142,
           34.82764976958526,
           27.188940092165897,
           50.22672811059908,
           14.816589861751153,
           36.022119815668205,
           20.903225806451616,
           26.392626728110596,
           22.55115207373272,
           20.468202764976958,
           26.70230414746544,
           16.94377880184332,
           10.665437788018433,
           3.0414746543778803,
           21.92442396313364,
           10.031336405529954,
           4.1732718894009215,
           11.163133640552996,
           36.22857142857143,
           6.731797235023042,
           14.975115207373271,
           4.313364055299539,
           18.001843317972348,
           42.08663594470046,
           3.845161290322581,
           33.500460829493086,
           14.422119815668202,
           36.37603686635945,
           16.250691244239633,
           3.911520737327189,
           9.209216589861752,
           73.78433179723503,
           1.6921658986175117,
           36.781566820276495,
           81.99078341013825,
           0.5124423963133641,
           6.705990783410138,
           3.44331797235023,
           30.311520737327193,
           2.8829493087557605,
           36.20276497695853,
           3.288479262672811,
           8.468202764976958,
           4.497695852534562,
           62.046082949308754,
           3.1889400921658986,
           4.836866359447005,
           37.235023041474655,
           5.776958525345622,
           30.189861751152076,
           22.923502304147465,
           7.915207373271889,
           39.09677419354839,
           14.282027649769585,
           12.866359447004609,
           1.448847926267281,
           12.342857142857143,
           51.1815668202765,
           24.302304147465435,
           17.74746543778802,
           13.183410138248847,
           8.188018433179725,
           48.86267281105991,
           15.402764976958524,
           11.546543778801844
          ],
          [
           26.102088167053367,
           20.702383463404345,
           3.0478801940518876,
           2.1619911411094703,
           1.0651761231807635,
           11.020881670533642,
           14.226956338325248,
           1.9510651761231808,
           2.815861632566969,
           40.82472052309639,
           5.526260282640793,
           1.4975743514026576,
           19.700485129719468,
           7.034380932292765,
           2.858046825564227,
           2.0987133516135836,
           11.126344653026788,
           3.290445053786121,
           11.569289179497996,
           27.93714406243409,
           3.6806580890107568,
           77.74731069394643,
           36.753849398861,
           41.05673908458131,
           45.07487871757013,
           15.819447373971737,
           22.463615271039867,
           52.71039865007382,
           6.580890107572242,
           34.454756380510446,
           2.27800042185193,
           2.3096393165998736,
           6.116852984602405,
           9.586585108626872,
           28.685931238135414,
           2.2041763341067284,
           15.85108626871968,
           28.11643113267243,
           25.079097236869856,
           50.34802784222738,
           12.507909723686986,
           27.54693102720945,
           14.047669268086901,
           43.35583210293187,
           18.519299725796245,
           15.977641847711455,
           22.54798565703438,
           14.764817549040288,
           9.20691837165155,
           2.7736764395697113,
           19.721577726218097,
           7.456232862265345,
           3.3748154397806367,
           11.0630668635309,
           30.24678337903396,
           5.199325036912044,
           11.970048512971946,
           3.627926597764185,
           13.636363636363635,
           33.769246994305,
           5.357519510651762,
           26.323560430288968,
           19.521198059481122,
           34.09618224003375,
           22.51634676228644,
           11.27399282851719,
           7.4035013710187725,
           60.69394642480489,
           1.4975743514026576,
           49.44104619278633,
           66.64205863741827,
           0.5484075089643535,
           20.934402024889266,
           14.923012022780005,
           29.339801729592914,
           2.4151022990930184,
           31.195950221472263,
           2.963509808057372,
           7.087112423539338,
           3.4591858257751533,
           50.28475005273149,
           2.214722632356043,
           21.145327989875554,
           29.962033326302468,
           5.389158405399705,
           24.214300780426072,
           62.58173381143218,
           11.706391056739085,
           27.336005062223162,
           16.968993883147014,
           11.600928074245939,
           1.8139632988820924,
           7.793714406243408,
           40.392322294874496,
           28.337903395908036,
           14.522252689306054,
           14.237502636574561,
           7.930816283484497,
           41.700063277789496,
           16.20966040919637,
           38.58890529424172
          ],
          [
           29.24262356699868,
           19.921067468520956,
           3.7398985153166695,
           2.837812441270438,
           1.5410637098289794,
           6.9723736139823345,
           6.897199774478481,
           2.499530163503101,
           2.180041345611727,
           41.890622063521896,
           6.483743657207292,
           2.161247885735764,
           11.069347866942305,
           6.107874459688029,
           2.3491824844953957,
           2.405562864123285,
           10.467957150911483,
           4.021800413456117,
           6.29580905844766,
           20.879533922195076,
           3.476790077053186,
           72.48637474158993,
           31.685773350873898,
           39.29712460063898,
           34.63634655140011,
           15.354256718661905,
           24.018041721480923,
           42.02217628265363,
           8.02480736703627,
           28.79158052997557,
           2.5559105431309903,
           2.2364217252396164,
           4.999060327006202,
           8.851719601578651,
           16.500657771095657,
           3.4579966171772227,
           18.53035143769968,
           32.77579402367976,
           23.003194888178914,
           55.19639165570381,
           15.260289419282088,
           25.803420409697424,
           11.445217064461568,
           29.900394662657398,
           20.710392783311406,
           14.809246382258973,
           22.834053749295244,
           16.93290734824281,
           10.129674873144145,
           4.773538808494644,
           18.248449539560234,
           7.83687276827664,
           4.698364968990791,
           12.666791956399173,
           29.017102048487125,
           5.299755685021613,
           9.302762638601767,
           4.134561172711896,
           17.308776545762075,
           45.74328133809434,
           7.0287539936102235,
           30.182296560796846,
           22.533358391279833,
           35.08738958842323,
           24.130802480736705,
           4.961473407254275,
           6.558917496711144,
           74.87314414583724,
           1.935726367224206,
           35.89550836308965,
           75.98195827851907,
           0.9208795339221951,
           7.103927833114076,
           5.713211802292802,
           37.981582409321554,
           4.134561172711896,
           35.951888742717536,
           4.491636910355196,
           6.840819394850592,
           3.6083442961849275,
           58.804735951888745,
           1.8793459875963165,
           7.479797030633339,
           27.870700996053372,
           9.528284157113324,
           21.14264236045856,
           29.63728622439391,
           11.294869385453863,
           24.03683518135689,
           14.62131178349934,
           11.783499342228906,
           2.1236609659838375,
           7.42341665100545,
           44.7472279646683,
           21.424544258598008,
           13.47491073106559,
           14.65889870325127,
           6.822025934974629,
           55.44070663409134,
           25.671866190565684,
           15.86168013531291
          ],
          [
           27.169873196327067,
           21.523830345430696,
           3.9516834280717097,
           2.04962833406209,
           1.0439440314822912,
           7.1217752514210755,
           5.728027984258855,
           1.7654132050721467,
           2.1425448185395717,
           49.36051595977263,
           5.596851770878881,
           1.579580236117184,
           12.762352426759948,
           5.0120244862264975,
           3.219282903366856,
           1.5686488850021865,
           7.362264975951027,
           2.104285089637079,
           5.378224748578924,
           29.268692610406642,
           3.0279842588543944,
           75.72693484914736,
           35.417577612592915,
           39.71359860078706,
           45.917140358548316,
           15.954306952339309,
           25.087450808919982,
           51.4702667249672,
           5.667905553126366,
           31.351114997813728,
           2.109750765194578,
           1.8419326628771315,
           6.006777437691299,
           11.368605159597726,
           15.828596414516834,
           2.3611718408395275,
           16.708570179274158,
           31.383909051158724,
           26.929383471797113,
           50.841714035854835,
           13.609532138172279,
           30.908395277656318,
           16.40249234805422,
           25.912767818102317,
           20.529077393965895,
           17.539352864013992,
           28.377787494534324,
           18.03126366418889,
           9.368167905553126,
           3.4707039790118057,
           23.048753825972888,
           7.804984696108439,
           5.329033668561435,
           11.472452995190205,
           40.10712724092698,
           5.711630957586357,
           11.636423261915173,
           4.257761259291649,
           19.266506340183646,
           43.56689986882379,
           3.9735461303017057,
           29.334280717096632,
           14.675338871884566,
           33.542850896370794,
           16.04722343681679,
           4.394403148229121,
           7.542632269348491,
           78.31219938784434,
           1.6178399650196764,
           33.728683865325756,
           84.0128989943157,
           0.4481853957149104,
           6.711849584608657,
           4.328815041539134,
           32.624617402710975,
           2.6125929164844774,
           31.29645824223874,
           2.9514648010494096,
           7.25295146480105,
           3.8860953213817226,
           56.394840402273715,
           2.295583734149541,
           5.875601224311325,
           39.0194578049847,
           6.3456493222562305,
           25.24048972452995,
           25.972890249234805,
           8.275032794053345,
           32.71206821163096,
           13.751639702667251,
           12.877131613467425,
           1.4265413205072146,
           9.44468736335811,
           45.419763882815914,
           24.579142982072586,
           15.074333187581985,
           12.357892435505029,
           7.859641451683428,
           48.88500218627022,
           18.84564932225623,
           14.013992129427196
          ],
          [
           27.725135889525486,
           22.62009695901278,
           6.691640957837521,
           3.926105479653298,
           1.604965476715146,
           4.712061113559571,
           4.392537094167769,
           3.3127662700161595,
           3.114441016600558,
           37.55692669311003,
           8.939327163214337,
           1.9869252240340824,
           7.973409725282797,
           6.335390039665051,
           5.79183193771118,
           2.2770677244013515,
           6.217863963566916,
           1.7775819009842808,
           4.7157338034376375,
           34.211106214191275,
           2.754517408550022,
           74.29484354341119,
           36.78566181871602,
           38.73953283384751,
           49.9118554429264,
           16.068018216541795,
           25.672102247686208,
           51.722491552813274,
           4.976494784780374,
           28.35683854855296,
           3.782870574408697,
           2.0603790215954163,
           7.841192889672397,
           16.101072425444396,
           10.78301748200382,
           2.743499338915822,
           17.412222711914204,
           32.90362861759953,
           24.63273101219333,
           49.397678859997065,
           15.715439988247393,
           36.95093286322903,
           21.77537828705744,
           27.03099750257088,
           19.861906860584693,
           18.168796826795948,
           20.761715880711034,
           13.478771852504776,
           11.223740267371824,
           2.7030997502570884,
           16.203907742030264,
           11.10621419127369,
           2.6516820919641546,
           10.327603937123548,
           26.23402379903041,
           5.935066842955781,
           16.369178786543266,
           4.381519024533569,
           14.297781695313647,
           35.54796532980755,
           4.745115322462171,
           35.71323637432055,
           17.17349786983987,
           34.023799030409876,
           19.244894961069487,
           3.4045835169678274,
           11.146613779932423,
           61.38901131188482,
           2.0016159835463494,
           39.848685177023654,
           69.39180255619215,
           0.5619215513442045,
           7.271925958572058,
           3.400910827089761,
           28.14382253562509,
           3.514764213309828,
           39.86704862641399,
           3.5735272513588954,
           7.988100484795065,
           5.417217570148377,
           61.37432055237255,
           4.631261936242104,
           4.539444689290437,
           27.838989275745558,
           5.718378140149846,
           30.08667548112237,
           21.17672983693257,
           8.039518143087998,
           41.1671808432496,
           14.13985603055678,
           10.456148082855883,
           1.4323490524460116,
           14.070074922873513,
           55.76979579844278,
           23.54561480828559,
           16.247980020567063,
           13.379609225796973,
           8.11297194064933,
           48.16732775084472,
           13.30615542823564,
           9.706919347730278
          ],
          [
           31.5682797061059,
           24.220927286546747,
           7.347352419559158,
           3.749683303775019,
           2.482898403851026,
           6.485938687610844,
           5.4218393716746895,
           3.2936407398023815,
           2.837598175829744,
           40.689130985558656,
           8.538130225487713,
           3.2176336458069423,
           9.095515581454269,
           6.764631365594122,
           5.573853559665569,
           2.5842411958449456,
           8.71548011147707,
           3.166962249809982,
           6.257917405624525,
           37.674182923739544,
           3.7243476057765394,
           74.79098049151254,
           37.92753990372435,
           42.71598682543704,
           53.25563719280466,
           18.520395236888774,
           29.592095262224476,
           51.3301241449202,
           7.246009627565239,
           29.820116544210794,
           3.4709906257917407,
           2.5842411958449456,
           7.575373701545478,
           15.252090195084875,
           13.757284013174562,
           3.7243476057765394,
           19.50848745882949,
           35.39397010387636,
           24.423612870534583,
           52.52090195084874,
           18.267038256903977,
           33.18976437800861,
           17.329617430960223,
           31.59361540410438,
           21.28198631872308,
           18.191031162908537,
           22.194071446668357,
           17.101596148973904,
           11.147707119331137,
           4.4590828477324544,
           16.18951102102863,
           10.61565746136306,
           3.014948061819103,
           11.147707119331137,
           25.918419052444897,
           6.435267291613885,
           14.694704839118316,
           5.092475297694452,
           15.150747403090955,
           38.484925259690904,
           6.865974157588041,
           42.386622751456805,
           21.560678996706358,
           38.3582467696985,
           23.43552064859387,
           4.155054471750697,
           10.134279199391944,
           67.24094248796554,
           2.2802128198631872,
           43.374714973397516,
           71.54801114770713,
           1.3681276919179122,
           8.79148720547251,
           5.649860653661008,
           30.833544464149988,
           5.903217633645807,
           44.210793007347355,
           4.079047377755257,
           9.602229541423867,
           5.117810995692931,
           63.38991639219661,
           3.775019001773499,
           6.6632885736002025,
           27.793260704332408,
           8.99417278946035,
           28.78135292627312,
           27.793260704332408,
           10.362300481378261,
           38.94096782366354,
           15.049404611097037,
           9.830250823410184,
           2.4322270078540664,
           13.225234355206487,
           56.29592095262225,
           26.349125918419052,
           18.29237395490246,
           15.860146947048392,
           10.86901444134786,
           56.346592348619204,
           16.696224980998224,
           15.049404611097037
          ],
          [
           28.7987937678003,
           26.687887418328028,
           20.857765119785558,
           5.243759423689061,
           5.277265873680684,
           5.763109398559223,
           4.875188473781203,
           4.741162673814709,
           3.7862288490534426,
           43.457865639135534,
           10.722063997319484,
           5.712849723571788,
           8.828949572792762,
           7.823756073044061,
           17.440107220639973,
           2.680515999329871,
           6.13168034846708,
           2.0606466744848384,
           5.394538448651366,
           44.44630591388842,
           3.4511643491372093,
           77.73496398056626,
           43.910202714022454,
           44.429552688892606,
           59.03836488524041,
           24.593734293851565,
           32.81956776679511,
           59.189143910202716,
           4.657396548835651,
           30.85944044228514,
           5.846875523538281,
           3.5349304741162673,
           13.838163846540457,
           27.00619869324845,
           10.956609147260847,
           3.668956274082761,
           23.203216619199196,
           35.91891439102027,
           29.38515664265371,
           48.4335734628916,
           15.831797621042051,
           45.04942201373765,
           32.83632099179092,
           29.88775339252806,
           20.924778019768805,
           22.04724409448819,
           23.370748869157314,
           15.412966996146757,
           13.63712514659072,
           3.886748199028313,
           18.445300720388673,
           15.915563746021109,
           3.886748199028313,
           9.130507622717374,
           28.76528731780868,
           7.287652873178087,
           16.334394370916403,
           5.428044898642989,
           16.736471770815882,
           33.690735466577316,
           5.327525548668119,
           58.68654716032836,
           17.574133020606467,
           35.13151281621712,
           18.26101524543475,
           3.7694756240576313,
           19.919584520020102,
           62.70732115932317,
           2.4794772993801306,
           38.43189814039202,
           70.29653208242587,
           0.9884402747528899,
           8.175573797956107,
           4.087786898978053,
           26.553861618361534,
           6.349472273412632,
           51.76746523705813,
           4.288825598927794,
           12.079075221980231,
           7.321159323169709,
           63.05913888423521,
           5.411291673647177,
           4.891941698777014,
           32.166191991958456,
           5.8803819735299045,
           44.93214943876696,
           20.237895794940524,
           9.39855922265036,
           63.343943709164016,
           20.807505444798124,
           10.202714022449321,
           2.445970849388507,
           29.938013067515495,
           70.74886915731278,
           29.050092142737476,
           26.16853744345787,
           19.85257162003686,
           14.156475121460883,
           45.652538113586864,
           14.324007371418999,
           11.157647847210587
          ],
          [
           36.966654714951595,
           27.895302975977053,
           4.553603442093941,
           3.1911079239870923,
           2.007888131946934,
           7.60129078522768,
           8.103262818214414,
           3.04768734313374,
           4.230907135173897,
           41.23341699533883,
           7.565435640014343,
           2.4022947292936534,
           12.19074937253496,
           9.465758336321262,
           4.051631409107207,
           3.513804230907135,
           43.09788454643241,
           16.098960200788813,
           8.246683399067766,
           29.006812477590532,
           3.9082108282538544,
           79.45500179275726,
           39.6916457511653,
           44.424524919325926,
           42.34492649695231,
           14.879885263535316,
           23.664395840803152,
           49.40839010397992,
           6.09537468626748,
           34.63607027608462,
           2.6532807457870207,
           3.0118321979204015,
           6.704912154894227,
           9.824309788454643,
           16.780207959842237,
           2.6174256005736822,
           18.142703477949084,
           26.78379347436357,
           24.632484761563283,
           48.04589458587307,
           13.409824309788455,
           27.321620652563645,
           15.059160989602008,
           33.95482251703119,
           18.60882036572248,
           16.2782359268555,
           18.64467551093582,
           13.553244890641809,
           10.254571531014701,
           3.657224811760488,
           17.999282897095732,
           9.680889207601291,
           3.7289351021871644,
           9.5016134815346,
           27.142344926496953,
           5.808533524560774,
           9.358192900681248,
           4.697024022947293,
           16.134815346002153,
           34.31337396916457,
           11.939763356041592,
           35.353173180351384,
           31.33739691645751,
           53.53173180351381,
           42.595912513445676,
           6.09537468626748,
           10.326281821441377,
           62.459662961635,
           3.155252778773754,
           41.37683757619218,
           67.22839727500897,
           1.3983506633201863,
           10.039440659734671,
           10.147006095374685,
           30.36930799569738,
           3.872355683040516,
           43.85084259591252,
           4.195051989960559,
           8.031552527787737,
           10.362136966654715,
           49.26496952312657,
           3.2628182144137687,
           9.788454643241305,
           28.074578702043745,
           7.60129078522768,
           23.01900322696307,
           43.20544998207242,
           16.098960200788813,
           31.122266045177483,
           15.453567586948727,
           11.258515596988168,
           2.2947292936536394,
           9.752599498027967,
           52.92219433488705,
           26.532807457870206,
           13.696665471495159,
           18.752240946575835,
           7.852276801721048,
           64.2524202223019,
           16.56507708856221,
           24.52491932592327
          ],
          [
           35.389723872771754,
           25.09612023767913,
           8.091576371897938,
           4.2642432715833625,
           2.2719328905976934,
           6.780845858091576,
           5.522544564837469,
           3.862285914016078,
           2.883607130373995,
           38.67528836071304,
           10.013981125480601,
           2.9010835372247463,
           9.140160782943028,
           6.850751485494583,
           5.312827682628452,
           2.7962250961202377,
           7.462425725270884,
           2.6738902481649776,
           7.3051380636141205,
           23.226144704648725,
           3.005941978329256,
           71.26878713736455,
           33.97413491786089,
           40.055924501922405,
           37.17231737154841,
           18.47256204124432,
           26.4767563788885,
           43.77839916113247,
           6.308982873121287,
           27.96225096120238,
           3.670045438657812,
           2.6389374344634744,
           6.815798671793079,
           14.872422229989516,
           12.320866829779797,
           4.037049982523593,
           27.455435162530584,
           46.01537923802866,
           23.593149248514507,
           59.402306885704306,
           18.175463124781547,
           37.189793778399164,
           19.975533030408947,
           32.52359314924851,
           26.82628451590353,
           20.027962250961203,
           19.64348130024467,
           16.07829430269137,
           12.111149947570778,
           4.596295001747641,
           15.798671793079343,
           11.464522894092974,
           2.778748689269486,
           15.379238028661307,
           22.859140160782943,
           5.522544564837469,
           9.664452988465571,
           6.256553652569032,
           16.58511010136316,
           47.6581614819993,
           6.850751485494583,
           43.411394617266694,
           19.18909472212513,
           40.38797623208668,
           20.447396015379237,
           4.229290457881859,
           10.013981125480601,
           73.06885704299197,
           2.009786787836421,
           35.04019573575673,
           74.27472911569382,
           0.9262495630898288,
           6.291506466270534,
           5.173016427822439,
           41.50646627053477,
           6.23907724571828,
           42.24047535826634,
           6.274030059419783,
           7.444949318420132,
           4.526389374344634,
           80.07689619014332,
           3.0408947920307585,
           5.924501922404754,
           24.23977630199231,
           13.491786088780147,
           30.059419783292558,
           26.074799021321216,
           11.272282418734708,
           33.92170569730864,
           16.218105557497378,
           9.140160782943028,
           2.1146452289409297,
           11.272282418734708,
           56.83327507864383,
           21.04159384830479,
           19.50367004543866,
           17.493883257602235,
           8.930443900734009,
           59.07025515554002,
           21.688220901782593,
           13.386927647675636
          ],
          [
           32.61052631578947,
           24.08421052631579,
           5.747368421052632,
           3.494736842105263,
           1.831578947368421,
           7.284210526315789,
           7.178947368421053,
           3.0947368421052635,
           4.757894736842106,
           34,
           9.284210526315789,
           2.168421052631579,
           9.178947368421053,
           10.442105263157893,
           3.4526315789473685,
           3.8947368421052633,
           10.063157894736841,
           3.7894736842105265,
           9.010526315789473,
           31.305263157894736,
           3.3473684210526313,
           72.96842105263158,
           38.315789473684205,
           37.05263157894737,
           46.14736842105263,
           16.673684210526314,
           27.66315789473684,
           42.589473684210525,
           6.273684210526316,
           24.31578947368421,
           3.663157894736842,
           2.8000000000000003,
           6.421052631578947,
           10.042105263157895,
           13.368421052631579,
           3.494736842105263,
           17.49473684210526,
           30.589473684210528,
           20.968421052631577,
           45.03157894736842,
           15.073684210526316,
           29.957894736842107,
           14.526315789473685,
           38.821052631578944,
           19.11578947368421,
           16.568421052631578,
           18.821052631578947,
           14.547368421052632,
           10.547368421052632,
           2.926315789473684,
           13.094736842105261,
           10.821052631578947,
           2.4842105263157896,
           8.063157894736841,
           19.747368421052634,
           4.905263157894737,
           10.505263157894737,
           3.7263157894736847,
           12.021052631578948,
           30.484210526315792,
           15.389473684210525,
           43.97894736842105,
           47.89473684210526,
           38.33684210526316,
           47.473684210526315,
           5.663157894736842,
           10.778947368421052,
           54.10526315789473,
           2.863157894736842,
           39.83157894736842,
           58.37894736842105,
           1.263157894736842,
           9.284210526315789,
           8.715789473684211,
           25.157894736842106,
           5.6421052631578945,
           50.27368421052631,
           4.378947368421052,
           7.178947368421053,
           9.031578947368422,
           49.55789473684211,
           3.136842105263158,
           9.263157894736842,
           22.526315789473685,
           9.494736842105263,
           23.157894736842106,
           36.46315789473684,
           23.978947368421053,
           33.97894736842105,
           14.063157894736841,
           7.831578947368421,
           2.378947368421053,
           9.873684210526317,
           63.49473684210526,
           22.526315789473685,
           15.389473684210525,
           30.23157894736842,
           7.473684210526316,
           56.48421052631579,
           13.473684210526315,
           18.294736842105262
          ],
          [
           21.74959871589085,
           16.934189406099517,
           8.507223113964688,
           17.46923488496522,
           2.354200107009096,
           4.5211342964151955,
           4.574638844301766,
           14.686998394863563,
           10.914927768860354,
           31.942215088282506,
           32.530765115034775,
           2.8089887640449436,
           7.410379882289994,
           17.415730337078653,
           8.801498127340825,
           8.079186730872125,
           6.821829855537722,
           2.701979668271803,
           4.735152487961477,
           34.85821294810059,
           4.119850187265917,
           75.30765115034778,
           36.43659711075441,
           43.28517924023542,
           49.2776886035313,
           16.479400749063668,
           27.554842161583736,
           52.220438737292675,
           6.982343499197431,
           27.768860353130016,
           7.490636704119851,
           3.504547886570358,
           10.112359550561797,
           20.278223649010165,
           11.20920278223649,
           4.333868378812198,
           16.613162118780096,
           34.4836811128946,
           27.314071696094167,
           49.67897271268058,
           18.726591760299627,
           44.0342429106474,
           21.910112359550563,
           32.102728731942214,
           14.526484751203853,
           12.413055109684324,
           15.302300695559124,
           12.867843766720172,
           16.559657570893528,
           3.210272873194221,
           13.456393793472445,
           22.364901016586412,
           2.7822364901016585,
           7.784911717495987,
           21.187800963081862,
           5.591225254146603,
           14.018191546281432,
           4.226859283039058,
           11.985018726591761,
           29.507758159443554,
           7.2766185125735685,
           43.90048154093098,
           22.98020331728197,
           26.64526484751204,
           23.809523809523807,
           3.2370251471375067,
           11.797752808988763,
           52.59497057249867,
           2.8357410379882286,
           40.44943820224719,
           56.90208667736758,
           2.247191011235955,
           6.71482075976458,
           4.360620652755484,
           22.953451043338685,
           5.778491171749598,
           65.08828250401284,
           13.857677902621724,
           7.811663991439273,
           5.858747993579454,
           67.1749598715891,
           12.680577849117174,
           4.628143392188336,
           18.432316746923487,
           11.15569823434992,
           37.31942215088282,
           20.518994114499733,
           12.54681647940075,
           44.569288389513105,
           21.69609416800428,
           9.65757089352595,
           3.263777421080792,
           18.325307651150347,
           62.84109149277689,
           25.842696629213485,
           18.45906902086677,
           18.619582664526487,
           10.914927768860354,
           49.518459069020864,
           12.787586944890316,
           9.149277688603531
          ],
          [
           25.136612021857925,
           18.237704918032787,
           6.762295081967213,
           4.5423497267759565,
           2.288251366120219,
           7.035519125683059,
           7.41120218579235,
           3.927595628415301,
           5.532786885245901,
           39.58333333333333,
           12.978142076502733,
           2.8346994535519126,
           11.441256830601093,
           10.758196721311474,
           4.67896174863388,
           4.337431693989071,
           9.426229508196721,
           3.3811475409836067,
           5.942622950819672,
           27.66393442622951,
           4.337431693989071,
           78.27868852459017,
           40.33469945355191,
           46.89207650273224,
           40.47131147540984,
           14.924863387978144,
           21.9603825136612,
           51.434426229508205,
           7.547814207650274,
           33.060109289617486,
           3.5177595628415297,
           2.7663934426229506,
           6.796448087431695,
           12.295081967213115,
           16.188524590163937,
           3.790983606557377,
           21.311475409836063,
           28.927595628415297,
           26.400273224043712,
           53.85928961748634,
           15.881147540983607,
           34.18715846994536,
           16.87158469945355,
           34.80191256830601,
           16.35928961748634,
           13.866120218579233,
           20.32103825136612,
           14.685792349726775,
           13.114754098360656,
           4.67896174863388,
           18.954918032786885,
           12.09016393442623,
           4.474043715846995,
           11.441256830601093,
           27.86885245901639,
           6.4890710382513666,
           13.524590163934427,
           5.498633879781421,
           15.23224043715847,
           37.36338797814208,
           9.562841530054644,
           38.18306010928962,
           25.37568306010929,
           29.57650273224044,
           27.732240437158467,
           5.601092896174864,
           9.084699453551913,
           66.80327868852459,
           4.200819672131147,
           39.9931693989071,
           68.4084699453552,
           2.185792349726776,
           9.870218579234972,
           5.976775956284152,
           32.99180327868852,
           5.669398907103825,
           45.25273224043716,
           9.221311475409836,
           8.777322404371585,
           5.669398907103825,
           56.62568306010929,
           4.132513661202186,
           6.864754098360656,
           26.331967213114755,
           8.435792349726775,
           25.512295081967213,
           28.688524590163933,
           14.412568306010929,
           35.040983606557376,
           16.76912568306011,
           14.515027322404372,
           2.698087431693989,
           11.202185792349727,
           56.93306010928961,
           26.707650273224044,
           14.993169398907105,
           18.066939890710383,
           9.528688524590164,
           51.263661202185794,
           20.21857923497268,
           13.456284153005466
          ],
          [
           26.955360549408624,
           19.896985883250668,
           15.070583746661578,
           4.120564669973293,
           3.5864173979397176,
           5.990080122090805,
           5.265165967188096,
           3.6818008393742843,
           3.0331934376192295,
           38.744753910721094,
           9.462037390309042,
           5.0362457077451355,
           7.458985120183136,
           7.058374666157954,
           9.080503624570776,
           2.918733307897749,
           7.954979015642884,
           3.4147272033574967,
           5.589469668065624,
           27.413201068294548,
           2.918733307897749,
           73.63601678748569,
           40.061045402518126,
           43.13239221671118,
           39.813048454788245,
           16.08164822586799,
           24.780618084700496,
           46.37542922548646,
           5.188859214040443,
           28.46241892407478,
           4.311331552842427,
           2.689813048454788,
           7.039297977871041,
           17.3788630293781,
           10.282334986646319,
           3.719954215948111,
           31.55284242655475,
           35.23464326592903,
           23.712323540633346,
           57.535291873330785,
           15.261350629530712,
           40.499809233117126,
           23.73140022892026,
           35.12018313620756,
           18.06562380770698,
           14.6699732926364,
           17.798550171690195,
           13.620755436856161,
           14.498283098054177,
           5.11255246089279,
           15.566577642121327,
           13.639832125143075,
           2.861503243037009,
           12.361694009919878,
           22.128958412819536,
           6.75314765356734,
           9.786341091186571,
           6.447920640976726,
           16.19610835558947,
           41.26287676459366,
           8.393742846241894,
           54.94086226631056,
           23.998473864937047,
           31.896222815719188,
           23.61694009919878,
           4.101487981686379,
           13.964135826020602,
           69.49637542922548,
           2.708889736741702,
           35.80694391453644,
           71.04158718046547,
           1.2590614269362839,
           6.447920640976726,
           4.425791682563907,
           39.75581838992751,
           8.260206028233497,
           50.91568103777184,
           5.207935902327356,
           10.511255246089279,
           7.306371613887828,
           68.14193056085463,
           3.452880579931324,
           5.322396032048837,
           23.52155665776421,
           10.702022128958413,
           31.972529568866843,
           24.28462418924075,
           13.296451735978634,
           42.69362838611217,
           16.88286913391835,
           9.805417779473483,
           2.2510492178557806,
           15.375810759252193,
           70.67913010301412,
           23.97939717665013,
           17.32163296451736,
           23.73140022892026,
           9.50019076688287,
           52.89965661961084,
           21.13697062190004,
           11.52231972529569
          ],
          [
           27.019089574155654,
           23.53157121879589,
           11.490455212922173,
           6.424375917767988,
           4.331864904552129,
           5.947136563876652,
           5.469897209985316,
           5.8370044052863435,
           3.9647577092511015,
           43.4654919236417,
           11.380323054331864,
           4.5154185022026425,
           10.38913362701909,
           9.140969162995596,
           11.637298091042585,
           3.81791483113069,
           7.048458149779736,
           2.679882525697504,
           5.726872246696035,
           44.49339207048458,
           4.038179148311307,
           75.99118942731278,
           36.71071953010279,
           54.25844346549192,
           59.03083700440529,
           19.933920704845814,
           28.634361233480178,
           61.45374449339207,
           5.983847283406755,
           33.480176211453745,
           6.4610866372980915,
           4.001468428781204,
           13.876651982378855,
           25.40381791483113,
           13.215859030837004,
           3.81791483113069,
           18.318649045521294,
           32.8928046989721,
           28.524229074889867,
           47.09985315712188,
           14.574155653450807,
           44.860499265785606,
           32.305433186490454,
           30.726872246696036,
           18.869309838472834,
           18.355359765051396,
           21.292217327459618,
           16.079295154185022,
           11.930983847283407,
           4.662261380323055,
           18.68575624082232,
           13.362701908957417,
           4.809104258443465,
           8.994126284875184,
           33.627019089574155,
           10.205580029368576,
           14.4640234948605,
           5.359765051395008,
           15.52863436123348,
           30.837004405286343,
           7.856093979441997,
           45.88839941262849,
           21.73274596182085,
           33.33333333333333,
           23.017621145374452,
           4.441997063142438,
           16.409691629955947,
           60.68281938325991,
           2.679882525697504,
           37.99559471365639,
           69.34654919236417,
           1.57856093979442,
           9.544787077826726,
           7.599118942731277,
           26.431718061674008,
           6.130690161527165,
           46.51248164464023,
           5.39647577092511,
           12.812041116005874,
           7.63582966226138,
           60.4258443465492,
           7.085168869309838,
           8.737151248164464,
           30.066079295154186,
           6.571218795888399,
           44.82378854625551,
           24.963289280469898,
           10.682819383259911,
           50.14684287812041,
           21.32892804698972,
           11.674008810572687,
           2.7900146842878124,
           22.24669603524229,
           61.60058737151248,
           33.44346549192364,
           21.32892804698972,
           18.3920704845815,
           13.766519823788546,
           42.621145374449334,
           15.38179148311307,
           16.409691629955947
          ],
          [
           28.994793752503,
           22.3468161794153,
           6.888265919102923,
           4.685622747296756,
           2.643171806167401,
           7.8494193031637955,
           7.889467360833,
           4.004805766920304,
           3.884661593912695,
           42.57108530236284,
           10.332398878654384,
           3.0036043251902282,
           12.214657589106928,
           8.970764917901482,
           5.206247496996395,
           3.644373247897477,
           9.010812975570685,
           3.2038446135362433,
           7.529034841810173,
           28.233880656788145,
           4.565478574289147,
           75.0901081297557,
           34.84181017220665,
           49.539447336804166,
           44.533440128153785,
           18.30196235482579,
           26.231477773327995,
           53.34401281537845,
           5.726872246696035,
           36.8442130556668,
           4.325190228273929,
           3.123748498197837,
           8.53023628354025,
           15.93912695234281,
           17.22066479775731,
           3.9247096515818978,
           20.704845814977972,
           35.32238686423708,
           26.111333600320386,
           52.42290748898678,
           15.618742490989188,
           36.72406888265919,
           20.50460552663196,
           34.96195434521426,
           20.464557468962756,
           16.900280336403682,
           21.105326391670005,
           15.818982779335203,
           12.975570684821786,
           5.246295554665599,
           18.622346816179416,
           11.17340808970765,
           4.805766920304365,
           12.655186223468162,
           28.55426511814177,
           7.929515418502203,
           10.732879455346415,
           5.967160592711253,
           16.940328394072885,
           41.529835802963554,
           7.649179014817781,
           37.48498197837405,
           20.94513416099319,
           34.52142571085302,
           22.947537044453345,
           6.207448938726472,
           11.533840608730477,
           69.60352422907489,
           2.2827392871445733,
           36.28354024829796,
           73.00760913095715,
           1.5618742490989186,
           9.130957148578293,
           8.049659591509812,
           34.88185822987585,
           5.246295554665599,
           42.01041249499399,
           6.888265919102923,
           10.13215859030837,
           5.206247496996395,
           63.115738886664,
           3.2839407288746494,
           10.01201441730076,
           28.39407288746496,
           10.492591109331197,
           33.11974369243092,
           30.356427713255908,
           11.894273127753303,
           36.04325190228274,
           21.18542250700841,
           13.215859030837004,
           2.8033640368442128,
           12.655186223468162,
           53.66439727673208,
           27.75330396475771,
           19.463356027232678,
           18.622346816179416,
           11.213456147376851,
           50.62074489387265,
           22.90748898678414,
           19.823788546255507
          ],
          [
           28.45427435387674,
           19.25944333996024,
           4.52286282306163,
           8.499005964214712,
           1.9880715705765408,
           4.796222664015905,
           4.398608349900597,
           7.952286282306163,
           7.75347912524851,
           27.907554671968192,
           26.988071570576537,
           2.3111332007952288,
           6.535785288270378,
           13.643141153081512,
           3.354870775347912,
           5.790258449304175,
           5.193836978131213,
           2.0129224652087476,
           5.318091451292246,
           24.055666003976143,
           4.3737574552683895,
           67.9920477137177,
           27.186878727634195,
           38.07157057654075,
           36.97813121272366,
           17.395626242544733,
           29.27435387673956,
           40.87972166998012,
           6.36182902584493,
           25.074552683896624,
           3.5288270377733597,
           2.3856858846918487,
           5.666003976143141,
           11.456262425447317,
           9.542743538767395,
           5.5168986083499005,
           16.575546719681906,
           45.80019880715705,
           19.905566600397613,
           49.6520874751491,
           22.39065606361829,
           34.09542743538768,
           11.928429423459244,
           30.66600397614314,
           20.601391650099405,
           15.283300198807156,
           14.48807157057654,
           12.226640159045726,
           13.543737574552683,
           3.8270377733598413,
           10.636182902584492,
           14.41351888667992,
           2.261431411530815,
           8.623260437375746,
           17.2713717693837,
           4.920477137176938,
           8.722664015904574,
           3.6530815109343937,
           10.43737574552684,
           33.64811133200795,
           5.8399602385685885,
           34.69184890656064,
           17.544731610337973,
           31.6351888667992,
           18.961232604373755,
           3.1560636182902586,
           6.312127236580517,
           58.97117296222664,
           2.360834990059642,
           31.088469184890656,
           57.55467196819085,
           1.8638170974155068,
           4.920477137176938,
           3.6779324055666,
           25.894632206759443,
           4.970178926441352,
           53.23061630218688,
           18.93638170974155,
           6.163021868787276,
           3.354870775347912,
           73.45924453280318,
           4.473161033797217,
           4.150099403578529,
           16.84890656063618,
           18.961232604373755,
           25.497017892644138,
           20.328031809145127,
           9.791252485089464,
           26.565606361829026,
           16.451292246520875,
           9.269383697813122,
           3.2803180914512926,
           8.399602385685885,
           46.34691848906561,
           18.389662027833,
           19.01093439363817,
           14.115308151093439,
           7.231610337972167,
           59.04572564612326,
           17.072564612326044,
           9.269383697813122
          ],
          [
           19.98873873873874,
           13.65427927927928,
           4.842342342342342,
           6.221846846846847,
           1.5202702702702704,
           5.123873873873873,
           5.574324324324325,
           5.79954954954955,
           13.147522522522523,
           28.29391891891892,
           25.11261261261261,
           2.1114864864864864,
           7.573198198198199,
           19.90427927927928,
           3.0968468468468466,
           10.022522522522523,
           7.882882882882883,
           2.956081081081081,
           4.391891891891892,
           19.53828828828829,
           3.9977477477477477,
           77.73085585585585,
           40.765765765765764,
           40.93468468468468,
           30.152027027027028,
           10.951576576576578,
           18.524774774774773,
           45.21396396396396,
           6.981981981981981,
           26.745495495495497,
           3.800675675675676,
           2.505630630630631,
           4.5608108108108105,
           9.90990990990991,
           12.528153153153154,
           3.040540540540541,
           16.019144144144143,
           22.804054054054053,
           23.170045045045047,
           47.015765765765764,
           13.56981981981982,
           30.236486486486484,
           12.443693693693694,
           32.74211711711711,
           13.034909909909908,
           9.628378378378379,
           15.118243243243242,
           11.683558558558559,
           13.992117117117116,
           3.2939189189189184,
           11.79617117117117,
           14.076576576576578,
           2.5337837837837838,
           9.121621621621621,
           18.86261261261261,
           5.405405405405405,
           11.120495495495495,
           3.350225225225225,
           11.233108108108109,
           29.898648648648653,
           10.838963963963964,
           36.76801801801802,
           33.164414414414416,
           24.239864864864867,
           36.76801801801802,
           4.110360360360361,
           7.85472972972973,
           53.46283783783784,
           4.504504504504505,
           39.86486486486486,
           54.19481981981982,
           4.335585585585585,
           6.587837837837837,
           4.870495495495495,
           25.788288288288285,
           5.405405405405405,
           59.03716216216216,
           17.989864864864867,
           6.925675675675675,
           6.78490990990991,
           46.70608108108108,
           4.983108108108108,
           5.63063063063063,
           15.79391891891892,
           7.967342342342343,
           21.79054054054054,
           26.97072072072072,
           14.329954954954955,
           30.96846846846847,
           16.07545045045045,
           10.416666666666668,
           3.350225225225225,
           8.220720720720722,
           62.19031531531532,
           22.60698198198198,
           11.993243243243242,
           16.666666666666664,
           5.996621621621621,
           49.0990990990991,
           15.850225225225225,
           10.416666666666668
          ],
          [
           17.201604814443332,
           13.440320962888666,
           6.093279839518555,
           15.697091273821465,
           2.0812437311935805,
           3.7612838515546643,
           4.789368104312939,
           12.963891675025074,
           27.256770310932797,
           25.651955867602812,
           50.075225677031085,
           2.432296890672016,
           7.246740220661986,
           37.938816449348046,
           5.1654964894684054,
           19.834503510531594,
           6.64493480441324,
           2.7582748244734203,
           3.5857572718154462,
           28.58575727181545,
           4.037111334002006,
           78.05917753259779,
           36.18355065195587,
           43.75626880641926,
           40.84754262788365,
           14.543630892678033,
           24.37311935807422,
           51.07823470411233,
           7.246740220661986,
           26.705115346038117,
           5.441323971915748,
           2.3570712136409226,
           7.096288866599799,
           15.57171514543631,
           9.954864593781345,
           3.786359077231695,
           13.665997993981946,
           27.256770310932797,
           25.827482447342025,
           46.26379137412236,
           16.098294884653964,
           39.1173520561685,
           15.220661985957873,
           33.45035105315948,
           11.158475426278837,
           9.378134403209629,
           12.637913741223672,
           10.75727181544634,
           19.132397191574725,
           2.8335005015045134,
           10.782347041123371,
           26.4543630892678,
           2.683049147442327,
           6.218655967903711,
           18.756268806419257,
           4.663991975927784,
           9.553660982948847,
           2.8084252758274824,
           9.829488465396189,
           24.172517552657975,
           7.5225677031093285,
           39.56870611835506,
           25.050150451354064,
           21.339017051153462,
           29.789368104312942,
           3.3600802407221666,
           9.553660982948847,
           48.24473420260782,
           3.6609829488465397,
           35.05516549648947,
           48.26980942828485,
           4.237713139418255,
           5.917753259779338,
           3.8114343029087263,
           18.004012036108325,
           4.413239719157472,
           78.33500501504514,
           27.632898696088265,
           6.41925777331996,
           6.218655967903711,
           58.45035105315948,
           8.375125376128386,
           4.689067201604814,
           13.99197592778335,
           9.327983951855568,
           32.59779338014042,
           19.408224674022065,
           11.885656970912738,
           39.96990972918756,
           22.216649949849547,
           9.754262788365095,
           4.112337011033099,
           13.716148445336007,
           63.54062186559679,
           24.82447342026078,
           16.72517552657974,
           17.953861584754264,
           8.049147442326982,
           48.72116349047141,
           12.211634904714144,
           8.224674022066198
          ],
          [
           19.12751677852349,
           13.422818791946309,
           6.136145733461169,
           6.85522531160115,
           2.1572387344199426,
           4.650047938638543,
           5.417066155321189,
           6.85522531160115,
           16.155321188878236,
           25.98274209012464,
           30.393096836049853,
           2.3010546500479387,
           7.28667305848514,
           24.30488974113135,
           3.883029721955897,
           12.224352828379674,
           8.724832214765101,
           4.026845637583892,
           4.410354745925216,
           22.96260786193672,
           3.7392138063279003,
           77.75647171620325,
           40.46021093000959,
           41.37104506232023,
           32.118887823585816,
           10.977948226270374,
           19.463087248322147,
           45.49376797698945,
           6.615532118887824,
           24.448705656759348,
           4.1227229146692235,
           3.2598274209012463,
           5.512943432406519,
           9.491850431447748,
           10.354745925215724,
           3.4995206136145733,
           14.669223394055608,
           20.949185043144773,
           19.606903163950143,
           39.213806327900286,
           11.984659635666347,
           31.1601150527325,
           11.84084372003835,
           33.17353787152445,
           11.073825503355705,
           9.683604985618409,
           11.553211888782359,
           9.827420901246404,
           14.285714285714285,
           3.691275167785235,
           10.738255033557047,
           15.771812080536913,
           2.924256951102589,
           6.7114093959731544,
           17.449664429530202,
           5.704697986577181,
           8.964525407478426,
           3.883029721955897,
           9.683604985618409,
           25.071907957814,
           11.601150527325025,
           42.42569511025887,
           34.851390220517736,
           22.33940556088207,
           39.83700862895494,
           3.978906999041227,
           9.491850431447748,
           47.02780441035475,
           4.554170661553212,
           32.98178331735379,
           48.465963566634706,
           5.465004793863854,
           5.944391179290508,
           5.321188878235858,
           20.086289549376797,
           6.615532118887824,
           67.68935762224353,
           22.24352828379674,
           7.766059443911794,
           8.820709491850431,
           43.672099712368166,
           5.129434324065196,
           6.2320230105465,
           14.04602109300096,
           9.731543624161073,
           23.441994247363375,
           22.53116011505273,
           15.244487056567593,
           32.98178331735379,
           16.347075743048897,
           8.389261744966444,
           3.978906999041227,
           9.87535953978907,
           67.16203259827421,
           24.73633748801534,
           12.559923298178333,
           19.942473633748804,
           6.903163950143816,
           50,
           11.984659635666347,
           10.162991371045061
          ],
          [
           28.939393939393938,
           26.136363636363637,
           10.53030303030303,
           5.681818181818182,
           3.939393939393939,
           8.409090909090908,
           7.878787878787878,
           4.772727272727273,
           6.4393939393939394,
           43.78787878787879,
           12.878787878787879,
           4.848484848484849,
           15.151515151515152,
           11.363636363636363,
           9.242424242424242,
           5.151515151515151,
           8.787878787878787,
           4.318181818181818,
           8.93939393939394,
           29.09090909090909,
           5.681818181818182,
           75.07575757575758,
           33.25757575757576,
           55.6060606060606,
           43.93939393939394,
           21.06060606060606,
           23.939393939393938,
           59.3939393939394,
           7.196969696969697,
           35,
           6.59090909090909,
           5.227272727272727,
           12.727272727272727,
           21.59090909090909,
           15.757575757575756,
           5.227272727272727,
           22.954545454545457,
           34.54545454545455,
           25.833333333333336,
           49.54545454545455,
           13.712121212121211,
           45.75757575757576,
           29.393939393939394,
           33.63636363636363,
           20.530303030303028,
           20.303030303030305,
           20.606060606060606,
           15.075757575757576,
           13.560606060606062,
           6.0606060606060606,
           18.409090909090907,
           12.727272727272727,
           5.227272727272727,
           12.424242424242424,
           31.439393939393938,
           10.378787878787879,
           10.303030303030303,
           6.666666666666667,
           19.015151515151516,
           36.43939393939394,
           10.606060606060606,
           44.3939393939394,
           23.40909090909091,
           34.84848484848485,
           23.636363636363637,
           7.348484848484849,
           13.863636363636363,
           69.16666666666667,
           3.4090909090909087,
           33.33333333333333,
           72.87878787878788,
           2.727272727272727,
           9.393939393939393,
           9.318181818181818,
           31.515151515151512,
           8.333333333333332,
           45.984848484848484,
           6.8181818181818175,
           12.5,
           7.954545454545454,
           65.07575757575758,
           6.212121212121212,
           10.681818181818182,
           29.772727272727273,
           10.303030303030303,
           45.07575757575758,
           31.363636363636367,
           13.560606060606062,
           42.95454545454545,
           24.848484848484848,
           14.696969696969697,
           5,
           19.090909090909093,
           58.86363636363636,
           33.18181818181819,
           24.62121212121212,
           23.03030303030303,
           14.84848484848485,
           44.31818181818182,
           23.863636363636363,
           23.40909090909091
          ],
          [
           20.36082474226804,
           19.02061855670103,
           26.134020618556704,
           7.422680412371134,
           8.041237113402062,
           5.103092783505154,
           5.927835051546391,
           6.494845360824743,
           4.22680412371134,
           42.628865979381445,
           12.216494845360824,
           9.278350515463918,
           9.742268041237114,
           8.350515463917525,
           25.51546391752577,
           3.865979381443299,
           6.701030927835052,
           3.1443298969072164,
           4.587628865979381,
           43.29896907216495,
           5.721649484536083,
           79.84536082474227,
           41.95876288659794,
           50.618556701030926,
           56.34020618556701,
           17.7319587628866,
           25.56701030927835,
           60.567010309278345,
           6.907216494845361,
           30.463917525773194,
           8.8659793814433,
           3.65979381443299,
           18.402061855670105,
           33.76288659793815,
           10.77319587628866,
           3.711340206185567,
           24.690721649484537,
           28.04123711340206,
           28.60824742268041,
           53.76288659793814,
           12.886597938144329,
           49.432989690721655,
           40,
           30.77319587628866,
           14.484536082474229,
           14.896907216494846,
           18.04123711340206,
           15.257731958762887,
           16.34020618556701,
           5.206185567010309,
           19.329896907216497,
           20.412371134020617,
           4.896907216494846,
           9.587628865979383,
           28.298969072164947,
           10.257731958762886,
           15.206185567010309,
           6.288659793814433,
           14.793814432989691,
           30.97938144329897,
           7.628865979381444,
           61.49484536082475,
           20.670103092783503,
           26.134020618556704,
           21.494845360824744,
           4.278350515463917,
           30.20618556701031,
           58.50515463917526,
           3.9690721649484533,
           39.948453608247426,
           65.87628865979381,
           2.0103092783505154,
           9.175257731958762,
           4.587628865979381,
           28.09278350515464,
           9.845360824742269,
           59.896907216494846,
           5.309278350515464,
           16.391752577319586,
           11.237113402061857,
           61.701030927835056,
           7.783505154639175,
           5.206185567010309,
           27.010309278350515,
           6.855670103092784,
           50.4639175257732,
           19.948453608247423,
           10.824742268041238,
           63.4020618556701,
           25.670103092783503,
           11.752577319587628,
           3.2989690721649487,
           36.08247422680412,
           74.63917525773196,
           33.298969072164944,
           20.927835051546392,
           20.721649484536083,
           17.422680412371133,
           39.43298969072165,
           15.463917525773196,
           10.463917525773196
          ],
          [
           26.168224299065418,
           19.003115264797508,
           7.009345794392523,
           6.853582554517133,
           4.672897196261682,
           9.813084112149532,
           10.59190031152648,
           4.8286604361370715,
           6.074766355140187,
           41.74454828660436,
           11.682242990654206,
           4.517133956386292,
           14.953271028037381,
           11.838006230529595,
           5.451713395638629,
           5.919003115264798,
           11.059190031152648,
           6.853582554517133,
           8.566978193146417,
           19.314641744548286,
           11.370716510903426,
           70.87227414330218,
           28.971962616822427,
           54.04984423676012,
           28.971962616822427,
           18.53582554517134,
           23.364485981308412,
           45.638629283489095,
           11.838006230529595,
           35.3582554517134,
           5.919003115264798,
           6.230529595015576,
           7.78816199376947,
           9.968847352024921,
           19.470404984423677,
           5.763239875389408,
           23.98753894080997,
           31.15264797507788,
           24.922118380062305,
           61.37071651090342,
           15.732087227414329,
           30.062305295950154,
           13.239875389408098,
           32.398753894081,
           19.003115264797508,
           15.42056074766355,
           19.626168224299064,
           16.355140186915886,
           15.109034267912772,
           9.968847352024921,
           19.470404984423677,
           11.993769470404985,
           9.034267912772584,
           18.06853582554517,
           26.635514018691588,
           9.345794392523365,
           9.968847352024921,
           9.190031152647975,
           18.22429906542056,
           45.482866043613704,
           9.813084112149532,
           31.15264797507788,
           21.651090342679126,
           25.70093457943925,
           21.339563862928348,
           9.034267912772584,
           10.903426791277258,
           76.63551401869158,
           4.205607476635514,
           32.242990654205606,
           71.02803738317756,
           4.049844236760125,
           9.034267912772584,
           9.345794392523365,
           49.06542056074766,
           7.78816199376947,
           38.62928348909657,
           10.43613707165109,
           11.214953271028037,
           6.230529595015576,
           57.78816199376947,
           5.451713395638629,
           10.12461059190031,
           22.897196261682243,
           13.862928348909657,
           27.102803738317753,
           30.218068535825545,
           14.018691588785046,
           23.05295950155763,
           25.54517133956386,
           14.641744548286603,
           7.476635514018691,
           10.43613707165109,
           42.36760124610592,
           27.41433021806853,
           18.22429906542056,
           18.53582554517134,
           12.461059190031152,
           47.19626168224299,
           42.36760124610592,
           21.02803738317757
          ]
         ]
        }
       ],
       "layout": {
        "height": 800,
        "template": {
         "data": {
          "bar": [
           {
            "error_x": {
             "color": "#2a3f5f"
            },
            "error_y": {
             "color": "#2a3f5f"
            },
            "marker": {
             "line": {
              "color": "#E5ECF6",
              "width": 0.5
             },
             "pattern": {
              "fillmode": "overlay",
              "size": 10,
              "solidity": 0.2
             }
            },
            "type": "bar"
           }
          ],
          "barpolar": [
           {
            "marker": {
             "line": {
              "color": "#E5ECF6",
              "width": 0.5
             },
             "pattern": {
              "fillmode": "overlay",
              "size": 10,
              "solidity": 0.2
             }
            },
            "type": "barpolar"
           }
          ],
          "carpet": [
           {
            "aaxis": {
             "endlinecolor": "#2a3f5f",
             "gridcolor": "white",
             "linecolor": "white",
             "minorgridcolor": "white",
             "startlinecolor": "#2a3f5f"
            },
            "baxis": {
             "endlinecolor": "#2a3f5f",
             "gridcolor": "white",
             "linecolor": "white",
             "minorgridcolor": "white",
             "startlinecolor": "#2a3f5f"
            },
            "type": "carpet"
           }
          ],
          "choropleth": [
           {
            "colorbar": {
             "outlinewidth": 0,
             "ticks": ""
            },
            "type": "choropleth"
           }
          ],
          "contour": [
           {
            "colorbar": {
             "outlinewidth": 0,
             "ticks": ""
            },
            "colorscale": [
             [
              0,
              "#0d0887"
             ],
             [
              0.1111111111111111,
              "#46039f"
             ],
             [
              0.2222222222222222,
              "#7201a8"
             ],
             [
              0.3333333333333333,
              "#9c179e"
             ],
             [
              0.4444444444444444,
              "#bd3786"
             ],
             [
              0.5555555555555556,
              "#d8576b"
             ],
             [
              0.6666666666666666,
              "#ed7953"
             ],
             [
              0.7777777777777778,
              "#fb9f3a"
             ],
             [
              0.8888888888888888,
              "#fdca26"
             ],
             [
              1,
              "#f0f921"
             ]
            ],
            "type": "contour"
           }
          ],
          "contourcarpet": [
           {
            "colorbar": {
             "outlinewidth": 0,
             "ticks": ""
            },
            "type": "contourcarpet"
           }
          ],
          "heatmap": [
           {
            "colorbar": {
             "outlinewidth": 0,
             "ticks": ""
            },
            "colorscale": [
             [
              0,
              "#0d0887"
             ],
             [
              0.1111111111111111,
              "#46039f"
             ],
             [
              0.2222222222222222,
              "#7201a8"
             ],
             [
              0.3333333333333333,
              "#9c179e"
             ],
             [
              0.4444444444444444,
              "#bd3786"
             ],
             [
              0.5555555555555556,
              "#d8576b"
             ],
             [
              0.6666666666666666,
              "#ed7953"
             ],
             [
              0.7777777777777778,
              "#fb9f3a"
             ],
             [
              0.8888888888888888,
              "#fdca26"
             ],
             [
              1,
              "#f0f921"
             ]
            ],
            "type": "heatmap"
           }
          ],
          "heatmapgl": [
           {
            "colorbar": {
             "outlinewidth": 0,
             "ticks": ""
            },
            "colorscale": [
             [
              0,
              "#0d0887"
             ],
             [
              0.1111111111111111,
              "#46039f"
             ],
             [
              0.2222222222222222,
              "#7201a8"
             ],
             [
              0.3333333333333333,
              "#9c179e"
             ],
             [
              0.4444444444444444,
              "#bd3786"
             ],
             [
              0.5555555555555556,
              "#d8576b"
             ],
             [
              0.6666666666666666,
              "#ed7953"
             ],
             [
              0.7777777777777778,
              "#fb9f3a"
             ],
             [
              0.8888888888888888,
              "#fdca26"
             ],
             [
              1,
              "#f0f921"
             ]
            ],
            "type": "heatmapgl"
           }
          ],
          "histogram": [
           {
            "marker": {
             "pattern": {
              "fillmode": "overlay",
              "size": 10,
              "solidity": 0.2
             }
            },
            "type": "histogram"
           }
          ],
          "histogram2d": [
           {
            "colorbar": {
             "outlinewidth": 0,
             "ticks": ""
            },
            "colorscale": [
             [
              0,
              "#0d0887"
             ],
             [
              0.1111111111111111,
              "#46039f"
             ],
             [
              0.2222222222222222,
              "#7201a8"
             ],
             [
              0.3333333333333333,
              "#9c179e"
             ],
             [
              0.4444444444444444,
              "#bd3786"
             ],
             [
              0.5555555555555556,
              "#d8576b"
             ],
             [
              0.6666666666666666,
              "#ed7953"
             ],
             [
              0.7777777777777778,
              "#fb9f3a"
             ],
             [
              0.8888888888888888,
              "#fdca26"
             ],
             [
              1,
              "#f0f921"
             ]
            ],
            "type": "histogram2d"
           }
          ],
          "histogram2dcontour": [
           {
            "colorbar": {
             "outlinewidth": 0,
             "ticks": ""
            },
            "colorscale": [
             [
              0,
              "#0d0887"
             ],
             [
              0.1111111111111111,
              "#46039f"
             ],
             [
              0.2222222222222222,
              "#7201a8"
             ],
             [
              0.3333333333333333,
              "#9c179e"
             ],
             [
              0.4444444444444444,
              "#bd3786"
             ],
             [
              0.5555555555555556,
              "#d8576b"
             ],
             [
              0.6666666666666666,
              "#ed7953"
             ],
             [
              0.7777777777777778,
              "#fb9f3a"
             ],
             [
              0.8888888888888888,
              "#fdca26"
             ],
             [
              1,
              "#f0f921"
             ]
            ],
            "type": "histogram2dcontour"
           }
          ],
          "mesh3d": [
           {
            "colorbar": {
             "outlinewidth": 0,
             "ticks": ""
            },
            "type": "mesh3d"
           }
          ],
          "parcoords": [
           {
            "line": {
             "colorbar": {
              "outlinewidth": 0,
              "ticks": ""
             }
            },
            "type": "parcoords"
           }
          ],
          "pie": [
           {
            "automargin": true,
            "type": "pie"
           }
          ],
          "scatter": [
           {
            "fillpattern": {
             "fillmode": "overlay",
             "size": 10,
             "solidity": 0.2
            },
            "type": "scatter"
           }
          ],
          "scatter3d": [
           {
            "line": {
             "colorbar": {
              "outlinewidth": 0,
              "ticks": ""
             }
            },
            "marker": {
             "colorbar": {
              "outlinewidth": 0,
              "ticks": ""
             }
            },
            "type": "scatter3d"
           }
          ],
          "scattercarpet": [
           {
            "marker": {
             "colorbar": {
              "outlinewidth": 0,
              "ticks": ""
             }
            },
            "type": "scattercarpet"
           }
          ],
          "scattergeo": [
           {
            "marker": {
             "colorbar": {
              "outlinewidth": 0,
              "ticks": ""
             }
            },
            "type": "scattergeo"
           }
          ],
          "scattergl": [
           {
            "marker": {
             "colorbar": {
              "outlinewidth": 0,
              "ticks": ""
             }
            },
            "type": "scattergl"
           }
          ],
          "scattermapbox": [
           {
            "marker": {
             "colorbar": {
              "outlinewidth": 0,
              "ticks": ""
             }
            },
            "type": "scattermapbox"
           }
          ],
          "scatterpolar": [
           {
            "marker": {
             "colorbar": {
              "outlinewidth": 0,
              "ticks": ""
             }
            },
            "type": "scatterpolar"
           }
          ],
          "scatterpolargl": [
           {
            "marker": {
             "colorbar": {
              "outlinewidth": 0,
              "ticks": ""
             }
            },
            "type": "scatterpolargl"
           }
          ],
          "scatterternary": [
           {
            "marker": {
             "colorbar": {
              "outlinewidth": 0,
              "ticks": ""
             }
            },
            "type": "scatterternary"
           }
          ],
          "surface": [
           {
            "colorbar": {
             "outlinewidth": 0,
             "ticks": ""
            },
            "colorscale": [
             [
              0,
              "#0d0887"
             ],
             [
              0.1111111111111111,
              "#46039f"
             ],
             [
              0.2222222222222222,
              "#7201a8"
             ],
             [
              0.3333333333333333,
              "#9c179e"
             ],
             [
              0.4444444444444444,
              "#bd3786"
             ],
             [
              0.5555555555555556,
              "#d8576b"
             ],
             [
              0.6666666666666666,
              "#ed7953"
             ],
             [
              0.7777777777777778,
              "#fb9f3a"
             ],
             [
              0.8888888888888888,
              "#fdca26"
             ],
             [
              1,
              "#f0f921"
             ]
            ],
            "type": "surface"
           }
          ],
          "table": [
           {
            "cells": {
             "fill": {
              "color": "#EBF0F8"
             },
             "line": {
              "color": "white"
             }
            },
            "header": {
             "fill": {
              "color": "#C8D4E3"
             },
             "line": {
              "color": "white"
             }
            },
            "type": "table"
           }
          ]
         },
         "layout": {
          "annotationdefaults": {
           "arrowcolor": "#2a3f5f",
           "arrowhead": 0,
           "arrowwidth": 1
          },
          "autotypenumbers": "strict",
          "coloraxis": {
           "colorbar": {
            "outlinewidth": 0,
            "ticks": ""
           }
          },
          "colorscale": {
           "diverging": [
            [
             0,
             "#8e0152"
            ],
            [
             0.1,
             "#c51b7d"
            ],
            [
             0.2,
             "#de77ae"
            ],
            [
             0.3,
             "#f1b6da"
            ],
            [
             0.4,
             "#fde0ef"
            ],
            [
             0.5,
             "#f7f7f7"
            ],
            [
             0.6,
             "#e6f5d0"
            ],
            [
             0.7,
             "#b8e186"
            ],
            [
             0.8,
             "#7fbc41"
            ],
            [
             0.9,
             "#4d9221"
            ],
            [
             1,
             "#276419"
            ]
           ],
           "sequential": [
            [
             0,
             "#0d0887"
            ],
            [
             0.1111111111111111,
             "#46039f"
            ],
            [
             0.2222222222222222,
             "#7201a8"
            ],
            [
             0.3333333333333333,
             "#9c179e"
            ],
            [
             0.4444444444444444,
             "#bd3786"
            ],
            [
             0.5555555555555556,
             "#d8576b"
            ],
            [
             0.6666666666666666,
             "#ed7953"
            ],
            [
             0.7777777777777778,
             "#fb9f3a"
            ],
            [
             0.8888888888888888,
             "#fdca26"
            ],
            [
             1,
             "#f0f921"
            ]
           ],
           "sequentialminus": [
            [
             0,
             "#0d0887"
            ],
            [
             0.1111111111111111,
             "#46039f"
            ],
            [
             0.2222222222222222,
             "#7201a8"
            ],
            [
             0.3333333333333333,
             "#9c179e"
            ],
            [
             0.4444444444444444,
             "#bd3786"
            ],
            [
             0.5555555555555556,
             "#d8576b"
            ],
            [
             0.6666666666666666,
             "#ed7953"
            ],
            [
             0.7777777777777778,
             "#fb9f3a"
            ],
            [
             0.8888888888888888,
             "#fdca26"
            ],
            [
             1,
             "#f0f921"
            ]
           ]
          },
          "colorway": [
           "#636efa",
           "#EF553B",
           "#00cc96",
           "#ab63fa",
           "#FFA15A",
           "#19d3f3",
           "#FF6692",
           "#B6E880",
           "#FF97FF",
           "#FECB52"
          ],
          "font": {
           "color": "#2a3f5f"
          },
          "geo": {
           "bgcolor": "white",
           "lakecolor": "white",
           "landcolor": "#E5ECF6",
           "showlakes": true,
           "showland": true,
           "subunitcolor": "white"
          },
          "hoverlabel": {
           "align": "left"
          },
          "hovermode": "closest",
          "mapbox": {
           "style": "light"
          },
          "paper_bgcolor": "white",
          "plot_bgcolor": "#E5ECF6",
          "polar": {
           "angularaxis": {
            "gridcolor": "white",
            "linecolor": "white",
            "ticks": ""
           },
           "bgcolor": "#E5ECF6",
           "radialaxis": {
            "gridcolor": "white",
            "linecolor": "white",
            "ticks": ""
           }
          },
          "scene": {
           "xaxis": {
            "backgroundcolor": "#E5ECF6",
            "gridcolor": "white",
            "gridwidth": 2,
            "linecolor": "white",
            "showbackground": true,
            "ticks": "",
            "zerolinecolor": "white"
           },
           "yaxis": {
            "backgroundcolor": "#E5ECF6",
            "gridcolor": "white",
            "gridwidth": 2,
            "linecolor": "white",
            "showbackground": true,
            "ticks": "",
            "zerolinecolor": "white"
           },
           "zaxis": {
            "backgroundcolor": "#E5ECF6",
            "gridcolor": "white",
            "gridwidth": 2,
            "linecolor": "white",
            "showbackground": true,
            "ticks": "",
            "zerolinecolor": "white"
           }
          },
          "shapedefaults": {
           "line": {
            "color": "#2a3f5f"
           }
          },
          "ternary": {
           "aaxis": {
            "gridcolor": "white",
            "linecolor": "white",
            "ticks": ""
           },
           "baxis": {
            "gridcolor": "white",
            "linecolor": "white",
            "ticks": ""
           },
           "bgcolor": "#E5ECF6",
           "caxis": {
            "gridcolor": "white",
            "linecolor": "white",
            "ticks": ""
           }
          },
          "title": {
           "x": 0.05
          },
          "xaxis": {
           "automargin": true,
           "gridcolor": "white",
           "linecolor": "white",
           "ticks": "",
           "title": {
            "standoff": 15
           },
           "zerolinecolor": "white",
           "zerolinewidth": 2
          },
          "yaxis": {
           "automargin": true,
           "gridcolor": "white",
           "linecolor": "white",
           "ticks": "",
           "title": {
            "standoff": 15
           },
           "zerolinecolor": "white",
           "zerolinewidth": 2
          }
         }
        },
        "width": 2000
       }
      }
     },
     "metadata": {},
     "output_type": "display_data"
    }
   ],
   "source": [
    "fig = go.Figure(data=go.Heatmap(\n",
    "        z=skills_percentage_matrix,\n",
    "        x=skills,\n",
    "        y=jobs,\n",
    "        colorscale='Viridis'))\n",
    "fig.update_layout( width=2000,\n",
    "                  height=800,\n",
    "                  title=\"skills frequancy unsorted\")\n",
    "fig.show()"
   ]
  },
  {
   "cell_type": "markdown",
   "metadata": {},
   "source": [
    "## heatmap in another way by making a dataFrame"
   ]
  },
  {
   "cell_type": "code",
   "execution_count": 38,
   "metadata": {},
   "outputs": [
    {
     "data": {
      "application/vnd.plotly.v1+json": {
       "config": {
        "plotlyServerURL": "https://plot.ly"
       },
       "data": [
        {
         "coloraxis": "coloraxis",
         "hovertemplate": "x: %{x}<br>y: %{y}<br>color: %{z}<extra></extra>",
         "name": "0",
         "type": "heatmap",
         "x": [
          "Julia",
          "Chef",
          "Haskell",
          "IBM Cloud or Watson",
          "Couchbase",
          "Puppet",
          "IBM DB2",
          "Unreal Engine",
          "Gatsby",
          "Facebook Workplace",
          "Drupal",
          "Cassandra",
          "Scala",
          "Symfony",
          "Torch/PyTorch",
          "Hadoop",
          "Dart",
          "Perl",
          "Apache Spark",
          "Objective-C",
          "Keras",
          "Rust",
          "Xamarin",
          "Flutter",
          "Cordova",
          "Ruby on Rails",
          "Stack Overflow for Teams",
          "Teraform",
          "Swift",
          "Assembly",
          "DynamoDB",
          "Ansible",
          "Kotlin",
          "R",
          "Ruby",
          "VBA",
          "Unity 3D",
          "Slack Apps and Integrations",
          "React Native",
          "Laravel",
          "Heroku",
          "TensorFlow",
          "Go",
          "Spring",
          "Arduino",
          "Django",
          "Flask",
          "Firebase",
          "Kubernetes",
          "Pandas",
          "Angular.js",
          "Vue.js",
          "iOS",
          "Elasticsearch",
          "Oracle",
          "ASP.NET Core",
          "Express",
          "Microsoft Azure",
          "Microsoft Azure",
          "Microsoft Azure",
          "Microsoft Azure",
          "Google Cloud Platform",
          "Raspberry Pi",
          "WordPress",
          "ASP.NET",
          "Redis",
          "MariaDB",
          "Angular",
          ".NET Core",
          "C",
          "MongoDB",
          "MacOS",
          "Microsoft Teams",
          "C++",
          "TypeScript",
          "React.js",
          ".NET",
          "Android",
          "Trello",
          "PHP",
          "Confluence",
          "AWS",
          "SQLite",
          "Microsoft SQL Server",
          "C#",
          "PostgreSQL",
          "jQuery",
          "Gitlab",
          "Docker",
          "Java",
          "Node.js",
          "Bash/Shell/PowerShell",
          "Google Suite (Docs, Meet, etc)",
          "Jira",
          "Python",
          "Slack",
          "MySQL",
          "Windows",
          "Linux",
          "SQL",
          "HTML/CSS",
          "JavaScript",
          "Github"
         ],
         "xaxis": "x",
         "y": [
          "Developer, desktop or enterprise applications",
          "Developer, full-stack",
          "Developer, mobile",
          "Designer",
          "Developer, front-end",
          "Developer, back-end",
          "Developer, QA or test",
          "DevOps specialist",
          "Developer, game or graphics",
          "Database administrator",
          "Developer, embedded applications or devices",
          "Engineer, data",
          "Educator",
          "System administrator",
          "Engineering manager",
          "Product manager",
          "Data or business analyst",
          "Academic researcher",
          "Data scientist or machine learning specialist",
          "Scientist",
          "Senior executive/VP",
          "Engineer, site reliability",
          "Marketing or sales professional"
         ],
         "yaxis": "y",
         "z": [
          [
           0.721317040054311,
           1.2983706720977597,
           1.8499660556687034,
           1.4511201629327901,
           2.197895451459606,
           1.7566191446028514,
           3.920570264765784,
           2.774949083503055,
           1.8584521384928716,
           2.5288526816021726,
           2.3167006109979633,
           2.7155465037338766,
           3.054989816700611,
           2.842837746096402,
           2.096062457569586,
           2.6476578411405294,
           3.699932111337407,
           3.699932111337407,
           2.842837746096402,
           5.066191446028514,
           2.6391717583163614,
           5.371690427698574,
           8.621860149355058,
           4.760692464358452,
           5.609300746775289,
           3.513238289205703,
           4.9813306177868295,
           3.250169721656483,
           5.762050237610318,
           6.737949762389681,
           5.18499660556687,
           4.2175831636116765,
           6.907671418873049,
           3.63204344874406,
           5.337746096401901,
           10.123896809232859,
           8.630346232179226,
           5.974202308214529,
           7.4168363883231505,
           6.839782756279702,
           7.484725050916497,
           5.872369314324508,
           7.909029192124915,
           15.08825526137135,
           10.36999321113374,
           7.781737949762389,
           7.73082145281738,
           10.140868974881196,
           9.971147318397827,
           6.916157501697216,
           14.867617107942973,
           11.617447386286491,
           12.415139171758316,
           11.074338085539715,
           20.08655804480652,
           25.19517990495587,
           12.81398506449423,
           21.98744059742023,
           20.621181262729124,
           21.98744059742023,
           20.621181262729124,
           11.023421588594704,
           15.08825526137135,
           12.08418194161575,
           28.615071283095723,
           13.441955193482688,
           14.850644942294636,
           22.284453496266124,
           33.29938900203666,
           22.87847929395791,
           20.38357094365241,
           19.20400543109301,
           32.73930753564155,
           28.131364562118126,
           28.301086218601494,
           21.452817379497624,
           45.58723693143245,
           26.196537678207736,
           24.151391717583166,
           22.174134419551937,
           31.54276985743381,
           21.486761710794298,
           31.551255940257978,
           45.13747454175153,
           51.332315003394434,
           29.14969450101833,
           35.429395790902916,
           32.56958587915818,
           30.99966055668703,
           40.73319755600815,
           33.71520706042091,
           36.21011541072641,
           32.56958587915818,
           45.23930753564155,
           36.10828241683639,
           41.35268160217244,
           43.73727087576375,
           68.77970128988458,
           49.45689069925322,
           62.02477936184657,
           61.31194840461644,
           65.69925322471147,
           69.73014256619145
          ],
          [
           0.5124423963133641,
           1.4414746543778802,
           1.6921658986175117,
           1.448847926267281,
           1.9944700460829492,
           1.7253456221198158,
           2.647004608294931,
           1.824884792626728,
           4.1732718894009215,
           2.5732718894009214,
           3.0414746543778803,
           2.79815668202765,
           3.1889400921658986,
           4.313364055299539,
           1.9649769585253458,
           2.3483870967741938,
           3.911520737327189,
           2.8829493087557605,
           2.790783410138249,
           3.44331797235023,
           2.6764976958525346,
           4.497695852534562,
           5.131797235023042,
           5.172350230414747,
           6.016589861751152,
           6.731797235023042,
           4.925345622119816,
           4.748387096774193,
           4.836866359447005,
           3.845161290322581,
           7.472811059907834,
           5.393548387096774,
           6.705990783410138,
           3.288479262672811,
           8.468202764976958,
           5.776958525345622,
           6.473732718894009,
           8.188018433179725,
           10.694930875576036,
           11.163133640552996,
           12.866359447004609,
           5.7695852534562215,
           9.209216589861752,
           14.975115207373271,
           7.915207373271889,
           10.665437788018433,
           10.031336405529954,
           13.12442396313364,
           12.342857142857143,
           7.498617511520737,
           16.94377880184332,
           18.001843317972348,
           11.546543778801844,
           14.381566820276499,
           14.816589861751153,
           20.468202764976958,
           21.92442396313364,
           17.51889400921659,
           17.74746543778802,
           17.51889400921659,
           17.74746543778802,
           14.282027649769585,
           13.183410138248847,
           15.402764976958524,
           22.55115207373272,
           20.903225806451616,
           17.142857142857142,
           26.70230414746544,
           24.287557603686636,
           14.422119815668202,
           27.188940092165897,
           24.302304147465435,
           26.65437788018433,
           16.250691244239633,
           37.235023041474655,
           36.22857142857143,
           29.423041474654376,
           22.923502304147465,
           30.348387096774193,
           30.311520737327193,
           32.07741935483871,
           30.189861751152076,
           26.392626728110596,
           34.82764976958526,
           36.37603686635945,
           36.022119815668205,
           42.08663594470046,
           35.52073732718894,
           39.09677419354839,
           36.781566820276495,
           47.34009216589862,
           33.500460829493086,
           39.34746543778802,
           48.24700460829493,
           36.20276497695853,
           52.73364055299539,
           50.22672811059908,
           48.86267281105991,
           51.1815668202765,
           62.046082949308754,
           73.78433179723503,
           81.99078341013825,
           75.39539170506913
          ],
          [
           0.5484075089643535,
           1.0651761231807635,
           1.4975743514026576,
           1.8139632988820924,
           2.3096393165998736,
           1.4975743514026576,
           2.2041763341067284,
           3.290445053786121,
           3.3748154397806367,
           3.6806580890107568,
           2.7736764395697113,
           2.27800042185193,
           2.214722632356043,
           3.627926597764185,
           2.0987133516135836,
           1.9510651761231808,
           11.27399282851719,
           2.4151022990930184,
           2.1619911411094703,
           14.923012022780005,
           2.815861632566969,
           3.4591858257751533,
           11.569289179497996,
           14.226956338325248,
           11.020881670533642,
           5.199325036912044,
           6.580890107572242,
           2.858046825564227,
           21.145327989875554,
           5.357519510651762,
           6.116852984602405,
           3.0478801940518876,
           20.934402024889266,
           2.963509808057372,
           7.087112423539338,
           5.389158405399705,
           11.126344653026788,
           7.930816283484497,
           19.700485129719468,
           11.0630668635309,
           11.600928074245939,
           7.034380932292765,
           7.4035013710187725,
           11.970048512971946,
           11.706391056739085,
           9.20691837165155,
           7.456232862265345,
           28.685931238135414,
           7.793714406243408,
           5.526260282640793,
           14.764817549040288,
           13.636363636363635,
           38.58890529424172,
           9.586585108626872,
           12.507909723686986,
           15.977641847711455,
           19.721577726218097,
           15.819447373971737,
           14.522252689306054,
           15.819447373971737,
           14.522252689306054,
           16.968993883147014,
           14.237502636574561,
           16.20966040919637,
           18.519299725796245,
           14.047669268086901,
           15.85108626871968,
           22.54798565703438,
           20.702383463404345,
           19.521198059481122,
           25.079097236869856,
           28.337903395908036,
           22.463615271039867,
           22.51634676228644,
           29.962033326302468,
           30.24678337903396,
           26.102088167053367,
           62.58173381143218,
           34.454756380510446,
           29.339801729592914,
           27.93714406243409,
           24.214300780426072,
           43.35583210293187,
           28.11643113267243,
           34.09618224003375,
           27.54693102720945,
           33.769246994305,
           36.753849398861,
           27.336005062223162,
           49.44104619278633,
           40.82472052309639,
           26.323560430288968,
           41.05673908458131,
           45.07487871757013,
           31.195950221472263,
           52.71039865007382,
           50.34802784222738,
           41.700063277789496,
           40.392322294874496,
           50.28475005273149,
           60.69394642480489,
           66.64205863741827,
           77.74731069394643
          ],
          [
           0.9208795339221951,
           1.5410637098289794,
           1.935726367224206,
           2.1236609659838375,
           2.2364217252396164,
           2.161247885735764,
           3.4579966171772227,
           4.021800413456117,
           4.698364968990791,
           3.476790077053186,
           4.773538808494644,
           2.5559105431309903,
           1.8793459875963165,
           4.134561172711896,
           2.405562864123285,
           2.499530163503101,
           4.961473407254275,
           4.134561172711896,
           2.837812441270438,
           5.713211802292802,
           2.180041345611727,
           3.6083442961849275,
           6.29580905844766,
           6.897199774478481,
           6.9723736139823345,
           5.299755685021613,
           8.02480736703627,
           2.3491824844953957,
           7.479797030633339,
           7.0287539936102235,
           4.999060327006202,
           3.7398985153166695,
           7.103927833114076,
           4.491636910355196,
           6.840819394850592,
           9.528284157113324,
           10.467957150911483,
           6.822025934974629,
           11.069347866942305,
           12.666791956399173,
           11.783499342228906,
           6.107874459688029,
           6.558917496711144,
           9.302762638601767,
           11.294869385453863,
           10.129674873144145,
           7.83687276827664,
           16.500657771095657,
           7.42341665100545,
           6.483743657207292,
           16.93290734824281,
           17.308776545762075,
           15.86168013531291,
           8.851719601578651,
           15.260289419282088,
           14.809246382258973,
           18.248449539560234,
           15.354256718661905,
           13.47491073106559,
           15.354256718661905,
           13.47491073106559,
           14.62131178349934,
           14.65889870325127,
           25.671866190565684,
           20.710392783311406,
           11.445217064461568,
           18.53035143769968,
           22.834053749295244,
           19.921067468520956,
           22.533358391279833,
           23.003194888178914,
           21.424544258598008,
           24.018041721480923,
           24.130802480736705,
           27.870700996053372,
           29.017102048487125,
           29.24262356699868,
           29.63728622439391,
           28.79158052997557,
           37.981582409321554,
           20.879533922195076,
           21.14264236045856,
           29.900394662657398,
           32.77579402367976,
           35.08738958842323,
           25.803420409697424,
           45.74328133809434,
           31.685773350873898,
           24.03683518135689,
           35.89550836308965,
           41.890622063521896,
           30.182296560796846,
           39.29712460063898,
           34.63634655140011,
           35.951888742717536,
           42.02217628265363,
           55.19639165570381,
           55.44070663409134,
           44.7472279646683,
           58.804735951888745,
           74.87314414583724,
           75.98195827851907,
           72.48637474158993
          ],
          [
           0.4481853957149104,
           1.0439440314822912,
           1.6178399650196764,
           1.4265413205072146,
           1.8419326628771315,
           1.579580236117184,
           2.3611718408395275,
           2.104285089637079,
           5.329033668561435,
           3.0279842588543944,
           3.4707039790118057,
           2.109750765194578,
           2.295583734149541,
           4.257761259291649,
           1.5686488850021865,
           1.7654132050721467,
           4.394403148229121,
           2.6125929164844774,
           2.04962833406209,
           4.328815041539134,
           2.1425448185395717,
           3.8860953213817226,
           5.378224748578924,
           5.728027984258855,
           7.1217752514210755,
           5.711630957586357,
           5.667905553126366,
           3.219282903366856,
           5.875601224311325,
           3.9735461303017057,
           6.006777437691299,
           3.9516834280717097,
           6.711849584608657,
           2.9514648010494096,
           7.25295146480105,
           6.3456493222562305,
           7.362264975951027,
           7.859641451683428,
           12.762352426759948,
           11.472452995190205,
           12.877131613467425,
           5.0120244862264975,
           7.542632269348491,
           11.636423261915173,
           8.275032794053345,
           9.368167905553126,
           7.804984696108439,
           15.828596414516834,
           9.44468736335811,
           5.596851770878881,
           18.03126366418889,
           19.266506340183646,
           14.013992129427196,
           11.368605159597726,
           13.609532138172279,
           17.539352864013992,
           23.048753825972888,
           15.954306952339309,
           15.074333187581985,
           15.954306952339309,
           15.074333187581985,
           13.751639702667251,
           12.357892435505029,
           18.84564932225623,
           20.529077393965895,
           16.40249234805422,
           16.708570179274158,
           28.377787494534324,
           21.523830345430696,
           14.675338871884566,
           26.929383471797113,
           24.579142982072586,
           25.087450808919982,
           16.04722343681679,
           39.0194578049847,
           40.10712724092698,
           27.169873196327067,
           25.972890249234805,
           31.351114997813728,
           32.624617402710975,
           29.268692610406642,
           25.24048972452995,
           25.912767818102317,
           31.383909051158724,
           33.542850896370794,
           30.908395277656318,
           43.56689986882379,
           35.417577612592915,
           32.71206821163096,
           33.728683865325756,
           49.36051595977263,
           29.334280717096632,
           39.71359860078706,
           45.917140358548316,
           31.29645824223874,
           51.4702667249672,
           50.841714035854835,
           48.88500218627022,
           45.419763882815914,
           56.394840402273715,
           78.31219938784434,
           84.0128989943157,
           75.72693484914736
          ],
          [
           0.5619215513442045,
           1.604965476715146,
           2.0016159835463494,
           1.4323490524460116,
           2.0603790215954163,
           1.9869252240340824,
           2.743499338915822,
           1.7775819009842808,
           2.6516820919641546,
           2.754517408550022,
           2.7030997502570884,
           3.782870574408697,
           4.631261936242104,
           4.381519024533569,
           2.2770677244013515,
           3.3127662700161595,
           3.4045835169678274,
           3.514764213309828,
           3.926105479653298,
           3.400910827089761,
           3.114441016600558,
           5.417217570148377,
           4.7157338034376375,
           4.392537094167769,
           4.712061113559571,
           5.935066842955781,
           4.976494784780374,
           5.79183193771118,
           4.539444689290437,
           4.745115322462171,
           7.841192889672397,
           6.691640957837521,
           7.271925958572058,
           3.5735272513588954,
           7.988100484795065,
           5.718378140149846,
           6.217863963566916,
           8.11297194064933,
           7.973409725282797,
           10.327603937123548,
           10.456148082855883,
           6.335390039665051,
           11.146613779932423,
           16.369178786543266,
           8.039518143087998,
           11.223740267371824,
           11.10621419127369,
           10.78301748200382,
           14.070074922873513,
           8.939327163214337,
           13.478771852504776,
           14.297781695313647,
           9.706919347730278,
           16.101072425444396,
           15.715439988247393,
           18.168796826795948,
           16.203907742030264,
           16.068018216541795,
           16.247980020567063,
           16.068018216541795,
           16.247980020567063,
           14.13985603055678,
           13.379609225796973,
           13.30615542823564,
           19.861906860584693,
           21.77537828705744,
           17.412222711914204,
           20.761715880711034,
           22.62009695901278,
           17.17349786983987,
           24.63273101219333,
           23.54561480828559,
           25.672102247686208,
           19.244894961069487,
           27.838989275745558,
           26.23402379903041,
           27.725135889525486,
           21.17672983693257,
           28.35683854855296,
           28.14382253562509,
           34.211106214191275,
           30.08667548112237,
           27.03099750257088,
           32.90362861759953,
           34.023799030409876,
           36.95093286322903,
           35.54796532980755,
           36.78566181871602,
           41.1671808432496,
           39.848685177023654,
           37.55692669311003,
           35.71323637432055,
           38.73953283384751,
           49.9118554429264,
           39.86704862641399,
           51.722491552813274,
           49.397678859997065,
           48.16732775084472,
           55.76979579844278,
           61.37432055237255,
           61.38901131188482,
           69.39180255619215,
           74.29484354341119
          ],
          [
           1.3681276919179122,
           2.482898403851026,
           2.2802128198631872,
           2.4322270078540664,
           2.5842411958449456,
           3.2176336458069423,
           3.7243476057765394,
           3.166962249809982,
           3.014948061819103,
           3.7243476057765394,
           4.4590828477324544,
           3.4709906257917407,
           3.775019001773499,
           5.092475297694452,
           2.5842411958449456,
           3.2936407398023815,
           4.155054471750697,
           5.903217633645807,
           3.749683303775019,
           5.649860653661008,
           2.837598175829744,
           5.117810995692931,
           6.257917405624525,
           5.4218393716746895,
           6.485938687610844,
           6.435267291613885,
           7.246009627565239,
           5.573853559665569,
           6.6632885736002025,
           6.865974157588041,
           7.575373701545478,
           7.347352419559158,
           8.79148720547251,
           4.079047377755257,
           9.602229541423867,
           8.99417278946035,
           8.71548011147707,
           10.86901444134786,
           9.095515581454269,
           11.147707119331137,
           9.830250823410184,
           6.764631365594122,
           10.134279199391944,
           14.694704839118316,
           10.362300481378261,
           11.147707119331137,
           10.61565746136306,
           13.757284013174562,
           13.225234355206487,
           8.538130225487713,
           17.101596148973904,
           15.150747403090955,
           15.049404611097037,
           15.252090195084875,
           18.267038256903977,
           18.191031162908537,
           16.18951102102863,
           18.520395236888774,
           18.29237395490246,
           18.520395236888774,
           18.29237395490246,
           15.049404611097037,
           15.860146947048392,
           16.696224980998224,
           21.28198631872308,
           17.329617430960223,
           19.50848745882949,
           22.194071446668357,
           24.220927286546747,
           21.560678996706358,
           24.423612870534583,
           26.349125918419052,
           29.592095262224476,
           23.43552064859387,
           27.793260704332408,
           25.918419052444897,
           31.5682797061059,
           27.793260704332408,
           29.820116544210794,
           30.833544464149988,
           37.674182923739544,
           28.78135292627312,
           31.59361540410438,
           35.39397010387636,
           38.3582467696985,
           33.18976437800861,
           38.484925259690904,
           37.92753990372435,
           38.94096782366354,
           43.374714973397516,
           40.689130985558656,
           42.386622751456805,
           42.71598682543704,
           53.25563719280466,
           44.210793007347355,
           51.3301241449202,
           52.52090195084874,
           56.346592348619204,
           56.29592095262225,
           63.38991639219661,
           67.24094248796554,
           71.54801114770713,
           74.79098049151254
          ],
          [
           0.9884402747528899,
           5.277265873680684,
           2.4794772993801306,
           2.445970849388507,
           3.5349304741162673,
           5.712849723571788,
           3.668956274082761,
           2.0606466744848384,
           3.886748199028313,
           3.4511643491372093,
           3.886748199028313,
           5.846875523538281,
           5.411291673647177,
           5.428044898642989,
           2.680515999329871,
           4.741162673814709,
           3.7694756240576313,
           6.349472273412632,
           5.243759423689061,
           4.087786898978053,
           3.7862288490534426,
           7.321159323169709,
           5.394538448651366,
           4.875188473781203,
           5.763109398559223,
           7.287652873178087,
           4.657396548835651,
           17.440107220639973,
           4.891941698777014,
           5.327525548668119,
           13.838163846540457,
           20.857765119785558,
           8.175573797956107,
           4.288825598927794,
           12.079075221980231,
           5.8803819735299045,
           6.13168034846708,
           14.156475121460883,
           8.828949572792762,
           9.130507622717374,
           10.202714022449321,
           7.823756073044061,
           19.919584520020102,
           16.334394370916403,
           9.39855922265036,
           13.63712514659072,
           15.915563746021109,
           10.956609147260847,
           29.938013067515495,
           10.722063997319484,
           15.412966996146757,
           16.736471770815882,
           11.157647847210587,
           27.00619869324845,
           15.831797621042051,
           22.04724409448819,
           18.445300720388673,
           24.593734293851565,
           26.16853744345787,
           24.593734293851565,
           26.16853744345787,
           20.807505444798124,
           19.85257162003686,
           14.324007371418999,
           20.924778019768805,
           32.83632099179092,
           23.203216619199196,
           23.370748869157314,
           26.687887418328028,
           17.574133020606467,
           29.38515664265371,
           29.050092142737476,
           32.81956776679511,
           18.26101524543475,
           32.166191991958456,
           28.76528731780868,
           28.7987937678003,
           20.237895794940524,
           30.85944044228514,
           26.553861618361534,
           44.44630591388842,
           44.93214943876696,
           29.88775339252806,
           35.91891439102027,
           35.13151281621712,
           45.04942201373765,
           33.690735466577316,
           43.910202714022454,
           63.343943709164016,
           38.43189814039202,
           43.457865639135534,
           58.68654716032836,
           44.429552688892606,
           59.03836488524041,
           51.76746523705813,
           59.189143910202716,
           48.4335734628916,
           45.652538113586864,
           70.74886915731278,
           63.05913888423521,
           62.70732115932317,
           70.29653208242587,
           77.73496398056626
          ],
          [
           1.3983506633201863,
           2.007888131946934,
           3.155252778773754,
           2.2947292936536394,
           3.0118321979204015,
           2.4022947292936534,
           2.6174256005736822,
           16.098960200788813,
           3.7289351021871644,
           3.9082108282538544,
           3.657224811760488,
           2.6532807457870207,
           3.2628182144137687,
           4.697024022947293,
           3.513804230907135,
           3.04768734313374,
           6.09537468626748,
           3.872355683040516,
           3.1911079239870923,
           10.147006095374685,
           4.230907135173897,
           10.362136966654715,
           8.246683399067766,
           8.103262818214414,
           7.60129078522768,
           5.808533524560774,
           6.09537468626748,
           4.051631409107207,
           9.788454643241305,
           11.939763356041592,
           6.704912154894227,
           4.553603442093941,
           10.039440659734671,
           4.195051989960559,
           8.031552527787737,
           7.60129078522768,
           43.09788454643241,
           7.852276801721048,
           12.19074937253496,
           9.5016134815346,
           11.258515596988168,
           9.465758336321262,
           10.326281821441377,
           9.358192900681248,
           16.098960200788813,
           10.254571531014701,
           9.680889207601291,
           16.780207959842237,
           9.752599498027967,
           7.565435640014343,
           13.553244890641809,
           16.134815346002153,
           24.52491932592327,
           9.824309788454643,
           13.409824309788455,
           16.2782359268555,
           17.999282897095732,
           14.879885263535316,
           13.696665471495159,
           14.879885263535316,
           13.696665471495159,
           15.453567586948727,
           18.752240946575835,
           16.56507708856221,
           18.60882036572248,
           15.059160989602008,
           18.142703477949084,
           18.64467551093582,
           27.895302975977053,
           31.33739691645751,
           24.632484761563283,
           26.532807457870206,
           23.664395840803152,
           42.595912513445676,
           28.074578702043745,
           27.142344926496953,
           36.966654714951595,
           43.20544998207242,
           34.63607027608462,
           30.36930799569738,
           29.006812477590532,
           23.01900322696307,
           33.95482251703119,
           26.78379347436357,
           53.53173180351381,
           27.321620652563645,
           34.31337396916457,
           39.6916457511653,
           31.122266045177483,
           41.37683757619218,
           41.23341699533883,
           35.353173180351384,
           44.424524919325926,
           42.34492649695231,
           43.85084259591252,
           49.40839010397992,
           48.04589458587307,
           64.2524202223019,
           52.92219433488705,
           49.26496952312657,
           62.459662961635,
           67.22839727500897,
           79.45500179275726
          ],
          [
           0.9262495630898288,
           2.2719328905976934,
           2.009786787836421,
           2.1146452289409297,
           2.6389374344634744,
           2.9010835372247463,
           4.037049982523593,
           2.6738902481649776,
           2.778748689269486,
           3.005941978329256,
           4.596295001747641,
           3.670045438657812,
           3.0408947920307585,
           6.256553652569032,
           2.7962250961202377,
           3.862285914016078,
           4.229290457881859,
           6.23907724571828,
           4.2642432715833625,
           5.173016427822439,
           2.883607130373995,
           4.526389374344634,
           7.3051380636141205,
           5.522544564837469,
           6.780845858091576,
           5.522544564837469,
           6.308982873121287,
           5.312827682628452,
           5.924501922404754,
           6.850751485494583,
           6.815798671793079,
           8.091576371897938,
           6.291506466270534,
           6.274030059419783,
           7.444949318420132,
           13.491786088780147,
           7.462425725270884,
           8.930443900734009,
           9.140160782943028,
           15.379238028661307,
           9.140160782943028,
           6.850751485494583,
           10.013981125480601,
           9.664452988465571,
           11.272282418734708,
           12.111149947570778,
           11.464522894092974,
           12.320866829779797,
           11.272282418734708,
           10.013981125480601,
           16.07829430269137,
           16.58511010136316,
           13.386927647675636,
           14.872422229989516,
           18.175463124781547,
           20.027962250961203,
           15.798671793079343,
           18.47256204124432,
           19.50367004543866,
           18.47256204124432,
           19.50367004543866,
           16.218105557497378,
           17.493883257602235,
           21.688220901782593,
           26.82628451590353,
           19.975533030408947,
           27.455435162530584,
           19.64348130024467,
           25.09612023767913,
           19.18909472212513,
           23.593149248514507,
           21.04159384830479,
           26.4767563788885,
           20.447396015379237,
           24.23977630199231,
           22.859140160782943,
           35.389723872771754,
           26.074799021321216,
           27.96225096120238,
           41.50646627053477,
           23.226144704648725,
           30.059419783292558,
           32.52359314924851,
           46.01537923802866,
           40.38797623208668,
           37.189793778399164,
           47.6581614819993,
           33.97413491786089,
           33.92170569730864,
           35.04019573575673,
           38.67528836071304,
           43.411394617266694,
           40.055924501922405,
           37.17231737154841,
           42.24047535826634,
           43.77839916113247,
           59.402306885704306,
           59.07025515554002,
           56.83327507864383,
           80.07689619014332,
           73.06885704299197,
           74.27472911569382,
           71.26878713736455
          ],
          [
           1.263157894736842,
           1.831578947368421,
           2.863157894736842,
           2.378947368421053,
           2.8000000000000003,
           2.168421052631579,
           3.494736842105263,
           3.7894736842105265,
           2.4842105263157896,
           3.3473684210526313,
           2.926315789473684,
           3.663157894736842,
           3.136842105263158,
           3.7263157894736847,
           3.8947368421052633,
           3.0947368421052635,
           5.663157894736842,
           5.6421052631578945,
           3.494736842105263,
           8.715789473684211,
           4.757894736842106,
           9.031578947368422,
           9.010526315789473,
           7.178947368421053,
           7.284210526315789,
           4.905263157894737,
           6.273684210526316,
           3.4526315789473685,
           9.263157894736842,
           15.389473684210525,
           6.421052631578947,
           5.747368421052632,
           9.284210526315789,
           4.378947368421052,
           7.178947368421053,
           9.494736842105263,
           10.063157894736841,
           7.473684210526316,
           9.178947368421053,
           8.063157894736841,
           7.831578947368421,
           10.442105263157893,
           10.778947368421052,
           10.505263157894737,
           23.978947368421053,
           10.547368421052632,
           10.821052631578947,
           13.368421052631579,
           9.873684210526317,
           9.284210526315789,
           14.547368421052632,
           12.021052631578948,
           18.294736842105262,
           10.042105263157895,
           15.073684210526316,
           16.568421052631578,
           13.094736842105261,
           16.673684210526314,
           15.389473684210525,
           16.673684210526314,
           15.389473684210525,
           14.063157894736841,
           30.23157894736842,
           13.473684210526315,
           19.11578947368421,
           14.526315789473685,
           17.49473684210526,
           18.821052631578947,
           24.08421052631579,
           47.89473684210526,
           20.968421052631577,
           22.526315789473685,
           27.66315789473684,
           47.473684210526315,
           22.526315789473685,
           19.747368421052634,
           32.61052631578947,
           36.46315789473684,
           24.31578947368421,
           25.157894736842106,
           31.305263157894736,
           23.157894736842106,
           38.821052631578944,
           30.589473684210528,
           38.33684210526316,
           29.957894736842107,
           30.484210526315792,
           38.315789473684205,
           33.97894736842105,
           39.83157894736842,
           34,
           43.97894736842105,
           37.05263157894737,
           46.14736842105263,
           50.27368421052631,
           42.589473684210525,
           45.03157894736842,
           56.48421052631579,
           63.49473684210526,
           49.55789473684211,
           54.10526315789473,
           58.37894736842105,
           72.96842105263158
          ],
          [
           2.247191011235955,
           2.354200107009096,
           2.8357410379882286,
           3.263777421080792,
           3.504547886570358,
           2.8089887640449436,
           4.333868378812198,
           2.701979668271803,
           2.7822364901016585,
           4.119850187265917,
           3.210272873194221,
           7.490636704119851,
           12.680577849117174,
           4.226859283039058,
           8.079186730872125,
           14.686998394863563,
           3.2370251471375067,
           5.778491171749598,
           17.46923488496522,
           4.360620652755484,
           10.914927768860354,
           5.858747993579454,
           4.735152487961477,
           4.574638844301766,
           4.5211342964151955,
           5.591225254146603,
           6.982343499197431,
           8.801498127340825,
           4.628143392188336,
           7.2766185125735685,
           10.112359550561797,
           8.507223113964688,
           6.71482075976458,
           13.857677902621724,
           7.811663991439273,
           11.15569823434992,
           6.821829855537722,
           10.914927768860354,
           7.410379882289994,
           7.784911717495987,
           9.65757089352595,
           17.415730337078653,
           11.797752808988763,
           14.018191546281432,
           12.54681647940075,
           16.559657570893528,
           22.364901016586412,
           11.20920278223649,
           18.325307651150347,
           32.530765115034775,
           12.867843766720172,
           11.985018726591761,
           9.149277688603531,
           20.278223649010165,
           18.726591760299627,
           12.413055109684324,
           13.456393793472445,
           16.479400749063668,
           18.45906902086677,
           16.479400749063668,
           18.45906902086677,
           21.69609416800428,
           18.619582664526487,
           12.787586944890316,
           14.526484751203853,
           21.910112359550563,
           16.613162118780096,
           15.302300695559124,
           16.934189406099517,
           22.98020331728197,
           27.314071696094167,
           25.842696629213485,
           27.554842161583736,
           23.809523809523807,
           18.432316746923487,
           21.187800963081862,
           21.74959871589085,
           20.518994114499733,
           27.768860353130016,
           22.953451043338685,
           34.85821294810059,
           37.31942215088282,
           32.102728731942214,
           34.4836811128946,
           26.64526484751204,
           44.0342429106474,
           29.507758159443554,
           36.43659711075441,
           44.569288389513105,
           40.44943820224719,
           31.942215088282506,
           43.90048154093098,
           43.28517924023542,
           49.2776886035313,
           65.08828250401284,
           52.220438737292675,
           49.67897271268058,
           49.518459069020864,
           62.84109149277689,
           67.1749598715891,
           52.59497057249867,
           56.90208667736758,
           75.30765115034778
          ],
          [
           2.185792349726776,
           2.288251366120219,
           4.200819672131147,
           2.698087431693989,
           2.7663934426229506,
           2.8346994535519126,
           3.790983606557377,
           3.3811475409836067,
           4.474043715846995,
           4.337431693989071,
           4.67896174863388,
           3.5177595628415297,
           4.132513661202186,
           5.498633879781421,
           4.337431693989071,
           3.927595628415301,
           5.601092896174864,
           5.669398907103825,
           4.5423497267759565,
           5.976775956284152,
           5.532786885245901,
           5.669398907103825,
           5.942622950819672,
           7.41120218579235,
           7.035519125683059,
           6.4890710382513666,
           7.547814207650274,
           4.67896174863388,
           6.864754098360656,
           9.562841530054644,
           6.796448087431695,
           6.762295081967213,
           9.870218579234972,
           9.221311475409836,
           8.777322404371585,
           8.435792349726775,
           9.426229508196721,
           9.528688524590164,
           11.441256830601093,
           11.441256830601093,
           14.515027322404372,
           10.758196721311474,
           9.084699453551913,
           13.524590163934427,
           14.412568306010929,
           13.114754098360656,
           12.09016393442623,
           16.188524590163937,
           11.202185792349727,
           12.978142076502733,
           14.685792349726775,
           15.23224043715847,
           13.456284153005466,
           12.295081967213115,
           15.881147540983607,
           13.866120218579233,
           18.954918032786885,
           14.924863387978144,
           14.993169398907105,
           14.924863387978144,
           14.993169398907105,
           16.76912568306011,
           18.066939890710383,
           20.21857923497268,
           16.35928961748634,
           16.87158469945355,
           21.311475409836063,
           20.32103825136612,
           18.237704918032787,
           25.37568306010929,
           26.400273224043712,
           26.707650273224044,
           21.9603825136612,
           27.732240437158467,
           26.331967213114755,
           27.86885245901639,
           25.136612021857925,
           28.688524590163933,
           33.060109289617486,
           32.99180327868852,
           27.66393442622951,
           25.512295081967213,
           34.80191256830601,
           28.927595628415297,
           29.57650273224044,
           34.18715846994536,
           37.36338797814208,
           40.33469945355191,
           35.040983606557376,
           39.9931693989071,
           39.58333333333333,
           38.18306010928962,
           46.89207650273224,
           40.47131147540984,
           45.25273224043716,
           51.434426229508205,
           53.85928961748634,
           51.263661202185794,
           56.93306010928961,
           56.62568306010929,
           66.80327868852459,
           68.4084699453552,
           78.27868852459017
          ],
          [
           1.2590614269362839,
           3.5864173979397176,
           2.708889736741702,
           2.2510492178557806,
           2.689813048454788,
           5.0362457077451355,
           3.719954215948111,
           3.4147272033574967,
           2.861503243037009,
           2.918733307897749,
           5.11255246089279,
           4.311331552842427,
           3.452880579931324,
           6.447920640976726,
           2.918733307897749,
           3.6818008393742843,
           4.101487981686379,
           8.260206028233497,
           4.120564669973293,
           4.425791682563907,
           3.0331934376192295,
           7.306371613887828,
           5.589469668065624,
           5.265165967188096,
           5.990080122090805,
           6.75314765356734,
           5.188859214040443,
           9.080503624570776,
           5.322396032048837,
           8.393742846241894,
           7.039297977871041,
           15.070583746661578,
           6.447920640976726,
           5.207935902327356,
           10.511255246089279,
           10.702022128958413,
           7.954979015642884,
           9.50019076688287,
           7.458985120183136,
           12.361694009919878,
           9.805417779473483,
           7.058374666157954,
           13.964135826020602,
           9.786341091186571,
           13.296451735978634,
           14.498283098054177,
           13.639832125143075,
           10.282334986646319,
           15.375810759252193,
           9.462037390309042,
           13.620755436856161,
           16.19610835558947,
           11.52231972529569,
           17.3788630293781,
           15.261350629530712,
           14.6699732926364,
           15.566577642121327,
           16.08164822586799,
           17.32163296451736,
           16.08164822586799,
           17.32163296451736,
           16.88286913391835,
           23.73140022892026,
           21.13697062190004,
           18.06562380770698,
           23.73140022892026,
           31.55284242655475,
           17.798550171690195,
           19.896985883250668,
           23.998473864937047,
           23.712323540633346,
           23.97939717665013,
           24.780618084700496,
           23.61694009919878,
           23.52155665776421,
           22.128958412819536,
           26.955360549408624,
           24.28462418924075,
           28.46241892407478,
           39.75581838992751,
           27.413201068294548,
           31.972529568866843,
           35.12018313620756,
           35.23464326592903,
           31.896222815719188,
           40.499809233117126,
           41.26287676459366,
           40.061045402518126,
           42.69362838611217,
           35.80694391453644,
           38.744753910721094,
           54.94086226631056,
           43.13239221671118,
           39.813048454788245,
           50.91568103777184,
           46.37542922548646,
           57.535291873330785,
           52.89965661961084,
           70.67913010301412,
           68.14193056085463,
           69.49637542922548,
           71.04158718046547,
           73.63601678748569
          ],
          [
           1.57856093979442,
           4.331864904552129,
           2.679882525697504,
           2.7900146842878124,
           4.001468428781204,
           4.5154185022026425,
           3.81791483113069,
           2.679882525697504,
           4.809104258443465,
           4.038179148311307,
           4.662261380323055,
           6.4610866372980915,
           7.085168869309838,
           5.359765051395008,
           3.81791483113069,
           5.8370044052863435,
           4.441997063142438,
           6.130690161527165,
           6.424375917767988,
           7.599118942731277,
           3.9647577092511015,
           7.63582966226138,
           5.726872246696035,
           5.469897209985316,
           5.947136563876652,
           10.205580029368576,
           5.983847283406755,
           11.637298091042585,
           8.737151248164464,
           7.856093979441997,
           13.876651982378855,
           11.490455212922173,
           9.544787077826726,
           5.39647577092511,
           12.812041116005874,
           6.571218795888399,
           7.048458149779736,
           13.766519823788546,
           10.38913362701909,
           8.994126284875184,
           11.674008810572687,
           9.140969162995596,
           16.409691629955947,
           14.4640234948605,
           10.682819383259911,
           11.930983847283407,
           13.362701908957417,
           13.215859030837004,
           22.24669603524229,
           11.380323054331864,
           16.079295154185022,
           15.52863436123348,
           16.409691629955947,
           25.40381791483113,
           14.574155653450807,
           18.355359765051396,
           18.68575624082232,
           19.933920704845814,
           21.32892804698972,
           19.933920704845814,
           21.32892804698972,
           21.32892804698972,
           18.3920704845815,
           15.38179148311307,
           18.869309838472834,
           32.305433186490454,
           18.318649045521294,
           21.292217327459618,
           23.53157121879589,
           21.73274596182085,
           28.524229074889867,
           33.44346549192364,
           28.634361233480178,
           23.017621145374452,
           30.066079295154186,
           33.627019089574155,
           27.019089574155654,
           24.963289280469898,
           33.480176211453745,
           26.431718061674008,
           44.49339207048458,
           44.82378854625551,
           30.726872246696036,
           32.8928046989721,
           33.33333333333333,
           44.860499265785606,
           30.837004405286343,
           36.71071953010279,
           50.14684287812041,
           37.99559471365639,
           43.4654919236417,
           45.88839941262849,
           54.25844346549192,
           59.03083700440529,
           46.51248164464023,
           61.45374449339207,
           47.09985315712188,
           42.621145374449334,
           61.60058737151248,
           60.4258443465492,
           60.68281938325991,
           69.34654919236417,
           75.99118942731278
          ],
          [
           1.5618742490989186,
           2.643171806167401,
           2.2827392871445733,
           2.8033640368442128,
           3.123748498197837,
           3.0036043251902282,
           3.9247096515818978,
           3.2038446135362433,
           4.805766920304365,
           4.565478574289147,
           5.246295554665599,
           4.325190228273929,
           3.2839407288746494,
           5.967160592711253,
           3.644373247897477,
           4.004805766920304,
           6.207448938726472,
           5.246295554665599,
           4.685622747296756,
           8.049659591509812,
           3.884661593912695,
           5.206247496996395,
           7.529034841810173,
           7.889467360833,
           7.8494193031637955,
           7.929515418502203,
           5.726872246696035,
           5.206247496996395,
           10.01201441730076,
           7.649179014817781,
           8.53023628354025,
           6.888265919102923,
           9.130957148578293,
           6.888265919102923,
           10.13215859030837,
           10.492591109331197,
           9.010812975570685,
           11.213456147376851,
           12.214657589106928,
           12.655186223468162,
           13.215859030837004,
           8.970764917901482,
           11.533840608730477,
           10.732879455346415,
           11.894273127753303,
           12.975570684821786,
           11.17340808970765,
           17.22066479775731,
           12.655186223468162,
           10.332398878654384,
           15.818982779335203,
           16.940328394072885,
           19.823788546255507,
           15.93912695234281,
           15.618742490989188,
           16.900280336403682,
           18.622346816179416,
           18.30196235482579,
           19.463356027232678,
           18.30196235482579,
           19.463356027232678,
           21.18542250700841,
           18.622346816179416,
           22.90748898678414,
           20.464557468962756,
           20.50460552663196,
           20.704845814977972,
           21.105326391670005,
           22.3468161794153,
           20.94513416099319,
           26.111333600320386,
           27.75330396475771,
           26.231477773327995,
           22.947537044453345,
           28.39407288746496,
           28.55426511814177,
           28.994793752503,
           30.356427713255908,
           36.8442130556668,
           34.88185822987585,
           28.233880656788145,
           33.11974369243092,
           34.96195434521426,
           35.32238686423708,
           34.52142571085302,
           36.72406888265919,
           41.529835802963554,
           34.84181017220665,
           36.04325190228274,
           36.28354024829796,
           42.57108530236284,
           37.48498197837405,
           49.539447336804166,
           44.533440128153785,
           42.01041249499399,
           53.34401281537845,
           52.42290748898678,
           50.62074489387265,
           53.66439727673208,
           63.115738886664,
           69.60352422907489,
           73.00760913095715,
           75.0901081297557
          ],
          [
           1.8638170974155068,
           1.9880715705765408,
           2.360834990059642,
           3.2803180914512926,
           2.3856858846918487,
           2.3111332007952288,
           5.5168986083499005,
           2.0129224652087476,
           2.261431411530815,
           4.3737574552683895,
           3.8270377733598413,
           3.5288270377733597,
           4.473161033797217,
           3.6530815109343937,
           5.790258449304175,
           7.952286282306163,
           3.1560636182902586,
           4.970178926441352,
           8.499005964214712,
           3.6779324055666,
           7.75347912524851,
           3.354870775347912,
           5.318091451292246,
           4.398608349900597,
           4.796222664015905,
           4.920477137176938,
           6.36182902584493,
           3.354870775347912,
           4.150099403578529,
           5.8399602385685885,
           5.666003976143141,
           4.52286282306163,
           4.920477137176938,
           18.93638170974155,
           6.163021868787276,
           18.961232604373755,
           5.193836978131213,
           7.231610337972167,
           6.535785288270378,
           8.623260437375746,
           9.269383697813122,
           13.643141153081512,
           6.312127236580517,
           8.722664015904574,
           9.791252485089464,
           13.543737574552683,
           14.41351888667992,
           9.542743538767395,
           8.399602385685885,
           26.988071570576537,
           12.226640159045726,
           10.43737574552684,
           9.269383697813122,
           11.456262425447317,
           22.39065606361829,
           15.283300198807156,
           10.636182902584492,
           17.395626242544733,
           19.01093439363817,
           17.395626242544733,
           19.01093439363817,
           16.451292246520875,
           14.115308151093439,
           17.072564612326044,
           20.601391650099405,
           11.928429423459244,
           16.575546719681906,
           14.48807157057654,
           19.25944333996024,
           17.544731610337973,
           19.905566600397613,
           18.389662027833,
           29.27435387673956,
           18.961232604373755,
           16.84890656063618,
           17.2713717693837,
           28.45427435387674,
           20.328031809145127,
           25.074552683896624,
           25.894632206759443,
           24.055666003976143,
           25.497017892644138,
           30.66600397614314,
           45.80019880715705,
           31.6351888667992,
           34.09542743538768,
           33.64811133200795,
           27.186878727634195,
           26.565606361829026,
           31.088469184890656,
           27.907554671968192,
           34.69184890656064,
           38.07157057654075,
           36.97813121272366,
           53.23061630218688,
           40.87972166998012,
           49.6520874751491,
           59.04572564612326,
           46.34691848906561,
           73.45924453280318,
           58.97117296222664,
           57.55467196819085,
           67.9920477137177
          ],
          [
           4.335585585585585,
           1.5202702702702704,
           4.504504504504505,
           3.350225225225225,
           2.505630630630631,
           2.1114864864864864,
           3.040540540540541,
           2.956081081081081,
           2.5337837837837838,
           3.9977477477477477,
           3.2939189189189184,
           3.800675675675676,
           4.983108108108108,
           3.350225225225225,
           10.022522522522523,
           5.79954954954955,
           4.110360360360361,
           5.405405405405405,
           6.221846846846847,
           4.870495495495495,
           13.147522522522523,
           6.78490990990991,
           4.391891891891892,
           5.574324324324325,
           5.123873873873873,
           5.405405405405405,
           6.981981981981981,
           3.0968468468468466,
           5.63063063063063,
           10.838963963963964,
           4.5608108108108105,
           4.842342342342342,
           6.587837837837837,
           17.989864864864867,
           6.925675675675675,
           7.967342342342343,
           7.882882882882883,
           5.996621621621621,
           7.573198198198199,
           9.121621621621621,
           10.416666666666668,
           19.90427927927928,
           7.85472972972973,
           11.120495495495495,
           14.329954954954955,
           13.992117117117116,
           14.076576576576578,
           12.528153153153154,
           8.220720720720722,
           25.11261261261261,
           11.683558558558559,
           11.233108108108109,
           10.416666666666668,
           9.90990990990991,
           13.56981981981982,
           9.628378378378379,
           11.79617117117117,
           10.951576576576578,
           11.993243243243242,
           10.951576576576578,
           11.993243243243242,
           16.07545045045045,
           16.666666666666664,
           15.850225225225225,
           13.034909909909908,
           12.443693693693694,
           16.019144144144143,
           15.118243243243242,
           13.65427927927928,
           33.164414414414416,
           23.170045045045047,
           22.60698198198198,
           18.524774774774773,
           36.76801801801802,
           15.79391891891892,
           18.86261261261261,
           19.98873873873874,
           26.97072072072072,
           26.745495495495497,
           25.788288288288285,
           19.53828828828829,
           21.79054054054054,
           32.74211711711711,
           22.804054054054053,
           24.239864864864867,
           30.236486486486484,
           29.898648648648653,
           40.765765765765764,
           30.96846846846847,
           39.86486486486486,
           28.29391891891892,
           36.76801801801802,
           40.93468468468468,
           30.152027027027028,
           59.03716216216216,
           45.21396396396396,
           47.015765765765764,
           49.0990990990991,
           62.19031531531532,
           46.70608108108108,
           53.46283783783784,
           54.19481981981982,
           77.73085585585585
          ],
          [
           4.237713139418255,
           2.0812437311935805,
           3.6609829488465397,
           4.112337011033099,
           2.3570712136409226,
           2.432296890672016,
           3.786359077231695,
           2.7582748244734203,
           2.683049147442327,
           4.037111334002006,
           2.8335005015045134,
           5.441323971915748,
           8.375125376128386,
           2.8084252758274824,
           19.834503510531594,
           12.963891675025074,
           3.3600802407221666,
           4.413239719157472,
           15.697091273821465,
           3.8114343029087263,
           27.256770310932797,
           6.218655967903711,
           3.5857572718154462,
           4.789368104312939,
           3.7612838515546643,
           4.663991975927784,
           7.246740220661986,
           5.1654964894684054,
           4.689067201604814,
           7.5225677031093285,
           7.096288866599799,
           6.093279839518555,
           5.917753259779338,
           27.632898696088265,
           6.41925777331996,
           9.327983951855568,
           6.64493480441324,
           8.049147442326982,
           7.246740220661986,
           6.218655967903711,
           9.754262788365095,
           37.938816449348046,
           9.553660982948847,
           9.553660982948847,
           11.885656970912738,
           19.132397191574725,
           26.4543630892678,
           9.954864593781345,
           13.716148445336007,
           50.075225677031085,
           10.75727181544634,
           9.829488465396189,
           8.224674022066198,
           15.57171514543631,
           16.098294884653964,
           9.378134403209629,
           10.782347041123371,
           14.543630892678033,
           16.72517552657974,
           14.543630892678033,
           16.72517552657974,
           22.216649949849547,
           17.953861584754264,
           12.211634904714144,
           11.158475426278837,
           15.220661985957873,
           13.665997993981946,
           12.637913741223672,
           13.440320962888666,
           25.050150451354064,
           25.827482447342025,
           24.82447342026078,
           24.37311935807422,
           29.789368104312942,
           13.99197592778335,
           18.756268806419257,
           17.201604814443332,
           19.408224674022065,
           26.705115346038117,
           18.004012036108325,
           28.58575727181545,
           32.59779338014042,
           33.45035105315948,
           27.256770310932797,
           21.339017051153462,
           39.1173520561685,
           24.172517552657975,
           36.18355065195587,
           39.96990972918756,
           35.05516549648947,
           25.651955867602812,
           39.56870611835506,
           43.75626880641926,
           40.84754262788365,
           78.33500501504514,
           51.07823470411233,
           46.26379137412236,
           48.72116349047141,
           63.54062186559679,
           58.45035105315948,
           48.24473420260782,
           48.26980942828485,
           78.05917753259779
          ],
          [
           5.465004793863854,
           2.1572387344199426,
           4.554170661553212,
           3.978906999041227,
           3.2598274209012463,
           2.3010546500479387,
           3.4995206136145733,
           4.026845637583892,
           2.924256951102589,
           3.7392138063279003,
           3.691275167785235,
           4.1227229146692235,
           5.129434324065196,
           3.883029721955897,
           12.224352828379674,
           6.85522531160115,
           3.978906999041227,
           6.615532118887824,
           6.85522531160115,
           5.321188878235858,
           16.155321188878236,
           8.820709491850431,
           4.410354745925216,
           5.417066155321189,
           4.650047938638543,
           5.704697986577181,
           6.615532118887824,
           3.883029721955897,
           6.2320230105465,
           11.601150527325025,
           5.512943432406519,
           6.136145733461169,
           5.944391179290508,
           22.24352828379674,
           7.766059443911794,
           9.731543624161073,
           8.724832214765101,
           6.903163950143816,
           7.28667305848514,
           6.7114093959731544,
           8.389261744966444,
           24.30488974113135,
           9.491850431447748,
           8.964525407478426,
           15.244487056567593,
           14.285714285714285,
           15.771812080536913,
           10.354745925215724,
           9.87535953978907,
           30.393096836049853,
           9.827420901246404,
           9.683604985618409,
           10.162991371045061,
           9.491850431447748,
           11.984659635666347,
           9.683604985618409,
           10.738255033557047,
           10.977948226270374,
           12.559923298178333,
           10.977948226270374,
           12.559923298178333,
           16.347075743048897,
           19.942473633748804,
           11.984659635666347,
           11.073825503355705,
           11.84084372003835,
           14.669223394055608,
           11.553211888782359,
           13.422818791946309,
           34.851390220517736,
           19.606903163950143,
           24.73633748801534,
           19.463087248322147,
           39.83700862895494,
           14.04602109300096,
           17.449664429530202,
           19.12751677852349,
           22.53116011505273,
           24.448705656759348,
           20.086289549376797,
           22.96260786193672,
           23.441994247363375,
           33.17353787152445,
           20.949185043144773,
           22.33940556088207,
           31.1601150527325,
           25.071907957814,
           40.46021093000959,
           32.98178331735379,
           32.98178331735379,
           25.98274209012464,
           42.42569511025887,
           41.37104506232023,
           32.118887823585816,
           67.68935762224353,
           45.49376797698945,
           39.213806327900286,
           50,
           67.16203259827421,
           43.672099712368166,
           47.02780441035475,
           48.465963566634706,
           77.75647171620325
          ],
          [
           2.727272727272727,
           3.939393939393939,
           3.4090909090909087,
           5,
           5.227272727272727,
           4.848484848484849,
           5.227272727272727,
           4.318181818181818,
           5.227272727272727,
           5.681818181818182,
           6.0606060606060606,
           6.59090909090909,
           6.212121212121212,
           6.666666666666667,
           5.151515151515151,
           4.772727272727273,
           7.348484848484849,
           8.333333333333332,
           5.681818181818182,
           9.318181818181818,
           6.4393939393939394,
           7.954545454545454,
           8.93939393939394,
           7.878787878787878,
           8.409090909090908,
           10.378787878787879,
           7.196969696969697,
           9.242424242424242,
           10.681818181818182,
           10.606060606060606,
           12.727272727272727,
           10.53030303030303,
           9.393939393939393,
           6.8181818181818175,
           12.5,
           10.303030303030303,
           8.787878787878787,
           14.84848484848485,
           15.151515151515152,
           12.424242424242424,
           14.696969696969697,
           11.363636363636363,
           13.863636363636363,
           10.303030303030303,
           13.560606060606062,
           13.560606060606062,
           12.727272727272727,
           15.757575757575756,
           19.090909090909093,
           12.878787878787879,
           15.075757575757576,
           19.015151515151516,
           23.40909090909091,
           21.59090909090909,
           13.712121212121211,
           20.303030303030305,
           18.409090909090907,
           21.06060606060606,
           24.62121212121212,
           21.06060606060606,
           24.62121212121212,
           24.848484848484848,
           23.03030303030303,
           23.863636363636363,
           20.530303030303028,
           29.393939393939394,
           22.954545454545457,
           20.606060606060606,
           26.136363636363637,
           23.40909090909091,
           25.833333333333336,
           33.18181818181819,
           23.939393939393938,
           23.636363636363637,
           29.772727272727273,
           31.439393939393938,
           28.939393939393938,
           31.363636363636367,
           35,
           31.515151515151512,
           29.09090909090909,
           45.07575757575758,
           33.63636363636363,
           34.54545454545455,
           34.84848484848485,
           45.75757575757576,
           36.43939393939394,
           33.25757575757576,
           42.95454545454545,
           33.33333333333333,
           43.78787878787879,
           44.3939393939394,
           55.6060606060606,
           43.93939393939394,
           45.984848484848484,
           59.3939393939394,
           49.54545454545455,
           44.31818181818182,
           58.86363636363636,
           65.07575757575758,
           69.16666666666667,
           72.87878787878788,
           75.07575757575758
          ],
          [
           2.0103092783505154,
           8.041237113402062,
           3.9690721649484533,
           3.2989690721649487,
           3.65979381443299,
           9.278350515463918,
           3.711340206185567,
           3.1443298969072164,
           4.896907216494846,
           5.721649484536083,
           5.206185567010309,
           8.8659793814433,
           7.783505154639175,
           6.288659793814433,
           3.865979381443299,
           6.494845360824743,
           4.278350515463917,
           9.845360824742269,
           7.422680412371134,
           4.587628865979381,
           4.22680412371134,
           11.237113402061857,
           4.587628865979381,
           5.927835051546391,
           5.103092783505154,
           10.257731958762886,
           6.907216494845361,
           25.51546391752577,
           5.206185567010309,
           7.628865979381444,
           18.402061855670105,
           26.134020618556704,
           9.175257731958762,
           5.309278350515464,
           16.391752577319586,
           6.855670103092784,
           6.701030927835052,
           17.422680412371133,
           9.742268041237114,
           9.587628865979383,
           11.752577319587628,
           8.350515463917525,
           30.20618556701031,
           15.206185567010309,
           10.824742268041238,
           16.34020618556701,
           20.412371134020617,
           10.77319587628866,
           36.08247422680412,
           12.216494845360824,
           15.257731958762887,
           14.793814432989691,
           10.463917525773196,
           33.76288659793815,
           12.886597938144329,
           14.896907216494846,
           19.329896907216497,
           17.7319587628866,
           20.927835051546392,
           17.7319587628866,
           20.927835051546392,
           25.670103092783503,
           20.721649484536083,
           15.463917525773196,
           14.484536082474229,
           40,
           24.690721649484537,
           18.04123711340206,
           19.02061855670103,
           20.670103092783503,
           28.60824742268041,
           33.298969072164944,
           25.56701030927835,
           21.494845360824744,
           27.010309278350515,
           28.298969072164947,
           20.36082474226804,
           19.948453608247423,
           30.463917525773194,
           28.09278350515464,
           43.29896907216495,
           50.4639175257732,
           30.77319587628866,
           28.04123711340206,
           26.134020618556704,
           49.432989690721655,
           30.97938144329897,
           41.95876288659794,
           63.4020618556701,
           39.948453608247426,
           42.628865979381445,
           61.49484536082475,
           50.618556701030926,
           56.34020618556701,
           59.896907216494846,
           60.567010309278345,
           53.76288659793814,
           39.43298969072165,
           74.63917525773196,
           61.701030927835056,
           58.50515463917526,
           65.87628865979381,
           79.84536082474227
          ],
          [
           4.049844236760125,
           4.672897196261682,
           4.205607476635514,
           7.476635514018691,
           6.230529595015576,
           4.517133956386292,
           5.763239875389408,
           6.853582554517133,
           9.034267912772584,
           11.370716510903426,
           9.968847352024921,
           5.919003115264798,
           5.451713395638629,
           9.190031152647975,
           5.919003115264798,
           4.8286604361370715,
           9.034267912772584,
           7.78816199376947,
           6.853582554517133,
           9.345794392523365,
           6.074766355140187,
           6.230529595015576,
           8.566978193146417,
           10.59190031152648,
           9.813084112149532,
           9.345794392523365,
           11.838006230529595,
           5.451713395638629,
           10.12461059190031,
           9.813084112149532,
           7.78816199376947,
           7.009345794392523,
           9.034267912772584,
           10.43613707165109,
           11.214953271028037,
           13.862928348909657,
           11.059190031152648,
           12.461059190031152,
           14.953271028037381,
           18.06853582554517,
           14.641744548286603,
           11.838006230529595,
           10.903426791277258,
           9.968847352024921,
           14.018691588785046,
           15.109034267912772,
           11.993769470404985,
           19.470404984423677,
           10.43613707165109,
           11.682242990654206,
           16.355140186915886,
           18.22429906542056,
           21.02803738317757,
           9.968847352024921,
           15.732087227414329,
           15.42056074766355,
           19.470404984423677,
           18.53582554517134,
           18.22429906542056,
           18.53582554517134,
           18.22429906542056,
           25.54517133956386,
           18.53582554517134,
           42.36760124610592,
           19.003115264797508,
           13.239875389408098,
           23.98753894080997,
           19.626168224299064,
           19.003115264797508,
           21.651090342679126,
           24.922118380062305,
           27.41433021806853,
           23.364485981308412,
           21.339563862928348,
           22.897196261682243,
           26.635514018691588,
           26.168224299065418,
           30.218068535825545,
           35.3582554517134,
           49.06542056074766,
           19.314641744548286,
           27.102803738317753,
           32.398753894081,
           31.15264797507788,
           25.70093457943925,
           30.062305295950154,
           45.482866043613704,
           28.971962616822427,
           23.05295950155763,
           32.242990654205606,
           41.74454828660436,
           31.15264797507788,
           54.04984423676012,
           28.971962616822427,
           38.62928348909657,
           45.638629283489095,
           61.37071651090342,
           47.19626168224299,
           42.36760124610592,
           57.78816199376947,
           76.63551401869158,
           71.02803738317756,
           70.87227414330218
          ]
         ]
        }
       ],
       "layout": {
        "coloraxis": {
         "colorscale": [
          [
           0,
           "#440154"
          ],
          [
           0.1111111111111111,
           "#482878"
          ],
          [
           0.2222222222222222,
           "#3e4989"
          ],
          [
           0.3333333333333333,
           "#31688e"
          ],
          [
           0.4444444444444444,
           "#26828e"
          ],
          [
           0.5555555555555556,
           "#1f9e89"
          ],
          [
           0.6666666666666666,
           "#35b779"
          ],
          [
           0.7777777777777778,
           "#6ece58"
          ],
          [
           0.8888888888888888,
           "#b5de2b"
          ],
          [
           1,
           "#fde725"
          ]
         ]
        },
        "height": 800,
        "margin": {
         "t": 60
        },
        "template": {
         "data": {
          "bar": [
           {
            "error_x": {
             "color": "#2a3f5f"
            },
            "error_y": {
             "color": "#2a3f5f"
            },
            "marker": {
             "line": {
              "color": "#E5ECF6",
              "width": 0.5
             },
             "pattern": {
              "fillmode": "overlay",
              "size": 10,
              "solidity": 0.2
             }
            },
            "type": "bar"
           }
          ],
          "barpolar": [
           {
            "marker": {
             "line": {
              "color": "#E5ECF6",
              "width": 0.5
             },
             "pattern": {
              "fillmode": "overlay",
              "size": 10,
              "solidity": 0.2
             }
            },
            "type": "barpolar"
           }
          ],
          "carpet": [
           {
            "aaxis": {
             "endlinecolor": "#2a3f5f",
             "gridcolor": "white",
             "linecolor": "white",
             "minorgridcolor": "white",
             "startlinecolor": "#2a3f5f"
            },
            "baxis": {
             "endlinecolor": "#2a3f5f",
             "gridcolor": "white",
             "linecolor": "white",
             "minorgridcolor": "white",
             "startlinecolor": "#2a3f5f"
            },
            "type": "carpet"
           }
          ],
          "choropleth": [
           {
            "colorbar": {
             "outlinewidth": 0,
             "ticks": ""
            },
            "type": "choropleth"
           }
          ],
          "contour": [
           {
            "colorbar": {
             "outlinewidth": 0,
             "ticks": ""
            },
            "colorscale": [
             [
              0,
              "#0d0887"
             ],
             [
              0.1111111111111111,
              "#46039f"
             ],
             [
              0.2222222222222222,
              "#7201a8"
             ],
             [
              0.3333333333333333,
              "#9c179e"
             ],
             [
              0.4444444444444444,
              "#bd3786"
             ],
             [
              0.5555555555555556,
              "#d8576b"
             ],
             [
              0.6666666666666666,
              "#ed7953"
             ],
             [
              0.7777777777777778,
              "#fb9f3a"
             ],
             [
              0.8888888888888888,
              "#fdca26"
             ],
             [
              1,
              "#f0f921"
             ]
            ],
            "type": "contour"
           }
          ],
          "contourcarpet": [
           {
            "colorbar": {
             "outlinewidth": 0,
             "ticks": ""
            },
            "type": "contourcarpet"
           }
          ],
          "heatmap": [
           {
            "colorbar": {
             "outlinewidth": 0,
             "ticks": ""
            },
            "colorscale": [
             [
              0,
              "#0d0887"
             ],
             [
              0.1111111111111111,
              "#46039f"
             ],
             [
              0.2222222222222222,
              "#7201a8"
             ],
             [
              0.3333333333333333,
              "#9c179e"
             ],
             [
              0.4444444444444444,
              "#bd3786"
             ],
             [
              0.5555555555555556,
              "#d8576b"
             ],
             [
              0.6666666666666666,
              "#ed7953"
             ],
             [
              0.7777777777777778,
              "#fb9f3a"
             ],
             [
              0.8888888888888888,
              "#fdca26"
             ],
             [
              1,
              "#f0f921"
             ]
            ],
            "type": "heatmap"
           }
          ],
          "heatmapgl": [
           {
            "colorbar": {
             "outlinewidth": 0,
             "ticks": ""
            },
            "colorscale": [
             [
              0,
              "#0d0887"
             ],
             [
              0.1111111111111111,
              "#46039f"
             ],
             [
              0.2222222222222222,
              "#7201a8"
             ],
             [
              0.3333333333333333,
              "#9c179e"
             ],
             [
              0.4444444444444444,
              "#bd3786"
             ],
             [
              0.5555555555555556,
              "#d8576b"
             ],
             [
              0.6666666666666666,
              "#ed7953"
             ],
             [
              0.7777777777777778,
              "#fb9f3a"
             ],
             [
              0.8888888888888888,
              "#fdca26"
             ],
             [
              1,
              "#f0f921"
             ]
            ],
            "type": "heatmapgl"
           }
          ],
          "histogram": [
           {
            "marker": {
             "pattern": {
              "fillmode": "overlay",
              "size": 10,
              "solidity": 0.2
             }
            },
            "type": "histogram"
           }
          ],
          "histogram2d": [
           {
            "colorbar": {
             "outlinewidth": 0,
             "ticks": ""
            },
            "colorscale": [
             [
              0,
              "#0d0887"
             ],
             [
              0.1111111111111111,
              "#46039f"
             ],
             [
              0.2222222222222222,
              "#7201a8"
             ],
             [
              0.3333333333333333,
              "#9c179e"
             ],
             [
              0.4444444444444444,
              "#bd3786"
             ],
             [
              0.5555555555555556,
              "#d8576b"
             ],
             [
              0.6666666666666666,
              "#ed7953"
             ],
             [
              0.7777777777777778,
              "#fb9f3a"
             ],
             [
              0.8888888888888888,
              "#fdca26"
             ],
             [
              1,
              "#f0f921"
             ]
            ],
            "type": "histogram2d"
           }
          ],
          "histogram2dcontour": [
           {
            "colorbar": {
             "outlinewidth": 0,
             "ticks": ""
            },
            "colorscale": [
             [
              0,
              "#0d0887"
             ],
             [
              0.1111111111111111,
              "#46039f"
             ],
             [
              0.2222222222222222,
              "#7201a8"
             ],
             [
              0.3333333333333333,
              "#9c179e"
             ],
             [
              0.4444444444444444,
              "#bd3786"
             ],
             [
              0.5555555555555556,
              "#d8576b"
             ],
             [
              0.6666666666666666,
              "#ed7953"
             ],
             [
              0.7777777777777778,
              "#fb9f3a"
             ],
             [
              0.8888888888888888,
              "#fdca26"
             ],
             [
              1,
              "#f0f921"
             ]
            ],
            "type": "histogram2dcontour"
           }
          ],
          "mesh3d": [
           {
            "colorbar": {
             "outlinewidth": 0,
             "ticks": ""
            },
            "type": "mesh3d"
           }
          ],
          "parcoords": [
           {
            "line": {
             "colorbar": {
              "outlinewidth": 0,
              "ticks": ""
             }
            },
            "type": "parcoords"
           }
          ],
          "pie": [
           {
            "automargin": true,
            "type": "pie"
           }
          ],
          "scatter": [
           {
            "fillpattern": {
             "fillmode": "overlay",
             "size": 10,
             "solidity": 0.2
            },
            "type": "scatter"
           }
          ],
          "scatter3d": [
           {
            "line": {
             "colorbar": {
              "outlinewidth": 0,
              "ticks": ""
             }
            },
            "marker": {
             "colorbar": {
              "outlinewidth": 0,
              "ticks": ""
             }
            },
            "type": "scatter3d"
           }
          ],
          "scattercarpet": [
           {
            "marker": {
             "colorbar": {
              "outlinewidth": 0,
              "ticks": ""
             }
            },
            "type": "scattercarpet"
           }
          ],
          "scattergeo": [
           {
            "marker": {
             "colorbar": {
              "outlinewidth": 0,
              "ticks": ""
             }
            },
            "type": "scattergeo"
           }
          ],
          "scattergl": [
           {
            "marker": {
             "colorbar": {
              "outlinewidth": 0,
              "ticks": ""
             }
            },
            "type": "scattergl"
           }
          ],
          "scattermapbox": [
           {
            "marker": {
             "colorbar": {
              "outlinewidth": 0,
              "ticks": ""
             }
            },
            "type": "scattermapbox"
           }
          ],
          "scatterpolar": [
           {
            "marker": {
             "colorbar": {
              "outlinewidth": 0,
              "ticks": ""
             }
            },
            "type": "scatterpolar"
           }
          ],
          "scatterpolargl": [
           {
            "marker": {
             "colorbar": {
              "outlinewidth": 0,
              "ticks": ""
             }
            },
            "type": "scatterpolargl"
           }
          ],
          "scatterternary": [
           {
            "marker": {
             "colorbar": {
              "outlinewidth": 0,
              "ticks": ""
             }
            },
            "type": "scatterternary"
           }
          ],
          "surface": [
           {
            "colorbar": {
             "outlinewidth": 0,
             "ticks": ""
            },
            "colorscale": [
             [
              0,
              "#0d0887"
             ],
             [
              0.1111111111111111,
              "#46039f"
             ],
             [
              0.2222222222222222,
              "#7201a8"
             ],
             [
              0.3333333333333333,
              "#9c179e"
             ],
             [
              0.4444444444444444,
              "#bd3786"
             ],
             [
              0.5555555555555556,
              "#d8576b"
             ],
             [
              0.6666666666666666,
              "#ed7953"
             ],
             [
              0.7777777777777778,
              "#fb9f3a"
             ],
             [
              0.8888888888888888,
              "#fdca26"
             ],
             [
              1,
              "#f0f921"
             ]
            ],
            "type": "surface"
           }
          ],
          "table": [
           {
            "cells": {
             "fill": {
              "color": "#EBF0F8"
             },
             "line": {
              "color": "white"
             }
            },
            "header": {
             "fill": {
              "color": "#C8D4E3"
             },
             "line": {
              "color": "white"
             }
            },
            "type": "table"
           }
          ]
         },
         "layout": {
          "annotationdefaults": {
           "arrowcolor": "#2a3f5f",
           "arrowhead": 0,
           "arrowwidth": 1
          },
          "autotypenumbers": "strict",
          "coloraxis": {
           "colorbar": {
            "outlinewidth": 0,
            "ticks": ""
           }
          },
          "colorscale": {
           "diverging": [
            [
             0,
             "#8e0152"
            ],
            [
             0.1,
             "#c51b7d"
            ],
            [
             0.2,
             "#de77ae"
            ],
            [
             0.3,
             "#f1b6da"
            ],
            [
             0.4,
             "#fde0ef"
            ],
            [
             0.5,
             "#f7f7f7"
            ],
            [
             0.6,
             "#e6f5d0"
            ],
            [
             0.7,
             "#b8e186"
            ],
            [
             0.8,
             "#7fbc41"
            ],
            [
             0.9,
             "#4d9221"
            ],
            [
             1,
             "#276419"
            ]
           ],
           "sequential": [
            [
             0,
             "#0d0887"
            ],
            [
             0.1111111111111111,
             "#46039f"
            ],
            [
             0.2222222222222222,
             "#7201a8"
            ],
            [
             0.3333333333333333,
             "#9c179e"
            ],
            [
             0.4444444444444444,
             "#bd3786"
            ],
            [
             0.5555555555555556,
             "#d8576b"
            ],
            [
             0.6666666666666666,
             "#ed7953"
            ],
            [
             0.7777777777777778,
             "#fb9f3a"
            ],
            [
             0.8888888888888888,
             "#fdca26"
            ],
            [
             1,
             "#f0f921"
            ]
           ],
           "sequentialminus": [
            [
             0,
             "#0d0887"
            ],
            [
             0.1111111111111111,
             "#46039f"
            ],
            [
             0.2222222222222222,
             "#7201a8"
            ],
            [
             0.3333333333333333,
             "#9c179e"
            ],
            [
             0.4444444444444444,
             "#bd3786"
            ],
            [
             0.5555555555555556,
             "#d8576b"
            ],
            [
             0.6666666666666666,
             "#ed7953"
            ],
            [
             0.7777777777777778,
             "#fb9f3a"
            ],
            [
             0.8888888888888888,
             "#fdca26"
            ],
            [
             1,
             "#f0f921"
            ]
           ]
          },
          "colorway": [
           "#636efa",
           "#EF553B",
           "#00cc96",
           "#ab63fa",
           "#FFA15A",
           "#19d3f3",
           "#FF6692",
           "#B6E880",
           "#FF97FF",
           "#FECB52"
          ],
          "font": {
           "color": "#2a3f5f"
          },
          "geo": {
           "bgcolor": "white",
           "lakecolor": "white",
           "landcolor": "#E5ECF6",
           "showlakes": true,
           "showland": true,
           "subunitcolor": "white"
          },
          "hoverlabel": {
           "align": "left"
          },
          "hovermode": "closest",
          "mapbox": {
           "style": "light"
          },
          "paper_bgcolor": "white",
          "plot_bgcolor": "#E5ECF6",
          "polar": {
           "angularaxis": {
            "gridcolor": "white",
            "linecolor": "white",
            "ticks": ""
           },
           "bgcolor": "#E5ECF6",
           "radialaxis": {
            "gridcolor": "white",
            "linecolor": "white",
            "ticks": ""
           }
          },
          "scene": {
           "xaxis": {
            "backgroundcolor": "#E5ECF6",
            "gridcolor": "white",
            "gridwidth": 2,
            "linecolor": "white",
            "showbackground": true,
            "ticks": "",
            "zerolinecolor": "white"
           },
           "yaxis": {
            "backgroundcolor": "#E5ECF6",
            "gridcolor": "white",
            "gridwidth": 2,
            "linecolor": "white",
            "showbackground": true,
            "ticks": "",
            "zerolinecolor": "white"
           },
           "zaxis": {
            "backgroundcolor": "#E5ECF6",
            "gridcolor": "white",
            "gridwidth": 2,
            "linecolor": "white",
            "showbackground": true,
            "ticks": "",
            "zerolinecolor": "white"
           }
          },
          "shapedefaults": {
           "line": {
            "color": "#2a3f5f"
           }
          },
          "ternary": {
           "aaxis": {
            "gridcolor": "white",
            "linecolor": "white",
            "ticks": ""
           },
           "baxis": {
            "gridcolor": "white",
            "linecolor": "white",
            "ticks": ""
           },
           "bgcolor": "#E5ECF6",
           "caxis": {
            "gridcolor": "white",
            "linecolor": "white",
            "ticks": ""
           }
          },
          "title": {
           "x": 0.05
          },
          "xaxis": {
           "automargin": true,
           "gridcolor": "white",
           "linecolor": "white",
           "ticks": "",
           "title": {
            "standoff": 15
           },
           "zerolinecolor": "white",
           "zerolinewidth": 2
          },
          "yaxis": {
           "automargin": true,
           "gridcolor": "white",
           "linecolor": "white",
           "ticks": "",
           "title": {
            "standoff": 15
           },
           "zerolinecolor": "white",
           "zerolinewidth": 2
          }
         }
        },
        "width": 2000,
        "xaxis": {
         "anchor": "y",
         "constrain": "domain",
         "domain": [
          0,
          1
         ],
         "scaleanchor": "y"
        },
        "yaxis": {
         "anchor": "x",
         "autorange": "reversed",
         "constrain": "domain",
         "domain": [
          0,
          1
         ]
        }
       }
      }
     },
     "metadata": {},
     "output_type": "display_data"
    }
   ],
   "source": [
    "df_skills_percentage = pd.DataFrame(skills_percentage_matrix, columns=skills, index=jobs)\n",
    "df_skills_percentage_sorted = df_skills_percentage.loc[:, df_skills_percentage.sum(axis=0).sort_values().index]\n",
    "\n",
    "\n",
    "fig = px.imshow(df_skills_percentage_sorted, color_continuous_scale='viridis')\n",
    "fig.update_layout( width=2000,\n",
    "                  height=800,\n",
    "                  title=\"skills frequancy sorted\")\n",
    "fig.show()"
   ]
  },
  {
   "cell_type": "code",
   "execution_count": 39,
   "metadata": {},
   "outputs": [
    {
     "data": {
      "text/html": [
       "<div>\n",
       "<style scoped>\n",
       "    .dataframe tbody tr th:only-of-type {\n",
       "        vertical-align: middle;\n",
       "    }\n",
       "\n",
       "    .dataframe tbody tr th {\n",
       "        vertical-align: top;\n",
       "    }\n",
       "\n",
       "    .dataframe thead th {\n",
       "        text-align: right;\n",
       "    }\n",
       "</style>\n",
       "<table border=\"1\" class=\"dataframe\">\n",
       "  <thead>\n",
       "    <tr style=\"text-align: right;\">\n",
       "      <th></th>\n",
       "      <th>Julia</th>\n",
       "      <th>Chef</th>\n",
       "      <th>Haskell</th>\n",
       "      <th>IBM Cloud or Watson</th>\n",
       "      <th>Couchbase</th>\n",
       "      <th>Puppet</th>\n",
       "      <th>IBM DB2</th>\n",
       "      <th>Unreal Engine</th>\n",
       "      <th>Gatsby</th>\n",
       "      <th>Facebook Workplace</th>\n",
       "      <th>...</th>\n",
       "      <th>Jira</th>\n",
       "      <th>Python</th>\n",
       "      <th>Slack</th>\n",
       "      <th>MySQL</th>\n",
       "      <th>Windows</th>\n",
       "      <th>Linux</th>\n",
       "      <th>SQL</th>\n",
       "      <th>HTML/CSS</th>\n",
       "      <th>JavaScript</th>\n",
       "      <th>Github</th>\n",
       "    </tr>\n",
       "  </thead>\n",
       "  <tbody>\n",
       "    <tr>\n",
       "      <th>Developer, desktop or enterprise applications</th>\n",
       "      <td>0.721317</td>\n",
       "      <td>1.298371</td>\n",
       "      <td>1.849966</td>\n",
       "      <td>1.451120</td>\n",
       "      <td>2.197895</td>\n",
       "      <td>1.756619</td>\n",
       "      <td>3.920570</td>\n",
       "      <td>2.774949</td>\n",
       "      <td>1.858452</td>\n",
       "      <td>2.528853</td>\n",
       "      <td>...</td>\n",
       "      <td>45.239308</td>\n",
       "      <td>36.108282</td>\n",
       "      <td>41.352682</td>\n",
       "      <td>43.737271</td>\n",
       "      <td>68.779701</td>\n",
       "      <td>49.456891</td>\n",
       "      <td>62.024779</td>\n",
       "      <td>61.311948</td>\n",
       "      <td>65.699253</td>\n",
       "      <td>69.730143</td>\n",
       "    </tr>\n",
       "    <tr>\n",
       "      <th>Developer, full-stack</th>\n",
       "      <td>0.512442</td>\n",
       "      <td>1.441475</td>\n",
       "      <td>1.692166</td>\n",
       "      <td>1.448848</td>\n",
       "      <td>1.994470</td>\n",
       "      <td>1.725346</td>\n",
       "      <td>2.647005</td>\n",
       "      <td>1.824885</td>\n",
       "      <td>4.173272</td>\n",
       "      <td>2.573272</td>\n",
       "      <td>...</td>\n",
       "      <td>48.247005</td>\n",
       "      <td>36.202765</td>\n",
       "      <td>52.733641</td>\n",
       "      <td>50.226728</td>\n",
       "      <td>48.862673</td>\n",
       "      <td>51.181567</td>\n",
       "      <td>62.046083</td>\n",
       "      <td>73.784332</td>\n",
       "      <td>81.990783</td>\n",
       "      <td>75.395392</td>\n",
       "    </tr>\n",
       "    <tr>\n",
       "      <th>Developer, mobile</th>\n",
       "      <td>0.548408</td>\n",
       "      <td>1.065176</td>\n",
       "      <td>1.497574</td>\n",
       "      <td>1.813963</td>\n",
       "      <td>2.309639</td>\n",
       "      <td>1.497574</td>\n",
       "      <td>2.204176</td>\n",
       "      <td>3.290445</td>\n",
       "      <td>3.374815</td>\n",
       "      <td>3.680658</td>\n",
       "      <td>...</td>\n",
       "      <td>45.074879</td>\n",
       "      <td>31.195950</td>\n",
       "      <td>52.710399</td>\n",
       "      <td>50.348028</td>\n",
       "      <td>41.700063</td>\n",
       "      <td>40.392322</td>\n",
       "      <td>50.284750</td>\n",
       "      <td>60.693946</td>\n",
       "      <td>66.642059</td>\n",
       "      <td>77.747311</td>\n",
       "    </tr>\n",
       "    <tr>\n",
       "      <th>Designer</th>\n",
       "      <td>0.920880</td>\n",
       "      <td>1.541064</td>\n",
       "      <td>1.935726</td>\n",
       "      <td>2.123661</td>\n",
       "      <td>2.236422</td>\n",
       "      <td>2.161248</td>\n",
       "      <td>3.457997</td>\n",
       "      <td>4.021800</td>\n",
       "      <td>4.698365</td>\n",
       "      <td>3.476790</td>\n",
       "      <td>...</td>\n",
       "      <td>34.636347</td>\n",
       "      <td>35.951889</td>\n",
       "      <td>42.022176</td>\n",
       "      <td>55.196392</td>\n",
       "      <td>55.440707</td>\n",
       "      <td>44.747228</td>\n",
       "      <td>58.804736</td>\n",
       "      <td>74.873144</td>\n",
       "      <td>75.981958</td>\n",
       "      <td>72.486375</td>\n",
       "    </tr>\n",
       "    <tr>\n",
       "      <th>Developer, front-end</th>\n",
       "      <td>0.448185</td>\n",
       "      <td>1.043944</td>\n",
       "      <td>1.617840</td>\n",
       "      <td>1.426541</td>\n",
       "      <td>1.841933</td>\n",
       "      <td>1.579580</td>\n",
       "      <td>2.361172</td>\n",
       "      <td>2.104285</td>\n",
       "      <td>5.329034</td>\n",
       "      <td>3.027984</td>\n",
       "      <td>...</td>\n",
       "      <td>45.917140</td>\n",
       "      <td>31.296458</td>\n",
       "      <td>51.470267</td>\n",
       "      <td>50.841714</td>\n",
       "      <td>48.885002</td>\n",
       "      <td>45.419764</td>\n",
       "      <td>56.394840</td>\n",
       "      <td>78.312199</td>\n",
       "      <td>84.012899</td>\n",
       "      <td>75.726935</td>\n",
       "    </tr>\n",
       "  </tbody>\n",
       "</table>\n",
       "<p>5 rows × 103 columns</p>\n",
       "</div>"
      ],
      "text/plain": [
       "                                                  Julia      Chef   Haskell  \\\n",
       "Developer, desktop or enterprise applications  0.721317  1.298371  1.849966   \n",
       "Developer, full-stack                          0.512442  1.441475  1.692166   \n",
       "Developer, mobile                              0.548408  1.065176  1.497574   \n",
       "Designer                                       0.920880  1.541064  1.935726   \n",
       "Developer, front-end                           0.448185  1.043944  1.617840   \n",
       "\n",
       "                                               IBM Cloud or Watson  Couchbase  \\\n",
       "Developer, desktop or enterprise applications             1.451120   2.197895   \n",
       "Developer, full-stack                                     1.448848   1.994470   \n",
       "Developer, mobile                                         1.813963   2.309639   \n",
       "Designer                                                  2.123661   2.236422   \n",
       "Developer, front-end                                      1.426541   1.841933   \n",
       "\n",
       "                                                 Puppet   IBM DB2  \\\n",
       "Developer, desktop or enterprise applications  1.756619  3.920570   \n",
       "Developer, full-stack                          1.725346  2.647005   \n",
       "Developer, mobile                              1.497574  2.204176   \n",
       "Designer                                       2.161248  3.457997   \n",
       "Developer, front-end                           1.579580  2.361172   \n",
       "\n",
       "                                               Unreal Engine    Gatsby  \\\n",
       "Developer, desktop or enterprise applications       2.774949  1.858452   \n",
       "Developer, full-stack                               1.824885  4.173272   \n",
       "Developer, mobile                                   3.290445  3.374815   \n",
       "Designer                                            4.021800  4.698365   \n",
       "Developer, front-end                                2.104285  5.329034   \n",
       "\n",
       "                                               Facebook Workplace  ...  \\\n",
       "Developer, desktop or enterprise applications            2.528853  ...   \n",
       "Developer, full-stack                                    2.573272  ...   \n",
       "Developer, mobile                                        3.680658  ...   \n",
       "Designer                                                 3.476790  ...   \n",
       "Developer, front-end                                     3.027984  ...   \n",
       "\n",
       "                                                    Jira     Python  \\\n",
       "Developer, desktop or enterprise applications  45.239308  36.108282   \n",
       "Developer, full-stack                          48.247005  36.202765   \n",
       "Developer, mobile                              45.074879  31.195950   \n",
       "Designer                                       34.636347  35.951889   \n",
       "Developer, front-end                           45.917140  31.296458   \n",
       "\n",
       "                                                   Slack      MySQL  \\\n",
       "Developer, desktop or enterprise applications  41.352682  43.737271   \n",
       "Developer, full-stack                          52.733641  50.226728   \n",
       "Developer, mobile                              52.710399  50.348028   \n",
       "Designer                                       42.022176  55.196392   \n",
       "Developer, front-end                           51.470267  50.841714   \n",
       "\n",
       "                                                 Windows      Linux  \\\n",
       "Developer, desktop or enterprise applications  68.779701  49.456891   \n",
       "Developer, full-stack                          48.862673  51.181567   \n",
       "Developer, mobile                              41.700063  40.392322   \n",
       "Designer                                       55.440707  44.747228   \n",
       "Developer, front-end                           48.885002  45.419764   \n",
       "\n",
       "                                                     SQL   HTML/CSS  \\\n",
       "Developer, desktop or enterprise applications  62.024779  61.311948   \n",
       "Developer, full-stack                          62.046083  73.784332   \n",
       "Developer, mobile                              50.284750  60.693946   \n",
       "Designer                                       58.804736  74.873144   \n",
       "Developer, front-end                           56.394840  78.312199   \n",
       "\n",
       "                                               JavaScript     Github  \n",
       "Developer, desktop or enterprise applications   65.699253  69.730143  \n",
       "Developer, full-stack                           81.990783  75.395392  \n",
       "Developer, mobile                               66.642059  77.747311  \n",
       "Designer                                        75.981958  72.486375  \n",
       "Developer, front-end                            84.012899  75.726935  \n",
       "\n",
       "[5 rows x 103 columns]"
      ]
     },
     "execution_count": 39,
     "metadata": {},
     "output_type": "execute_result"
    }
   ],
   "source": [
    "df_skills_percentage_sorted.head()"
   ]
  },
  {
   "cell_type": "code",
   "execution_count": 69,
   "metadata": {},
   "outputs": [
    {
     "data": {
      "application/vnd.plotly.v1+json": {
       "config": {
        "plotlyServerURL": "https://plot.ly"
       },
       "data": [
        {
         "coloraxis": "coloraxis",
         "hovertemplate": "x: %{x}<br>y: %{y}<br>color: %{z}<extra></extra>",
         "name": "0",
         "type": "heatmap",
         "x": [
          "MongoDB",
          "Gitlab",
          "Oracle",
          "Node.js",
          "Microsoft Teams",
          "Rust",
          "Java",
          "MariaDB",
          "HTML/CSS",
          "Microsoft Azure",
          "Microsoft Azure",
          "Firebase",
          "Drupal",
          "IBM DB2",
          "jQuery",
          "Ruby on Rails",
          "Cordova",
          "Microsoft SQL Server",
          "Stack Overflow for Teams",
          "ASP.NET Core",
          "Hadoop",
          "React Native",
          "IBM Cloud or Watson",
          "Spring",
          "Laravel",
          "VBA",
          "Cassandra",
          "Trello",
          "iOS",
          "AWS",
          "Torch/PyTorch",
          "Docker",
          "MacOS",
          "Apache Spark",
          "Scala",
          "Google Cloud Platform",
          "Objective-C",
          "Flutter",
          "Google Suite (Docs, Meet, etc)",
          "R",
          "Swift",
          "Go",
          "Django",
          "C#",
          "Kubernetes",
          "Unity 3D",
          "Arduino",
          "TensorFlow",
          "Pandas",
          "Teraform",
          "Chef",
          "Symfony",
          "Kotlin",
          "Redis",
          "Puppet",
          "Dart",
          "C",
          "Gatsby",
          "Flask",
          "C++",
          "Ansible",
          "Julia",
          "Microsoft Azure",
          "Microsoft Azure",
          "JavaScript",
          "PHP",
          "Angular",
          "WordPress",
          "Unreal Engine",
          "Keras",
          "Slack Apps and Integrations",
          "Express",
          "Bash/Shell/PowerShell",
          "TypeScript",
          "DynamoDB",
          "Raspberry Pi",
          "Android",
          "Perl",
          "Ruby",
          "Xamarin",
          "Windows",
          "Facebook Workplace",
          "Linux",
          "Angular.js",
          "Python",
          "Confluence",
          ".NET",
          "Assembly",
          "Vue.js",
          "Couchbase",
          "Slack",
          "React.js",
          "Haskell",
          "Elasticsearch",
          "Jira",
          "PostgreSQL",
          "Github",
          ".NET Core",
          "ASP.NET",
          "MySQL",
          "SQLite",
          "SQL",
          "Heroku"
         ],
         "xaxis": "x",
         "y": [
          "Developer, desktop or enterprise applications",
          "Developer, full-stack",
          "Developer, mobile",
          "Designer",
          "Developer, front-end",
          "Developer, back-end",
          "Developer, QA or test",
          "DevOps specialist",
          "Developer, game or graphics",
          "Database administrator",
          "Developer, embedded applications or devices",
          "Engineer, data",
          "Educator",
          "System administrator",
          "Engineering manager",
          "Product manager",
          "Data or business analyst",
          "Academic researcher",
          "Data scientist or machine learning specialist",
          "Scientist",
          "Senior executive/VP",
          "Engineer, site reliability",
          "Marketing or sales professional"
         ],
         "yaxis": "y",
         "z": [
          [
           -1.63856441346488,
           -0.9882543880683425,
           1.819556392419731,
           -0.7061918056421099,
           2.0275754573944176,
           -0.439156754118351,
           0.721009666030087,
           -1.0599492693591122,
           -0.25528099713818525,
           1.6176654449872672,
           0.8363652758898679,
           -0.8874809714701053,
           -1.1964575154784765,
           0.25142686018305804,
           -0.08305185254284178,
           -1.6204995936987994,
           -0.49471078330844137,
           1.9408834688890693,
           -1.073725633417052,
           2.3049225722748417,
           -0.7350944321851812,
           -0.9007058856133688,
           -1.050805625372056,
           1.2105668365995188,
           -1.3288359859816536,
           0.28287906736449886,
           -0.9345252169674952,
           -1.5383083642414346,
           -0.4014806880744745,
           -1.0712584611001097,
           -0.6899992603439866,
           -0.6412643159950271,
           -1.6003159350165794,
           -0.7550229609973858,
           -0.6993229559748341,
           -1.6967979262937656,
           -0.40374369695592194,
           -0.7393050975427455,
           -1.8969435882853067,
           -0.7100637781750536,
           -0.43754134124911664,
           -0.6858700098146846,
           -1.8504808641864186,
           2.2978729183169833,
           -0.5682135449485828,
           -0.1338033334682438,
           -0.5554045131481996,
           -0.7234567906536309,
           -0.6998138888997937,
           -0.6484511882975063,
           -0.8517981166964489,
           -1.4001252237453028,
           -0.4542098984540094,
           -0.7941579981560798,
           -0.8114994497466842,
           -0.659610129995983,
           -0.08326111889993097,
           -1.275615133163807,
           -1.1328350380338807,
           0.29484765484397063,
           -0.716972777177872,
           -0.8458580363506254,
           1.6176654449872672,
           0.8363652758898679,
           -0.14902308635661396,
           -1.113972253328594,
           0.6360179143067636,
           -0.925651295690492,
           -0.32418043808442304,
           -0.6211864824086997,
           -1.2227708606187364,
           -1.050776549708286,
           -0.4627259732795109,
           0.3939104521110068,
           -0.8759779597615707,
           -0.7344820819629704,
           -0.18451914569758435,
           -0.9419440473207829,
           -1.3760680686990134,
           1.1471556006717916,
           2.525875030652393,
           -0.8989442024167296,
           -0.801574384243519,
           0.12652533961020002,
           -0.9814905238253047,
           0.2100885099968081,
           2.9014122150982797,
           -0.4390487449982483,
           -1.093083243785931,
           -0.7831238835831079,
           -1.4346181323722285,
           -0.7825209073374059,
           -1.0198180746568855,
           -0.6608184659928327,
           0.16353162224495843,
           -0.982781754522048,
           -1.7522934054915316,
           2.485129558313635,
           2.3284215940865396,
           -1.365881086345262,
           -0.23216099327126086,
           0.2526327888030136,
           -1.7200572638548044
          ],
          [
           0.8924221307076025,
           -0.24804199894795498,
           -0.3258333113790528,
           1.3894939010985319,
           0.2811648767616504,
           -0.8530599425626105,
           -0.25218274791617257,
           -0.5317649934641898,
           1.181562721341351,
           0.14569746086585542,
           0.022461864589379654,
           -0.17523735465998277,
           -0.7338369630637899,
           -1.1748704648212667,
           0.9685666149576895,
           0.11325845827002812,
           -0.2552682634035322,
           0.3024856411920748,
           -1.1124041536471079,
           1.0730212749338306,
           -0.8297172463280457,
           0.1461808709904141,
           -1.0525063081887462,
           1.1660514114639828,
           0.25490448370366225,
           -1.1215454337145279,
           -0.8871276438990021,
           0.11051484062230076,
           -0.5301514508237182,
           -0.03450138347614288,
           -0.721868494877489,
           0.1441498793954312,
           -0.3270501186092072,
           -0.7687941332464802,
           -0.6436078609838733,
           -0.8911856414247749,
           -0.9954005478426402,
           -0.5549624875021679,
           -0.7226147102857324,
           -0.7608331768163773,
           -0.696727864088616,
           -0.42952455123416833,
           -0.7559833971406746,
           0.36156756493636627,
           -0.22908453744831989,
           -0.4286721269623342,
           -1.289950887412739,
           -0.7373500142603641,
           -0.6459473516603101,
           -0.3634692435617573,
           -0.7630998347472594,
           -0.38639027952653215,
           -0.5200015393193347,
           0.19363879222206862,
           -0.829346331720507,
           -0.5501107042476487,
           -1.2459349119431704,
           0.24958643406640976,
           -0.638015847537135,
           -1.1558932604531549,
           -0.502985274457706,
           -0.9986869519588372,
           0.14569746086585542,
           0.022461864589379654,
           1.6328742525126445,
           0.04140492580016189,
           1.7413095812790782,
           -0.4121056431171265,
           -0.6581363087016707,
           -0.6146629592930097,
           -0.4868233710840253,
           1.5330300384104696,
           -0.7723413853107183,
           1.7706789190588552,
           -0.19643627079320267,
           -1.2186306601902612,
           -0.5377616595589204,
           -1.3776397996931304,
           -0.16734318089156566,
           -0.6565701933922728,
           -0.3413513974819931,
           -0.8735861024831534,
           -0.6151750436160353,
           1.135784147232188,
           -0.9734436943084728,
           0.28519113394869333,
           0.25647122852205556,
           -1.4944689247376166,
           1.1161246186534837,
           -0.9825737953962002,
           0.4403171541383898,
           1.7172116524436876,
           -1.1865004697799975,
           -0.14099789679548302,
           0.5279327590318444,
           0.061092305822748064,
           0.09736947409908495,
           0.5820316854862334,
           0.8684345745677408,
           -0.047589852271261716,
           -1.6233643151261994,
           0.2552140916828318,
           0.9093000299900261
          ],
          [
           0.10774994606363597,
           0.06124908580292619,
           -1.2656907119404373,
           0.38734444294020637,
           -0.9216086269494853,
           -1.344873763290719,
           2.865545125398039,
           -0.8294220182418315,
           -0.32647607146741536,
           -0.4141111902080732,
           -0.8909936814937455,
           3.539654533776863,
           -0.904771558751678,
           -1.6708046788932285,
           -0.3452991341442507,
           -0.7122463895893276,
           2.6867210925000395,
           -0.7640354955786312,
           0.0313667819298061,
           -0.09726740130734328,
           -0.9553416815940134,
           3.0221795712110153,
           -0.7792313233506681,
           -0.016304586564683192,
           0.21824777720839256,
           -1.2468372953432585,
           -1.1855671928494862,
           1.2030889912339595,
           3.4758118675965224,
           -0.7463402800124909,
           -0.6893547804844476,
           -0.9966362622738437,
           0.6808136527426109,
           -0.9351435157965797,
           -1.0488225432726344,
           -0.22689760967154188,
           3.1897930246580843,
           3.4997398901843475,
           -0.426467606096295,
           -0.8088547822586958,
           3.872021724634795,
           -0.7855400738010245,
           -1.3095589758721982,
           0.06640758747160018,
           -0.8795630425903007,
           0.20746877596842678,
           -0.15551374592780018,
           -0.5663887870577935,
           -0.8283531002561955,
           -0.7230384593835897,
           -0.9963360639938607,
           -0.8589094710781551,
           4.121547315060911,
           -0.7139675788807182,
           -0.959328714988072,
           3.2600490446623644,
           -0.5448572605047672,
           -0.2765050803369107,
           -1.191896468578547,
           -0.39079833881189036,
           -0.9298207529357483,
           -0.9723720816244809,
           -0.4141111902080732,
           -0.8909936814937455,
           -0.04590309475038798,
           -0.09656344908323305,
           0.7019504059805798,
           -0.28723980824304085,
           -0.14297911601728958,
           -0.5903060664013283,
           -0.5723260802912361,
           0.9082820232072706,
           -1.5924012518325685,
           0.6498714745010795,
           -0.5991918521800593,
           -0.9507152385165659,
           3.742355049216415,
           -1.627141936367287,
           -0.7006066771615864,
           2.670438675601567,
           -1.3724702398351334,
           -0.24139990857358273,
           -1.7812537298625857,
           0.0765526613997281,
           -1.3998608522228517,
           -0.29639650403100054,
           -0.28693506356757265,
           -0.9426921874673808,
           -0.3944728034244467,
           -0.6735638018095759,
           0.4364882093103133,
           0.7052246970926307,
           -1.3920451648335126,
           -0.8946591408639151,
           0.14361005209398225,
           -1.2262304845665513,
           0.8652540177243719,
           -0.17507716159408895,
           -0.10229935003908099,
           -0.022948596906679355,
           2.9513524742076944,
           -1.169877458288512,
           0.2910359553732768
          ],
          [
           -0.6642994162697046,
           -1.209933618909708,
           -0.145204429146398,
           0.5512940546814826,
           -0.4754790981666719,
           -1.2742358345890576,
           -0.4703978156981853,
           -0.21205084603495103,
           1.3069960995854744,
           -0.567347983785692,
           -1.1876253752790966,
           0.6307477832201078,
           0.3717330875114751,
           -0.26662068045283194,
           1.5461927386900876,
           -0.6581468848868605,
           0.3066305492665933,
           -0.023587407684080137,
           1.0289301873622507,
           -0.40176387909329,
           -0.7819291394673047,
           0.26575405328671253,
           -0.5474343856443418,
           -1.0657593151050755,
           0.8057282755099437,
           0.0904463832176005,
           -1.026116317039055,
           -0.3037018298372642,
           0.10907815004879719,
           -1.1122516899902228,
           -0.6147541636964517,
           -1.3166533663491469,
           -1.045751296819164,
           -0.7563524244722092,
           -1.18831864774597,
           -0.8073057673121994,
           -0.16785714593646756,
           0.21743461780721451,
           -0.731336715198245,
           -0.5830393533621574,
           0.04367847776263261,
           -0.952058562555766,
           -0.9593302037284162,
           0.19473363740271257,
           -0.9325116406516393,
           0.11744897074862488,
           -0.2786535110802398,
           -0.6916237844712382,
           -0.7398039930515657,
           -0.8198315896281763,
           -0.7013728444936683,
           -0.5096514065609488,
           -0.39018773046735244,
           -1.0585059379887969,
           -0.5805896956525362,
           -0.0067487258703311966,
           -0.13071215619386356,
           0.5955627406959202,
           -1.1100243947017039,
           -0.19365825221708013,
           -0.8038958790987553,
           -0.6998426129959127,
           -0.567347983785692,
           -1.1876253752790966,
           0.9756548636709055,
           1.130429567407104,
           0.7735211093670247,
           1.1770220743212039,
           0.11409866094441445,
           -0.7014295535302835,
           -0.9409255607105883,
           0.4904889447202981,
           -1.1514874227263088,
           0.32758573829307047,
           -0.9312059755361309,
           -0.8436103069525416,
           0.1868238210335661,
           -0.7101569946434766,
           -0.7957047874334883,
           -0.05498844485569188,
           0.6056127765467717,
           -0.3577843664842707,
           -1.3105847529750128,
           1.1304993419445255,
           -0.99481015902061,
           -1.287784400090258,
           0.22694951678905548,
           -0.3329501978879448,
           0.8763010584066283,
           -0.7453505194662589,
           -1.3243234545696543,
           0.49718966551902766,
           -0.929230496015008,
           -1.0101631585162374,
           -1.1210827995644868,
           -1.4910577361158486,
           -0.8524035299726901,
           -0.34007368029736196,
           0.42524188395205154,
           0.961965130638634,
           -0.6773730057786638,
           -0.13753188848515652,
           0.3802365698680957
          ],
          [
           0.7958903630300515,
           -0.2739166787625251,
           -0.8172232253415956,
           1.7002615320621257,
           -0.1685524036808222,
           -1.1426995090906507,
           -1.004035016287044,
           -0.6318358094795624,
           1.7031821986197966,
           -0.36968757778939226,
           -0.7346315955284561,
           0.47031118553286705,
           -0.459861495690931,
           -1.4949815714209405,
           1.2023981793026997,
           -0.4362798685490129,
           0.39446276287331283,
           -0.24478043140444236,
           -0.5993895687341634,
           0.3097313571134402,
           -1.0140407435060421,
           0.8064291495766319,
           -1.0692019551214271,
           -0.14757083014447206,
           0.3682151062066598,
           -0.9378107596613239,
           -1.2821003992881266,
           0.3773088158042092,
           -0.16463205722127294,
           -0.6240954884042554,
           -0.8182229537567126,
           -0.47516200586250174,
           -0.25791148151299853,
           -0.9648695230879832,
           -1.0151892868134795,
           -1.0223113552761838,
           -0.6725716792197096,
           -0.306126935421024,
           -0.6591788314413439,
           -0.8106347051587445,
           -0.4057304914249124,
           -0.7581089711791009,
           -1.2483573195568467,
           -0.00522911472871553,
           -0.6434916587380528,
           -0.3071851600092834,
           -1.1822802083145383,
           -0.8397487815974338,
           -0.8218247224004871,
           -0.6543262940659105,
           -1.0094960755172,
           -0.4247211117984217,
           -0.5180902990881168,
           -0.4022128120375241,
           -0.9125303619578699,
           -0.30021378067536675,
           -1.2111195565508457,
           1.0111013106475797,
           -1.1168832199565304,
           -1.1807385756365896,
           -0.7653578988173736,
           -1.0457023653465787,
           -0.36968757778939226,
           -0.7346315955284561,
           1.8540445377664525,
           0.3698272220927018,
           2.160494820409646,
           0.12067544718875776,
           -0.5599246715157874,
           -0.7079828908945824,
           -0.5959870059622313,
           1.8519006152447597,
           -1.2483849301335914,
           2.0456700637730476,
           -0.6318872147432953,
           -1.4284499348563915,
           -0.20865630616188435,
           -1.521820474447956,
           -0.6365732795568846,
           -0.5292121275125666,
           -0.33813689312986034,
           -0.6139992643324926,
           -1.2378984960233963,
           1.6644297140502295,
           -1.391300850174468,
           -0.10935286075169608,
           -0.11221381645507066,
           -1.4476283236376843,
           1.5537390025201554,
           -1.1321301773646606,
           0.2321849413381001,
           2.3733779784987097,
           -1.265010053441752,
           -0.6145664253262085,
           0.24565526875992613,
           -0.7156472224483192,
           0.2056159133202456,
           -0.0016058942431182663,
           0.3815872596498835,
           0.07734055793185256,
           -1.7527749166970987,
           -0.42953295794467067,
           0.9145630917989266
          ],
          [
           -0.05825822833144959,
           0.06922832635335607,
           0.040086128674426,
           -0.11528503019380304,
           -0.0007540039527670241,
           -0.41759617473238253,
           0.5031753604393114,
           -0.4696962818464287,
           -0.2464031948167877,
           -0.3322303560650201,
           -0.40222741250588934,
           -0.7341852631479567,
           -0.9498203947242578,
           -1.0668036561237288,
           -0.06432188127629353,
           -0.31592048663946476,
           -1.0221919038104212,
           -0.003272424101805912,
           -1.0770665797284862,
           0.4737712522498946,
           -0.5248018044055891,
           -0.7229595583468483,
           -1.0648550884141939,
           1.7145515287944324,
           -0.051168800738484274,
           -1.1404717958753505,
           -0.32214824753799903,
           -0.4193728321918939,
           -0.8026671475883957,
           -0.04679345127621815,
           -0.645993635446347,
           0.34497783437229285,
           -0.5160281920444794,
           -0.4684403684792388,
           -0.043690479171038375,
           -0.9263341683861027,
           -1.010861074141734,
           -0.9041670956329863,
           -0.8279445271568265,
           -0.7187108731647674,
           -0.7800493424719541,
           -0.047546559441794124,
           -0.5440817833211201,
           0.05703653974131501,
           0.017889036398258625,
           -0.46365647196034143,
           -1.2527533348433504,
           -0.660870720232154,
           -0.5127089510914017,
           -0.16499140921455935,
           -0.6617654426169984,
           -0.33940637077067254,
           -0.3353838951322935,
           0.30910296256931835,
           -0.6800705254963816,
           -0.8124562545348721,
           -0.8676450383217279,
           -0.7529672821880399,
           -0.40681971677627515,
           -0.7902730868723309,
           -0.26677455838806285,
           -0.9624841583926043,
           -0.3322303560650201,
           -0.40222741250588934,
           0.25485204093466035,
           -0.2663731414662548,
           0.2550477706009255,
           -0.7365527663090375,
           -0.6747636869884557,
           -0.538122795405819,
           -0.5117713679629426,
           -0.0893624350997277,
           -0.519501256982442,
           0.32269878896512255,
           -0.08701707803109572,
           -1.1687633465001037,
           -0.7262821694052023,
           -1.040693820744893,
           -0.35271919346327424,
           -0.8715990802457462,
           -0.4414522601905721,
           -0.7701164051414271,
           -0.11928897796408111,
           -0.5486168280702572,
           -0.6613663565398269,
           0.5849117595302004,
           -0.021356398930998458,
           -1.1661249564421348,
           -0.16560072346152094,
           -0.9179528630730575,
           0.27373725972410645,
           0.026354045659640297,
           -0.8596320921379137,
           0.12926898043263485,
           0.7296397534749715,
           0.20217260904433879,
           -0.26195154284451533,
           0.2299011733149527,
           0.22095511978924842,
           -0.2160058414879612,
           -1.4512054904692577,
           0.17381830738861515,
           -0.2682803040881702
          ],
          [
           -0.1360314087615296,
           0.3556359608894402,
           1.0788348390381532,
           0.3664889969234792,
           1.1243070344203654,
           -0.5593880568902634,
           1.3715524125132736,
           0.013336692658197567,
           0.42775107759776587,
           0.4755984060822202,
           0.17679267805289334,
           -0.02415901598327588,
           0.17101702764888468,
           0.031672305559512746,
           0.3996183145438262,
           -0.04647488379089574,
           0.0206587413849828,
           0.3924830975977499,
           0.49087988009035627,
           0.47956576038723187,
           -0.5308488755773265,
           -0.3646057143983469,
           -0.3164844264307869,
           1.0557227850034228,
           0.24925340272053195,
           -0.0821162440957721,
           -0.50108930490507,
           -0.030041137269428014,
           -0.011249579191917162,
           -0.20229004341541718,
           -0.5713142584345375,
           0.12903677364837488,
           0.1841298530280733,
           -0.5151135250541865,
           -0.3998349981990703,
           -0.701470071157917,
           -0.19095330328174068,
           -0.4432398788963805,
           -0.13898794214128427,
           -0.6440088120689498,
           -0.18506306523484153,
           -0.2471388433981481,
           -0.5729398797283982,
           0.6181931513418076,
           -0.1029140822017132,
           -0.12216317443215098,
           -0.55770641120502,
           -0.6028505790545716,
           -0.5498120816444604,
           -0.2064539520454366,
           -0.11760768360267691,
           0.1507046958618474,
           0.16032273331754596,
           -0.2794708249580323,
           0.02225867197360148,
           -0.42407933585543073,
           -0.2644468731257968,
           -0.5136165395106329,
           -0.5123338685973243,
           -0.2785586425034176,
           -0.1474563545869613,
           -0.3726011165171514,
           0.4755984060822202,
           0.17679267805289334,
           0.4906888412558776,
           0.1155238476973954,
           0.6134054418282809,
           -0.21194468442545836,
           -0.1863843968010492,
           -0.586507130546268,
           0.40443054084370555,
           -0.09344548126086132,
           0.24302518720368194,
           0.3156517663133605,
           -0.1659724407429732,
           -0.5382927657662785,
           -0.012192729625622765,
           0.23306494956360876,
           0.27052468736273866,
           -0.07457151635166535,
           0.7360227653824639,
           -0.2164583756850206,
           -0.06242648614248634,
           1.2125019424092358,
           -0.29142114704420063,
           1.071372794462714,
           0.6074957221016084,
           -0.392339650470253,
           0.12955304960894748,
           -0.4043284007654947,
           0.20909740806360666,
           -0.02703933503964947,
           -0.5653536274089623,
           -0.004171571044384622,
           1.1347596313714328,
           -0.36912297272626465,
           -0.09996641675379489,
           0.5679608480271621,
           0.5628623095100578,
           0.4184567142748769,
           -0.22073729437924877,
           0.41804305850730655,
           -0.574080996442392
          ],
          [
           1.709217577959385,
           1.8562167376121865,
           0.08745500428902796,
           0.7923566350238392,
           2.0506106155354655,
           0.484065671440746,
           0.15425450005633431,
           0.8646967219429352,
           -0.09453124190500195,
           2.476195350100466,
           2.4075060546711193,
           -0.6927449156438615,
           -0.19430203112262914,
           -0.030361801454797676,
           -0.35770129638606424,
           0.41268413435900436,
           -0.404287715732711,
           0.47590523121543066,
           -1.2975229257068295,
           1.4845365001563156,
           -0.07317434003333234,
           -0.44973578777287077,
           -0.30619768320208274,
           1.700865455692971,
           -0.489692050408716,
           -1.088131013005018,
           0.8620741740891256,
           0.2464898677832369,
           -0.5877611694035085,
           1.7216741206118322,
           -0.5479081279754205,
           2.496107872044431,
           0.8586780025218538,
           -0.11985001391967817,
           0.2807540265557155,
           0.7220824178690839,
           -0.7604441807521577,
           -0.6880331552727819,
           0.1579028273690748,
           -0.6130093232725023,
           -0.6812987304514313,
           1.682135801266963,
           0.37190940351094204,
           0.20044602396058103,
           2.2868336005988055,
           -0.47544015895242364,
           -0.8460870252728949,
           -0.45968970115469887,
           -0.3478395035019957,
           2.0506738193946052,
           1.6143887972739113,
           0.3820359060347685,
           -0.040598657169197416,
           1.7734599426393332,
           1.4462052984916234,
           -0.6236206023369949,
           -0.8125612884451843,
           0.060800079779662064,
           0.627626267019653,
           -0.9104139678655216,
           2.3110002534003913,
           -0.6504099266060405,
           2.476195350100466,
           2.4075060546711193,
           0.35380745622366827,
           -0.49212186320264284,
           0.9077955995033574,
           -0.5790417337935665,
           -0.5752639544090337,
           -0.4207131938492996,
           1.4972938582573365,
           0.5463178003399145,
           2.105516386961418,
           0.9895443653206808,
           1.6942426587416952,
           0.47644943329418266,
           -0.8276058824698941,
           0.4710519064597143,
           1.2268787705865138,
           -0.5207809208725797,
           -0.8034777157855277,
           -0.3724136181428802,
           1.4996175304924069,
           0.39162953622570423,
           0.3521606215748445,
           2.0226580921273505,
           0.15432582016879215,
           -0.9536353425074214,
           0.678265062197839,
           0.527781786562296,
           1.5038172589112455,
           0.454588152309022,
           -0.3548729705483387,
           1.8433049296727877,
           1.8353729225209967,
           1.4322773195573555,
           0.8612229050822956,
           1.0889278270590317,
           0.47685861095609605,
           -0.41185761271237165,
           -0.6807821627994836,
           0.3779635678865154,
           -0.39210304011852665
          ],
          [
           -0.05834981146493397,
           0.7981117290737028,
           -0.8985237387223552,
           0.4502073110409774,
           -0.5769775447853527,
           1.92420086036907,
           0.8795228538366745,
           -0.3013748435569809,
           -0.12306196570305437,
           -0.7236089918662022,
           -1.124819255710409,
           0.697482882220056,
           -0.3408059480051379,
           -1.2079967189525271,
           -0.25934550137630685,
           -0.38408085384192653,
           0.6763667065989027,
           -0.975813163262665,
           -0.30406269915176715,
           -0.01892933765590177,
           -0.6086139193675574,
           0.6238829570158769,
           -0.4193962416586616,
           -1.04395004778862,
           -0.3537476445812541,
           -0.5321335864416356,
           -0.9702501829814429,
           1.2513308471809232,
           1.3924208934874982,
           -0.8887301402545704,
           -0.34532082213481946,
           -0.629371671848994,
           0.2300030821774718,
           -0.6628867629136938,
           -0.6128790955185082,
           -0.6015504575799758,
           1.4485872728502844,
           0.7575162771080656,
           0.15703172086105738,
           -0.6268665002679702,
           0.6904395737587022,
           -0.2092835309381164,
           -0.9119261452795059,
           2.5826190620678697,
           -0.5994635337326334,
           4.578863713652794,
           1.158876164875327,
           -0.23774181921894214,
           -0.6397679382309419,
           -0.4960019415365297,
           -0.41202712850419887,
           -0.12190707139329737,
           0.5674262972814623,
           -0.5800563018563996,
           -0.4430313323605931,
           0.5800575749241338,
           1.0797643960916605,
           -0.04318070858934757,
           -0.7133937530736522,
           2.0611037392268394,
           -0.6558279926045162,
           -0.3504876427936672,
           -0.7236089918662022,
           -1.124819255710409,
           0.018228097722477004,
           0.04960978138376465,
           -0.27460958183159856,
           -0.23223962033255957,
           4.3593254841124525,
           -0.34299594761158936,
           -0.5984352651423839,
           0.41982292966855805,
           -0.5606434434921687,
           0.3590044064889955,
           -0.42452265160952807,
           0.19678179802587847,
           1.6511686039312201,
           -0.8499908047769706,
           -0.3359415883558287,
           0.9532576686180823,
           1.8741342381759263,
           -0.1114942801790123,
           -0.4270517101701244,
           -0.5124141710753845,
           -0.3220771706699934,
           -0.14613936336849967,
           1.4908297154317531,
           1.4588083195591648,
           0.4700724440694868,
           0.014906293633239708,
           -0.10749515502502753,
           0.18002199989900564,
           0.35894048550707547,
           -0.8572942688541886,
           -0.18714057489300018,
           -1.2604535782854396,
           1.422802813522511,
           1.3439070735417478,
           -0.0807458022824563,
           -0.49061206731694823,
           0.41604411478969466,
           -1.2934417369586793,
           0.12374017154306372
          ],
          [
           -0.44488934238540606,
           -0.6359632170175924,
           1.041554851995505,
           0.056733635917369615,
           0.2301864617634233,
           -0.839471368328434,
           -0.6810409187964099,
           1.8445165535035979,
           1.099138586835252,
           0.4598418438136914,
           0.5198600097722934,
           -0.36706503714849775,
           0.2585990307135842,
           0.38187534472808976,
           1.8486789455654433,
           -0.5381360288570771,
           0.19403267513746678,
           2.08039671757091,
           -0.15648657669082358,
           0.9582898420755575,
           -0.351055803097797,
           -0.35034789774106767,
           -0.5541823222925858,
           -0.923450741592449,
           1.7993581546176163,
           1.3709888844856803,
           -0.3868816463293475,
           -0.5243600284966566,
           -0.25752325352995037,
           -0.05004028717372624,
           -0.5197771724528161,
           -0.35782804031179194,
           -1.1413905863020823,
           -0.37898473157819756,
           -0.7051856213232475,
           -0.4125367597718,
           -0.3647981270459201,
           -0.3981435399395961,
           -0.5998677758356685,
           -0.31965035069801406,
           -0.39203115856535004,
           -0.2708568589525472,
           -0.20726876473836198,
           0.8809708282428956,
           -0.3821652136348671,
           -0.2934904116802609,
           -0.2854122165661897,
           -0.5912098044762153,
           -0.4133237800896815,
           -0.2561047325662189,
           -0.24836769655235857,
           0.9531839842361756,
           -0.655213347210397,
           0.07082164831106559,
           -0.15838719002457186,
           -0.3856614019367326,
           -0.5905184989983919,
           -0.6692449218285871,
           -0.32975087526845426,
           -0.6434365033303976,
           -0.01203175031716883,
           -0.6959134824907673,
           0.4598418438136914,
           0.5198600097722934,
           0.7889254977087342,
           1.630906036544241,
           -0.024720709841984826,
           0.5605590545138306,
           -0.35970349864252793,
           -0.5784660604939142,
           -0.24001599044765945,
           -0.20429118071683683,
           0.36011950825411737,
           -0.2319595913590223,
           -0.39158640940934003,
           -0.12305107375073567,
           -0.1976577966066183,
           0.4121783971306734,
           -0.5624395001614865,
           0.46665050722154083,
           1.1281172984415881,
           -0.6265827924956431,
           -0.004350390838022557,
           0.7150568714156166,
           -0.4592278850883905,
           -0.9581541881261973,
           1.2327971378976414,
           -0.3978935703202966,
           0.6258890200781249,
           -0.350701077527405,
           -1.0349977255106702,
           -0.5446020279174297,
           -0.8510013705049211,
           -0.06384667474947407,
           -0.8138342212011194,
           0.23845393651759728,
           -1.2499370786263861,
           0.7527820869063676,
           1.897742132401901,
           1.8163695867161802,
           0.030063465878749515,
           2.43996303251951,
           -0.9112449781931663
          ],
          [
           -1.4210526629807174,
           0.4530173209503459,
           -0.22117090173860068,
           -0.662386923014762,
           0.5706906709284532,
           1.2940800080865165,
           0.4989625040149589,
           -0.4506829173353385,
           -1.0855056704704258,
           -0.13272008250766695,
           -0.6453764496233609,
           -0.11698960316908573,
           -0.8073424344366127,
           -0.22547440403695232,
           -0.8642236338379458,
           -0.8706502464414412,
           0.4899573639125323,
           -0.3710290542682915,
           -0.18087346855367223,
           0.056696040323863134,
           -0.5937379046534437,
           -0.33796107886543086,
           -0.3563622123316164,
           -0.5926304809705375,
           -0.880686213214107,
           0.07960779567257449,
           -0.39083337325935985,
           -1.4945673545261242,
           0.4695028826847246,
           -0.8721846845869079,
           -0.2527092761114452,
           -0.3522756394099578,
           -0.7705912668174338,
           -0.5825605796237386,
           -0.665277426642036,
           -0.9452959450731612,
           0.9268034535566922,
           0.3436027388112135,
           -1.120215412295337,
           -0.5996917883629822,
           0.5432798135021216,
           -0.12003581370436436,
           -0.8007961829117195,
           0.6154220096210046,
           -0.5821497215834673,
           0.06210170173624915,
           3.516807318770595,
           -0.1057699350795273,
           -0.48081376136427945,
           -0.6099401052038163,
           -0.5213065595501166,
           -0.7910830329211879,
           0.32105743001505327,
           -0.6505996189075581,
           -0.5764961797066562,
           0.3563806629445746,
           3.356250543999909,
           -0.8633118972679769,
           -0.46815529382286836,
           2.6567251141353108,
           -0.438601512109535,
           -0.44940517462337704,
           -0.13272008250766695,
           -0.6453764496233609,
           -0.9496865830673887,
           -0.69032657104648,
           -0.23048220472379677,
           -0.7106279433017386,
           0.03243379270554647,
           -0.2508933501126542,
           -0.7242922701140974,
           -0.9711526917703581,
           0.4249702387181163,
           -0.4960132162913369,
           -0.508836473273439,
           3.114449541513505,
           0.9235063779152175,
           0.09381409831684859,
           -0.6651475748001789,
           1.3480250998429633,
           0.7558340779235321,
           -0.4316687838133754,
           0.7156062811356632,
           -0.029153193917818756,
           0.22493924611210103,
           0.17672576220013705,
           0.7780381275954887,
           2.717418802061239,
           -0.9534227511155716,
           -0.19278611880742247,
           -1.2308650807436166,
           -1.071045355992324,
           0.050404196416529254,
           -0.8230618111956887,
           0.27354882508233963,
           -0.8600217064873945,
           -0.6950188949954577,
           0.5390893163623524,
           0.041315242953484876,
           -1.1029507790418405,
           1.7283918765415538,
           -1.2579487149933668,
           -1.5505914927876916
          ],
          [
           0.938959856859071,
           -0.018324625769886017,
           1.2659178194818947,
           -0.9789011830358709,
           0.5396034187926904,
           -0.20849779443754815,
           0.6511265041320327,
           -0.6538202650784938,
           -1.2594944219448905,
           -0.19671830418275202,
           0.22400461239163194,
           -0.6324449698186146,
           -0.6260936933527673,
           0.7142895257226135,
           -1.0184700359377246,
           -0.50113944121986,
           -1.1344364901092283,
           0.2478234609541258,
           0.3087200789052034,
           -1.0262372052695798,
           3.0714797320542098,
           -0.9027678245496406,
           0.3058994653763824,
           0.789545814281924,
           -0.9826140333766025,
           0.6162371937160916,
           1.8051818186060944,
           -0.5758151132080552,
           -0.8852742834337363,
           0.8148077328723055,
           0.7646054983762579,
           0.6749798179082577,
           0.05765254397943109,
           3.1144459444353774,
           3.304331009700807,
           0.9417646924895482,
           -0.6609761925240393,
           -0.8226209311229561,
           -0.0403702130928247,
           0.8010055736278384,
           -0.7552007594744646,
           0.08083226755934576,
           1.4811456330669766,
           -0.8982208516727304,
           0.6263415700686198,
           -0.3810776080239266,
           0.09596702992414644,
           0.8368483238512785,
           1.6690529716708766,
           0.40748928549017305,
           -0.1973770767235543,
           -0.4460239698136893,
           -0.5171210514042341,
           0.32694039150963217,
           -0.2109429757771199,
           -0.8991695416499988,
           -0.06927497553109158,
           -0.666946859833337,
           2.0148182275408195,
           -0.23288937162168918,
           0.06360246621607539,
           0.27058989717502435,
           -0.19671830418275202,
           0.22400461239163194,
           -1.1112192387060134,
           -1.0033219035385097,
           -1.1108304781471172,
           -0.8168004465229658,
           -0.3498298228955362,
           0.825182696725081,
           0.4196936865665854,
           -0.8685833617986671,
           0.41600443559436534,
           -1.1269208326365683,
           0.5875797738862575,
           0.16306445383624454,
           -0.7972683316355096,
           0.16654850700828508,
           -0.4208444554346189,
           -0.8615631631227033,
           -0.24694536236324627,
           0.00932669528775544,
           0.6449616768335288,
           -0.845599742846715,
           1.4866593632843215,
           0.6758113375330175,
           -0.9991312117645479,
           -0.24251800152055075,
           -0.9658916498279777,
           0.49799295858643444,
           0.3557706587578084,
           -0.8273558553739503,
           0.021444102618120457,
           0.7858214298749256,
           0.6528065114276754,
           1.2780786074868127,
           0.06872281741649451,
           -0.9708357347261448,
           -1.0636343930990528,
           -0.15886281599717147,
           -0.08343722419378534,
           0.8766673935370645,
           -0.6584489039821093
          ],
          [
           0.5991088382923163,
           0.9594034573223261,
           0.1075452223792108,
           0.1964028408659654,
           -1.0660393865095261,
           -0.29816904966995467,
           0.538758378710846,
           0.4287911977498211,
           0.3773313253149109,
           -0.7087929084129274,
           -0.7576190753283806,
           0.5562343699970879,
           0.311364905071464,
           0.10629959248405602,
           0.22245340986567727,
           -0.01749213699980467,
           0.3437533691170637,
           -0.6351283437017142,
           0.6993885066833309,
           -0.647552743771088,
           -0.33040631067779425,
           0.3845262760614451,
           -0.11749799982927756,
           0.5953362960237972,
           0.3567872508969132,
           -0.2625198107605932,
           -0.47425563674289617,
           0.8320177953796547,
           -0.24724901708479058,
           -0.5917166662888648,
           -0.14508222228531797,
           -0.24925888864410328,
           0.2736688994273619,
           -0.3054106127743171,
           -0.25113915685313737,
           -0.2763102340642582,
           -0.07176860922281768,
           0.44760772246277336,
           0.5845573293174857,
           0.11587730667408863,
           -0.12862331302216878,
           -0.4540743987900196,
           0.1736454297224642,
           -0.5187299411515335,
           -0.392188277624356,
           -0.024984048085992874,
           0.6542565631192923,
           -0.06304415375499293,
           -0.1391949410979118,
           -0.3766749178888411,
           -0.23825322789945527,
           0.4306977466349579,
           0.5122231870712765,
           -0.34010972757121544,
           -0.196270639415094,
           0.3242613480720634,
           0.26008206349991475,
           0.44776068106525013,
           -0.1951813551902591,
           0.24611088017903643,
           -0.25391780099638894,
           0.22566586671261366,
           -0.7087929084129274,
           -0.7576190753283806,
           0.14729935910977465,
           0.4219616747333681,
           0.14479567065639212,
           0.33313425278577913,
           -0.11109640200511842,
           -0.11546401662625808,
           -0.041139207462127216,
           0.6908500872959825,
           -0.23728982728838652,
           0.09045845685165556,
           -0.39733404718412096,
           0.022600953700309553,
           0.08442867205757601,
           0.10836975933740818,
           -0.047986601004317,
           -0.23752122666246864,
           0.004291396371472371,
           0.13353993241215167,
           0.006434163832933104,
           0.03813711859033733,
           -0.202681940943796,
           -0.3347744706567968,
           -0.44491554795464056,
           0.5915996435590959,
           0.1577522799703479,
           -0.2257359113507059,
           0.22628046440320693,
           0.30293109326462636,
           1.463360134403271,
           -0.46894550215740183,
           -0.41414064413492846,
           -0.21762568132689394,
           1.0387450371455966,
           -0.6955623204441241,
           -0.6223568592638996,
           0.690341506002898,
           0.6444913329903675,
           -0.40156232536865216,
           1.7148056783226358
          ],
          [
           -0.40056720156076814,
           0.8907651232770307,
           -0.14477241334252966,
           0.06741834695425233,
           -0.25661519921054676,
           0.477062561586879,
           -0.4922091273417456,
           2.788663909609682,
           0.6875815007083227,
           -0.32774054333611174,
           -0.09814383331208806,
           -0.8537097608599359,
           0.5881242298006866,
           0.026752040845910825,
           0.838440564738629,
           0.12475940036468372,
           -0.27085316030575557,
           0.3671634873274105,
           -0.930349735770247,
           -0.43805995049580676,
           -0.40812120623151044,
           -0.8872453373090275,
           -0.4520891188878515,
           -0.8754933602774165,
           0.693964049567787,
           0.4696618810810639,
           -0.01894386816858651,
           -0.39128125514745116,
           -0.5337399195938624,
           0.17785897875086404,
           -0.4899932302022713,
           0.49304214746594827,
           -0.40769396289758586,
           -0.4169954512398971,
           -0.5338248142769482,
           -0.24818989069825062,
           -0.6372165545172012,
           -0.5133990904756711,
           -0.06684194549173832,
           -0.47718993557018974,
           -0.5607086893631615,
           0.5079571950342024,
           0.698758676829578,
           -0.21840880678709254,
           0.20459522350509685,
           -0.22614473589327627,
           0.32028063449495003,
           -0.5631455769050375,
           -0.46436813895257867,
           0.46056004178567334,
           0.5663721561921933,
           1.085106413712403,
           -0.6041883929063012,
           0.5680604908920316,
           1.0600872326414141,
           -0.45180057972645016,
           0.07072811717397309,
           -0.6147191320550417,
           0.13813773876516736,
           -0.2564056371323158,
           1.2579210763194755,
           -0.4524024686968488,
           -0.32774054333611174,
           -0.09814383331208806,
           0.4352983709135188,
           1.3823423662259877,
           -0.4862996910091073,
           0.47525391623685653,
           -0.0992928582967638,
           -0.5523225850042688,
           -0.05061282769893944,
           -0.27011527579953476,
           1.6775202210174434,
           -0.34264116188279325,
           -0.3252011762680331,
           1.4623192729900523,
           -0.39086250895011365,
           1.4900434669420672,
           0.6215156478560293,
           -0.42003704399804037,
           0.23980691527204273,
           -0.6763686011461689,
           1.4920802812785994,
           -0.47959610417125786,
           0.27961641629582173,
           -0.3699951772778339,
           -0.14731443705141653,
           0.16505952321596853,
           0.4912818114304359,
           -0.300819713372243,
           -0.607154752978541,
           -0.6681327177136918,
           -0.11254739087193483,
           0.33010838173419216,
           -0.493893287843713,
           0.7412224810014449,
           -0.4770537148132353,
           -0.34515917420824316,
           -0.21152919440374196,
           1.4370975712563192,
           0.7303240325514546,
           0.993832834772327,
           -0.5862139174841475
          ],
          [
           1.389029790645395,
           0.05043118514341774,
           -0.42452761773340786,
           0.7935296574244968,
           0.849431738248119,
           0.6330861120246453,
           0.0468033707697666,
           -0.26083248793116076,
           -0.32775792909204776,
           0.9412227858449095,
           1.0368156882261175,
           -0.1534096881411005,
           0.30070512264126875,
           0.136460529513757,
           -0.8084941498813029,
           1.9844992812209667,
           -0.29609938814341674,
           -0.004992519754083886,
           -0.38111396719885604,
           0.5223915689696119,
           0.27330666567468576,
           0.04852197465139429,
           -0.04869394378837847,
           0.9649602500072133,
           -0.5396515956392918,
           -0.8649329604437046,
           1.2144776762385143,
           0.9437842315214421,
           0.19025870613149126,
           1.7087656257389774,
           -0.2713860840187615,
           1.2159985892113128,
           1.9558934493668636,
           0.19248656286718485,
           0.9769842256769998,
           0.8509916649667381,
           0.5196948400157045,
           -0.4217193147832346,
           1.8608469676154316,
           -0.44932889493588707,
           0.39592117817201633,
           0.9901239389476347,
           -0.275650132936271,
           -0.03235417720880735,
           1.187057951560749,
           -0.35009124385477625,
           -0.4617974346950833,
           -0.28164326241879684,
           -0.28696298767298956,
           0.9468981870014106,
           1.0284131984211984,
           0.3349659102733822,
           0.4060619167154399,
           1.7031757648727222,
           0.7628664232134083,
           -0.27558340970081857,
           -0.2407892044208747,
           0.6685272718482588,
           0.07852962838384436,
           -0.3295880658013734,
           0.6064538823478052,
           -0.21863180504453936,
           0.9412227858449095,
           1.0368156882261175,
           0.24990242308647964,
           -0.5094642717431003,
           0.3877726802238408,
           -0.4153512592336734,
           -0.3575971609140473,
           -0.3895113748678331,
           1.3676595046557116,
           0.6145132588417845,
           0.6431514731513361,
           0.6659055266628694,
           1.7056746578634958,
           0.10523838855005721,
           -0.31761754349826665,
           0.35437572118098787,
           1.509889912991531,
           -0.3490249787917537,
           -1.2398726019479198,
           -0.037297782502871316,
           0.510890619995234,
           0.7155434029743383,
           -0.09539241919027261,
           2.0292723205692464,
           -0.13688648163361267,
           -0.031099120637149136,
           0.2603141815898922,
           0.9852023026629844,
           1.8768947440002524,
           1.2770862235709872,
           -0.14318735665549243,
           1.5914473911968237,
           1.8344608731132106,
           1.4035812556545872,
           0.29189312232067555,
           0.4223842156905299,
           -0.01802873172030357,
           -0.6827942602896996,
           -0.4544846544225152,
           0.05889379686301821,
           0.3267417192653693
          ],
          [
           0.491649230479309,
           -0.4183315622855092,
           0.000720840726788158,
           0.6559582094660311,
           0.15979006012720284,
           -0.5175066186015993,
           -0.3748348159372581,
           0.2890082347161533,
           0.6999252585258834,
           0.4036452099524389,
           0.5084421386465875,
           0.8026301218454706,
           0.6734919447291771,
           0.2560626607112707,
           0.8806110510558178,
           0.7584396028611646,
           0.8222397864586847,
           0.38110736358516606,
           -0.5586510740185554,
           0.14318215398747552,
           -0.3059941664129986,
           0.6315182449554211,
           -0.0387024605722032,
           -0.5030739013969568,
           0.8014768350381414,
           0.4019981517981629,
           -0.010992455945976094,
           1.838847350235456,
           0.6960113936110569,
           0.31452089882990075,
           -0.31357715364659317,
           -0.15203958527791767,
           0.5348138764673338,
           -0.2675071911299393,
           -0.6040934256455046,
           0.8155133580510449,
           0.6839500735728775,
           0.6617774963094557,
           1.0432382477864697,
           -0.2288830749331807,
           0.7530689405828245,
           0.028799234384310694,
           0.1208188866987629,
           0.12146147196700795,
           -0.18442483665830817,
           -0.08178299282892035,
           -0.09929373197619058,
           -0.3046496081102556,
           -0.3838761588457009,
           -0.27637777777058004,
           -0.01826750311918421,
           0.7536854403772781,
           0.2710635812434016,
           0.14086549750989413,
           -0.09988158344713007,
           0.6380572250850366,
           -0.3490787824910725,
           0.6663283475656507,
           -0.3923669394143161,
           -0.33814598756200803,
           -0.23099519723575068,
           -0.23084108424860575,
           0.4036452099524389,
           0.5084421386465875,
           0.6503333763345213,
           0.6903188932091627,
           0.3410148764251,
           0.7492389271298019,
           -0.1734199248101437,
           -0.4035099210364508,
           0.518934634469401,
           0.5965297466351851,
           -0.3170548828162475,
           0.4082402057320506,
           0.1176471204807273,
           0.16376700969053712,
           0.2644372038160639,
           -0.11727064935823618,
           0.4751396997949001,
           0.5823642934635161,
           -0.08826189952976593,
           0.2637276567495606,
           -0.3468359889194533,
           0.5890009675647833,
           -0.4788217300954862,
           -0.2547136875938641,
           0.1863972210804347,
           -0.106591065956748,
           0.7488060592990008,
           0.12463544068570281,
           0.5408718172027499,
           0.4188878380244141,
           -0.5626849506121135,
           0.10381486317657505,
           0.0780114120987829,
           0.1677135332885646,
           -0.002303405797916794,
           0.17219036545054878,
           0.3660530399888657,
           0.39854977361935434,
           0.6876521500434782,
           0.3848216498657353,
           1.0800584301915392
          ],
          [
           -1.8163391284629866,
           -2.3383533547695063,
           2.757548424704837,
           -1.599484776993869,
           1.0331133889822286,
           -1.3942749074184804,
           -1.6542569297253322,
           -0.662487814413717,
           -0.5249430484795051,
           0.10509226576861327,
           0.38030576979172476,
           -1.0302673540242113,
           -0.23241497178320494,
           2.039194011970036,
           -0.3644344659937136,
           -0.8624548523141153,
           -0.972713896715724,
           2.0462010684407006,
           -0.11997659820731345,
           -0.2782203343877258,
           0.9421121793336101,
           -1.1820768870055223,
           0.31827952873098353,
           -1.2940015325813292,
           -0.6755080799338185,
           3.138077394187705,
           -0.46790567524178817,
           -1.2926846175797482,
           -0.8674821883557692,
           -0.5935365619678129,
           0.20812600394311,
           -1.071364381766367,
           -1.8036927232102644,
           0.7413378198639559,
           -0.10945075302845335,
           -0.3548869371732613,
           -0.9098663155190626,
           -0.9014483539492442,
           -0.9436750238975627,
           1.551499218245975,
           -0.88912285009506,
           -1.000715827282766,
           0.336464500510567,
           -0.2522034064914315,
           -0.7929275752132959,
           -0.6036693207349203,
           -0.7285812910969139,
           0.32691103720543463,
           1.156458624961878,
           -0.6285355803273869,
           -0.42430977025664113,
           -0.8415684589930003,
           -1.1024663471254146,
           -0.9945335072798365,
           -0.49505454274718147,
           -0.9410680174069564,
           -0.816603719385526,
           -1.010097864029715,
           0.3045505049983551,
           -0.8249109037685193,
           -0.6614217875292515,
           -0.009916240249301485,
           0.10509226576861327,
           0.38030576979172476,
           -1.0398422728919974,
           -0.5857217720962111,
           -1.3145405484739845,
           -0.15370670167764905,
           -0.5920394295125299,
           0.27265047203061554,
           -0.8047658274159589,
           -1.6684218285106065,
           -0.6362088638723429,
           -1.370932991883436,
           -0.7331059884846033,
           -0.9817730319795445,
           -0.8178779484245077,
           -0.2645232496535238,
           -1.057414443686283,
           -0.5602900713950947,
           1.1245860659716604,
           0.15427763419327473,
           -1.137693590790442,
           -1.1573001226512811,
           0.47677332431323505,
           -0.8416306965567552,
           0.09795224308639305,
           -0.7666759717335957,
           -1.5014262687022435,
           -0.5990033934301552,
           -1.5125350521858199,
           -1.489929524443529,
           -0.4801934052679366,
           -0.6007887118739684,
           -0.8373610775682041,
           -0.23155899353026346,
           -2.3197688070173172,
           -0.47979394535976866,
           0.3989980910999569,
           -0.16432437798628408,
           -0.47089989512044134,
           1.638118586787191,
           -0.8481092858108386
          ],
          [
           -0.6022461326482726,
           1.0675241791666914,
           -0.8333900020559759,
           -1.5400568975173132,
           -2.0520790033708387,
           0.23011061467401187,
           0.507160031710517,
           -0.7906971884822979,
           -1.1595143628477178,
           -2.0176191369576504,
           -1.6072681987918733,
           -0.31758099503899134,
           -0.5727027362207947,
           -0.7341399499843643,
           -0.9567225778737534,
           -0.6012359951106474,
           -0.7800899633632856,
           -1.6082580946875433,
           0.30847031643287137,
           -1.7519540379061815,
           0.26146426570794484,
           -0.8507704403010633,
           0.3706023624296322,
           -0.35056475713861673,
           -0.49294719206289106,
           -0.4138683289440672,
           -0.311932574291387,
           -0.8480999256150219,
           -0.6975275974280686,
           -1.0350707980477158,
           1.2370652637432449,
           -0.644289926103696,
           -0.7504454277494494,
           0.13890672807020962,
           0.10265593795746049,
           -0.44780481751759266,
           -0.47508927731174555,
           -0.37495627906869355,
           -0.44761463375379024,
           1.4116298926105408,
           -0.47435801279944634,
           -0.6965757131714454,
           0.506645275604236,
           -1.2096344815040827,
           -0.8185057302110136,
           -0.23600227390440892,
           0.6295361428903468,
           1.1732231140495144,
           0.9830141341874881,
           -0.6776153481593508,
           -0.7142609719607403,
           -1.0503481305828657,
           -0.5585450323246547,
           -0.9263177275908592,
           -0.6089870666150133,
           -0.44720902682383934,
           1.3309629608829894,
           -0.8306487882059292,
           0.232077374174819,
           1.3494635174703211,
           -0.6032868842720677,
           1.7986216029083844,
           -2.0176191369576504,
           -1.6072681987918733,
           -1.407328416552828,
           -0.6008208876773793,
           -1.1568793793777803,
           -0.3428618535992824,
           -0.26051096378809346,
           1.2153774097009744,
           -1.2153179212201217,
           -1.3394381907451045,
           -0.3989779048628884,
           -1.5335123504498964,
           -1.0613777278213372,
           -0.3333021495604968,
           -0.10096540035970451,
           -0.032417595035830166,
           -0.7629402711411277,
           -1.0389662662799477,
           -0.3073158132033245,
           -0.06037931742331307,
           0.5746271665470758,
           -1.4213016646118308,
           0.9713014632257142,
           -1.4761902004498233,
           -1.28726004178549,
           1.0571868724806768,
           -1.2260770875702658,
           -0.4814026986907801,
           -0.7984982252021484,
           -1.2207265766236057,
           1.7841387455812736,
           -0.8438398913595577,
           -1.6643858958951254,
           -0.8177055389679149,
           0.8598816320693518,
           -1.6634796280150819,
           -1.4227552573031013,
           -0.6998760695858398,
           0.08899603449365212,
           -1.60349590583095,
           -0.2875701223827566
          ],
          [
           0.38608207709527786,
           -0.08179413152863334,
           0.19594531496715975,
           -1.9464254034912896,
           -0.37356972918383274,
           -0.03805387824805733,
           -0.67735422371836,
           -1.3329222037288526,
           -1.7606504243877048,
           -0.8343733441344375,
           -0.26707450461217286,
           -0.931884521482999,
           -0.8665860844886859,
           0.10112046899473205,
           -1.8612573503556866,
           -1.0006170612443355,
           -1.5811474346898466,
           -0.9006494976610824,
           0.4913846271129437,
           -1.8171703206452874,
           2.526671360474744,
           -0.955027512389526,
           0.9410140797453078,
           -0.9670423172803961,
           -1.5563686702093122,
           0.025732670377952554,
           0.6293890534649685,
           -0.8588437979865851,
           -1.0222419210459563,
           0.2523435507670409,
           3.6225337223070273,
           0.22884339796838765,
           -0.19664185451642083,
           2.6456186225613303,
           1.5135269767983137,
           1.0704596390222778,
           -0.8611950460393676,
           -0.7264639883747208,
           0.04125031098237779,
           2.836606792233089,
           -0.7381332005886125,
           -0.3616137592551874,
           2.4576193148447323,
           -1.5851909601659178,
           -0.0327186449536206,
           -0.40526406052402875,
           -0.10187194742363039,
           3.6109343256038575,
           3.291583827472921,
           -0.2841291905950077,
           -0.36656008055165107,
           -1.423848106777159,
           -0.7771379765992938,
           -0.558675202829391,
           -0.42590997887795695,
           -0.8354871862308635,
           0.21532424141910048,
           -0.7322999787593654,
           2.894423165550614,
           0.49730533649320385,
           -0.37565686109294716,
           1.7270105181554294,
           -0.8343733441344375,
           -0.26707450461217286,
           -2.055380510449635,
           -1.7060621514670435,
           -1.7774271856246007,
           -0.9059281444510314,
           -0.330041585318999,
           3.681276732484011,
           -0.5329887937380321,
           -1.6269682972038044,
           -0.07896065758627525,
           -1.8112016086816658,
           -0.3082733678484886,
           -0.006139808681076326,
           -0.9171481815706285,
           -0.5615381270492553,
           -0.958477212557162,
           -1.455590792373403,
           -0.36172287328974495,
           -0.037907377840285576,
           0.7205654372457524,
           -1.8715859833217234,
           2.614847650786926,
           -0.20528531026604546,
           -1.743317676770024,
           -0.15278460366290644,
           -1.7117749646652345,
           -0.627058854876087,
           0.16760034240237398,
           -1.2387176093647903,
           0.8931371403710135,
           0.046066146678692826,
           -0.36855790879145617,
           0.5312367597338885,
           0.9670762854989827,
           -1.7086628542426896,
           -1.8745373300010333,
           -0.8526348000741498,
           0.2799958842507142,
           -0.18047182812103724,
           -0.6112072074566473
          ],
          [
           -1.9274151219011935,
           0.990884440757709,
           -1.4787043986189876,
           -1.895546151801525,
           -1.7827778077073522,
           1.1942172143523306,
           -1.1879788095888846,
           -1.1017534308869374,
           -1.900843190500416,
           -2.0089321459480436,
           -1.44677117753993,
           -0.8364235941942103,
           -0.31907173351723295,
           -0.22011694133175608,
           -1.7191841281638556,
           -0.4400144884561133,
           -1.0586490305157958,
           -1.9030267668322676,
           0.055300011173030794,
           -1.7375613875734068,
           0.5952456770491726,
           -0.942274628287732,
           0.8411467850792703,
           -1.1988401614371604,
           -1.3758620292960047,
           0.1561161850310391,
           -0.12715803612949986,
           -1.459202589257441,
           -0.7351061916077729,
           -0.838341321082342,
           1.772369679044383,
           -0.44899983471776483,
           -0.21865321084690317,
           0.30646940611513657,
           0.1635186647670793,
           -0.38065197102729104,
           -0.3107783609817971,
           -0.44537735141225754,
           -0.37201125540520696,
           2.0402051124880374,
           -0.30588036906660676,
           -0.37380035189348243,
           0.6180789807001653,
           -1.4556762768269267,
           -0.5819101675097548,
           -0.1208844829113078,
           0.9031918846772592,
           1.7680494386387597,
           1.4713590767878737,
           -0.5280723456635235,
           -0.3194570851248228,
           -0.6830493387200637,
           -0.768448235862134,
           -1.0061289688586983,
           -0.5008060760370959,
           -0.5152375775542959,
           1.5629070456028853,
           -0.573371612943204,
           0.5967066319772566,
           1.7242158676800443,
           -0.36785665968098447,
           2.6249924336461103,
           -2.0089321459480436,
           -1.44677117753993,
           -2.0339260164177326,
           -1.4104124396931146,
           -2.0488061916865976,
           -0.9410522204255615,
           0.11587210115496706,
           1.741055943784609,
           -0.9139525353105988,
           -1.6394732073295133,
           0.2474897431486787,
           -1.8028729534943928,
           -0.7785690373817057,
           0.4992995493430189,
           -0.5801052108288101,
           0.6129412389941036,
           -0.43845318075160383,
           -1.029424339137262,
           -0.1776234308813623,
           -0.20797153816819725,
           1.111959835581747,
           -2.3236029084431093,
           1.7081860451377666,
           -0.9951734100495983,
           -1.4281814546206495,
           1.3352670319755888,
           -1.7622553756506463,
           0.2580550058701111,
           -0.7524024243477895,
           -1.4597663282873141,
           1.836600505874412,
           -0.9095492611923776,
           -1.4260885232360865,
           -0.6774127227415385,
           0.868245025249753,
           -1.7123589225353522,
           -1.89491817354529,
           -2.2847936310003507,
           0.20534360706881186,
           -1.97111590684134,
           -1.2781190014229806
          ],
          [
           0.3882580815694408,
           -0.8156916983649943,
           -0.7754594925585472,
           0.8431169778453477,
           -0.49805147394702776,
           0.7840223836933351,
           -1.1014004242199313,
           0.8073965300120353,
           0.6495983863750466,
           1.312360187933453,
           1.9692673996039463,
           0.4533569112637097,
           1.1932632852403182,
           1.7148349046609515,
           0.07649364687685707,
           2.0778020631958545,
           1.1512669436179348,
           0.257640258033824,
           0.4569995175928417,
           1.0299755473723051,
           -0.06319430946695799,
           1.5694281496492863,
           1.6053961026495183,
           -0.6721998394120346,
           0.7168769376790908,
           0.3407541627127687,
           1.2889632827103519,
           1.348160961940452,
           1.227125872750155,
           1.7387814446387881,
           0.05283605873665274,
           0.5183509153254299,
           1.890548793346148,
           -0.003959905970358647,
           0.6138499731871254,
           1.7211177689967514,
           1.1464198089438502,
           0.6569951655570462,
           2.094333814197422,
           -0.23923958996686492,
           0.9407117571164615,
           0.4881426815134389,
           0.34286687117806536,
           0.16380398213338432,
           0.7358143452490095,
           -0.11226427032641569,
           0.399323620000513,
           0.01879254602260417,
           -0.14838332570946267,
           0.4913596128860081,
           0.7851530195651727,
           1.2359030970244032,
           0.3568528460433739,
           1.3177234240222326,
           0.952937617616768,
           1.228555775242473,
           -0.01030676770621149,
           0.9440524844590716,
           -0.058145229099036785,
           -0.25403384225748743,
           0.431737348485449,
           0.6218549753633831,
           1.312360187933453,
           1.9692673996039463,
           0.6362434631208704,
           0.21230101927399517,
           0.21610474341989117,
           0.8972012723152277,
           0.21827930534968734,
           0.0429853744667495,
           1.7273413385307472,
           0.536048355582464,
           0.47238880190340804,
           0.6206983775414742,
           1.364278475669597,
           1.284123572043378,
           0.3731402500657331,
           1.5290421534673575,
           1.3894052991261698,
           1.3112626387506952,
           -0.9955697057528287,
           0.9010251847871463,
           0.2150867545743188,
           0.22770609108134834,
           -0.14032953857805172,
           -0.13432624775472476,
           0.1773321713083857,
           0.9722131849007423,
           1.4667620885466455,
           2.187051003819848,
           1.537555916667159,
           0.9069881698040273,
           0.6270666288867056,
           0.9921455000603165,
           0.0060390354734216655,
           1.5398409946914982,
           -0.0069887579123969566,
           0.9724583005139248,
           0.38188235150072813,
           -0.18598616746928828,
           0.33016063015861274,
           0.6223122554097752,
           1.803699028263042
          ],
          [
           1.4202770754114122,
           1.3667535696522874,
           -1.1115277705285775,
           0.6648456340583315,
           -0.030916008045960206,
           2.338569034634508,
           0.5277459458283628,
           1.207455898915518,
           -0.5786292990616531,
           0.21588236097966257,
           0.9232167880124033,
           -0.736529907709559,
           0.6478898901082591,
           0.017105000648609058,
           -0.7860034001016524,
           2.012592234941947,
           -0.7923070260376776,
           -0.7759850408474296,
           0.25681686228376926,
           -0.3789185188930397,
           0.4813014785431244,
           -0.1580599337381357,
           0.33223907920194307,
           1.2569670061802327,
           -0.3222382785808486,
           -0.7730314060364143,
           2.594284401230208,
           0.14125381016245275,
           -0.6905280161142651,
           2.380646175326067,
           -0.25970073027766694,
           2.5017452904286634,
           1.9198064403257562,
           0.45659180788033876,
           1.2674492683027718,
           1.9242431970642484,
           -0.578214987328509,
           -0.21665223258424868,
           1.2302036958988907,
           -0.46221429096012334,
           -0.5932645812910365,
           3.7102461084545793,
           1.3978536821526915,
           -0.9644087714440196,
           3.1654254894899796,
           -0.39759416690090665,
           -0.41932980316756496,
           -0.3884881360236053,
           -0.20963290807883123,
           3.5867198525895945,
           3.3275451777886578,
           0.9753169560169548,
           0.2855151822372323,
           2.721858613411109,
           3.4809320180349124,
           -0.36027228611216555,
           -0.38689309444186554,
           0.7263793828711069,
           1.5948473619862573,
           -0.5155331782004765,
           3.271107504318504,
           0.09726881944203156,
           0.21588236097966257,
           0.9232167880124033,
           -0.1296597136673512,
           -0.2736198578869322,
           -0.4255824156787828,
           -0.4026423796540468,
           -0.1943398659101852,
           -0.34371303851102064,
           2.5830911641145153,
           0.7971976405737156,
           2.4264031931525714,
           0.19499467461735565,
           3.0498416477762853,
           0.6973402591983789,
           -0.8588439456009254,
           2.335404237706277,
           2.8920800509016633,
           -0.9378059612425164,
           -1.6988348534258222,
           0.9237641350039376,
           1.9200735703933762,
           0.3161670473494794,
           1.044523673453838,
           1.8614908081621602,
           -1.2263757544173046,
           -0.11400218077495373,
           0.006042676450849233,
           0.6502049527776808,
           1.7308113411223418,
           0.3756973628451362,
           1.2185680487497017,
           2.90530143315448,
           1.5084742775969497,
           2.09811105077523,
           1.5502522148596332,
           -0.5302284149929088,
           -1.07373421628548,
           0.6707578565527635,
           -0.44199188071862455,
           0.2134049936472002,
           0.36512869746573057
          ],
          [
           0.04936790011888693,
           -1.8906158415768033,
           0.04686317442970298,
           0.5288259953880784,
           -0.6630534374438595,
           -0.032430808883951806,
           -1.369925824210898,
           1.045424630731899,
           1.5100246629109868,
           0.4806812488653786,
           0.15751228007744048,
           1.3396951646362136,
           3.687879037171068,
           2.3150776214497846,
           1.5050559422746528,
           1.5213540364260216,
           1.9766650652683115,
           -0.281531555022435,
           3.663366211258461,
           -0.24244875284572456,
           -0.045509475832604444,
           1.506117238920375,
           3.4590636918718305,
           -0.803685512357756,
           2.7845083008742386,
           1.4908988646765218,
           0.9034573652372518,
           1.4434813334930123,
           0.8744047141872073,
           -0.402247270458983,
           0.2394261399944042,
           -1.4120885992074215,
           0.450157462959661,
           0.30603480849034687,
           0.29756698250245867,
           1.8933568139683807,
           1.1564866250233357,
           1.8719418237385896,
           1.8247052663489502,
           0.2953953340928885,
           0.7846123036572243,
           -0.09549340174786054,
           0.930566994580749,
           -1.0204779892222724,
           -0.5017250091705937,
           0.19828687934782413,
           0.5363967033779256,
           0.08291266909780944,
           -0.2590411025324499,
           -0.22968672323927344,
           1.2397908126697037,
           2.975431822509127,
           0.2395219140770374,
           -0.8209113210442971,
           0.7638453825987382,
           2.100966929728105,
           -0.2520161217101104,
           3.4524270657129876,
           -0.21591490034679836,
           -0.5344944959944712,
           -0.20896258978660792,
           1.5895510345363644,
           0.4806812488653786,
           0.15751228007744048,
           0.43381635249936523,
           2.7041552278616168,
           -0.029052227605524714,
           3.7606615562857773,
           1.1094947403445914,
           -0.02074126259875851,
           0.9336801577416806,
           0.8370470594229028,
           -1.0406113889216824,
           -0.43885850955150835,
           -0.10276866334912858,
           0.14177616653142902,
           0.24950478235840687,
           1.2383030629840182,
           0.8932259464788799,
           1.1187916420635649,
           -0.5812455179207402,
           4.148711478394606,
           -1.5677697663654677,
           0.8496365372616731,
           -0.7667835364828332,
           -1.5076060015572246,
           -0.27611323412854916,
           0.6828994650024192,
           1.193101515382013,
           3.170701464914871,
           -0.7285375131061432,
           0.09427735916279231,
           1.4684174343266807,
           -0.8345762760596926,
           -1.8073580111623533,
           -0.8441624618555684,
           -1.3793957040837312,
           -0.5339247200075777,
           0.01418709748691377,
           2.2162392614922597,
           -0.003603769998171966,
           -0.26070763483770626,
           1.776717141942576
          ]
         ]
        }
       ],
       "layout": {
        "coloraxis": {
         "colorscale": [
          [
           0,
           "#440154"
          ],
          [
           0.1111111111111111,
           "#482878"
          ],
          [
           0.2222222222222222,
           "#3e4989"
          ],
          [
           0.3333333333333333,
           "#31688e"
          ],
          [
           0.4444444444444444,
           "#26828e"
          ],
          [
           0.5555555555555556,
           "#1f9e89"
          ],
          [
           0.6666666666666666,
           "#35b779"
          ],
          [
           0.7777777777777778,
           "#6ece58"
          ],
          [
           0.8888888888888888,
           "#b5de2b"
          ],
          [
           1,
           "#fde725"
          ]
         ]
        },
        "height": 800,
        "margin": {
         "t": 60
        },
        "template": {
         "data": {
          "bar": [
           {
            "error_x": {
             "color": "#2a3f5f"
            },
            "error_y": {
             "color": "#2a3f5f"
            },
            "marker": {
             "line": {
              "color": "#E5ECF6",
              "width": 0.5
             },
             "pattern": {
              "fillmode": "overlay",
              "size": 10,
              "solidity": 0.2
             }
            },
            "type": "bar"
           }
          ],
          "barpolar": [
           {
            "marker": {
             "line": {
              "color": "#E5ECF6",
              "width": 0.5
             },
             "pattern": {
              "fillmode": "overlay",
              "size": 10,
              "solidity": 0.2
             }
            },
            "type": "barpolar"
           }
          ],
          "carpet": [
           {
            "aaxis": {
             "endlinecolor": "#2a3f5f",
             "gridcolor": "white",
             "linecolor": "white",
             "minorgridcolor": "white",
             "startlinecolor": "#2a3f5f"
            },
            "baxis": {
             "endlinecolor": "#2a3f5f",
             "gridcolor": "white",
             "linecolor": "white",
             "minorgridcolor": "white",
             "startlinecolor": "#2a3f5f"
            },
            "type": "carpet"
           }
          ],
          "choropleth": [
           {
            "colorbar": {
             "outlinewidth": 0,
             "ticks": ""
            },
            "type": "choropleth"
           }
          ],
          "contour": [
           {
            "colorbar": {
             "outlinewidth": 0,
             "ticks": ""
            },
            "colorscale": [
             [
              0,
              "#0d0887"
             ],
             [
              0.1111111111111111,
              "#46039f"
             ],
             [
              0.2222222222222222,
              "#7201a8"
             ],
             [
              0.3333333333333333,
              "#9c179e"
             ],
             [
              0.4444444444444444,
              "#bd3786"
             ],
             [
              0.5555555555555556,
              "#d8576b"
             ],
             [
              0.6666666666666666,
              "#ed7953"
             ],
             [
              0.7777777777777778,
              "#fb9f3a"
             ],
             [
              0.8888888888888888,
              "#fdca26"
             ],
             [
              1,
              "#f0f921"
             ]
            ],
            "type": "contour"
           }
          ],
          "contourcarpet": [
           {
            "colorbar": {
             "outlinewidth": 0,
             "ticks": ""
            },
            "type": "contourcarpet"
           }
          ],
          "heatmap": [
           {
            "colorbar": {
             "outlinewidth": 0,
             "ticks": ""
            },
            "colorscale": [
             [
              0,
              "#0d0887"
             ],
             [
              0.1111111111111111,
              "#46039f"
             ],
             [
              0.2222222222222222,
              "#7201a8"
             ],
             [
              0.3333333333333333,
              "#9c179e"
             ],
             [
              0.4444444444444444,
              "#bd3786"
             ],
             [
              0.5555555555555556,
              "#d8576b"
             ],
             [
              0.6666666666666666,
              "#ed7953"
             ],
             [
              0.7777777777777778,
              "#fb9f3a"
             ],
             [
              0.8888888888888888,
              "#fdca26"
             ],
             [
              1,
              "#f0f921"
             ]
            ],
            "type": "heatmap"
           }
          ],
          "heatmapgl": [
           {
            "colorbar": {
             "outlinewidth": 0,
             "ticks": ""
            },
            "colorscale": [
             [
              0,
              "#0d0887"
             ],
             [
              0.1111111111111111,
              "#46039f"
             ],
             [
              0.2222222222222222,
              "#7201a8"
             ],
             [
              0.3333333333333333,
              "#9c179e"
             ],
             [
              0.4444444444444444,
              "#bd3786"
             ],
             [
              0.5555555555555556,
              "#d8576b"
             ],
             [
              0.6666666666666666,
              "#ed7953"
             ],
             [
              0.7777777777777778,
              "#fb9f3a"
             ],
             [
              0.8888888888888888,
              "#fdca26"
             ],
             [
              1,
              "#f0f921"
             ]
            ],
            "type": "heatmapgl"
           }
          ],
          "histogram": [
           {
            "marker": {
             "pattern": {
              "fillmode": "overlay",
              "size": 10,
              "solidity": 0.2
             }
            },
            "type": "histogram"
           }
          ],
          "histogram2d": [
           {
            "colorbar": {
             "outlinewidth": 0,
             "ticks": ""
            },
            "colorscale": [
             [
              0,
              "#0d0887"
             ],
             [
              0.1111111111111111,
              "#46039f"
             ],
             [
              0.2222222222222222,
              "#7201a8"
             ],
             [
              0.3333333333333333,
              "#9c179e"
             ],
             [
              0.4444444444444444,
              "#bd3786"
             ],
             [
              0.5555555555555556,
              "#d8576b"
             ],
             [
              0.6666666666666666,
              "#ed7953"
             ],
             [
              0.7777777777777778,
              "#fb9f3a"
             ],
             [
              0.8888888888888888,
              "#fdca26"
             ],
             [
              1,
              "#f0f921"
             ]
            ],
            "type": "histogram2d"
           }
          ],
          "histogram2dcontour": [
           {
            "colorbar": {
             "outlinewidth": 0,
             "ticks": ""
            },
            "colorscale": [
             [
              0,
              "#0d0887"
             ],
             [
              0.1111111111111111,
              "#46039f"
             ],
             [
              0.2222222222222222,
              "#7201a8"
             ],
             [
              0.3333333333333333,
              "#9c179e"
             ],
             [
              0.4444444444444444,
              "#bd3786"
             ],
             [
              0.5555555555555556,
              "#d8576b"
             ],
             [
              0.6666666666666666,
              "#ed7953"
             ],
             [
              0.7777777777777778,
              "#fb9f3a"
             ],
             [
              0.8888888888888888,
              "#fdca26"
             ],
             [
              1,
              "#f0f921"
             ]
            ],
            "type": "histogram2dcontour"
           }
          ],
          "mesh3d": [
           {
            "colorbar": {
             "outlinewidth": 0,
             "ticks": ""
            },
            "type": "mesh3d"
           }
          ],
          "parcoords": [
           {
            "line": {
             "colorbar": {
              "outlinewidth": 0,
              "ticks": ""
             }
            },
            "type": "parcoords"
           }
          ],
          "pie": [
           {
            "automargin": true,
            "type": "pie"
           }
          ],
          "scatter": [
           {
            "fillpattern": {
             "fillmode": "overlay",
             "size": 10,
             "solidity": 0.2
            },
            "type": "scatter"
           }
          ],
          "scatter3d": [
           {
            "line": {
             "colorbar": {
              "outlinewidth": 0,
              "ticks": ""
             }
            },
            "marker": {
             "colorbar": {
              "outlinewidth": 0,
              "ticks": ""
             }
            },
            "type": "scatter3d"
           }
          ],
          "scattercarpet": [
           {
            "marker": {
             "colorbar": {
              "outlinewidth": 0,
              "ticks": ""
             }
            },
            "type": "scattercarpet"
           }
          ],
          "scattergeo": [
           {
            "marker": {
             "colorbar": {
              "outlinewidth": 0,
              "ticks": ""
             }
            },
            "type": "scattergeo"
           }
          ],
          "scattergl": [
           {
            "marker": {
             "colorbar": {
              "outlinewidth": 0,
              "ticks": ""
             }
            },
            "type": "scattergl"
           }
          ],
          "scattermapbox": [
           {
            "marker": {
             "colorbar": {
              "outlinewidth": 0,
              "ticks": ""
             }
            },
            "type": "scattermapbox"
           }
          ],
          "scatterpolar": [
           {
            "marker": {
             "colorbar": {
              "outlinewidth": 0,
              "ticks": ""
             }
            },
            "type": "scatterpolar"
           }
          ],
          "scatterpolargl": [
           {
            "marker": {
             "colorbar": {
              "outlinewidth": 0,
              "ticks": ""
             }
            },
            "type": "scatterpolargl"
           }
          ],
          "scatterternary": [
           {
            "marker": {
             "colorbar": {
              "outlinewidth": 0,
              "ticks": ""
             }
            },
            "type": "scatterternary"
           }
          ],
          "surface": [
           {
            "colorbar": {
             "outlinewidth": 0,
             "ticks": ""
            },
            "colorscale": [
             [
              0,
              "#0d0887"
             ],
             [
              0.1111111111111111,
              "#46039f"
             ],
             [
              0.2222222222222222,
              "#7201a8"
             ],
             [
              0.3333333333333333,
              "#9c179e"
             ],
             [
              0.4444444444444444,
              "#bd3786"
             ],
             [
              0.5555555555555556,
              "#d8576b"
             ],
             [
              0.6666666666666666,
              "#ed7953"
             ],
             [
              0.7777777777777778,
              "#fb9f3a"
             ],
             [
              0.8888888888888888,
              "#fdca26"
             ],
             [
              1,
              "#f0f921"
             ]
            ],
            "type": "surface"
           }
          ],
          "table": [
           {
            "cells": {
             "fill": {
              "color": "#EBF0F8"
             },
             "line": {
              "color": "white"
             }
            },
            "header": {
             "fill": {
              "color": "#C8D4E3"
             },
             "line": {
              "color": "white"
             }
            },
            "type": "table"
           }
          ]
         },
         "layout": {
          "annotationdefaults": {
           "arrowcolor": "#2a3f5f",
           "arrowhead": 0,
           "arrowwidth": 1
          },
          "autotypenumbers": "strict",
          "coloraxis": {
           "colorbar": {
            "outlinewidth": 0,
            "ticks": ""
           }
          },
          "colorscale": {
           "diverging": [
            [
             0,
             "#8e0152"
            ],
            [
             0.1,
             "#c51b7d"
            ],
            [
             0.2,
             "#de77ae"
            ],
            [
             0.3,
             "#f1b6da"
            ],
            [
             0.4,
             "#fde0ef"
            ],
            [
             0.5,
             "#f7f7f7"
            ],
            [
             0.6,
             "#e6f5d0"
            ],
            [
             0.7,
             "#b8e186"
            ],
            [
             0.8,
             "#7fbc41"
            ],
            [
             0.9,
             "#4d9221"
            ],
            [
             1,
             "#276419"
            ]
           ],
           "sequential": [
            [
             0,
             "#0d0887"
            ],
            [
             0.1111111111111111,
             "#46039f"
            ],
            [
             0.2222222222222222,
             "#7201a8"
            ],
            [
             0.3333333333333333,
             "#9c179e"
            ],
            [
             0.4444444444444444,
             "#bd3786"
            ],
            [
             0.5555555555555556,
             "#d8576b"
            ],
            [
             0.6666666666666666,
             "#ed7953"
            ],
            [
             0.7777777777777778,
             "#fb9f3a"
            ],
            [
             0.8888888888888888,
             "#fdca26"
            ],
            [
             1,
             "#f0f921"
            ]
           ],
           "sequentialminus": [
            [
             0,
             "#0d0887"
            ],
            [
             0.1111111111111111,
             "#46039f"
            ],
            [
             0.2222222222222222,
             "#7201a8"
            ],
            [
             0.3333333333333333,
             "#9c179e"
            ],
            [
             0.4444444444444444,
             "#bd3786"
            ],
            [
             0.5555555555555556,
             "#d8576b"
            ],
            [
             0.6666666666666666,
             "#ed7953"
            ],
            [
             0.7777777777777778,
             "#fb9f3a"
            ],
            [
             0.8888888888888888,
             "#fdca26"
            ],
            [
             1,
             "#f0f921"
            ]
           ]
          },
          "colorway": [
           "#636efa",
           "#EF553B",
           "#00cc96",
           "#ab63fa",
           "#FFA15A",
           "#19d3f3",
           "#FF6692",
           "#B6E880",
           "#FF97FF",
           "#FECB52"
          ],
          "font": {
           "color": "#2a3f5f"
          },
          "geo": {
           "bgcolor": "white",
           "lakecolor": "white",
           "landcolor": "#E5ECF6",
           "showlakes": true,
           "showland": true,
           "subunitcolor": "white"
          },
          "hoverlabel": {
           "align": "left"
          },
          "hovermode": "closest",
          "mapbox": {
           "style": "light"
          },
          "paper_bgcolor": "white",
          "plot_bgcolor": "#E5ECF6",
          "polar": {
           "angularaxis": {
            "gridcolor": "white",
            "linecolor": "white",
            "ticks": ""
           },
           "bgcolor": "#E5ECF6",
           "radialaxis": {
            "gridcolor": "white",
            "linecolor": "white",
            "ticks": ""
           }
          },
          "scene": {
           "xaxis": {
            "backgroundcolor": "#E5ECF6",
            "gridcolor": "white",
            "gridwidth": 2,
            "linecolor": "white",
            "showbackground": true,
            "ticks": "",
            "zerolinecolor": "white"
           },
           "yaxis": {
            "backgroundcolor": "#E5ECF6",
            "gridcolor": "white",
            "gridwidth": 2,
            "linecolor": "white",
            "showbackground": true,
            "ticks": "",
            "zerolinecolor": "white"
           },
           "zaxis": {
            "backgroundcolor": "#E5ECF6",
            "gridcolor": "white",
            "gridwidth": 2,
            "linecolor": "white",
            "showbackground": true,
            "ticks": "",
            "zerolinecolor": "white"
           }
          },
          "shapedefaults": {
           "line": {
            "color": "#2a3f5f"
           }
          },
          "ternary": {
           "aaxis": {
            "gridcolor": "white",
            "linecolor": "white",
            "ticks": ""
           },
           "baxis": {
            "gridcolor": "white",
            "linecolor": "white",
            "ticks": ""
           },
           "bgcolor": "#E5ECF6",
           "caxis": {
            "gridcolor": "white",
            "linecolor": "white",
            "ticks": ""
           }
          },
          "title": {
           "x": 0.05
          },
          "xaxis": {
           "automargin": true,
           "gridcolor": "white",
           "linecolor": "white",
           "ticks": "",
           "title": {
            "standoff": 15
           },
           "zerolinecolor": "white",
           "zerolinewidth": 2
          },
          "yaxis": {
           "automargin": true,
           "gridcolor": "white",
           "linecolor": "white",
           "ticks": "",
           "title": {
            "standoff": 15
           },
           "zerolinecolor": "white",
           "zerolinewidth": 2
          }
         }
        },
        "width": 2000,
        "xaxis": {
         "anchor": "y",
         "constrain": "domain",
         "domain": [
          0,
          1
         ],
         "scaleanchor": "y"
        },
        "yaxis": {
         "anchor": "x",
         "autorange": "reversed",
         "constrain": "domain",
         "domain": [
          0,
          1
         ]
        }
       }
      }
     },
     "metadata": {},
     "output_type": "display_data"
    }
   ],
   "source": [
    "scaler = StandardScaler()\n",
    "skills_percentage_matrix_scaled = scaler.fit_transform(skills_percentage_matrix)\n",
    "df_skills_percentage_normalized = pd.DataFrame(skills_percentage_matrix_scaled, columns=skills, index=jobs)\n",
    "df_skills_percentage_sorted_scaled = df_skills_percentage_normalized.loc[:, df_skills_percentage_normalized.sum(axis=0).sort_values().index]\n",
    "\n",
    "fig = px.imshow(df_skills_percentage_sorted_scaled, color_continuous_scale='viridis')\n",
    "fig.update_layout( width=2000,\n",
    "                  height=800,\n",
    "                  title=\"skills frequancy normalized\",)\n",
    "fig.show()"
   ]
  },
  {
   "cell_type": "markdown",
   "metadata": {},
   "source": [
    "# Concatenate the percentage and the normalized frequancy to show the specificity"
   ]
  },
  {
   "cell_type": "code",
   "execution_count": 54,
   "metadata": {},
   "outputs": [
    {
     "data": {
      "text/plain": [
       "['Developer, desktop or enterprise applications',\n",
       " 'Developer, full-stack',\n",
       " 'Developer, mobile',\n",
       " 'Designer',\n",
       " 'Developer, front-end',\n",
       " 'Developer, back-end',\n",
       " 'Developer, QA or test',\n",
       " 'DevOps specialist',\n",
       " 'Developer, game or graphics',\n",
       " 'Database administrator',\n",
       " 'Developer, embedded applications or devices',\n",
       " 'Engineer, data',\n",
       " 'Educator',\n",
       " 'System administrator',\n",
       " 'Engineering manager',\n",
       " 'Product manager',\n",
       " 'Data or business analyst',\n",
       " 'Academic researcher',\n",
       " 'Data scientist or machine learning specialist',\n",
       " 'Scientist',\n",
       " 'Senior executive/VP',\n",
       " 'Engineer, site reliability',\n",
       " 'Marketing or sales professional']"
      ]
     },
     "execution_count": 54,
     "metadata": {},
     "output_type": "execute_result"
    }
   ],
   "source": [
    "jobs"
   ]
  },
  {
   "cell_type": "code",
   "execution_count": 157,
   "metadata": {},
   "outputs": [
    {
     "data": {
      "text/html": [
       "<div>\n",
       "<style scoped>\n",
       "    .dataframe tbody tr th:only-of-type {\n",
       "        vertical-align: middle;\n",
       "    }\n",
       "\n",
       "    .dataframe tbody tr th {\n",
       "        vertical-align: top;\n",
       "    }\n",
       "\n",
       "    .dataframe thead th {\n",
       "        text-align: right;\n",
       "    }\n",
       "</style>\n",
       "<table border=\"1\" class=\"dataframe\">\n",
       "  <thead>\n",
       "    <tr style=\"text-align: right;\">\n",
       "      <th></th>\n",
       "      <th>percentage</th>\n",
       "      <th>specificity</th>\n",
       "    </tr>\n",
       "  </thead>\n",
       "  <tbody>\n",
       "    <tr>\n",
       "      <th>Julia</th>\n",
       "      <td>0.561922</td>\n",
       "      <td>-0.962484</td>\n",
       "    </tr>\n",
       "    <tr>\n",
       "      <th>IBM Cloud or Watson</th>\n",
       "      <td>1.432349</td>\n",
       "      <td>-1.064855</td>\n",
       "    </tr>\n",
       "    <tr>\n",
       "      <th>Chef</th>\n",
       "      <td>1.604965</td>\n",
       "      <td>-0.661765</td>\n",
       "    </tr>\n",
       "    <tr>\n",
       "      <th>Unreal Engine</th>\n",
       "      <td>1.777582</td>\n",
       "      <td>-0.674764</td>\n",
       "    </tr>\n",
       "    <tr>\n",
       "      <th>Puppet</th>\n",
       "      <td>1.986925</td>\n",
       "      <td>-0.680071</td>\n",
       "    </tr>\n",
       "  </tbody>\n",
       "</table>\n",
       "</div>"
      ],
      "text/plain": [
       "                     percentage  specificity\n",
       "Julia                  0.561922    -0.962484\n",
       "IBM Cloud or Watson    1.432349    -1.064855\n",
       "Chef                   1.604965    -0.661765\n",
       "Unreal Engine          1.777582    -0.674764\n",
       "Puppet                 1.986925    -0.680071"
      ]
     },
     "execution_count": 157,
     "metadata": {},
     "output_type": "execute_result"
    }
   ],
   "source": [
    "job = 'Developer, back-end' #what will be visualized\n",
    "df_skills_concat_percentage_normalized = pd.concat([df_skills_percentage.loc[job], df_skills_percentage_normalized.loc[job]], axis=1)\n",
    "df_skills_concat_percentage_normalized.columns=[\"percentage\", \"specificity\"]\n",
    "df_skills_concat_percentage_normalized = df_skills_concat_percentage_normalized.sort_values(\"percentage\")\n",
    "df_skills_concat_percentage_normalized.head()"
   ]
  },
  {
   "cell_type": "code",
   "execution_count": 158,
   "metadata": {},
   "outputs": [
    {
     "data": {
      "application/vnd.plotly.v1+json": {
       "config": {
        "plotlyServerURL": "https://plot.ly"
       },
       "data": [
        {
         "alignmentgroup": "True",
         "hovertemplate": "percentage=%{x}<br>index=%{y}<br>specificity=%{marker.color}<extra></extra>",
         "legendgroup": "",
         "marker": {
          "color": [
           0.2550477706009255,
           -0.7262821694052023,
           0.30910296256931835,
           0.2299011733149527,
           -0.5160281920444794,
           -0.05825822833144959,
           -0.0007540039527670241,
           0.026354045659640297,
           -1.4512054904692577,
           -0.021356398930998458,
           0.32269878896512255,
           -0.2663731414662548,
           -0.4193728321918939,
           -0.04679345127621815,
           -0.003272424101805912,
           0.05703653974131501,
           0.5849117595302004,
           -0.06432188127629353,
           -0.519501256982442,
           0.06922832635335607,
           0.20217260904433879,
           -0.11528503019380304,
           -0.8279445271568265,
           0.5031753604393114,
           -0.6613663565398269,
           0.34497783437229285,
           -0.4414522601905721,
           -0.2160058414879612,
           0.7296397534749715,
           0.27373725972410645,
           -0.11928897796408111,
           0.17381830738861515,
           -0.2464031948167877,
           0.25485204093466035,
           -0.26195154284451533
          ],
          "coloraxis": "coloraxis",
          "pattern": {
           "shape": ""
          }
         },
         "name": "",
         "offsetgroup": "",
         "orientation": "h",
         "showlegend": false,
         "textposition": "auto",
         "type": "bar",
         "x": [
          20.761715880711034,
          21.17672983693257,
          21.77537828705744,
          22.62009695901278,
          23.54561480828559,
          24.63273101219333,
          25.672102247686208,
          26.23402379903041,
          27.03099750257088,
          27.725135889525486,
          27.838989275745558,
          28.14382253562509,
          28.35683854855296,
          30.08667548112237,
          32.90362861759953,
          34.023799030409876,
          34.211106214191275,
          35.54796532980755,
          35.71323637432055,
          36.78566181871602,
          36.95093286322903,
          37.55692669311003,
          38.73953283384751,
          39.848685177023654,
          39.86704862641399,
          41.1671808432496,
          48.16732775084472,
          49.397678859997065,
          49.9118554429264,
          51.722491552813274,
          55.76979579844278,
          61.37432055237255,
          61.38901131188482,
          69.39180255619215,
          74.29484354341119
         ],
         "xaxis": "x",
         "y": [
          "Angular",
          "Android",
          "Redis",
          ".NET Core",
          "MacOS",
          "MongoDB",
          "Microsoft Teams",
          "React.js",
          "SQLite",
          ".NET",
          "TypeScript",
          "PHP",
          "Trello",
          "AWS",
          "Microsoft SQL Server",
          "C#",
          "Confluence",
          "jQuery",
          "Bash/Shell/PowerShell",
          "Gitlab",
          "PostgreSQL",
          "Node.js",
          "Google Suite (Docs, Meet, etc)",
          "Java",
          "Python",
          "Docker",
          "Windows",
          "MySQL",
          "Jira",
          "Slack",
          "Linux",
          "SQL",
          "HTML/CSS",
          "JavaScript",
          "Github"
         ],
         "yaxis": "y"
        }
       ],
       "layout": {
        "barmode": "relative",
        "coloraxis": {
         "cmax": 4.578863713652794,
         "cmin": -2.3383533547695063,
         "colorbar": {
          "title": {
           "text": "specificity"
          }
         },
         "colorscale": [
          [
           0,
           "#0d0887"
          ],
          [
           0.1111111111111111,
           "#46039f"
          ],
          [
           0.2222222222222222,
           "#7201a8"
          ],
          [
           0.3333333333333333,
           "#9c179e"
          ],
          [
           0.4444444444444444,
           "#bd3786"
          ],
          [
           0.5555555555555556,
           "#d8576b"
          ],
          [
           0.6666666666666666,
           "#ed7953"
          ],
          [
           0.7777777777777778,
           "#fb9f3a"
          ],
          [
           0.8888888888888888,
           "#fdca26"
          ],
          [
           1,
           "#f0f921"
          ]
         ]
        },
        "height": 1000,
        "legend": {
         "tracegroupgap": 0
        },
        "margin": {
         "t": 60
        },
        "template": {
         "data": {
          "bar": [
           {
            "error_x": {
             "color": "#2a3f5f"
            },
            "error_y": {
             "color": "#2a3f5f"
            },
            "marker": {
             "line": {
              "color": "#E5ECF6",
              "width": 0.5
             },
             "pattern": {
              "fillmode": "overlay",
              "size": 10,
              "solidity": 0.2
             }
            },
            "type": "bar"
           }
          ],
          "barpolar": [
           {
            "marker": {
             "line": {
              "color": "#E5ECF6",
              "width": 0.5
             },
             "pattern": {
              "fillmode": "overlay",
              "size": 10,
              "solidity": 0.2
             }
            },
            "type": "barpolar"
           }
          ],
          "carpet": [
           {
            "aaxis": {
             "endlinecolor": "#2a3f5f",
             "gridcolor": "white",
             "linecolor": "white",
             "minorgridcolor": "white",
             "startlinecolor": "#2a3f5f"
            },
            "baxis": {
             "endlinecolor": "#2a3f5f",
             "gridcolor": "white",
             "linecolor": "white",
             "minorgridcolor": "white",
             "startlinecolor": "#2a3f5f"
            },
            "type": "carpet"
           }
          ],
          "choropleth": [
           {
            "colorbar": {
             "outlinewidth": 0,
             "ticks": ""
            },
            "type": "choropleth"
           }
          ],
          "contour": [
           {
            "colorbar": {
             "outlinewidth": 0,
             "ticks": ""
            },
            "colorscale": [
             [
              0,
              "#0d0887"
             ],
             [
              0.1111111111111111,
              "#46039f"
             ],
             [
              0.2222222222222222,
              "#7201a8"
             ],
             [
              0.3333333333333333,
              "#9c179e"
             ],
             [
              0.4444444444444444,
              "#bd3786"
             ],
             [
              0.5555555555555556,
              "#d8576b"
             ],
             [
              0.6666666666666666,
              "#ed7953"
             ],
             [
              0.7777777777777778,
              "#fb9f3a"
             ],
             [
              0.8888888888888888,
              "#fdca26"
             ],
             [
              1,
              "#f0f921"
             ]
            ],
            "type": "contour"
           }
          ],
          "contourcarpet": [
           {
            "colorbar": {
             "outlinewidth": 0,
             "ticks": ""
            },
            "type": "contourcarpet"
           }
          ],
          "heatmap": [
           {
            "colorbar": {
             "outlinewidth": 0,
             "ticks": ""
            },
            "colorscale": [
             [
              0,
              "#0d0887"
             ],
             [
              0.1111111111111111,
              "#46039f"
             ],
             [
              0.2222222222222222,
              "#7201a8"
             ],
             [
              0.3333333333333333,
              "#9c179e"
             ],
             [
              0.4444444444444444,
              "#bd3786"
             ],
             [
              0.5555555555555556,
              "#d8576b"
             ],
             [
              0.6666666666666666,
              "#ed7953"
             ],
             [
              0.7777777777777778,
              "#fb9f3a"
             ],
             [
              0.8888888888888888,
              "#fdca26"
             ],
             [
              1,
              "#f0f921"
             ]
            ],
            "type": "heatmap"
           }
          ],
          "heatmapgl": [
           {
            "colorbar": {
             "outlinewidth": 0,
             "ticks": ""
            },
            "colorscale": [
             [
              0,
              "#0d0887"
             ],
             [
              0.1111111111111111,
              "#46039f"
             ],
             [
              0.2222222222222222,
              "#7201a8"
             ],
             [
              0.3333333333333333,
              "#9c179e"
             ],
             [
              0.4444444444444444,
              "#bd3786"
             ],
             [
              0.5555555555555556,
              "#d8576b"
             ],
             [
              0.6666666666666666,
              "#ed7953"
             ],
             [
              0.7777777777777778,
              "#fb9f3a"
             ],
             [
              0.8888888888888888,
              "#fdca26"
             ],
             [
              1,
              "#f0f921"
             ]
            ],
            "type": "heatmapgl"
           }
          ],
          "histogram": [
           {
            "marker": {
             "pattern": {
              "fillmode": "overlay",
              "size": 10,
              "solidity": 0.2
             }
            },
            "type": "histogram"
           }
          ],
          "histogram2d": [
           {
            "colorbar": {
             "outlinewidth": 0,
             "ticks": ""
            },
            "colorscale": [
             [
              0,
              "#0d0887"
             ],
             [
              0.1111111111111111,
              "#46039f"
             ],
             [
              0.2222222222222222,
              "#7201a8"
             ],
             [
              0.3333333333333333,
              "#9c179e"
             ],
             [
              0.4444444444444444,
              "#bd3786"
             ],
             [
              0.5555555555555556,
              "#d8576b"
             ],
             [
              0.6666666666666666,
              "#ed7953"
             ],
             [
              0.7777777777777778,
              "#fb9f3a"
             ],
             [
              0.8888888888888888,
              "#fdca26"
             ],
             [
              1,
              "#f0f921"
             ]
            ],
            "type": "histogram2d"
           }
          ],
          "histogram2dcontour": [
           {
            "colorbar": {
             "outlinewidth": 0,
             "ticks": ""
            },
            "colorscale": [
             [
              0,
              "#0d0887"
             ],
             [
              0.1111111111111111,
              "#46039f"
             ],
             [
              0.2222222222222222,
              "#7201a8"
             ],
             [
              0.3333333333333333,
              "#9c179e"
             ],
             [
              0.4444444444444444,
              "#bd3786"
             ],
             [
              0.5555555555555556,
              "#d8576b"
             ],
             [
              0.6666666666666666,
              "#ed7953"
             ],
             [
              0.7777777777777778,
              "#fb9f3a"
             ],
             [
              0.8888888888888888,
              "#fdca26"
             ],
             [
              1,
              "#f0f921"
             ]
            ],
            "type": "histogram2dcontour"
           }
          ],
          "mesh3d": [
           {
            "colorbar": {
             "outlinewidth": 0,
             "ticks": ""
            },
            "type": "mesh3d"
           }
          ],
          "parcoords": [
           {
            "line": {
             "colorbar": {
              "outlinewidth": 0,
              "ticks": ""
             }
            },
            "type": "parcoords"
           }
          ],
          "pie": [
           {
            "automargin": true,
            "type": "pie"
           }
          ],
          "scatter": [
           {
            "fillpattern": {
             "fillmode": "overlay",
             "size": 10,
             "solidity": 0.2
            },
            "type": "scatter"
           }
          ],
          "scatter3d": [
           {
            "line": {
             "colorbar": {
              "outlinewidth": 0,
              "ticks": ""
             }
            },
            "marker": {
             "colorbar": {
              "outlinewidth": 0,
              "ticks": ""
             }
            },
            "type": "scatter3d"
           }
          ],
          "scattercarpet": [
           {
            "marker": {
             "colorbar": {
              "outlinewidth": 0,
              "ticks": ""
             }
            },
            "type": "scattercarpet"
           }
          ],
          "scattergeo": [
           {
            "marker": {
             "colorbar": {
              "outlinewidth": 0,
              "ticks": ""
             }
            },
            "type": "scattergeo"
           }
          ],
          "scattergl": [
           {
            "marker": {
             "colorbar": {
              "outlinewidth": 0,
              "ticks": ""
             }
            },
            "type": "scattergl"
           }
          ],
          "scattermapbox": [
           {
            "marker": {
             "colorbar": {
              "outlinewidth": 0,
              "ticks": ""
             }
            },
            "type": "scattermapbox"
           }
          ],
          "scatterpolar": [
           {
            "marker": {
             "colorbar": {
              "outlinewidth": 0,
              "ticks": ""
             }
            },
            "type": "scatterpolar"
           }
          ],
          "scatterpolargl": [
           {
            "marker": {
             "colorbar": {
              "outlinewidth": 0,
              "ticks": ""
             }
            },
            "type": "scatterpolargl"
           }
          ],
          "scatterternary": [
           {
            "marker": {
             "colorbar": {
              "outlinewidth": 0,
              "ticks": ""
             }
            },
            "type": "scatterternary"
           }
          ],
          "surface": [
           {
            "colorbar": {
             "outlinewidth": 0,
             "ticks": ""
            },
            "colorscale": [
             [
              0,
              "#0d0887"
             ],
             [
              0.1111111111111111,
              "#46039f"
             ],
             [
              0.2222222222222222,
              "#7201a8"
             ],
             [
              0.3333333333333333,
              "#9c179e"
             ],
             [
              0.4444444444444444,
              "#bd3786"
             ],
             [
              0.5555555555555556,
              "#d8576b"
             ],
             [
              0.6666666666666666,
              "#ed7953"
             ],
             [
              0.7777777777777778,
              "#fb9f3a"
             ],
             [
              0.8888888888888888,
              "#fdca26"
             ],
             [
              1,
              "#f0f921"
             ]
            ],
            "type": "surface"
           }
          ],
          "table": [
           {
            "cells": {
             "fill": {
              "color": "#EBF0F8"
             },
             "line": {
              "color": "white"
             }
            },
            "header": {
             "fill": {
              "color": "#C8D4E3"
             },
             "line": {
              "color": "white"
             }
            },
            "type": "table"
           }
          ]
         },
         "layout": {
          "annotationdefaults": {
           "arrowcolor": "#2a3f5f",
           "arrowhead": 0,
           "arrowwidth": 1
          },
          "autotypenumbers": "strict",
          "coloraxis": {
           "colorbar": {
            "outlinewidth": 0,
            "ticks": ""
           }
          },
          "colorscale": {
           "diverging": [
            [
             0,
             "#8e0152"
            ],
            [
             0.1,
             "#c51b7d"
            ],
            [
             0.2,
             "#de77ae"
            ],
            [
             0.3,
             "#f1b6da"
            ],
            [
             0.4,
             "#fde0ef"
            ],
            [
             0.5,
             "#f7f7f7"
            ],
            [
             0.6,
             "#e6f5d0"
            ],
            [
             0.7,
             "#b8e186"
            ],
            [
             0.8,
             "#7fbc41"
            ],
            [
             0.9,
             "#4d9221"
            ],
            [
             1,
             "#276419"
            ]
           ],
           "sequential": [
            [
             0,
             "#0d0887"
            ],
            [
             0.1111111111111111,
             "#46039f"
            ],
            [
             0.2222222222222222,
             "#7201a8"
            ],
            [
             0.3333333333333333,
             "#9c179e"
            ],
            [
             0.4444444444444444,
             "#bd3786"
            ],
            [
             0.5555555555555556,
             "#d8576b"
            ],
            [
             0.6666666666666666,
             "#ed7953"
            ],
            [
             0.7777777777777778,
             "#fb9f3a"
            ],
            [
             0.8888888888888888,
             "#fdca26"
            ],
            [
             1,
             "#f0f921"
            ]
           ],
           "sequentialminus": [
            [
             0,
             "#0d0887"
            ],
            [
             0.1111111111111111,
             "#46039f"
            ],
            [
             0.2222222222222222,
             "#7201a8"
            ],
            [
             0.3333333333333333,
             "#9c179e"
            ],
            [
             0.4444444444444444,
             "#bd3786"
            ],
            [
             0.5555555555555556,
             "#d8576b"
            ],
            [
             0.6666666666666666,
             "#ed7953"
            ],
            [
             0.7777777777777778,
             "#fb9f3a"
            ],
            [
             0.8888888888888888,
             "#fdca26"
            ],
            [
             1,
             "#f0f921"
            ]
           ]
          },
          "colorway": [
           "#636efa",
           "#EF553B",
           "#00cc96",
           "#ab63fa",
           "#FFA15A",
           "#19d3f3",
           "#FF6692",
           "#B6E880",
           "#FF97FF",
           "#FECB52"
          ],
          "font": {
           "color": "#2a3f5f"
          },
          "geo": {
           "bgcolor": "white",
           "lakecolor": "white",
           "landcolor": "#E5ECF6",
           "showlakes": true,
           "showland": true,
           "subunitcolor": "white"
          },
          "hoverlabel": {
           "align": "left"
          },
          "hovermode": "closest",
          "mapbox": {
           "style": "light"
          },
          "paper_bgcolor": "white",
          "plot_bgcolor": "#E5ECF6",
          "polar": {
           "angularaxis": {
            "gridcolor": "white",
            "linecolor": "white",
            "ticks": ""
           },
           "bgcolor": "#E5ECF6",
           "radialaxis": {
            "gridcolor": "white",
            "linecolor": "white",
            "ticks": ""
           }
          },
          "scene": {
           "xaxis": {
            "backgroundcolor": "#E5ECF6",
            "gridcolor": "white",
            "gridwidth": 2,
            "linecolor": "white",
            "showbackground": true,
            "ticks": "",
            "zerolinecolor": "white"
           },
           "yaxis": {
            "backgroundcolor": "#E5ECF6",
            "gridcolor": "white",
            "gridwidth": 2,
            "linecolor": "white",
            "showbackground": true,
            "ticks": "",
            "zerolinecolor": "white"
           },
           "zaxis": {
            "backgroundcolor": "#E5ECF6",
            "gridcolor": "white",
            "gridwidth": 2,
            "linecolor": "white",
            "showbackground": true,
            "ticks": "",
            "zerolinecolor": "white"
           }
          },
          "shapedefaults": {
           "line": {
            "color": "#2a3f5f"
           }
          },
          "ternary": {
           "aaxis": {
            "gridcolor": "white",
            "linecolor": "white",
            "ticks": ""
           },
           "baxis": {
            "gridcolor": "white",
            "linecolor": "white",
            "ticks": ""
           },
           "bgcolor": "#E5ECF6",
           "caxis": {
            "gridcolor": "white",
            "linecolor": "white",
            "ticks": ""
           }
          },
          "title": {
           "x": 0.05
          },
          "xaxis": {
           "automargin": true,
           "gridcolor": "white",
           "linecolor": "white",
           "ticks": "",
           "title": {
            "standoff": 15
           },
           "zerolinecolor": "white",
           "zerolinewidth": 2
          },
          "yaxis": {
           "automargin": true,
           "gridcolor": "white",
           "linecolor": "white",
           "ticks": "",
           "title": {
            "standoff": 15
           },
           "zerolinecolor": "white",
           "zerolinewidth": 2
          }
         }
        },
        "title": {
         "text": "skills with greater than 20% of frequancy"
        },
        "width": 1000,
        "xaxis": {
         "anchor": "y",
         "domain": [
          0,
          1
         ],
         "title": {
          "text": "percentage"
         }
        },
        "yaxis": {
         "anchor": "x",
         "domain": [
          0,
          1
         ],
         "title": {
          "text": "index"
         }
        }
       }
      }
     },
     "metadata": {},
     "output_type": "display_data"
    }
   ],
   "source": [
    "df_skills_concat_percentage_normalized = df_skills_concat_percentage_normalized[df_skills_concat_percentage_normalized[\"percentage\"]>20]\n",
    "# plt.figure(figsize=(10,20))\n",
    "# sns.barplot(df_skills_concat_percentage_normalized, x=\"percentage\", y=df_skills_concat_percentage_normalized.index, hue=\"specificity\",orient='h')\n",
    "\n",
    "fig = px.bar(data_frame=df_skills_concat_percentage_normalized,\n",
    "        x=df_skills_concat_percentage_normalized[\"percentage\"],\n",
    "        y=df_skills_concat_percentage_normalized.index,\n",
    "        color=df_skills_concat_percentage_normalized[\"specificity\"],\n",
    "        orientation=\"h\",\n",
    "        range_color=[df_skills_percentage_normalized.values.min(), df_skills_percentage_normalized.values.max()], #min and max frm all jobs and all skills \n",
    "        )\n",
    "\n",
    "fig.update_layout(\n",
    "    title=\"skills with greater than 20% of frequancy\",\n",
    "    width=1000,\n",
    "    height=1000)\n"
   ]
  },
  {
   "cell_type": "markdown",
   "metadata": {},
   "source": [
    "# Draw Dendogram to show the relationship between the jobs(clusters)"
   ]
  },
  {
   "cell_type": "code",
   "execution_count": 22,
   "metadata": {},
   "outputs": [
    {
     "data": {
      "application/vnd.plotly.v1+json": {
       "config": {
        "plotlyServerURL": "https://plot.ly"
       },
       "data": [
        {
         "hoverinfo": "text",
         "marker": {
          "color": "rgb(61,153,112)"
         },
         "mode": "lines",
         "type": "scatter",
         "x": [
          0,
          56.74044696437165,
          56.74044696437165,
          0
         ],
         "xaxis": "x",
         "y": [
          -15,
          -15,
          -25,
          -25
         ],
         "yaxis": "y"
        },
        {
         "hoverinfo": "text",
         "marker": {
          "color": "rgb(61,153,112)"
         },
         "mode": "lines",
         "type": "scatter",
         "x": [
          0,
          80.22708544468749,
          80.22708544468749,
          56.74044696437165
         ],
         "xaxis": "x",
         "y": [
          -5,
          -5,
          -20,
          -20
         ],
         "yaxis": "y"
        },
        {
         "hoverinfo": "text",
         "marker": {
          "color": "rgb(255,65,54)"
         },
         "mode": "lines",
         "type": "scatter",
         "x": [
          0,
          60.19492612621921,
          60.19492612621921,
          0
         ],
         "xaxis": "x",
         "y": [
          -35,
          -35,
          -45,
          -45
         ],
         "yaxis": "y"
        },
        {
         "hoverinfo": "text",
         "marker": {
          "color": "rgb(35,205,205)"
         },
         "mode": "lines",
         "type": "scatter",
         "x": [
          0,
          25.610857313842114,
          25.610857313842114,
          0
         ],
         "xaxis": "x",
         "y": [
          -65,
          -65,
          -75,
          -75
         ],
         "yaxis": "y"
        },
        {
         "hoverinfo": "text",
         "marker": {
          "color": "rgb(35,205,205)"
         },
         "mode": "lines",
         "type": "scatter",
         "x": [
          0,
          26.522371815288714,
          26.522371815288714,
          0
         ],
         "xaxis": "x",
         "y": [
          -85,
          -85,
          -95,
          -95
         ],
         "yaxis": "y"
        },
        {
         "hoverinfo": "text",
         "marker": {
          "color": "rgb(35,205,205)"
         },
         "mode": "lines",
         "type": "scatter",
         "x": [
          25.610857313842114,
          37.2207320235436,
          37.2207320235436,
          26.522371815288714
         ],
         "xaxis": "x",
         "y": [
          -70,
          -70,
          -90,
          -90
         ],
         "yaxis": "y"
        },
        {
         "hoverinfo": "text",
         "marker": {
          "color": "rgb(35,205,205)"
         },
         "mode": "lines",
         "type": "scatter",
         "x": [
          0,
          39.48727240286119,
          39.48727240286119,
          0
         ],
         "xaxis": "x",
         "y": [
          -105,
          -105,
          -115,
          -115
         ],
         "yaxis": "y"
        },
        {
         "hoverinfo": "text",
         "marker": {
          "color": "rgb(35,205,205)"
         },
         "mode": "lines",
         "type": "scatter",
         "x": [
          37.2207320235436,
          49.63406831124527,
          49.63406831124527,
          39.48727240286119
         ],
         "xaxis": "x",
         "y": [
          -80,
          -80,
          -110,
          -110
         ],
         "yaxis": "y"
        },
        {
         "hoverinfo": "text",
         "marker": {
          "color": "rgb(35,205,205)"
         },
         "mode": "lines",
         "type": "scatter",
         "x": [
          0,
          58.135231230965985,
          58.135231230965985,
          49.63406831124527
         ],
         "xaxis": "x",
         "y": [
          -55,
          -55,
          -95,
          -95
         ],
         "yaxis": "y"
        },
        {
         "hoverinfo": "text",
         "marker": {
          "color": "rgb(35,205,205)"
         },
         "mode": "lines",
         "type": "scatter",
         "x": [
          0,
          21.608202047134856,
          21.608202047134856,
          0
         ],
         "xaxis": "x",
         "y": [
          -145,
          -145,
          -155,
          -155
         ],
         "yaxis": "y"
        },
        {
         "hoverinfo": "text",
         "marker": {
          "color": "rgb(35,205,205)"
         },
         "mode": "lines",
         "type": "scatter",
         "x": [
          0,
          45.339925775336035,
          45.339925775336035,
          21.608202047134856
         ],
         "xaxis": "x",
         "y": [
          -135,
          -135,
          -150,
          -150
         ],
         "yaxis": "y"
        },
        {
         "hoverinfo": "text",
         "marker": {
          "color": "rgb(35,205,205)"
         },
         "mode": "lines",
         "type": "scatter",
         "x": [
          0,
          69.81416508109646,
          69.81416508109646,
          45.339925775336035
         ],
         "xaxis": "x",
         "y": [
          -125,
          -125,
          -142.5,
          -142.5
         ],
         "yaxis": "y"
        },
        {
         "hoverinfo": "text",
         "marker": {
          "color": "rgb(35,205,205)"
         },
         "mode": "lines",
         "type": "scatter",
         "x": [
          58.135231230965985,
          73.45235257661753,
          73.45235257661753,
          69.81416508109646
         ],
         "xaxis": "x",
         "y": [
          -75,
          -75,
          -133.75,
          -133.75
         ],
         "yaxis": "y"
        },
        {
         "hoverinfo": "text",
         "marker": {
          "color": "rgb(0,116,217)"
         },
         "mode": "lines",
         "type": "scatter",
         "x": [
          60.19492612621921,
          88.73248913941536,
          88.73248913941536,
          73.45235257661753
         ],
         "xaxis": "x",
         "y": [
          -40,
          -40,
          -104.375,
          -104.375
         ],
         "yaxis": "y"
        },
        {
         "hoverinfo": "text",
         "marker": {
          "color": "rgb(0,116,217)"
         },
         "mode": "lines",
         "type": "scatter",
         "x": [
          80.22708544468749,
          96.01241477973284,
          96.01241477973284,
          88.73248913941536
         ],
         "xaxis": "x",
         "y": [
          -12.5,
          -12.5,
          -72.1875,
          -72.1875
         ],
         "yaxis": "y"
        },
        {
         "hoverinfo": "text",
         "marker": {
          "color": "rgb(133,20,75)"
         },
         "mode": "lines",
         "type": "scatter",
         "x": [
          0,
          34.7634691450898,
          34.7634691450898,
          0
         ],
         "xaxis": "x",
         "y": [
          -175,
          -175,
          -185,
          -185
         ],
         "yaxis": "y"
        },
        {
         "hoverinfo": "text",
         "marker": {
          "color": "rgb(133,20,75)"
         },
         "mode": "lines",
         "type": "scatter",
         "x": [
          0,
          49.87662672507036,
          49.87662672507036,
          34.7634691450898
         ],
         "xaxis": "x",
         "y": [
          -165,
          -165,
          -180,
          -180
         ],
         "yaxis": "y"
        },
        {
         "hoverinfo": "text",
         "marker": {
          "color": "rgb(255,220,0)"
         },
         "mode": "lines",
         "type": "scatter",
         "x": [
          0,
          25.732766205730584,
          25.732766205730584,
          0
         ],
         "xaxis": "x",
         "y": [
          -195,
          -195,
          -205,
          -205
         ],
         "yaxis": "y"
        },
        {
         "hoverinfo": "text",
         "marker": {
          "color": "rgb(255,220,0)"
         },
         "mode": "lines",
         "type": "scatter",
         "x": [
          0,
          50.00791472861684,
          50.00791472861684,
          0
         ],
         "xaxis": "x",
         "y": [
          -215,
          -215,
          -225,
          -225
         ],
         "yaxis": "y"
        },
        {
         "hoverinfo": "text",
         "marker": {
          "color": "rgb(255,220,0)"
         },
         "mode": "lines",
         "type": "scatter",
         "x": [
          25.732766205730584,
          61.79875887067251,
          61.79875887067251,
          50.00791472861684
         ],
         "xaxis": "x",
         "y": [
          -200,
          -200,
          -220,
          -220
         ],
         "yaxis": "y"
        },
        {
         "hoverinfo": "text",
         "marker": {
          "color": "rgb(0,116,217)"
         },
         "mode": "lines",
         "type": "scatter",
         "x": [
          49.87662672507036,
          110.07650007328607,
          110.07650007328607,
          61.79875887067251
         ],
         "xaxis": "x",
         "y": [
          -172.5,
          -172.5,
          -210,
          -210
         ],
         "yaxis": "y"
        },
        {
         "hoverinfo": "text",
         "marker": {
          "color": "rgb(0,116,217)"
         },
         "mode": "lines",
         "type": "scatter",
         "x": [
          96.01241477973284,
          124.88813635087031,
          124.88813635087031,
          110.07650007328607
         ],
         "xaxis": "x",
         "y": [
          -42.34375,
          -42.34375,
          -191.25,
          -191.25
         ],
         "yaxis": "y"
        }
       ],
       "layout": {
        "autosize": false,
        "height": 600,
        "hovermode": "closest",
        "showlegend": false,
        "template": {
         "data": {
          "bar": [
           {
            "error_x": {
             "color": "#2a3f5f"
            },
            "error_y": {
             "color": "#2a3f5f"
            },
            "marker": {
             "line": {
              "color": "#E5ECF6",
              "width": 0.5
             },
             "pattern": {
              "fillmode": "overlay",
              "size": 10,
              "solidity": 0.2
             }
            },
            "type": "bar"
           }
          ],
          "barpolar": [
           {
            "marker": {
             "line": {
              "color": "#E5ECF6",
              "width": 0.5
             },
             "pattern": {
              "fillmode": "overlay",
              "size": 10,
              "solidity": 0.2
             }
            },
            "type": "barpolar"
           }
          ],
          "carpet": [
           {
            "aaxis": {
             "endlinecolor": "#2a3f5f",
             "gridcolor": "white",
             "linecolor": "white",
             "minorgridcolor": "white",
             "startlinecolor": "#2a3f5f"
            },
            "baxis": {
             "endlinecolor": "#2a3f5f",
             "gridcolor": "white",
             "linecolor": "white",
             "minorgridcolor": "white",
             "startlinecolor": "#2a3f5f"
            },
            "type": "carpet"
           }
          ],
          "choropleth": [
           {
            "colorbar": {
             "outlinewidth": 0,
             "ticks": ""
            },
            "type": "choropleth"
           }
          ],
          "contour": [
           {
            "colorbar": {
             "outlinewidth": 0,
             "ticks": ""
            },
            "colorscale": [
             [
              0,
              "#0d0887"
             ],
             [
              0.1111111111111111,
              "#46039f"
             ],
             [
              0.2222222222222222,
              "#7201a8"
             ],
             [
              0.3333333333333333,
              "#9c179e"
             ],
             [
              0.4444444444444444,
              "#bd3786"
             ],
             [
              0.5555555555555556,
              "#d8576b"
             ],
             [
              0.6666666666666666,
              "#ed7953"
             ],
             [
              0.7777777777777778,
              "#fb9f3a"
             ],
             [
              0.8888888888888888,
              "#fdca26"
             ],
             [
              1,
              "#f0f921"
             ]
            ],
            "type": "contour"
           }
          ],
          "contourcarpet": [
           {
            "colorbar": {
             "outlinewidth": 0,
             "ticks": ""
            },
            "type": "contourcarpet"
           }
          ],
          "heatmap": [
           {
            "colorbar": {
             "outlinewidth": 0,
             "ticks": ""
            },
            "colorscale": [
             [
              0,
              "#0d0887"
             ],
             [
              0.1111111111111111,
              "#46039f"
             ],
             [
              0.2222222222222222,
              "#7201a8"
             ],
             [
              0.3333333333333333,
              "#9c179e"
             ],
             [
              0.4444444444444444,
              "#bd3786"
             ],
             [
              0.5555555555555556,
              "#d8576b"
             ],
             [
              0.6666666666666666,
              "#ed7953"
             ],
             [
              0.7777777777777778,
              "#fb9f3a"
             ],
             [
              0.8888888888888888,
              "#fdca26"
             ],
             [
              1,
              "#f0f921"
             ]
            ],
            "type": "heatmap"
           }
          ],
          "heatmapgl": [
           {
            "colorbar": {
             "outlinewidth": 0,
             "ticks": ""
            },
            "colorscale": [
             [
              0,
              "#0d0887"
             ],
             [
              0.1111111111111111,
              "#46039f"
             ],
             [
              0.2222222222222222,
              "#7201a8"
             ],
             [
              0.3333333333333333,
              "#9c179e"
             ],
             [
              0.4444444444444444,
              "#bd3786"
             ],
             [
              0.5555555555555556,
              "#d8576b"
             ],
             [
              0.6666666666666666,
              "#ed7953"
             ],
             [
              0.7777777777777778,
              "#fb9f3a"
             ],
             [
              0.8888888888888888,
              "#fdca26"
             ],
             [
              1,
              "#f0f921"
             ]
            ],
            "type": "heatmapgl"
           }
          ],
          "histogram": [
           {
            "marker": {
             "pattern": {
              "fillmode": "overlay",
              "size": 10,
              "solidity": 0.2
             }
            },
            "type": "histogram"
           }
          ],
          "histogram2d": [
           {
            "colorbar": {
             "outlinewidth": 0,
             "ticks": ""
            },
            "colorscale": [
             [
              0,
              "#0d0887"
             ],
             [
              0.1111111111111111,
              "#46039f"
             ],
             [
              0.2222222222222222,
              "#7201a8"
             ],
             [
              0.3333333333333333,
              "#9c179e"
             ],
             [
              0.4444444444444444,
              "#bd3786"
             ],
             [
              0.5555555555555556,
              "#d8576b"
             ],
             [
              0.6666666666666666,
              "#ed7953"
             ],
             [
              0.7777777777777778,
              "#fb9f3a"
             ],
             [
              0.8888888888888888,
              "#fdca26"
             ],
             [
              1,
              "#f0f921"
             ]
            ],
            "type": "histogram2d"
           }
          ],
          "histogram2dcontour": [
           {
            "colorbar": {
             "outlinewidth": 0,
             "ticks": ""
            },
            "colorscale": [
             [
              0,
              "#0d0887"
             ],
             [
              0.1111111111111111,
              "#46039f"
             ],
             [
              0.2222222222222222,
              "#7201a8"
             ],
             [
              0.3333333333333333,
              "#9c179e"
             ],
             [
              0.4444444444444444,
              "#bd3786"
             ],
             [
              0.5555555555555556,
              "#d8576b"
             ],
             [
              0.6666666666666666,
              "#ed7953"
             ],
             [
              0.7777777777777778,
              "#fb9f3a"
             ],
             [
              0.8888888888888888,
              "#fdca26"
             ],
             [
              1,
              "#f0f921"
             ]
            ],
            "type": "histogram2dcontour"
           }
          ],
          "mesh3d": [
           {
            "colorbar": {
             "outlinewidth": 0,
             "ticks": ""
            },
            "type": "mesh3d"
           }
          ],
          "parcoords": [
           {
            "line": {
             "colorbar": {
              "outlinewidth": 0,
              "ticks": ""
             }
            },
            "type": "parcoords"
           }
          ],
          "pie": [
           {
            "automargin": true,
            "type": "pie"
           }
          ],
          "scatter": [
           {
            "fillpattern": {
             "fillmode": "overlay",
             "size": 10,
             "solidity": 0.2
            },
            "type": "scatter"
           }
          ],
          "scatter3d": [
           {
            "line": {
             "colorbar": {
              "outlinewidth": 0,
              "ticks": ""
             }
            },
            "marker": {
             "colorbar": {
              "outlinewidth": 0,
              "ticks": ""
             }
            },
            "type": "scatter3d"
           }
          ],
          "scattercarpet": [
           {
            "marker": {
             "colorbar": {
              "outlinewidth": 0,
              "ticks": ""
             }
            },
            "type": "scattercarpet"
           }
          ],
          "scattergeo": [
           {
            "marker": {
             "colorbar": {
              "outlinewidth": 0,
              "ticks": ""
             }
            },
            "type": "scattergeo"
           }
          ],
          "scattergl": [
           {
            "marker": {
             "colorbar": {
              "outlinewidth": 0,
              "ticks": ""
             }
            },
            "type": "scattergl"
           }
          ],
          "scattermapbox": [
           {
            "marker": {
             "colorbar": {
              "outlinewidth": 0,
              "ticks": ""
             }
            },
            "type": "scattermapbox"
           }
          ],
          "scatterpolar": [
           {
            "marker": {
             "colorbar": {
              "outlinewidth": 0,
              "ticks": ""
             }
            },
            "type": "scatterpolar"
           }
          ],
          "scatterpolargl": [
           {
            "marker": {
             "colorbar": {
              "outlinewidth": 0,
              "ticks": ""
             }
            },
            "type": "scatterpolargl"
           }
          ],
          "scatterternary": [
           {
            "marker": {
             "colorbar": {
              "outlinewidth": 0,
              "ticks": ""
             }
            },
            "type": "scatterternary"
           }
          ],
          "surface": [
           {
            "colorbar": {
             "outlinewidth": 0,
             "ticks": ""
            },
            "colorscale": [
             [
              0,
              "#0d0887"
             ],
             [
              0.1111111111111111,
              "#46039f"
             ],
             [
              0.2222222222222222,
              "#7201a8"
             ],
             [
              0.3333333333333333,
              "#9c179e"
             ],
             [
              0.4444444444444444,
              "#bd3786"
             ],
             [
              0.5555555555555556,
              "#d8576b"
             ],
             [
              0.6666666666666666,
              "#ed7953"
             ],
             [
              0.7777777777777778,
              "#fb9f3a"
             ],
             [
              0.8888888888888888,
              "#fdca26"
             ],
             [
              1,
              "#f0f921"
             ]
            ],
            "type": "surface"
           }
          ],
          "table": [
           {
            "cells": {
             "fill": {
              "color": "#EBF0F8"
             },
             "line": {
              "color": "white"
             }
            },
            "header": {
             "fill": {
              "color": "#C8D4E3"
             },
             "line": {
              "color": "white"
             }
            },
            "type": "table"
           }
          ]
         },
         "layout": {
          "annotationdefaults": {
           "arrowcolor": "#2a3f5f",
           "arrowhead": 0,
           "arrowwidth": 1
          },
          "autotypenumbers": "strict",
          "coloraxis": {
           "colorbar": {
            "outlinewidth": 0,
            "ticks": ""
           }
          },
          "colorscale": {
           "diverging": [
            [
             0,
             "#8e0152"
            ],
            [
             0.1,
             "#c51b7d"
            ],
            [
             0.2,
             "#de77ae"
            ],
            [
             0.3,
             "#f1b6da"
            ],
            [
             0.4,
             "#fde0ef"
            ],
            [
             0.5,
             "#f7f7f7"
            ],
            [
             0.6,
             "#e6f5d0"
            ],
            [
             0.7,
             "#b8e186"
            ],
            [
             0.8,
             "#7fbc41"
            ],
            [
             0.9,
             "#4d9221"
            ],
            [
             1,
             "#276419"
            ]
           ],
           "sequential": [
            [
             0,
             "#0d0887"
            ],
            [
             0.1111111111111111,
             "#46039f"
            ],
            [
             0.2222222222222222,
             "#7201a8"
            ],
            [
             0.3333333333333333,
             "#9c179e"
            ],
            [
             0.4444444444444444,
             "#bd3786"
            ],
            [
             0.5555555555555556,
             "#d8576b"
            ],
            [
             0.6666666666666666,
             "#ed7953"
            ],
            [
             0.7777777777777778,
             "#fb9f3a"
            ],
            [
             0.8888888888888888,
             "#fdca26"
            ],
            [
             1,
             "#f0f921"
            ]
           ],
           "sequentialminus": [
            [
             0,
             "#0d0887"
            ],
            [
             0.1111111111111111,
             "#46039f"
            ],
            [
             0.2222222222222222,
             "#7201a8"
            ],
            [
             0.3333333333333333,
             "#9c179e"
            ],
            [
             0.4444444444444444,
             "#bd3786"
            ],
            [
             0.5555555555555556,
             "#d8576b"
            ],
            [
             0.6666666666666666,
             "#ed7953"
            ],
            [
             0.7777777777777778,
             "#fb9f3a"
            ],
            [
             0.8888888888888888,
             "#fdca26"
            ],
            [
             1,
             "#f0f921"
            ]
           ]
          },
          "colorway": [
           "#636efa",
           "#EF553B",
           "#00cc96",
           "#ab63fa",
           "#FFA15A",
           "#19d3f3",
           "#FF6692",
           "#B6E880",
           "#FF97FF",
           "#FECB52"
          ],
          "font": {
           "color": "#2a3f5f"
          },
          "geo": {
           "bgcolor": "white",
           "lakecolor": "white",
           "landcolor": "#E5ECF6",
           "showlakes": true,
           "showland": true,
           "subunitcolor": "white"
          },
          "hoverlabel": {
           "align": "left"
          },
          "hovermode": "closest",
          "mapbox": {
           "style": "light"
          },
          "paper_bgcolor": "white",
          "plot_bgcolor": "#E5ECF6",
          "polar": {
           "angularaxis": {
            "gridcolor": "white",
            "linecolor": "white",
            "ticks": ""
           },
           "bgcolor": "#E5ECF6",
           "radialaxis": {
            "gridcolor": "white",
            "linecolor": "white",
            "ticks": ""
           }
          },
          "scene": {
           "xaxis": {
            "backgroundcolor": "#E5ECF6",
            "gridcolor": "white",
            "gridwidth": 2,
            "linecolor": "white",
            "showbackground": true,
            "ticks": "",
            "zerolinecolor": "white"
           },
           "yaxis": {
            "backgroundcolor": "#E5ECF6",
            "gridcolor": "white",
            "gridwidth": 2,
            "linecolor": "white",
            "showbackground": true,
            "ticks": "",
            "zerolinecolor": "white"
           },
           "zaxis": {
            "backgroundcolor": "#E5ECF6",
            "gridcolor": "white",
            "gridwidth": 2,
            "linecolor": "white",
            "showbackground": true,
            "ticks": "",
            "zerolinecolor": "white"
           }
          },
          "shapedefaults": {
           "line": {
            "color": "#2a3f5f"
           }
          },
          "ternary": {
           "aaxis": {
            "gridcolor": "white",
            "linecolor": "white",
            "ticks": ""
           },
           "baxis": {
            "gridcolor": "white",
            "linecolor": "white",
            "ticks": ""
           },
           "bgcolor": "#E5ECF6",
           "caxis": {
            "gridcolor": "white",
            "linecolor": "white",
            "ticks": ""
           }
          },
          "title": {
           "x": 0.05
          },
          "xaxis": {
           "automargin": true,
           "gridcolor": "white",
           "linecolor": "white",
           "ticks": "",
           "title": {
            "standoff": 15
           },
           "zerolinecolor": "white",
           "zerolinewidth": 2
          },
          "yaxis": {
           "automargin": true,
           "gridcolor": "white",
           "linecolor": "white",
           "ticks": "",
           "title": {
            "standoff": 15
           },
           "zerolinecolor": "white",
           "zerolinewidth": 2
          }
         }
        },
        "width": 900,
        "xaxis": {
         "mirror": "allticks",
         "rangemode": "tozero",
         "showgrid": false,
         "showline": true,
         "showticklabels": true,
         "ticks": "outside",
         "type": "linear",
         "zeroline": false
        },
        "yaxis": {
         "mirror": "allticks",
         "rangemode": "tozero",
         "showgrid": false,
         "showline": true,
         "showticklabels": true,
         "tickmode": "array",
         "ticks": "outside",
         "ticktext": [
          "Developer, mobile",
          "Developer, game or graphics",
          "Developer, embedded applications or devices",
          "Developer, desktop or enterprise applications",
          "Data or business analyst",
          "Senior executive/VP",
          "Developer, back-end",
          "Developer, QA or test",
          "Educator",
          "Product manager",
          "Database administrator",
          "System administrator",
          "Marketing or sales professional",
          "Designer",
          "Developer, full-stack",
          "Developer, front-end",
          "Engineer, site reliability",
          "DevOps specialist",
          "Engineering manager",
          "Academic researcher",
          "Scientist",
          "Engineer, data",
          "Data scientist or machine learning specialist"
         ],
         "tickvals": [
          -5,
          -15,
          -25,
          -35,
          -45,
          -55,
          -65,
          -75,
          -85,
          -95,
          -105,
          -115,
          -125,
          -135,
          -145,
          -155,
          -165,
          -175,
          -185,
          -195,
          -205,
          -215,
          -225
         ],
         "type": "linear",
         "zeroline": false
        }
       }
      }
     },
     "metadata": {},
     "output_type": "display_data"
    }
   ],
   "source": [
    "fig = ff.create_dendrogram(df_skills_percentage, labels=df_skills_percentage.index ,orientation=\"left\")\n",
    "fig.update_layout(width=900, height=600)\n",
    "fig.show()"
   ]
  },
  {
   "cell_type": "code",
   "execution_count": null,
   "metadata": {},
   "outputs": [],
   "source": []
  },
  {
   "cell_type": "code",
   "execution_count": null,
   "metadata": {},
   "outputs": [],
   "source": []
  },
  {
   "cell_type": "code",
   "execution_count": null,
   "metadata": {},
   "outputs": [],
   "source": []
  }
 ],
 "metadata": {
  "kernelspec": {
   "display_name": "Python 3",
   "language": "python",
   "name": "python3"
  },
  "language_info": {
   "codemirror_mode": {
    "name": "ipython",
    "version": 3
   },
   "file_extension": ".py",
   "mimetype": "text/x-python",
   "name": "python",
   "nbconvert_exporter": "python",
   "pygments_lexer": "ipython3",
   "version": "3.10.5"
  }
 },
 "nbformat": 4,
 "nbformat_minor": 2
}
